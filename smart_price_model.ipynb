{
  "nbformat": 4,
  "nbformat_minor": 0,
  "metadata": {
    "accelerator": "GPU",
    "colab": {
      "name": "smart price model.ipynb",
      "provenance": [],
      "collapsed_sections": [],
      "include_colab_link": true
    },
    "kernelspec": {
      "display_name": "Python 3",
      "language": "python",
      "name": "python3"
    },
    "language_info": {
      "codemirror_mode": {
        "name": "ipython",
        "version": 3
      },
      "file_extension": ".py",
      "mimetype": "text/x-python",
      "name": "python",
      "nbconvert_exporter": "python",
      "pygments_lexer": "ipython3",
      "version": "3.7.1"
    }
  },
  "cells": [
    {
      "cell_type": "markdown",
      "metadata": {
        "id": "view-in-github",
        "colab_type": "text"
      },
      "source": [
        "<a href=\"https://colab.research.google.com/github/iamshirdi/ETL/blob/master/smart_price_model.ipynb\" target=\"_parent\"><img src=\"https://colab.research.google.com/assets/colab-badge.svg\" alt=\"Open In Colab\"/></a>"
      ]
    },
    {
      "cell_type": "code",
      "metadata": {
        "colab_type": "code",
        "id": "uxOWRouWs-Ik",
        "outputId": "0f0d65d1-b8dd-496f-e15c-208fb653c4e2",
        "colab": {
          "base_uri": "https://localhost:8080/",
          "height": 34
        }
      },
      "source": [
        "\n",
        "import requests\n",
        "\n",
        "url = 'https://github.com/iamshirdi/ETL/blob/master/data/size_data.zip?raw=true'\n",
        "\n",
        "r = requests.get(url, allow_redirects=True)\n",
        "open('size_data.zip', 'wb').write(r.content)"
      ],
      "execution_count": 0,
      "outputs": [
        {
          "output_type": "execute_result",
          "data": {
            "text/plain": [
              "6283825"
            ]
          },
          "metadata": {
            "tags": []
          },
          "execution_count": 1
        }
      ]
    },
    {
      "cell_type": "code",
      "metadata": {
        "colab_type": "code",
        "id": "uL24EVKruUfW",
        "outputId": "5074b419-eaf3-40d4-dd27-1cea10a82688",
        "colab": {
          "base_uri": "https://localhost:8080/",
          "height": 34
        }
      },
      "source": [
        "!du -h size_data.zip"
      ],
      "execution_count": 0,
      "outputs": [
        {
          "output_type": "stream",
          "text": [
            "6.0M\tsize_data.zip\n"
          ],
          "name": "stdout"
        }
      ]
    },
    {
      "cell_type": "code",
      "metadata": {
        "id": "9GXir8r8SpGB",
        "colab_type": "code",
        "colab": {}
      },
      "source": [
        "from zipfile import ZipFile\n",
        "\n",
        "with ZipFile('size_data.zip', 'r') as zipObj:\n",
        "  # Extract all the contents of zip file in current directory\n",
        "  zipObj.extractall()"
      ],
      "execution_count": 0,
      "outputs": []
    },
    {
      "cell_type": "code",
      "metadata": {
        "id": "l0oK14IsH_4V",
        "colab_type": "code",
        "outputId": "52ba50bf-edf5-4d5a-d691-17018b1775cf",
        "colab": {
          "base_uri": "https://localhost:8080/",
          "height": 34
        }
      },
      "source": [
        "!du -h data.csv"
      ],
      "execution_count": 0,
      "outputs": [
        {
          "output_type": "stream",
          "text": [
            "121M\tdata.csv\n"
          ],
          "name": "stdout"
        }
      ]
    },
    {
      "cell_type": "code",
      "metadata": {
        "id": "fJjuSCXlHnlH",
        "colab_type": "code",
        "outputId": "10dc1988-1baa-4df5-82da-df2753739724",
        "colab": {
          "base_uri": "https://localhost:8080/",
          "height": 34
        }
      },
      "source": [
        "import os\n",
        "os.listdir()\n"
      ],
      "execution_count": 0,
      "outputs": [
        {
          "output_type": "execute_result",
          "data": {
            "text/plain": [
              "['.config', 'size_data.zip', 'data.csv', 'sample_data']"
            ]
          },
          "metadata": {
            "tags": []
          },
          "execution_count": 5
        }
      ]
    },
    {
      "cell_type": "code",
      "metadata": {
        "id": "yNoXwQKPSpGH",
        "colab_type": "code",
        "outputId": "d7ffc1dc-d48e-4701-a99f-8d8387a2589a",
        "colab": {
          "base_uri": "https://localhost:8080/",
          "height": 140
        }
      },
      "source": [
        "import pandas as pd\n",
        "pd.set_option(\"display.max_colwidth\", -1) \n",
        "df=pd.read_csv('data.csv')\n",
        "df.head(2)"
      ],
      "execution_count": 0,
      "outputs": [
        {
          "output_type": "stream",
          "text": [
            "/usr/local/lib/python3.6/dist-packages/IPython/core/interactiveshell.py:2718: DtypeWarning: Columns (4) have mixed types. Specify dtype option on import or set low_memory=False.\n",
            "  interactivity=interactivity, compiler=compiler, result=result)\n"
          ],
          "name": "stderr"
        },
        {
          "output_type": "execute_result",
          "data": {
            "text/html": [
              "<div>\n",
              "<style scoped>\n",
              "    .dataframe tbody tr th:only-of-type {\n",
              "        vertical-align: middle;\n",
              "    }\n",
              "\n",
              "    .dataframe tbody tr th {\n",
              "        vertical-align: top;\n",
              "    }\n",
              "\n",
              "    .dataframe thead th {\n",
              "        text-align: right;\n",
              "    }\n",
              "</style>\n",
              "<table border=\"1\" class=\"dataframe\">\n",
              "  <thead>\n",
              "    <tr style=\"text-align: right;\">\n",
              "      <th></th>\n",
              "      <th>article_no</th>\n",
              "      <th>gender</th>\n",
              "      <th>category</th>\n",
              "      <th>price</th>\n",
              "      <th>size</th>\n",
              "      <th>brand</th>\n",
              "      <th>name</th>\n",
              "      <th>url</th>\n",
              "    </tr>\n",
              "  </thead>\n",
              "  <tbody>\n",
              "    <tr>\n",
              "      <th>0</th>\n",
              "      <td>H&amp;M/754108001</td>\n",
              "      <td>unisex</td>\n",
              "      <td>bodysuits</td>\n",
              "      <td>99</td>\n",
              "      <td>44</td>\n",
              "      <td>h&amp;m</td>\n",
              "      <td>Body och leggings</td>\n",
              "      <td>https://www2.hm.com/sv_se/productpage.0754108001.html</td>\n",
              "    </tr>\n",
              "    <tr>\n",
              "      <th>1</th>\n",
              "      <td>H&amp;M/754108001</td>\n",
              "      <td>unisex</td>\n",
              "      <td>bodysuits</td>\n",
              "      <td>99</td>\n",
              "      <td>50</td>\n",
              "      <td>h&amp;m</td>\n",
              "      <td>Body och leggings</td>\n",
              "      <td>https://www2.hm.com/sv_se/productpage.0754108001.html</td>\n",
              "    </tr>\n",
              "  </tbody>\n",
              "</table>\n",
              "</div>"
            ],
            "text/plain": [
              "      article_no  ...                                                    url\n",
              "0  H&M/754108001  ...  https://www2.hm.com/sv_se/productpage.0754108001.html\n",
              "1  H&M/754108001  ...  https://www2.hm.com/sv_se/productpage.0754108001.html\n",
              "\n",
              "[2 rows x 8 columns]"
            ]
          },
          "metadata": {
            "tags": []
          },
          "execution_count": 6
        }
      ]
    },
    {
      "cell_type": "code",
      "metadata": {
        "id": "RWLqjnS8SpGJ",
        "colab_type": "code",
        "outputId": "3a7c8553-5730-4d80-eb87-152690163888",
        "colab": {
          "base_uri": "https://localhost:8080/",
          "height": 168
        }
      },
      "source": [
        "df.count()"
      ],
      "execution_count": 0,
      "outputs": [
        {
          "output_type": "execute_result",
          "data": {
            "text/plain": [
              "article_no    766026\n",
              "gender        766026\n",
              "category      766026\n",
              "price         766026\n",
              "size          766026\n",
              "brand         766026\n",
              "name          766009\n",
              "url           766026\n",
              "dtype: int64"
            ]
          },
          "metadata": {
            "tags": []
          },
          "execution_count": 7
        }
      ]
    },
    {
      "cell_type": "code",
      "metadata": {
        "id": "bEj1z7geTi0X",
        "colab_type": "code",
        "outputId": "cec97638-5f55-4d3b-b001-a1426650d835",
        "colab": {
          "base_uri": "https://localhost:8080/",
          "height": 106
        }
      },
      "source": [
        "df2=df[['gender','category','price','size','brand']]\n",
        "df2.head(2)"
      ],
      "execution_count": 0,
      "outputs": [
        {
          "output_type": "execute_result",
          "data": {
            "text/html": [
              "<div>\n",
              "<style scoped>\n",
              "    .dataframe tbody tr th:only-of-type {\n",
              "        vertical-align: middle;\n",
              "    }\n",
              "\n",
              "    .dataframe tbody tr th {\n",
              "        vertical-align: top;\n",
              "    }\n",
              "\n",
              "    .dataframe thead th {\n",
              "        text-align: right;\n",
              "    }\n",
              "</style>\n",
              "<table border=\"1\" class=\"dataframe\">\n",
              "  <thead>\n",
              "    <tr style=\"text-align: right;\">\n",
              "      <th></th>\n",
              "      <th>gender</th>\n",
              "      <th>category</th>\n",
              "      <th>price</th>\n",
              "      <th>size</th>\n",
              "      <th>brand</th>\n",
              "    </tr>\n",
              "  </thead>\n",
              "  <tbody>\n",
              "    <tr>\n",
              "      <th>0</th>\n",
              "      <td>unisex</td>\n",
              "      <td>bodysuits</td>\n",
              "      <td>99</td>\n",
              "      <td>44</td>\n",
              "      <td>h&amp;m</td>\n",
              "    </tr>\n",
              "    <tr>\n",
              "      <th>1</th>\n",
              "      <td>unisex</td>\n",
              "      <td>bodysuits</td>\n",
              "      <td>99</td>\n",
              "      <td>50</td>\n",
              "      <td>h&amp;m</td>\n",
              "    </tr>\n",
              "  </tbody>\n",
              "</table>\n",
              "</div>"
            ],
            "text/plain": [
              "   gender   category  price size brand\n",
              "0  unisex  bodysuits  99     44   h&m \n",
              "1  unisex  bodysuits  99     50   h&m "
            ]
          },
          "metadata": {
            "tags": []
          },
          "execution_count": 8
        }
      ]
    },
    {
      "cell_type": "code",
      "metadata": {
        "id": "kRLdAPuAY__v",
        "colab_type": "code",
        "outputId": "58f6626f-05c0-4b6d-b88a-2dd2dd5d957b",
        "colab": {
          "base_uri": "https://localhost:8080/",
          "height": 34
        }
      },
      "source": [
        "df2['price'].unique().size"
      ],
      "execution_count": 0,
      "outputs": [
        {
          "output_type": "execute_result",
          "data": {
            "text/plain": [
              "1314"
            ]
          },
          "metadata": {
            "tags": []
          },
          "execution_count": 9
        }
      ]
    },
    {
      "cell_type": "code",
      "metadata": {
        "id": "DskUhDPkIz3j",
        "colab_type": "code",
        "outputId": "1014aaf9-cfb8-45e8-ab62-624a78ec8571",
        "colab": {
          "base_uri": "https://localhost:8080/",
          "height": 34
        }
      },
      "source": [
        "df2['category'].unique().size"
      ],
      "execution_count": 0,
      "outputs": [
        {
          "output_type": "execute_result",
          "data": {
            "text/plain": [
              "201"
            ]
          },
          "metadata": {
            "tags": []
          },
          "execution_count": 10
        }
      ]
    },
    {
      "cell_type": "code",
      "metadata": {
        "id": "x-Ps4pAwI5Bo",
        "colab_type": "code",
        "outputId": "48a20337-cadf-4e43-86dd-76574d1d0f2e",
        "colab": {
          "base_uri": "https://localhost:8080/",
          "height": 34
        }
      },
      "source": [
        "df2['brand'].unique().size"
      ],
      "execution_count": 0,
      "outputs": [
        {
          "output_type": "execute_result",
          "data": {
            "text/plain": [
              "657"
            ]
          },
          "metadata": {
            "tags": []
          },
          "execution_count": 11
        }
      ]
    },
    {
      "cell_type": "code",
      "metadata": {
        "id": "mNErm7e7I_KX",
        "colab_type": "code",
        "outputId": "dafc1152-651b-4eed-b231-7f43359b93b0",
        "colab": {
          "base_uri": "https://localhost:8080/",
          "height": 1000
        }
      },
      "source": [
        "import numpy as np\n",
        "np.set_printoptions(threshold=np.inf)\n",
        "df2['price'].dtype\n",
        "df2['price'].unique()"
      ],
      "execution_count": 0,
      "outputs": [
        {
          "output_type": "execute_result",
          "data": {
            "text/plain": [
              "array([  99,  179,   50,   30,   40,   15,   20,  149,  129,   70,   24,\n",
              "        199,   80,   60,   90,  249,  399,   25,  499,  299,  159,  229,\n",
              "        349,   11,  100,   10,   75,  699,  279,  119,   64,  449,  379,\n",
              "         49,   79,  109,   89,   59,  139,  289,  339,  219,   69,  599,\n",
              "        529,  169,  189,  209,  269,  259,  239,  419,  395,  132,  400,\n",
              "        329,  380,  280,  450,   39,  429,  439,  309,  359,  389,  369,\n",
              "        689,  479,  579,  319,  549,  489,  679,  799,  609,  469,  539,\n",
              "        409,  509,  559,  245,  110,  130,  749,  254,  224,  589,  999,\n",
              "        929,  899,  759,  839,  729,  659,  649,  829,  849,  949,  909,\n",
              "        519, 1399, 1499,  779, 1069,  869, 1569, 1199,  629, 1119, 1295,\n",
              "        979, 1299, 1169, 1098, 1099, 1009, 1129,  569,  789,  619,  709,\n",
              "        459, 1799,  889, 2199, 1599, 1049, 1289, 1999, 1229,  719,  739,\n",
              "        859,  959,  809,  639,  939,  300,  240,  480,  200,  600,  520,\n",
              "        560,  440,  220,  180,  320,  140,  260,  880,    1,   72,  960,\n",
              "         55,  360,   32,  640,  160,  680,  800,   96,   74,  150,  124,\n",
              "        174,  114,  120,   51,   81,   35,  250,  304,  134,  107,  112,\n",
              "         65,   97,  125,  104,  127,  187,  244,   77,  137,  167,  195,\n",
              "        262,  172,   47,  103,  116,  210,  374,  524,  674,  111,  212,\n",
              "         44,   41,   52,  879,  230,  170, 1045,  324,  669,  432, 1495,\n",
              "        190,  378,  430, 1095, 1145,  350, 1445, 1195,  485, 1115,  500,\n",
              "       1025, 1645,  540, 1075, 1245,  648,  330,  486,  270, 1545,  340,\n",
              "       1175, 1345,  537, 1005, 1695,  650,  700, 1595, 1995,  750, 1395,\n",
              "        490, 1795, 1155,  769, 1215,  410, 1379, 1159, 2145, 1059, 1909,\n",
              "        265,  266, 2345,  191,  303,  550,  989,  969, 2095, 1055,  390,\n",
              "       1015, 4445, 1125, 1305, 2245, 2045,  290,  530, 1945, 1505, 1205,\n",
              "        425, 1895, 1549, 1475, 1745, 2195,  919,  900, 1105, 1209, 1315,\n",
              "        895,  745,  690,  365,  325,  595,  665,  715,  435,  685,  735,\n",
              "        475,  790,  835,  507,  613, 1060, 1185, 1335,  505,  555,  860,\n",
              "        605,  755,  655,  705,  730,  985,  455,  405, 2419, 2519, 2679,\n",
              "        415,  615, 1013,  853,  667,  453,  315, 1259,  295,  725,  495,\n",
              "       1469, 1579,  910,  795,  545,  345,  695,  995,  525,  208,  176,\n",
              "        192,  414,  474,  403,  460,  518,  575,  633,  805,  748,  225,\n",
              "        445,  335, 1173, 1067, 3625, 3939, 1889, 2049,  385,  388,  444,\n",
              "        332,  590,  285,  704,  288,  223, 1265, 1419, 1525, 1629, 2365,\n",
              "        185,  470,  305,  558,  647,  762,  841,  932, 1021,  645,  205,\n",
              "        234, 1839,  273,  411,  342,  514,  935, 1079,  535,  502,  593,\n",
              "        684,  742,  856,  635,  298,  344, 1675,  465, 1225, 1355,  145,\n",
              "        155,  625,  228,  628,  401,  206,  945,  458,  757,  252,  164,\n",
              "        183, 1008, 1109,  515, 1389, 1485,  268,  316,  452,  564,  115,\n",
              "        165,  175,  193,  221,  306,  201,  171,  188,  182,  196,  216,\n",
              "        984, 1035, 1685, 1405,  423,  476,  631,  375,  135,  810, 1089,\n",
              "       2839, 3099, 4829, 5199, 5669, 1030, 1150,  907, 1010, 1110, 1640,\n",
              "       1735, 1369, 4729, 5569, 1200, 1789, 2469,  620,  863,  978, 2099,\n",
              "       2575, 1039,  930, 1050,  785,  830,  905, 4199, 4569, 4939,  275,\n",
              "        747, 1420, 1715,  947,  975, 1027, 1141, 1256, 1427, 1160,  697,\n",
              "       1790,  630,  687,  572, 1084, 1370, 1819, 1915,  456,  548, 1589,\n",
              "       1649,  857,  958, 5165, 5265, 2439, 2539, 2635, 2155, 2329, 2269,\n",
              "       2499, 2605,  807,  908,  565,  815, 2299,  855,  203,  231,  154,\n",
              "        373,  670,  740, 2889, 2995, 3149, 1679, 2259,  693,  710, 1869,\n",
              "       1219, 1275,  571, 1699, 2969, 3209, 3399, 3359,  343, 2525, 2629,\n",
              "        533, 2309, 2675, 1635, 1755, 1920, 3970, 3704, 1560, 1680, 3469,\n",
              "       3835, 1302, 1539, 1602, 1702, 1840, 2040, 1100, 1670, 1965, 3979,\n",
              "       4109,  973,  865, 1375, 3600, 3920, 3335, 3575, 2925, 3175, 3455,\n",
              "       1400, 1500,  885,  840,  770, 1879, 1440, 2395, 2520, 2645, 1019,\n",
              "       4465, 5409, 4989, 1555, 1730, 1930, 2729, 1230, 2100, 2350, 1850,\n",
              "       2050, 2165, 2355, 3049, 3519, 3889, 1270, 4309, 1439, 1349, 2485,\n",
              "       2769, 1655, 1815, 2545, 2865, 4779, 5249, 4675, 1865, 1990, 3415,\n",
              "        950, 1070, 1470, 8035, 8559, 1065, 1184, 4885, 5989, 2319, 2585,\n",
              "        503,  744, 4019, 4429, 4809, 7415, 7655, 5215, 5695, 3649, 3779,\n",
              "       5015, 5179, 1373, 3589, 3829, 1619, 1719, 1365,   23,   45, 1949,\n",
              "        235, 1029,  850, 1149, 1320, 3729, 6039, 1054,  594, 1939, 2105,\n",
              "       3045,  845,  765, 1625, 1732,  391,  873,  925,  310,  796,  367,\n",
              "        915,  580,  207, 2785, 2115, 1085,  870,  610,  712,  255,  819,\n",
              "        896, 1575, 1529, 1269, 1359,  457, 1339,  437,  328, 2059, 1465,\n",
              "       1590, 1180, 1120, 1615, 1740,  675,  775, 3255, 3539, 2039,  585,\n",
              "       3159, 3445, 3685,  660, 1210, 2270,  965, 3259, 3679, 2209, 1430,\n",
              "       1975, 2175, 2425, 4149, 5725, 1942, 2190, 1316, 1407, 1179, 2273,\n",
              "       2248, 2500,  875,  644,  508, 1449, 1300,  562,  355, 1480, 1605,\n",
              "        990, 2289, 2579, 3495, 1135, 5935, 6175, 2535, 2825,  606, 1805,\n",
              "       3989, 4359, 1479, 1235,  215,  321, 1989, 1535, 1329,  126,  123,\n",
              "        101, 2179, 2939, 1360, 1659, 1935,  370, 1279, 3230, 3475, 3725,\n",
              "       2240, 3165, 3665, 2300, 2550,  970, 5149, 6249, 5515, 4535, 4905,\n",
              "       5280, 2360, 2730, 5879, 6509, 7195, 1122, 1237, 1782, 1885, 2005,\n",
              "       2220, 2470, 1249, 7615, 4619,  825, 1899, 4069, 4259, 2479, 2595,\n",
              "       5739, 5979, 1429,  243, 3245, 3545, 3035,  576,  914, 1006, 1528,\n",
              "       2168, 2417, 1986, 1153, 1303, 1080, 1425,  904, 1128,  955,  263,\n",
              "        416,  448, 1240, 1304, 1364,  933,  996, 1197, 1571, 1639, 1721,\n",
              "        791,  822, 2009, 1489, 3785, 4165, 1765, 1239, 1139, 3299, 3585,\n",
              "       1775, 2255, 2445,  612,  663,  711,  420, 1071,  578,  616,  272,\n",
              "        293, 3205, 5095,  147, 6985, 2389, 2705, 5305,  696,  764,  302,\n",
              "       4045, 1900, 2600,  821,  971, 3419, 1519, 2999, 3369, 2265, 2375,\n",
              "        678,  297,  296,  584,  780, 1000,  105,  496,  308,  138,  168,\n",
              "         83,  222,  162,  156,  153,  204,  217,  186,  238,  283,  264,\n",
              "        292,  588,  581,  504,  261,  118,  102,  214,  442,  213,  482,\n",
              "        424,  146,  197,   84,  544, 2235,  233, 1309, 2405, 1559, 1319,\n",
              "       2219, 1260, 1669, 2749, 4299, 2715, 1705, 1959, 1855, 1929, 2569,\n",
              "       2036, 2250, 3879, 1380, 1919, 1285, 2065, 1515, 3069, 1211,  472,\n",
              "       1330,  727,  923,  888,  384, 1042,  906, 2489, 2680,  846,  951,\n",
              "       1396, 1665, 1483,  927, 1759, 1585,  783,  517,  510, 1343,  811,\n",
              "        461, 3849,  671,  493,  433,  531,  454,  843,  731, 1231, 1280,\n",
              "        608,  643, 2078, 1777, 2274, 1709, 1246, 1532, 2465, 1708, 1116,\n",
              "       1063, 3039, 2580,  944,  741,  587, 1074, 3051,  363, 1830, 1414,\n",
              "        826, 1190, 1144,  566, 2249,  412, 1613,  276, 2120,  804,  913,\n",
              "        447, 1620, 1994, 2474,  752,  286, 1032, 1658, 1385,  994,  878,\n",
              "        377,  426,  468,  314,  356,  993,  777,  353,  381,  251,  861,\n",
              "        467,  546,  491,  703,  413,  404,  396,  364,  376,  986,  884,\n",
              "        184,  382, 1496, 1413,  940,  563,  144,  592,  366,  427,  322,\n",
              "        287,  291,  242,  398,  547,  227,  181, 1565, 3555, 3279, 1514,\n",
              "       3315, 1609,  890,  108, 2169, 1875, 1286, 1352, 3505, 2075, 1415,\n",
              "       1996, 2653, 2739, 1435,  832,  664,  980,  307, 2159,  301,  372,\n",
              "        282,  258,  361,  318,  392,  473,  294,  202,  406,  357,  277,\n",
              "        368,  211, 1207, 1401,  237,  636,  336,  334,  802,  387,  194,\n",
              "        443,  394,  844,   95,   78,   88, 1189,  954,  911,  898, 2446,\n",
              "        157,  538, 1371,  577,  552,  241,  312,  158,   56,   98,  161,\n",
              "        178,   93,  311,  117,  624,  177,  136,  371,  417,  436,   76,\n",
              "        488,   92,  128,   68,  438, 1203,  642, 1540, 2043,  567,  451,\n",
              "        556,  542,  408, 1040, 1859, 1409,  797,  847, 1325, 1700, 1007,\n",
              "       1518,  358,  256,  397,  720,  736,  421,  828,   63,   85,   53,\n",
              "         87,   91, 1459,  483,  151,  596,  651,  354,  352,  253,  858,\n",
              "        561,  143,  393,  284,  351,  347,  462,  441,  402,  623,  166,\n",
              "        218,  348,  148,  536,  418,  338,  657,  274,  247,   82,  492,\n",
              "        248,   71,  131,  477,  236,  323,   43,  516,   57,  582,  346,\n",
              "        317,  341,  698,  498,  597,  598,  113,  333,  173,  281,  257,\n",
              "        513,  198,  267,  481,  428,  902,  142, 1012,  246,  327,  383,\n",
              "        494,  512,   54,   22,   27,   29,   46,   18,   21,   38,   42,\n",
              "         66,   36,  422,  527,  487,  714,  570,  522,  604,  521,  407,\n",
              "        511,  824,  337,  583,  717,  724,  632,  568, 1350,  618,  434,\n",
              "        956,  637,  920,  532, 2400,  617,  622,   58,  602,  942,  897,\n",
              "       1250,  141, 1600,  621,  801,  611,    2,    3,  837,  716,  701,\n",
              "         34,  278,  957,   94,   31])"
            ]
          },
          "metadata": {
            "tags": []
          },
          "execution_count": 12
        }
      ]
    },
    {
      "cell_type": "code",
      "metadata": {
        "id": "UeeB41aBKzLI",
        "colab_type": "code",
        "outputId": "d03810e1-77b4-4449-bb33-957165501f34",
        "colab": {
          "base_uri": "https://localhost:8080/",
          "height": 34
        }
      },
      "source": [
        "df2['size'].unique().size"
      ],
      "execution_count": 0,
      "outputs": [
        {
          "output_type": "execute_result",
          "data": {
            "text/plain": [
              "240"
            ]
          },
          "metadata": {
            "tags": []
          },
          "execution_count": 13
        }
      ]
    },
    {
      "cell_type": "code",
      "metadata": {
        "id": "sDpACwSfB6VA",
        "colab_type": "code",
        "outputId": "25aaab6d-b18e-470e-fe0f-2d16bde0ee20",
        "colab": {
          "base_uri": "https://localhost:8080/",
          "height": 118
        }
      },
      "source": [
        "df2['size']=df2['size'].astype('str')"
      ],
      "execution_count": 0,
      "outputs": [
        {
          "output_type": "stream",
          "text": [
            "/usr/local/lib/python3.6/dist-packages/ipykernel_launcher.py:1: SettingWithCopyWarning: \n",
            "A value is trying to be set on a copy of a slice from a DataFrame.\n",
            "Try using .loc[row_indexer,col_indexer] = value instead\n",
            "\n",
            "See the caveats in the documentation: http://pandas.pydata.org/pandas-docs/stable/indexing.html#indexing-view-versus-copy\n",
            "  \"\"\"Entry point for launching an IPython kernel.\n"
          ],
          "name": "stderr"
        }
      ]
    },
    {
      "cell_type": "code",
      "metadata": {
        "id": "1j3yyMTh8EQC",
        "colab_type": "code",
        "colab": {}
      },
      "source": [
        "# list=['L','No Size','XS','XL','SL','M','S']\n",
        "list=['SL']\n",
        "df3=df2\n",
        "for l in list:\n",
        "  df3=df3[df3['size']!=l]"
      ],
      "execution_count": 0,
      "outputs": []
    },
    {
      "cell_type": "code",
      "metadata": {
        "id": "HUW9AsD2BCma",
        "colab_type": "code",
        "outputId": "0c5892c2-649b-4c4e-d74c-73b2a1b0abf5",
        "colab": {
          "base_uri": "https://localhost:8080/",
          "height": 118
        }
      },
      "source": [
        "df3['size']=df3['size'].map(lambda x:x.replace('No Size','no size'))"
      ],
      "execution_count": 0,
      "outputs": [
        {
          "output_type": "stream",
          "text": [
            "/usr/local/lib/python3.6/dist-packages/ipykernel_launcher.py:1: SettingWithCopyWarning: \n",
            "A value is trying to be set on a copy of a slice from a DataFrame.\n",
            "Try using .loc[row_indexer,col_indexer] = value instead\n",
            "\n",
            "See the caveats in the documentation: http://pandas.pydata.org/pandas-docs/stable/indexing.html#indexing-view-versus-copy\n",
            "  \"\"\"Entry point for launching an IPython kernel.\n"
          ],
          "name": "stderr"
        }
      ]
    },
    {
      "cell_type": "code",
      "metadata": {
        "id": "XOE4O9_z9swR",
        "colab_type": "code",
        "colab": {}
      },
      "source": [
        "# df3['size']=df3['size'].astype('int64')\n",
        "# df3['size'].dtype"
      ],
      "execution_count": 0,
      "outputs": []
    },
    {
      "cell_type": "code",
      "metadata": {
        "id": "p0VcdqTlI_P-",
        "colab_type": "code",
        "outputId": "7a1e23d4-e3b8-49b6-8970-0510982e858d",
        "colab": {
          "base_uri": "https://localhost:8080/",
          "height": 386
        }
      },
      "source": [
        "df3['size'].unique()#sl only remove #no size, xl,xs,sl,s,m,l"
      ],
      "execution_count": 0,
      "outputs": [
        {
          "output_type": "execute_result",
          "data": {
            "text/plain": [
              "array(['44', '50', '56', '62', '68', '74', '80', '86', '92', '98', '104',\n",
              "       '110', '116', '122', '128', '134', '130', '136', '152', '158',\n",
              "       '164', '170', '51', '52', '53', '54', '55', '57', '58', '59', '60',\n",
              "       '61', '63', '64', '65', '66', '67', '69', '70', '71', '72', '73',\n",
              "       '75', '76', '77', '78', '79', '93', '94', '95', '96', '97', '99',\n",
              "       '100', '101', '102', '103', '111', '112', '113', '114', '115',\n",
              "       '123', '124', '125', '126', '127', '81', '82', '83', '84', '85',\n",
              "       '87', '88', '89', '90', '91', '46', '47', '48', 'no size', '34',\n",
              "       '45', '129', '131', '132', '133', '135', '137', '138', '139',\n",
              "       '140', '141', '142', '143', '144', '145', '146', '147', '148',\n",
              "       '149', '150', '42', '43', '38', 'S', 'M', 'L', '120', '117', '118',\n",
              "       '119', '121', '151', '153', '154', '155', '156', '157', '159',\n",
              "       '160', '161', '162', '163', '165', '166', '167', '168', '169',\n",
              "       '36', '37', '40', '41', '105', '106', '107', '108', '109', 'XS',\n",
              "       'XL', '4', '6', '49', '5', '1', '8', '12', '10', '14', '39', '3',\n",
              "       '32', '2', '190', '25', '26', '27', '28', '29', '30', '31', '33',\n",
              "       '35', '18', '19', '20', '16', '17', '23', '24', '21', '22', '171',\n",
              "       '172', '173', '174', '175', '176', '11', '13', '15', '0', '182',\n",
              "       '183', '184', '185', '186', '187', '188', '177', '178', '179',\n",
              "       '180', '181', '189', '9', '7', '191', '192', '193', '194', '195',\n",
              "       '196', '197', '198', '199', '200', '201', '202', '203', '204',\n",
              "       '205', '206', '207', '208', '209', '210'], dtype=object)"
            ]
          },
          "metadata": {
            "tags": []
          },
          "execution_count": 18
        }
      ]
    },
    {
      "cell_type": "code",
      "metadata": {
        "id": "oV0Q_lwd_7ma",
        "colab_type": "code",
        "outputId": "7a944a18-7a13-4a78-99da-c8ece3321843",
        "colab": {
          "base_uri": "https://localhost:8080/",
          "height": 148
        }
      },
      "source": [
        "df3['brand']=df3['brand'].map(lambda x: x.replace('unauthorized', 'no brand'))\n",
        "df3[df3['brand']=='unauthorized']\n",
        "\n"
      ],
      "execution_count": 0,
      "outputs": [
        {
          "output_type": "stream",
          "text": [
            "/usr/local/lib/python3.6/dist-packages/ipykernel_launcher.py:1: SettingWithCopyWarning: \n",
            "A value is trying to be set on a copy of a slice from a DataFrame.\n",
            "Try using .loc[row_indexer,col_indexer] = value instead\n",
            "\n",
            "See the caveats in the documentation: http://pandas.pydata.org/pandas-docs/stable/indexing.html#indexing-view-versus-copy\n",
            "  \"\"\"Entry point for launching an IPython kernel.\n"
          ],
          "name": "stderr"
        },
        {
          "output_type": "execute_result",
          "data": {
            "text/html": [
              "<div>\n",
              "<style scoped>\n",
              "    .dataframe tbody tr th:only-of-type {\n",
              "        vertical-align: middle;\n",
              "    }\n",
              "\n",
              "    .dataframe tbody tr th {\n",
              "        vertical-align: top;\n",
              "    }\n",
              "\n",
              "    .dataframe thead th {\n",
              "        text-align: right;\n",
              "    }\n",
              "</style>\n",
              "<table border=\"1\" class=\"dataframe\">\n",
              "  <thead>\n",
              "    <tr style=\"text-align: right;\">\n",
              "      <th></th>\n",
              "      <th>gender</th>\n",
              "      <th>category</th>\n",
              "      <th>price</th>\n",
              "      <th>size</th>\n",
              "      <th>brand</th>\n",
              "    </tr>\n",
              "  </thead>\n",
              "  <tbody>\n",
              "  </tbody>\n",
              "</table>\n",
              "</div>"
            ],
            "text/plain": [
              "Empty DataFrame\n",
              "Columns: [gender, category, price, size, brand]\n",
              "Index: []"
            ]
          },
          "metadata": {
            "tags": []
          },
          "execution_count": 19
        }
      ]
    },
    {
      "cell_type": "code",
      "metadata": {
        "id": "29HY4l6W-LOY",
        "colab_type": "code",
        "outputId": "4470a41c-6ec8-4560-90d6-f7a825a1c1b5",
        "colab": {
          "base_uri": "https://localhost:8080/",
          "height": 106
        }
      },
      "source": [
        "df3.head(2)"
      ],
      "execution_count": 0,
      "outputs": [
        {
          "output_type": "execute_result",
          "data": {
            "text/html": [
              "<div>\n",
              "<style scoped>\n",
              "    .dataframe tbody tr th:only-of-type {\n",
              "        vertical-align: middle;\n",
              "    }\n",
              "\n",
              "    .dataframe tbody tr th {\n",
              "        vertical-align: top;\n",
              "    }\n",
              "\n",
              "    .dataframe thead th {\n",
              "        text-align: right;\n",
              "    }\n",
              "</style>\n",
              "<table border=\"1\" class=\"dataframe\">\n",
              "  <thead>\n",
              "    <tr style=\"text-align: right;\">\n",
              "      <th></th>\n",
              "      <th>gender</th>\n",
              "      <th>category</th>\n",
              "      <th>price</th>\n",
              "      <th>size</th>\n",
              "      <th>brand</th>\n",
              "    </tr>\n",
              "  </thead>\n",
              "  <tbody>\n",
              "    <tr>\n",
              "      <th>0</th>\n",
              "      <td>unisex</td>\n",
              "      <td>bodysuits</td>\n",
              "      <td>99</td>\n",
              "      <td>44</td>\n",
              "      <td>h&amp;m</td>\n",
              "    </tr>\n",
              "    <tr>\n",
              "      <th>1</th>\n",
              "      <td>unisex</td>\n",
              "      <td>bodysuits</td>\n",
              "      <td>99</td>\n",
              "      <td>50</td>\n",
              "      <td>h&amp;m</td>\n",
              "    </tr>\n",
              "  </tbody>\n",
              "</table>\n",
              "</div>"
            ],
            "text/plain": [
              "   gender   category  price size brand\n",
              "0  unisex  bodysuits  99     44   h&m \n",
              "1  unisex  bodysuits  99     50   h&m "
            ]
          },
          "metadata": {
            "tags": []
          },
          "execution_count": 20
        }
      ]
    },
    {
      "cell_type": "code",
      "metadata": {
        "id": "eKOJQA9Y-LSS",
        "colab_type": "code",
        "outputId": "21b19ef1-06af-494e-8afc-88d1c818f446",
        "colab": {
          "base_uri": "https://localhost:8080/",
          "height": 218
        }
      },
      "source": [
        "X=df2[['size','gender','category','brand']]\n",
        "X=pd.get_dummies(data=X)\n",
        "X[0:3]\n"
      ],
      "execution_count": 0,
      "outputs": [
        {
          "output_type": "execute_result",
          "data": {
            "text/html": [
              "<div>\n",
              "<style scoped>\n",
              "    .dataframe tbody tr th:only-of-type {\n",
              "        vertical-align: middle;\n",
              "    }\n",
              "\n",
              "    .dataframe tbody tr th {\n",
              "        vertical-align: top;\n",
              "    }\n",
              "\n",
              "    .dataframe thead th {\n",
              "        text-align: right;\n",
              "    }\n",
              "</style>\n",
              "<table border=\"1\" class=\"dataframe\">\n",
              "  <thead>\n",
              "    <tr style=\"text-align: right;\">\n",
              "      <th></th>\n",
              "      <th>size_0</th>\n",
              "      <th>size_1</th>\n",
              "      <th>size_10</th>\n",
              "      <th>size_100</th>\n",
              "      <th>size_101</th>\n",
              "      <th>size_102</th>\n",
              "      <th>size_103</th>\n",
              "      <th>size_104</th>\n",
              "      <th>size_105</th>\n",
              "      <th>size_106</th>\n",
              "      <th>size_107</th>\n",
              "      <th>size_108</th>\n",
              "      <th>size_109</th>\n",
              "      <th>size_11</th>\n",
              "      <th>size_110</th>\n",
              "      <th>size_111</th>\n",
              "      <th>size_112</th>\n",
              "      <th>size_113</th>\n",
              "      <th>size_114</th>\n",
              "      <th>size_115</th>\n",
              "      <th>size_116</th>\n",
              "      <th>size_117</th>\n",
              "      <th>size_118</th>\n",
              "      <th>size_119</th>\n",
              "      <th>size_12</th>\n",
              "      <th>size_120</th>\n",
              "      <th>size_121</th>\n",
              "      <th>size_122</th>\n",
              "      <th>size_123</th>\n",
              "      <th>size_124</th>\n",
              "      <th>size_125</th>\n",
              "      <th>size_126</th>\n",
              "      <th>size_127</th>\n",
              "      <th>size_128</th>\n",
              "      <th>size_129</th>\n",
              "      <th>size_13</th>\n",
              "      <th>size_130</th>\n",
              "      <th>size_131</th>\n",
              "      <th>size_132</th>\n",
              "      <th>size_133</th>\n",
              "      <th>...</th>\n",
              "      <th>brand_umbro</th>\n",
              "      <th>brand_unauthorized</th>\n",
              "      <th>brand_under armour</th>\n",
              "      <th>brand_united colors of benetton</th>\n",
              "      <th>brand_us polo</th>\n",
              "      <th>brand_vans</th>\n",
              "      <th>brand_vaude</th>\n",
              "      <th>brand_veja</th>\n",
              "      <th>brand_velveteen</th>\n",
              "      <th>brand_ver de terre</th>\n",
              "      <th>brand_versace</th>\n",
              "      <th>brand_victoria</th>\n",
              "      <th>brand_viking</th>\n",
              "      <th>brand_vilebrequin</th>\n",
              "      <th>brand_vingino</th>\n",
              "      <th>brand_vossatassar</th>\n",
              "      <th>brand_walking</th>\n",
              "      <th>brand_walking bamboo</th>\n",
              "      <th>brand_walking newborn</th>\n",
              "      <th>brand_wauw capow</th>\n",
              "      <th>brand_wauw capow by bang bang</th>\n",
              "      <th>brand_way ink girl</th>\n",
              "      <th>brand_way.ink</th>\n",
              "      <th>brand_weather  report</th>\n",
              "      <th>brand_wesc</th>\n",
              "      <th>brand_wheat</th>\n",
              "      <th>brand_when watches</th>\n",
              "      <th>brand_white stuff</th>\n",
              "      <th>brand_wolf &amp; rita</th>\n",
              "      <th>brand_wood wood</th>\n",
              "      <th>brand_wynken</th>\n",
              "      <th>brand_young soles</th>\n",
              "      <th>brand_young versace</th>\n",
              "      <th>brand_yporqué</th>\n",
              "      <th>brand_zadig &amp; voltaire</th>\n",
              "      <th>brand_zalando essentials kids</th>\n",
              "      <th>brand_zara</th>\n",
              "      <th>brand_zip and zoe</th>\n",
              "      <th>brand_zunblock</th>\n",
              "      <th>brand_åhléns</th>\n",
              "    </tr>\n",
              "  </thead>\n",
              "  <tbody>\n",
              "    <tr>\n",
              "      <th>0</th>\n",
              "      <td>0</td>\n",
              "      <td>0</td>\n",
              "      <td>0</td>\n",
              "      <td>0</td>\n",
              "      <td>0</td>\n",
              "      <td>0</td>\n",
              "      <td>0</td>\n",
              "      <td>0</td>\n",
              "      <td>0</td>\n",
              "      <td>0</td>\n",
              "      <td>0</td>\n",
              "      <td>0</td>\n",
              "      <td>0</td>\n",
              "      <td>0</td>\n",
              "      <td>0</td>\n",
              "      <td>0</td>\n",
              "      <td>0</td>\n",
              "      <td>0</td>\n",
              "      <td>0</td>\n",
              "      <td>0</td>\n",
              "      <td>0</td>\n",
              "      <td>0</td>\n",
              "      <td>0</td>\n",
              "      <td>0</td>\n",
              "      <td>0</td>\n",
              "      <td>0</td>\n",
              "      <td>0</td>\n",
              "      <td>0</td>\n",
              "      <td>0</td>\n",
              "      <td>0</td>\n",
              "      <td>0</td>\n",
              "      <td>0</td>\n",
              "      <td>0</td>\n",
              "      <td>0</td>\n",
              "      <td>0</td>\n",
              "      <td>0</td>\n",
              "      <td>0</td>\n",
              "      <td>0</td>\n",
              "      <td>0</td>\n",
              "      <td>0</td>\n",
              "      <td>...</td>\n",
              "      <td>0</td>\n",
              "      <td>0</td>\n",
              "      <td>0</td>\n",
              "      <td>0</td>\n",
              "      <td>0</td>\n",
              "      <td>0</td>\n",
              "      <td>0</td>\n",
              "      <td>0</td>\n",
              "      <td>0</td>\n",
              "      <td>0</td>\n",
              "      <td>0</td>\n",
              "      <td>0</td>\n",
              "      <td>0</td>\n",
              "      <td>0</td>\n",
              "      <td>0</td>\n",
              "      <td>0</td>\n",
              "      <td>0</td>\n",
              "      <td>0</td>\n",
              "      <td>0</td>\n",
              "      <td>0</td>\n",
              "      <td>0</td>\n",
              "      <td>0</td>\n",
              "      <td>0</td>\n",
              "      <td>0</td>\n",
              "      <td>0</td>\n",
              "      <td>0</td>\n",
              "      <td>0</td>\n",
              "      <td>0</td>\n",
              "      <td>0</td>\n",
              "      <td>0</td>\n",
              "      <td>0</td>\n",
              "      <td>0</td>\n",
              "      <td>0</td>\n",
              "      <td>0</td>\n",
              "      <td>0</td>\n",
              "      <td>0</td>\n",
              "      <td>0</td>\n",
              "      <td>0</td>\n",
              "      <td>0</td>\n",
              "      <td>0</td>\n",
              "    </tr>\n",
              "    <tr>\n",
              "      <th>1</th>\n",
              "      <td>0</td>\n",
              "      <td>0</td>\n",
              "      <td>0</td>\n",
              "      <td>0</td>\n",
              "      <td>0</td>\n",
              "      <td>0</td>\n",
              "      <td>0</td>\n",
              "      <td>0</td>\n",
              "      <td>0</td>\n",
              "      <td>0</td>\n",
              "      <td>0</td>\n",
              "      <td>0</td>\n",
              "      <td>0</td>\n",
              "      <td>0</td>\n",
              "      <td>0</td>\n",
              "      <td>0</td>\n",
              "      <td>0</td>\n",
              "      <td>0</td>\n",
              "      <td>0</td>\n",
              "      <td>0</td>\n",
              "      <td>0</td>\n",
              "      <td>0</td>\n",
              "      <td>0</td>\n",
              "      <td>0</td>\n",
              "      <td>0</td>\n",
              "      <td>0</td>\n",
              "      <td>0</td>\n",
              "      <td>0</td>\n",
              "      <td>0</td>\n",
              "      <td>0</td>\n",
              "      <td>0</td>\n",
              "      <td>0</td>\n",
              "      <td>0</td>\n",
              "      <td>0</td>\n",
              "      <td>0</td>\n",
              "      <td>0</td>\n",
              "      <td>0</td>\n",
              "      <td>0</td>\n",
              "      <td>0</td>\n",
              "      <td>0</td>\n",
              "      <td>...</td>\n",
              "      <td>0</td>\n",
              "      <td>0</td>\n",
              "      <td>0</td>\n",
              "      <td>0</td>\n",
              "      <td>0</td>\n",
              "      <td>0</td>\n",
              "      <td>0</td>\n",
              "      <td>0</td>\n",
              "      <td>0</td>\n",
              "      <td>0</td>\n",
              "      <td>0</td>\n",
              "      <td>0</td>\n",
              "      <td>0</td>\n",
              "      <td>0</td>\n",
              "      <td>0</td>\n",
              "      <td>0</td>\n",
              "      <td>0</td>\n",
              "      <td>0</td>\n",
              "      <td>0</td>\n",
              "      <td>0</td>\n",
              "      <td>0</td>\n",
              "      <td>0</td>\n",
              "      <td>0</td>\n",
              "      <td>0</td>\n",
              "      <td>0</td>\n",
              "      <td>0</td>\n",
              "      <td>0</td>\n",
              "      <td>0</td>\n",
              "      <td>0</td>\n",
              "      <td>0</td>\n",
              "      <td>0</td>\n",
              "      <td>0</td>\n",
              "      <td>0</td>\n",
              "      <td>0</td>\n",
              "      <td>0</td>\n",
              "      <td>0</td>\n",
              "      <td>0</td>\n",
              "      <td>0</td>\n",
              "      <td>0</td>\n",
              "      <td>0</td>\n",
              "    </tr>\n",
              "    <tr>\n",
              "      <th>2</th>\n",
              "      <td>0</td>\n",
              "      <td>0</td>\n",
              "      <td>0</td>\n",
              "      <td>0</td>\n",
              "      <td>0</td>\n",
              "      <td>0</td>\n",
              "      <td>0</td>\n",
              "      <td>0</td>\n",
              "      <td>0</td>\n",
              "      <td>0</td>\n",
              "      <td>0</td>\n",
              "      <td>0</td>\n",
              "      <td>0</td>\n",
              "      <td>0</td>\n",
              "      <td>0</td>\n",
              "      <td>0</td>\n",
              "      <td>0</td>\n",
              "      <td>0</td>\n",
              "      <td>0</td>\n",
              "      <td>0</td>\n",
              "      <td>0</td>\n",
              "      <td>0</td>\n",
              "      <td>0</td>\n",
              "      <td>0</td>\n",
              "      <td>0</td>\n",
              "      <td>0</td>\n",
              "      <td>0</td>\n",
              "      <td>0</td>\n",
              "      <td>0</td>\n",
              "      <td>0</td>\n",
              "      <td>0</td>\n",
              "      <td>0</td>\n",
              "      <td>0</td>\n",
              "      <td>0</td>\n",
              "      <td>0</td>\n",
              "      <td>0</td>\n",
              "      <td>0</td>\n",
              "      <td>0</td>\n",
              "      <td>0</td>\n",
              "      <td>0</td>\n",
              "      <td>...</td>\n",
              "      <td>0</td>\n",
              "      <td>0</td>\n",
              "      <td>0</td>\n",
              "      <td>0</td>\n",
              "      <td>0</td>\n",
              "      <td>0</td>\n",
              "      <td>0</td>\n",
              "      <td>0</td>\n",
              "      <td>0</td>\n",
              "      <td>0</td>\n",
              "      <td>0</td>\n",
              "      <td>0</td>\n",
              "      <td>0</td>\n",
              "      <td>0</td>\n",
              "      <td>0</td>\n",
              "      <td>0</td>\n",
              "      <td>0</td>\n",
              "      <td>0</td>\n",
              "      <td>0</td>\n",
              "      <td>0</td>\n",
              "      <td>0</td>\n",
              "      <td>0</td>\n",
              "      <td>0</td>\n",
              "      <td>0</td>\n",
              "      <td>0</td>\n",
              "      <td>0</td>\n",
              "      <td>0</td>\n",
              "      <td>0</td>\n",
              "      <td>0</td>\n",
              "      <td>0</td>\n",
              "      <td>0</td>\n",
              "      <td>0</td>\n",
              "      <td>0</td>\n",
              "      <td>0</td>\n",
              "      <td>0</td>\n",
              "      <td>0</td>\n",
              "      <td>0</td>\n",
              "      <td>0</td>\n",
              "      <td>0</td>\n",
              "      <td>0</td>\n",
              "    </tr>\n",
              "  </tbody>\n",
              "</table>\n",
              "<p>3 rows × 1079 columns</p>\n",
              "</div>"
            ],
            "text/plain": [
              "   size_0  size_1  size_10  ...  brand_zip and zoe  brand_zunblock  brand_åhléns\n",
              "0  0       0       0        ...  0                  0               0           \n",
              "1  0       0       0        ...  0                  0               0           \n",
              "2  0       0       0        ...  0                  0               0           \n",
              "\n",
              "[3 rows x 1079 columns]"
            ]
          },
          "metadata": {
            "tags": []
          },
          "execution_count": 21
        }
      ]
    },
    {
      "cell_type": "code",
      "metadata": {
        "id": "oKep-H0_-LMb",
        "colab_type": "code",
        "outputId": "9d21f7e7-95c9-41d7-8a21-8e4ac52a720c",
        "colab": {
          "base_uri": "https://localhost:8080/",
          "height": 136
        }
      },
      "source": [
        "Y=df2[['price']]\n",
        "Y[0:3]"
      ],
      "execution_count": 0,
      "outputs": [
        {
          "output_type": "execute_result",
          "data": {
            "text/html": [
              "<div>\n",
              "<style scoped>\n",
              "    .dataframe tbody tr th:only-of-type {\n",
              "        vertical-align: middle;\n",
              "    }\n",
              "\n",
              "    .dataframe tbody tr th {\n",
              "        vertical-align: top;\n",
              "    }\n",
              "\n",
              "    .dataframe thead th {\n",
              "        text-align: right;\n",
              "    }\n",
              "</style>\n",
              "<table border=\"1\" class=\"dataframe\">\n",
              "  <thead>\n",
              "    <tr style=\"text-align: right;\">\n",
              "      <th></th>\n",
              "      <th>price</th>\n",
              "    </tr>\n",
              "  </thead>\n",
              "  <tbody>\n",
              "    <tr>\n",
              "      <th>0</th>\n",
              "      <td>99</td>\n",
              "    </tr>\n",
              "    <tr>\n",
              "      <th>1</th>\n",
              "      <td>99</td>\n",
              "    </tr>\n",
              "    <tr>\n",
              "      <th>2</th>\n",
              "      <td>99</td>\n",
              "    </tr>\n",
              "  </tbody>\n",
              "</table>\n",
              "</div>"
            ],
            "text/plain": [
              "   price\n",
              "0  99   \n",
              "1  99   \n",
              "2  99   "
            ]
          },
          "metadata": {
            "tags": []
          },
          "execution_count": 22
        }
      ]
    },
    {
      "cell_type": "code",
      "metadata": {
        "id": "xWYULE9qI_Ny",
        "colab_type": "code",
        "colab": {}
      },
      "source": [
        "# df2['brand'].unique() #no brand\n",
        "dt={}\n",
        "dt['X']=X\n",
        "dt['y']=Y\n"
      ],
      "execution_count": 0,
      "outputs": []
    },
    {
      "cell_type": "code",
      "metadata": {
        "colab_type": "code",
        "id": "p9UTmmY50ZPb",
        "colab": {}
      },
      "source": [
        "# train['y']=train['y'].astype('int64')\n",
        "# train['X']=train['X'].astype('float32')"
      ],
      "execution_count": 0,
      "outputs": []
    },
    {
      "cell_type": "code",
      "metadata": {
        "id": "GqMxupn3SpGZ",
        "colab_type": "code",
        "colab": {}
      },
      "source": [
        ""
      ],
      "execution_count": 0,
      "outputs": []
    },
    {
      "cell_type": "code",
      "metadata": {
        "colab_type": "code",
        "id": "1gvZUizpxIST",
        "outputId": "59838094-fb88-4197-86e6-b16c5948a2b5",
        "colab": {
          "base_uri": "https://localhost:8080/",
          "height": 34
        }
      },
      "source": [
        "dt['y'].shape"
      ],
      "execution_count": 0,
      "outputs": [
        {
          "output_type": "execute_result",
          "data": {
            "text/plain": [
              "(766026, 1)"
            ]
          },
          "metadata": {
            "tags": []
          },
          "execution_count": 25
        }
      ]
    },
    {
      "cell_type": "code",
      "metadata": {
        "colab_type": "code",
        "id": "A9QYYG3Wy-s5",
        "colab": {}
      },
      "source": [
        "import numpy as np\n",
        "# np.unique(train['y'])"
      ],
      "execution_count": 0,
      "outputs": []
    },
    {
      "cell_type": "code",
      "metadata": {
        "colab_type": "code",
        "id": "RYavff90w3yD",
        "outputId": "035e9323-9693-4523-d11c-6523e5b1d367",
        "colab": {
          "base_uri": "https://localhost:8080/",
          "height": 34
        }
      },
      "source": [
        "dt['X'].shape"
      ],
      "execution_count": 0,
      "outputs": [
        {
          "output_type": "execute_result",
          "data": {
            "text/plain": [
              "(766026, 1079)"
            ]
          },
          "metadata": {
            "tags": []
          },
          "execution_count": 27
        }
      ]
    },
    {
      "cell_type": "code",
      "metadata": {
        "colab_type": "code",
        "id": "p4_9eR6FwRhg",
        "outputId": "9e28ea01-5c43-44e8-857e-781a345a3a36",
        "colab": {
          "base_uri": "https://localhost:8080/",
          "height": 34
        }
      },
      "source": [
        "# train['X']=train['X'].to_numpy()\n",
        "type(dt['X']) "
      ],
      "execution_count": 0,
      "outputs": [
        {
          "output_type": "execute_result",
          "data": {
            "text/plain": [
              "pandas.core.frame.DataFrame"
            ]
          },
          "metadata": {
            "tags": []
          },
          "execution_count": 28
        }
      ]
    },
    {
      "cell_type": "code",
      "metadata": {
        "id": "cWy8MDt3IdTL",
        "colab_type": "code",
        "outputId": "11bde5ad-5147-4f7b-847d-d1bc97d51cff",
        "colab": {
          "base_uri": "https://localhost:8080/",
          "height": 34
        }
      },
      "source": [
        "# train['y']=train['y'].to_numpy()\n",
        "type(dt['y']) "
      ],
      "execution_count": 0,
      "outputs": [
        {
          "output_type": "execute_result",
          "data": {
            "text/plain": [
              "pandas.core.frame.DataFrame"
            ]
          },
          "metadata": {
            "tags": []
          },
          "execution_count": 29
        }
      ]
    },
    {
      "cell_type": "code",
      "metadata": {
        "colab_type": "code",
        "id": "0yYw8zIIwdFr",
        "outputId": "18cee43f-4a8b-4148-9d93-830d67dced3b",
        "colab": {
          "base_uri": "https://localhost:8080/",
          "height": 34
        }
      },
      "source": [
        "import time\n",
        "start_time = time.time()\n",
        "print('Start time in seconds is : {}'.format(start_time))"
      ],
      "execution_count": 0,
      "outputs": [
        {
          "output_type": "stream",
          "text": [
            "Start time in seconds is : 1567433091.731971\n"
          ],
          "name": "stdout"
        }
      ]
    },
    {
      "cell_type": "code",
      "metadata": {
        "id": "iBLlbcwzSpG8",
        "colab_type": "code",
        "colab": {}
      },
      "source": [
        "# train['y']=train['y'].astype('int64')\n",
        "# train['X']=train['X'].astype('float32')"
      ],
      "execution_count": 0,
      "outputs": []
    },
    {
      "cell_type": "code",
      "metadata": {
        "id": "YYu6uJ81MuMo",
        "colab_type": "code",
        "colab": {}
      },
      "source": [
        "from sklearn.model_selection import train_test_split\n",
        "# now we use the train_test_split function already available in sklearn library to split our data set\n",
        "trainX, testX, Y_train, Y_test = train_test_split(dt['X'], dt['y'], test_size = .20, random_state = 42)"
      ],
      "execution_count": 0,
      "outputs": []
    },
    {
      "cell_type": "code",
      "metadata": {
        "id": "yO3xEUvsRy20",
        "colab_type": "code",
        "outputId": "4398305c-a188-499c-b35d-064fe6406ea8",
        "colab": {
          "base_uri": "https://localhost:8080/",
          "height": 34
        }
      },
      "source": [
        "trainX.shape"
      ],
      "execution_count": 0,
      "outputs": [
        {
          "output_type": "execute_result",
          "data": {
            "text/plain": [
              "(612820, 1079)"
            ]
          },
          "metadata": {
            "tags": []
          },
          "execution_count": 33
        }
      ]
    },
    {
      "cell_type": "code",
      "metadata": {
        "id": "o5Ty9Nq2QMeS",
        "colab_type": "code",
        "colab": {}
      },
      "source": [
        "# find the largest house price in the training set and use it to\n",
        "# scale our house prices to the range [0, 1] (this will lead to\n",
        "# better training and convergence)\n",
        "maxPrice = Y_train.max()\n",
        "trainY = Y_train / maxPrice\n",
        "testY = Y_test / maxPrice"
      ],
      "execution_count": 0,
      "outputs": []
    },
    {
      "cell_type": "code",
      "metadata": {
        "id": "lX3ACTeSMuPh",
        "colab_type": "code",
        "outputId": "53726a9a-b8f7-4d62-9556-5e0bc8307729",
        "colab": {
          "base_uri": "https://localhost:8080/",
          "height": 34
        }
      },
      "source": [
        "# import the necessary packages\n",
        "from keras.models import Sequential\n",
        "from keras.layers.normalization import BatchNormalization\n",
        "from keras.layers.convolutional import Conv2D\n",
        "from keras.layers.convolutional import MaxPooling2D\n",
        "from keras.layers.core import Activation\n",
        "from keras.layers.core import Dropout\n",
        "from keras.layers.core import Dense\n",
        "from keras.layers import Flatten\n",
        "from keras.layers import Input\n",
        "from keras.models import Model\n",
        " \n",
        "def create_mlp(dim):\n",
        "  model = Sequential()\n",
        "    # define our MLP network\n",
        "  model.add(Dense(500, activation='relu', input_dim=dim))\n",
        "  model.add(Dropout(0.5))\n",
        "  model.add(Dense(100, activation='relu'))\n",
        "  model.add(Dropout(0.5))\n",
        "  model.add(Dense(50, activation='relu'))\n",
        "  model.add(Dense(1, activation=\"linear\"))\n",
        "  return model\n",
        "   \n",
        "\n"
      ],
      "execution_count": 0,
      "outputs": [
        {
          "output_type": "stream",
          "text": [
            "Using TensorFlow backend.\n"
          ],
          "name": "stderr"
        }
      ]
    },
    {
      "cell_type": "code",
      "metadata": {
        "id": "CCScakK23o4Y",
        "colab_type": "code",
        "outputId": "59af2112-9430-4cd1-f841-9a490662e92a",
        "colab": {
          "base_uri": "https://localhost:8080/",
          "height": 34
        }
      },
      "source": [
        "trainX.shape[1]"
      ],
      "execution_count": 0,
      "outputs": [
        {
          "output_type": "execute_result",
          "data": {
            "text/plain": [
              "1079"
            ]
          },
          "metadata": {
            "tags": []
          },
          "execution_count": 36
        }
      ]
    },
    {
      "cell_type": "code",
      "metadata": {
        "id": "7Bm3Pltg3B_L",
        "colab_type": "code",
        "outputId": "0b53030f-3307-4c0d-d732-c5fa61ddba1b",
        "colab": {
          "base_uri": "https://localhost:8080/",
          "height": 574
        }
      },
      "source": [
        "model2=create_mlp(trainX.shape[1])\n",
        "model2.summary()"
      ],
      "execution_count": 0,
      "outputs": [
        {
          "output_type": "stream",
          "text": [
            "WARNING: Logging before flag parsing goes to stderr.\n",
            "W0902 14:04:59.115417 140132790368128 deprecation_wrapper.py:119] From /usr/local/lib/python3.6/dist-packages/keras/backend/tensorflow_backend.py:66: The name tf.get_default_graph is deprecated. Please use tf.compat.v1.get_default_graph instead.\n",
            "\n",
            "W0902 14:04:59.139088 140132790368128 deprecation_wrapper.py:119] From /usr/local/lib/python3.6/dist-packages/keras/backend/tensorflow_backend.py:541: The name tf.placeholder is deprecated. Please use tf.compat.v1.placeholder instead.\n",
            "\n",
            "W0902 14:04:59.142413 140132790368128 deprecation_wrapper.py:119] From /usr/local/lib/python3.6/dist-packages/keras/backend/tensorflow_backend.py:4432: The name tf.random_uniform is deprecated. Please use tf.random.uniform instead.\n",
            "\n",
            "W0902 14:04:59.164453 140132790368128 deprecation_wrapper.py:119] From /usr/local/lib/python3.6/dist-packages/keras/backend/tensorflow_backend.py:148: The name tf.placeholder_with_default is deprecated. Please use tf.compat.v1.placeholder_with_default instead.\n",
            "\n",
            "W0902 14:04:59.260499 140132790368128 deprecation.py:506] From /usr/local/lib/python3.6/dist-packages/keras/backend/tensorflow_backend.py:3733: calling dropout (from tensorflow.python.ops.nn_ops) with keep_prob is deprecated and will be removed in a future version.\n",
            "Instructions for updating:\n",
            "Please use `rate` instead of `keep_prob`. Rate should be set to `rate = 1 - keep_prob`.\n"
          ],
          "name": "stderr"
        },
        {
          "output_type": "stream",
          "text": [
            "Model: \"sequential_1\"\n",
            "_________________________________________________________________\n",
            "Layer (type)                 Output Shape              Param #   \n",
            "=================================================================\n",
            "dense_1 (Dense)              (None, 500)               540000    \n",
            "_________________________________________________________________\n",
            "dropout_1 (Dropout)          (None, 500)               0         \n",
            "_________________________________________________________________\n",
            "dense_2 (Dense)              (None, 100)               50100     \n",
            "_________________________________________________________________\n",
            "dropout_2 (Dropout)          (None, 100)               0         \n",
            "_________________________________________________________________\n",
            "dense_3 (Dense)              (None, 50)                5050      \n",
            "_________________________________________________________________\n",
            "dense_4 (Dense)              (None, 1)                 51        \n",
            "=================================================================\n",
            "Total params: 595,201\n",
            "Trainable params: 595,201\n",
            "Non-trainable params: 0\n",
            "_________________________________________________________________\n"
          ],
          "name": "stdout"
        }
      ]
    },
    {
      "cell_type": "code",
      "metadata": {
        "id": "g3ffecTn4BJ9",
        "colab_type": "code",
        "outputId": "77bf0b76-ff94-4940-cd53-4df6ff809c2f",
        "colab": {
          "base_uri": "https://localhost:8080/",
          "height": 87
        }
      },
      "source": [
        "from keras import backend as K\n",
        "K.tensorflow_backend._get_available_gpus()"
      ],
      "execution_count": 0,
      "outputs": [
        {
          "output_type": "stream",
          "text": [
            "W0902 14:04:59.353511 140132790368128 deprecation_wrapper.py:119] From /usr/local/lib/python3.6/dist-packages/keras/backend/tensorflow_backend.py:190: The name tf.get_default_session is deprecated. Please use tf.compat.v1.get_default_session instead.\n",
            "\n"
          ],
          "name": "stderr"
        },
        {
          "output_type": "execute_result",
          "data": {
            "text/plain": [
              "['/job:localhost/replica:0/task:0/device:GPU:0']"
            ]
          },
          "metadata": {
            "tags": []
          },
          "execution_count": 38
        }
      ]
    },
    {
      "cell_type": "code",
      "metadata": {
        "id": "1Ue2nEY24fJr",
        "colab_type": "code",
        "outputId": "dc197d74-ff15-4702-9776-074163a699c6",
        "colab": {
          "base_uri": "https://localhost:8080/",
          "height": 538
        }
      },
      "source": [
        "from tensorflow.python.client import device_lib\n",
        "print(device_lib.list_local_devices())"
      ],
      "execution_count": 0,
      "outputs": [
        {
          "output_type": "stream",
          "text": [
            "[name: \"/device:CPU:0\"\n",
            "device_type: \"CPU\"\n",
            "memory_limit: 268435456\n",
            "locality {\n",
            "}\n",
            "incarnation: 2690244343070220743\n",
            ", name: \"/device:XLA_CPU:0\"\n",
            "device_type: \"XLA_CPU\"\n",
            "memory_limit: 17179869184\n",
            "locality {\n",
            "}\n",
            "incarnation: 7769160834083578137\n",
            "physical_device_desc: \"device: XLA_CPU device\"\n",
            ", name: \"/device:XLA_GPU:0\"\n",
            "device_type: \"XLA_GPU\"\n",
            "memory_limit: 17179869184\n",
            "locality {\n",
            "}\n",
            "incarnation: 17306861910547310635\n",
            "physical_device_desc: \"device: XLA_GPU device\"\n",
            ", name: \"/device:GPU:0\"\n",
            "device_type: \"GPU\"\n",
            "memory_limit: 11330053735\n",
            "locality {\n",
            "  bus_id: 1\n",
            "  links {\n",
            "  }\n",
            "}\n",
            "incarnation: 3693690434116346514\n",
            "physical_device_desc: \"device: 0, name: Tesla K80, pci bus id: 0000:00:04.0, compute capability: 3.7\"\n",
            "]\n"
          ],
          "name": "stdout"
        }
      ]
    },
    {
      "cell_type": "code",
      "metadata": {
        "id": "hdeCSBwsc4xJ",
        "colab_type": "code",
        "colab": {}
      },
      "source": [
        "#lr = self.lr * (1. / (1. + self.decay * self.iterations))\n"
      ],
      "execution_count": 0,
      "outputs": []
    },
    {
      "cell_type": "code",
      "metadata": {
        "id": "mVjtiyihOTE3",
        "colab_type": "code",
        "outputId": "47b1ebb9-72cc-444d-82ad-734e7d3b87ab",
        "colab": {
          "base_uri": "https://localhost:8080/"
        }
      },
      "source": [
        "# Regression with KerasPython\n",
        "# create our MLP and then compile the model using mean absolute\n",
        "# percentage error as our loss, implying that we seek to minimize\n",
        "# the absolute percentage difference between our price *predictions*\n",
        "# and the *actual prices*\n",
        "from keras.optimizers import adam\n",
        "\n",
        "model = create_mlp(trainX.shape[1])\n",
        "opt = adam(lr=1e-3, decay=1e-3 / 200)\n",
        "model.compile(loss=\"mean_absolute_percentage_error\", optimizer=opt)\n",
        "\n",
        "# train the model\n",
        "print(\"[INFO] training model...\")\n",
        "model.fit(trainX, trainY, validation_data=(testX, testY),\n",
        "\tepochs=20, batch_size=8)\n"
      ],
      "execution_count": 0,
      "outputs": [
        {
          "output_type": "stream",
          "text": [
            "W0902 14:05:00.039339 140132790368128 deprecation_wrapper.py:119] From /usr/local/lib/python3.6/dist-packages/keras/optimizers.py:793: The name tf.train.Optimizer is deprecated. Please use tf.compat.v1.train.Optimizer instead.\n",
            "\n"
          ],
          "name": "stderr"
        },
        {
          "output_type": "stream",
          "text": [
            "[INFO] training model...\n",
            "Train on 612820 samples, validate on 153206 samples\n",
            "Epoch 1/20\n",
            "612820/612820 [==============================] - 509s 830us/step - loss: 52.2621 - val_loss: 37.2309\n",
            "Epoch 2/20\n",
            "612820/612820 [==============================] - 506s 826us/step - loss: 43.3510 - val_loss: 47.2900\n",
            "Epoch 3/20\n",
            "612820/612820 [==============================] - 508s 830us/step - loss: 40.2375 - val_loss: 34.1306\n",
            "Epoch 4/20\n",
            "612820/612820 [==============================] - 509s 830us/step - loss: 38.4660 - val_loss: 32.5179\n",
            "Epoch 5/20\n",
            "612820/612820 [==============================] - 508s 829us/step - loss: 37.6632 - val_loss: 38.4874\n",
            "Epoch 6/20\n",
            "612820/612820 [==============================] - 511s 833us/step - loss: 36.9052 - val_loss: 33.2449\n",
            "Epoch 7/20\n",
            "473400/612820 [======================>.......] - ETA: 1:48 - loss: 35.9899Buffered data was truncated after reaching the output size limit."
          ],
          "name": "stdout"
        }
      ]
    },
    {
      "cell_type": "code",
      "metadata": {
        "id": "TUJ_-_oK0LFO",
        "colab_type": "code",
        "colab": {}
      },
      "source": [
        "testY=testY.to_numpy()"
      ],
      "execution_count": 0,
      "outputs": []
    },
    {
      "cell_type": "code",
      "metadata": {
        "id": "FIJDuSeGS2sq",
        "colab_type": "code",
        "colab": {}
      },
      "source": [
        "# make predictions on the testing data\n",
        "print(\"[INFO] predicting house prices...\")\n",
        "preds = model.predict(testX)\n",
        " \n",
        "# compute the difference between the *predicted* house prices and the\n",
        "# *actual* house prices, then compute the percentage difference and\n",
        "# the absolute percentage difference\n",
        "diff = preds.flatten() - testY\n",
        "percentDiff = (diff / testY) * 100\n",
        "absPercentDiff = np.abs(percentDiff)\n",
        " \n",
        "# compute the mean and standard deviation of the absolute percentage\n",
        "# difference\n",
        "mean = np.mean(absPercentDiff)\n",
        "std = np.std(absPercentDiff)\n",
        " \n",
        "# finally, show some statistics on our model\n",
        "locale.setlocale(locale.LC_ALL, \"en_US.UTF-8\")\n",
        "print(\"[INFO] avg. house price: {}, std house price: {}\".format(\n",
        "\tlocale.currency(df[\"price\"].mean(), grouping=True),\n",
        "\tlocale.currency(df[\"price\"].std(), grouping=True)))\n",
        "print(\"[INFO] mean: {:.2f}%, std: {:.2f}%\".format(mean, std))"
      ],
      "execution_count": 0,
      "outputs": []
    },
    {
      "cell_type": "code",
      "metadata": {
        "id": "y8Ve94P6U4wR",
        "colab_type": "code",
        "colab": {}
      },
      "source": [
        "test"
      ],
      "execution_count": 0,
      "outputs": []
    },
    {
      "cell_type": "code",
      "metadata": {
        "id": "WHiit_JjyVgT",
        "colab_type": "code",
        "colab": {}
      },
      "source": [
        "type(testY.to_numpy())"
      ],
      "execution_count": 0,
      "outputs": []
    },
    {
      "cell_type": "code",
      "metadata": {
        "id": "xh4QtVxczHZ3",
        "colab_type": "code",
        "colab": {}
      },
      "source": [
        "preds"
      ],
      "execution_count": 0,
      "outputs": []
    },
    {
      "cell_type": "code",
      "metadata": {
        "id": "k_ZDvgkCzYcN",
        "colab_type": "code",
        "colab": {}
      },
      "source": [
        ""
      ],
      "execution_count": 0,
      "outputs": []
    }
  ]
}
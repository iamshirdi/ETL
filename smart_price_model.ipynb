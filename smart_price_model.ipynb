{
  "nbformat": 4,
  "nbformat_minor": 0,
  "metadata": {
    "accelerator": "GPU",
    "colab": {
      "name": "smart_price_model.ipynb",
      "provenance": [],
      "collapsed_sections": [],
      "include_colab_link": true
    },
    "kernelspec": {
      "display_name": "Python 3",
      "language": "python",
      "name": "python3"
    },
    "language_info": {
      "codemirror_mode": {
        "name": "ipython",
        "version": 3
      },
      "file_extension": ".py",
      "mimetype": "text/x-python",
      "name": "python",
      "nbconvert_exporter": "python",
      "pygments_lexer": "ipython3",
      "version": "3.5.3"
    }
  },
  "cells": [
    {
      "cell_type": "markdown",
      "metadata": {
        "id": "view-in-github",
        "colab_type": "text"
      },
      "source": [
        "<a href=\"https://colab.research.google.com/github/iamshirdi/ETL/blob/master/smart_price_model.ipynb\" target=\"_parent\"><img src=\"https://colab.research.google.com/assets/colab-badge.svg\" alt=\"Open In Colab\"/></a>"
      ]
    },
    {
      "cell_type": "code",
      "metadata": {
        "colab_type": "code",
        "id": "uxOWRouWs-Ik",
        "colab": {}
      },
      "source": [
        "##### import requests\n",
        "\n",
        "url = 'https://github.com/iamshirdi/ETL/blob/master/data/size_data.zip?raw=true'\n",
        "\n",
        "r = requests.get(url, allow_redirects=True)\n",
        "open('size_data.zip', 'wb').write(r.content)"
      ],
      "execution_count": 0,
      "outputs": []
    },
    {
      "cell_type": "code",
      "metadata": {
        "colab_type": "code",
        "id": "uL24EVKruUfW",
        "outputId": "5074b419-eaf3-40d4-dd27-1cea10a82688",
        "colab": {
          "base_uri": "https://localhost:8080/",
          "height": 34
        }
      },
      "source": [
        "!du -h size_data.zip"
      ],
      "execution_count": 0,
      "outputs": [
        {
          "output_type": "stream",
          "text": [
            "6.0M\tsize_data.zip\n"
          ],
          "name": "stdout"
        }
      ]
    },
    {
      "cell_type": "code",
      "metadata": {
        "colab_type": "code",
        "id": "9GXir8r8SpGB",
        "colab": {}
      },
      "source": [
        "from zipfile import ZipFile\n",
        "\n",
        "with ZipFile('size_data.zip', 'r') as zipObj:\n",
        "  # Extract all the contents of zip file in current directory\n",
        "  zipObj.extractall()"
      ],
      "execution_count": 0,
      "outputs": []
    },
    {
      "cell_type": "code",
      "metadata": {
        "colab_type": "code",
        "id": "l0oK14IsH_4V",
        "outputId": "52ba50bf-edf5-4d5a-d691-17018b1775cf",
        "colab": {
          "base_uri": "https://localhost:8080/",
          "height": 34
        }
      },
      "source": [
        "!du -h data.csv"
      ],
      "execution_count": 0,
      "outputs": [
        {
          "output_type": "stream",
          "text": [
            "121M\tdata.csv\n"
          ],
          "name": "stdout"
        }
      ]
    },
    {
      "cell_type": "code",
      "metadata": {
        "colab_type": "code",
        "id": "fJjuSCXlHnlH",
        "outputId": "10dc1988-1baa-4df5-82da-df2753739724",
        "colab": {
          "base_uri": "https://localhost:8080/",
          "height": 34
        }
      },
      "source": [
        "import os\n",
        "os.listdir()\n"
      ],
      "execution_count": 0,
      "outputs": [
        {
          "output_type": "execute_result",
          "data": {
            "text/plain": [
              "['.ipython',\n",
              " '.keras',\n",
              " '.bash_history',\n",
              " 'smart_price_model2.ipynb',\n",
              " 'smart_price2.h5',\n",
              " '.config',\n",
              " '.docker',\n",
              " 'openset',\n",
              " '.cache',\n",
              " '.bashrc',\n",
              " 'smart_price_model3.ipynb',\n",
              " '.ipynb_checkpoints',\n",
              " '.local',\n",
              " 'tutorials',\n",
              " 'data.csv',\n",
              " 'size_data.zip',\n",
              " 'smart_price.h5',\n",
              " '.bash_logout',\n",
              " 'tinynet',\n",
              " '.profile',\n",
              " '.jupyter',\n",
              " 'gcloud',\n",
              " '.nv',\n",
              " 'src']"
            ]
          },
          "metadata": {
            "tags": []
          },
          "execution_count": 93
        }
      ]
    },
    {
      "cell_type": "code",
      "metadata": {
        "colab_type": "code",
        "id": "yNoXwQKPSpGH",
        "outputId": "d7ffc1dc-d48e-4701-a99f-8d8387a2589a",
        "colab": {
          "base_uri": "https://localhost:8080/",
          "height": 140
        }
      },
      "source": [
        "import pandas as pd\n",
        "pd.set_option(\"display.max_colwidth\", -1) \n",
        "df=pd.read_csv('data.csv')\n",
        "df.head(2)"
      ],
      "execution_count": 0,
      "outputs": [
        {
          "output_type": "execute_result",
          "data": {
            "text/html": [
              "<div>\n",
              "<style scoped>\n",
              "    .dataframe tbody tr th:only-of-type {\n",
              "        vertical-align: middle;\n",
              "    }\n",
              "\n",
              "    .dataframe tbody tr th {\n",
              "        vertical-align: top;\n",
              "    }\n",
              "\n",
              "    .dataframe thead th {\n",
              "        text-align: right;\n",
              "    }\n",
              "</style>\n",
              "<table border=\"1\" class=\"dataframe\">\n",
              "  <thead>\n",
              "    <tr style=\"text-align: right;\">\n",
              "      <th></th>\n",
              "      <th>article_no</th>\n",
              "      <th>gender</th>\n",
              "      <th>category</th>\n",
              "      <th>price</th>\n",
              "      <th>size</th>\n",
              "      <th>brand</th>\n",
              "      <th>name</th>\n",
              "      <th>url</th>\n",
              "    </tr>\n",
              "  </thead>\n",
              "  <tbody>\n",
              "    <tr>\n",
              "      <td>0</td>\n",
              "      <td>H&amp;M/754108001</td>\n",
              "      <td>unisex</td>\n",
              "      <td>bodysuits</td>\n",
              "      <td>99</td>\n",
              "      <td>44</td>\n",
              "      <td>h&amp;m</td>\n",
              "      <td>Body och leggings</td>\n",
              "      <td>https://www2.hm.com/sv_se/productpage.0754108001.html</td>\n",
              "    </tr>\n",
              "    <tr>\n",
              "      <td>1</td>\n",
              "      <td>H&amp;M/754108001</td>\n",
              "      <td>unisex</td>\n",
              "      <td>bodysuits</td>\n",
              "      <td>99</td>\n",
              "      <td>50</td>\n",
              "      <td>h&amp;m</td>\n",
              "      <td>Body och leggings</td>\n",
              "      <td>https://www2.hm.com/sv_se/productpage.0754108001.html</td>\n",
              "    </tr>\n",
              "  </tbody>\n",
              "</table>\n",
              "</div>"
            ],
            "text/plain": [
              "      article_no  gender   category  price size brand               name  \\\n",
              "0  H&M/754108001  unisex  bodysuits  99     44   h&m   Body och leggings   \n",
              "1  H&M/754108001  unisex  bodysuits  99     50   h&m   Body och leggings   \n",
              "\n",
              "                                                     url  \n",
              "0  https://www2.hm.com/sv_se/productpage.0754108001.html  \n",
              "1  https://www2.hm.com/sv_se/productpage.0754108001.html  "
            ]
          },
          "metadata": {
            "tags": []
          },
          "execution_count": 94
        }
      ]
    },
    {
      "cell_type": "code",
      "metadata": {
        "id": "r8DcEkVBw7PH",
        "colab_type": "code",
        "colab": {}
      },
      "source": [
        ""
      ],
      "execution_count": 0,
      "outputs": []
    },
    {
      "cell_type": "code",
      "metadata": {
        "id": "E5pAlv3ww7PJ",
        "colab_type": "code",
        "colab": {}
      },
      "source": [
        "df['category'].unique()\n",
        "dfs=df\n",
        "dfs['category']=dfs['category'].str.split('/').str.get(0)\n",
        "dfs['category']=dfs['category'].replace('bottoms','bottoms-pants')\n",
        "dfs['category']=dfs['category'].replace('shirts','shirts-blouses')\n",
        "dfs['category']=dfs['category'].replace('blouses','shirts-blouses')\n",
        "dfs['category']=dfs['category'].replace('tops','tops-tshirts')\n",
        "dfs['category']=dfs['category'].replace('knitwear','jumpers-knitwear')\n",
        "dfs['category']=dfs['category'].replace('jackets','coats-jackets')\n",
        "dfs['category']=dfs['category'].replace('coats','coats-jackets')\n",
        "dfs['category']=dfs['category'].replace('overalls','overalls-jumpsuits')\n",
        "dfs['category']=dfs['category'].replace('jumpsuits','overalls-jumpsuits')\n",
        "dfs['category']=dfs['category'].replace('skirts','skirts-dresses')\n",
        "dfs['category']=dfs['category'].replace('dresses','skirts-dresses')\n",
        "dfs['category']=dfs['category'].replace('kjolar','skirts-dresses')\n",
        "dfs['category']=dfs['category'].replace('shoes','footwear')\n",
        "dfs['category']=dfs['category'].replace('ögonmask','accessories')\n",
        "dfs['category']=dfs['category'].replace('pajmas','pajamas')\n",
        "dfs['category']=dfs['category'].replace('winterwear','winter-overalls')\n",
        "dfs['category']=dfs['category'].replace('winter jackets','winter-overalls')\n",
        "dfs['category']=dfs['category'].replace('ni-mini-outerwear-softshells','klader')\n",
        "dfs['category']=dfs['category'].replace('sportswear','klader')\n",
        "dfs['category']=dfs['category'].replace('badkader','klader')\n",
        "dfs['category']=dfs['category'].replace('badklader','klader')\n",
        "\n",
        "dfs['category']=dfs['category'].replace('sportklader','klader')\n",
        "dfs['category']=dfs['category'].replace('tröjor & koftor','jumpers-knitwear')\n",
        "dfs['category']=dfs['category'].replace('costumes','costume-wear')\n",
        "dfs['category']=dfs['category'].replace('costume wear','costume-wear')\n"
      ],
      "execution_count": 0,
      "outputs": []
    },
    {
      "cell_type": "code",
      "metadata": {
        "id": "xgxFLnSIw7PM",
        "colab_type": "code",
        "colab": {}
      },
      "source": [
        "dfs=dfs[dfs['category']!='toys']\n",
        "dfs=dfs[dfs['category']!='klader']\n"
      ],
      "execution_count": 0,
      "outputs": []
    },
    {
      "cell_type": "code",
      "metadata": {
        "id": "hHL0fu6Mw7PP",
        "colab_type": "code",
        "colab": {},
        "outputId": "4d47bfc5-5654-4588-dbc1-ae2dc51e6e70"
      },
      "source": [
        "dfs['category'].unique()"
      ],
      "execution_count": 0,
      "outputs": [
        {
          "output_type": "execute_result",
          "data": {
            "text/plain": [
              "array(['bodysuits', 'shirts-blouses', 'bottoms-pants', 'jumpers-knitwear',\n",
              "       'accessories', 'coats-jackets', 'overalls-jumpsuits',\n",
              "       'skirts-dresses', 'pajamas', 'tops-tshirts', 'footwear',\n",
              "       'winter-overalls', 'costume-wear'], dtype=object)"
            ]
          },
          "metadata": {
            "tags": []
          },
          "execution_count": 97
        }
      ]
    },
    {
      "cell_type": "code",
      "metadata": {
        "id": "okVBWb0Lw7PS",
        "colab_type": "code",
        "colab": {}
      },
      "source": [
        "dfs['brand']=dfs['brand'].replace('No Brand','no brand')\n",
        "dfs['brand']=dfs['brand'].replace('unauthorized','no brand')\n",
        "dfs['brand']=dfs['brand'].replace('nyhet! happy socks','happy socks')\n",
        "dfs['brand']=dfs['brand'].replace('nyhet! name it','name it')\n",
        "dfs['brand']=dfs['brand'].replace('nyhet! esprit','esprit')\n",
        "dfs['brand']=dfs['brand'].replace('nyhet! pippi','pippi')\n",
        "dfs['brand']=dfs['brand'].replace('nyhet! birkenstock','birkenstock')\n",
        "dfs['brand']=dfs['brand'].replace('nyhet! mini rodini','mini rodini')\n",
        "dfs['brand']=dfs['brand'].replace('nyhet! adidas originals','adidas originals')\n"
      ],
      "execution_count": 0,
      "outputs": []
    },
    {
      "cell_type": "code",
      "metadata": {
        "colab_type": "code",
        "id": "RWLqjnS8SpGJ",
        "outputId": "3a7c8553-5730-4d80-eb87-152690163888",
        "colab": {
          "base_uri": "https://localhost:8080/",
          "height": 168
        }
      },
      "source": [
        "dfs.count()"
      ],
      "execution_count": 0,
      "outputs": [
        {
          "output_type": "execute_result",
          "data": {
            "text/plain": [
              "article_no    523599\n",
              "gender        523599\n",
              "category      523599\n",
              "price         523599\n",
              "size          523599\n",
              "brand         523599\n",
              "name          523582\n",
              "url           523599\n",
              "dtype: int64"
            ]
          },
          "metadata": {
            "tags": []
          },
          "execution_count": 99
        }
      ]
    },
    {
      "cell_type": "code",
      "metadata": {
        "id": "KDpr3OIZw7PZ",
        "colab_type": "code",
        "colab": {},
        "outputId": "c36a6f6b-82dc-4bae-b334-9432fcc26ec3"
      },
      "source": [
        "dfs[dfs['price']>2000].size"
      ],
      "execution_count": 0,
      "outputs": [
        {
          "output_type": "execute_result",
          "data": {
            "text/plain": [
              "9344"
            ]
          },
          "metadata": {
            "tags": []
          },
          "execution_count": 100
        }
      ]
    },
    {
      "cell_type": "code",
      "metadata": {
        "id": "4zwC-YnPw7Pb",
        "colab_type": "code",
        "colab": {},
        "outputId": "7bb7bdf9-f6d9-4bfd-bca8-7ccba3ae5b6b"
      },
      "source": [
        "df0=dfs[dfs['price']<2000]\n",
        "df0['article_no'].count()"
      ],
      "execution_count": 0,
      "outputs": [
        {
          "output_type": "execute_result",
          "data": {
            "text/plain": [
              "522431"
            ]
          },
          "metadata": {
            "tags": []
          },
          "execution_count": 101
        }
      ]
    },
    {
      "cell_type": "code",
      "metadata": {
        "id": "pB6kTocDw7Pe",
        "colab_type": "code",
        "colab": {},
        "outputId": "6fb32d8f-5916-46b5-9d32-43ae2152944e"
      },
      "source": [
        "dfs[dfs['price']>2000].hist(column='price')\n"
      ],
      "execution_count": 0,
      "outputs": [
        {
          "output_type": "execute_result",
          "data": {
            "text/plain": [
              "array([[<matplotlib.axes._subplots.AxesSubplot object at 0x7f8ee84fbfd0>]],\n",
              "      dtype=object)"
            ]
          },
          "metadata": {
            "tags": []
          },
          "execution_count": 102
        },
        {
          "output_type": "display_data",
          "data": {
            "image/png": "[encoded data removed]",
            "text/plain": [
              "<Figure size 432x288 with 1 Axes>"
            ]
          },
          "metadata": {
            "tags": [],
            "needs_background": "light"
          }
        }
      ]
    },
    {
      "cell_type": "code",
      "metadata": {
        "colab_type": "code",
        "id": "bEj1z7geTi0X",
        "outputId": "cec97638-5f55-4d3b-b001-a1426650d835",
        "colab": {
          "base_uri": "https://localhost:8080/",
          "height": 106
        }
      },
      "source": [
        "df2=df0[['gender','category','price','size','brand']]\n",
        "df2.head(2)"
      ],
      "execution_count": 0,
      "outputs": [
        {
          "output_type": "execute_result",
          "data": {
            "text/html": [
              "<div>\n",
              "<style scoped>\n",
              "    .dataframe tbody tr th:only-of-type {\n",
              "        vertical-align: middle;\n",
              "    }\n",
              "\n",
              "    .dataframe tbody tr th {\n",
              "        vertical-align: top;\n",
              "    }\n",
              "\n",
              "    .dataframe thead th {\n",
              "        text-align: right;\n",
              "    }\n",
              "</style>\n",
              "<table border=\"1\" class=\"dataframe\">\n",
              "  <thead>\n",
              "    <tr style=\"text-align: right;\">\n",
              "      <th></th>\n",
              "      <th>gender</th>\n",
              "      <th>category</th>\n",
              "      <th>price</th>\n",
              "      <th>size</th>\n",
              "      <th>brand</th>\n",
              "    </tr>\n",
              "  </thead>\n",
              "  <tbody>\n",
              "    <tr>\n",
              "      <td>0</td>\n",
              "      <td>unisex</td>\n",
              "      <td>bodysuits</td>\n",
              "      <td>99</td>\n",
              "      <td>44</td>\n",
              "      <td>h&amp;m</td>\n",
              "    </tr>\n",
              "    <tr>\n",
              "      <td>1</td>\n",
              "      <td>unisex</td>\n",
              "      <td>bodysuits</td>\n",
              "      <td>99</td>\n",
              "      <td>50</td>\n",
              "      <td>h&amp;m</td>\n",
              "    </tr>\n",
              "  </tbody>\n",
              "</table>\n",
              "</div>"
            ],
            "text/plain": [
              "   gender   category  price size brand\n",
              "0  unisex  bodysuits  99     44   h&m \n",
              "1  unisex  bodysuits  99     50   h&m "
            ]
          },
          "metadata": {
            "tags": []
          },
          "execution_count": 103
        }
      ]
    },
    {
      "cell_type": "code",
      "metadata": {
        "colab_type": "code",
        "id": "kRLdAPuAY__v",
        "outputId": "58f6626f-05c0-4b6d-b88a-2dd2dd5d957b",
        "colab": {
          "base_uri": "https://localhost:8080/",
          "height": 34
        }
      },
      "source": [
        "df2['price'].unique().size"
      ],
      "execution_count": 0,
      "outputs": [
        {
          "output_type": "execute_result",
          "data": {
            "text/plain": [
              "981"
            ]
          },
          "metadata": {
            "tags": []
          },
          "execution_count": 104
        }
      ]
    },
    {
      "cell_type": "code",
      "metadata": {
        "colab_type": "code",
        "id": "DskUhDPkIz3j",
        "outputId": "1014aaf9-cfb8-45e8-ab62-624a78ec8571",
        "colab": {
          "base_uri": "https://localhost:8080/",
          "height": 34
        }
      },
      "source": [
        "df2['category'].unique().size"
      ],
      "execution_count": 0,
      "outputs": [
        {
          "output_type": "execute_result",
          "data": {
            "text/plain": [
              "13"
            ]
          },
          "metadata": {
            "tags": []
          },
          "execution_count": 105
        }
      ]
    },
    {
      "cell_type": "code",
      "metadata": {
        "colab_type": "code",
        "id": "x-Ps4pAwI5Bo",
        "outputId": "48a20337-cadf-4e43-86dd-76574d1d0f2e",
        "colab": {
          "base_uri": "https://localhost:8080/",
          "height": 34
        }
      },
      "source": [
        "df2['brand'].unique().size"
      ],
      "execution_count": 0,
      "outputs": [
        {
          "output_type": "execute_result",
          "data": {
            "text/plain": [
              "586"
            ]
          },
          "metadata": {
            "tags": []
          },
          "execution_count": 106
        }
      ]
    },
    {
      "cell_type": "code",
      "metadata": {
        "colab_type": "code",
        "id": "mNErm7e7I_KX",
        "outputId": "dafc1152-651b-4eed-b231-7f43359b93b0",
        "colab": {
          "base_uri": "https://localhost:8080/",
          "height": 1000
        }
      },
      "source": [
        "import numpy as np\n",
        "np.set_printoptions(threshold=np.inf)\n",
        "df2['price'].dtype\n",
        "df2['price'].unique()"
      ],
      "execution_count": 0,
      "outputs": [
        {
          "output_type": "execute_result",
          "data": {
            "text/plain": [
              "array([  99,  179,   50,   30,   40,   15,   20,  149,  129,   70,   24,\n",
              "        199,   80,   60,   90,  249,  399,   25,  499,  299,  159,  229,\n",
              "        349,   11,  100,   10,   75,  699,  279,  119,   64,  449,  379,\n",
              "         49,   79,  109,   89,   59,  139,  289,  339,  219,   69,  599,\n",
              "        529,  169,  189,  209,  269,  259,  239,  419,  395,  132,  400,\n",
              "        329,  380,  280,  450,   39,  429,  439,  309,  359,  389,  369,\n",
              "        689,  479,  579,  319,  549,  489,  679,  799,  609,  469,  539,\n",
              "        409,  509,  559,  245,  110,  130,  254,  224,  459,  949,  300,\n",
              "        240,  480,  200,  600,  520,  560,  440,  220,  180,  320,  140,\n",
              "        260,  880,    1,   72,  960,   55,  360,   32,  640,  160,  680,\n",
              "        519,  800,   96,   74,  150,  124,  174,  114,  112,  187,  104,\n",
              "        107,  125,  134,  172,   97,  210,  262,   44,   41,   35,  979,\n",
              "        879,  230,  170, 1045,  929,  250,  324,  779,  909,  669,  619,\n",
              "        859,  432, 1495,  589,  629,  719,  649,  729,  829,  849,  809,\n",
              "        190,  378,  430, 1095, 1145,  350, 1445,  749,  212,  739, 1195,\n",
              "        709,  485, 1115,  500,  899,  999, 1395, 1599, 1295, 1245, 1215,\n",
              "        959,  839,  759,  410, 1379, 1159,  659, 1025, 1059, 1009, 1909,\n",
              "       1799,  639,  540,  265,  266,  648,  270,  330,  191, 1595,  303,\n",
              "       1545, 1345,  550, 1645,  989,  969, 1055,  390, 1015,  789, 1995,\n",
              "       1175, 1125, 1795,  569, 1895, 1499,  650, 1299, 1099, 1549,  750,\n",
              "       1475, 1745,  769,  919,  900, 1105, 1209, 1315,  895,  700,  745,\n",
              "        690,  365,  325,  595,  665,  715,  435,  490,  685,  735,  425,\n",
              "        475,  790,  835,  507,  613, 1060, 1185, 1335,  505,  555,  860,\n",
              "        605,  755,  655,  705,  730,  985,  455,  405,  415,  615, 1119,\n",
              "       1013,  853,  667,  453,  315, 1259,  295,  725,  495, 1469, 1579,\n",
              "        910,  795,  545,  345,  695,  995,  525,  208,  176,  192,  414,\n",
              "        474,  403,  460,  518,  575,  633,  805,  748, 1049,  225,  445,\n",
              "        335, 1173, 1067, 1889,  385,  388,  444,  332,  590,  285,  704,\n",
              "        288,  223, 1265, 1419, 1525, 1629,  185,  470,  305,  558,  647,\n",
              "        762,  841,  932, 1021,  645,  205,  234, 1839,  273,  411,  342,\n",
              "        514,  935, 1079,  535,  502,  593,  684,  742,  856,  635,  298,\n",
              "        344, 1675,  465, 1225, 1355,  145,  155,  625,  228,  628,  401,\n",
              "        206,  945,  458,  757,  252,  939,  164,  183, 1008, 1109,  515,\n",
              "       1389, 1485,  268,  316,  452,  564,  115,  137,  195,  165,  175,\n",
              "        193,  221,  306,  201,  171,  188,  182,  196,  216,  984, 1035,\n",
              "       1685, 1405,  423,  476,  524,  631,  375,  135, 1369, 1030,  747,\n",
              "        810, 1679,  869, 1160,  907,  855,  930,  693,  710, 1869,  548,\n",
              "       1219, 1275,  571,  565, 1569, 1699,  815,  807,   77,  785, 1010,\n",
              "        343,  533, 1735,  865, 1375, 1400, 1500,  885,  840,  770, 1879,\n",
              "       1229, 1440, 1560, 1019, 1089, 1555, 1730, 1930, 1230, 1680, 1850,\n",
              "       1649, 1755, 1270, 1075, 1200, 1695, 1840, 1439, 1199, 1349, 1655,\n",
              "       1815, 1715, 1865, 1990, 1305,  830,  905,  950, 1070, 1470, 1065,\n",
              "       1184, 1670,  503,  687,  744, 1005,  630,  973, 1373, 1619, 1719,\n",
              "       1365,  275,   23,   45, 1029,  850, 1149, 1320, 1054,  594, 1939,\n",
              "        845,  765, 1625, 1732,  391,  873,  925,  310,  374,  975, 1050,\n",
              "       1100,  796,  367,  915, 1205,  580,  207,  290, 1085,  870,  610,\n",
              "        712,  235,  255,  819,  896,  740,  620, 1575, 1529, 1269, 1359,\n",
              "        457, 1339,  437,  328, 1180, 1465, 1590,  660, 1110, 1210,  965,\n",
              "       1120, 1430, 1615, 1740, 1975, 1942,  675, 1790, 1316, 1407, 1789,\n",
              "       1179,  875,  644,  508, 1449, 1300, 1420, 1155,  562,  355, 1480,\n",
              "       1605,  990, 1039,  775, 1135, 1915,  585,  889,  606, 1999, 1805,\n",
              "       1479, 1235,  215,  321, 1989, 1535, 1329,  126,  123,  101, 1945,\n",
              "       1360, 1659, 1935, 1279,  970, 1122, 1237, 1782, 1885, 1965, 1249,\n",
              "        825, 1899, 1429,  243,  576,  914, 1006, 1528, 1986,  978, 1153,\n",
              "       1303, 1080, 1425,  904, 1128,  955,  263,  416,  448, 1240, 1304,\n",
              "       1364,  933,  996, 1197, 1571, 1639, 1721,  791,  822, 1635, 1489,\n",
              "       1765, 1239, 1139, 1775,  612,  663,  711,  420, 1071,  578,  616,\n",
              "        116,  272,  293, 1819,  147,  203,  696,  764, 1900,  821,  971,\n",
              "       1519,  302,  678,  297,  296,  120,  530,  340,  780,  370,   84,\n",
              "        214,  167,  233, 1129, 1413,  940,  563,  162,  144,  231,  592,\n",
              "        168,  366,  427,  276,  364,  264,  322,  287,  291,  242,  413,\n",
              "        398,  547,  227,  181,  184, 1309, 1669, 1875, 1286, 1285, 1352,\n",
              "       1415, 1996, 1515, 1069, 1435,  832,  664,  461,  496,  980,  307,\n",
              "       1280,  433,  472,  752,  671,  510,  426,  108,  186,  301,  286,\n",
              "        372,  282,  258,  361,  318,  392,  283,  377,  308,  304,  473,\n",
              "        217,  294,  202,  244,  363,  406,  204,  357,  277,  546,  368,\n",
              "        211,  587, 1207, 1401,  237,  636,  336,  251,  334,  384,  146,\n",
              "        213,  802,  373,  387,  404,  156,  194,  443,  394,  544,  197,\n",
              "        238,  844,   95,   78,   88, 1189,  954,  911,  105,  898, 1319,\n",
              "        697, 1514,  157,  454,  447,  538, 1371, 1302,  727,  577,  552,\n",
              "       1190,  241,  396,  312,  118,  890,  158,   56,   98,  111,  161,\n",
              "        178,   93,  311,  117,  624,  102,  177,   83,  643,  314,  136,\n",
              "        493,  371,  486,  153,  467,  222, 1169,  417,  436,   76,  488,\n",
              "         92,  128,   68,  438,  951, 1063, 1203, 1343,  642,  731,  783,\n",
              "       1759, 1540,  567,  451, 1289,  556,  542,  408, 1040,  986,  424,\n",
              "         63,   85,   65,  376,   53,   87,   91, 1459,  483,  151,  596,\n",
              "        651,  354,  352,  253,  858,  256,  561,   81,  143,  138,  393,\n",
              "        154,  353,  284,  351,  347,  261,  462,  441,  402,  623,  166,\n",
              "        218,  358,  348,  381,  148,  847, 1399,  804,  536,  418,  537,\n",
              "        338,  292,  657,  274,  247,   82,  492,  248,   71,  131,  477,\n",
              "        236,   47,   51,  777,  323,   43,  516,  456,   57,  412,  582,\n",
              "        346,  317,  341,  698,  498,  597,  598,  113,  333,  173,  281,\n",
              "        257,  513,  198,  267,  481,  428,  902,  382,  468,  142, 1012,\n",
              "        356,  246,  103,  327,  517,  383,  494,  512,  127,   22,   27,\n",
              "         29,   46,   18,   21,   38,   42,   66,   36,  422,  584,  570,\n",
              "        522, 1000,  604,  521,  527,  608,  714,  407,  511,  824,  337,\n",
              "        927,  583,  717,  724,  632,  568,  797, 1350,  618,  434,  487,\n",
              "        956,  637,  920,  532,  828,  566,  617,  622,   58,  602,   54,\n",
              "        942,  897,   52, 1665, 1250,  141, 1600,  716,  701,   34,   94,\n",
              "         31,  572])"
            ]
          },
          "metadata": {
            "tags": []
          },
          "execution_count": 107
        }
      ]
    },
    {
      "cell_type": "code",
      "metadata": {
        "colab_type": "code",
        "id": "UeeB41aBKzLI",
        "outputId": "d03810e1-77b4-4449-bb33-957165501f34",
        "colab": {
          "base_uri": "https://localhost:8080/",
          "height": 34
        }
      },
      "source": [
        "df2['size'].unique().size"
      ],
      "execution_count": 0,
      "outputs": [
        {
          "output_type": "execute_result",
          "data": {
            "text/plain": [
              "240"
            ]
          },
          "metadata": {
            "tags": []
          },
          "execution_count": 108
        }
      ]
    },
    {
      "cell_type": "code",
      "metadata": {
        "colab_type": "code",
        "id": "sDpACwSfB6VA",
        "outputId": "25aaab6d-b18e-470e-fe0f-2d16bde0ee20",
        "colab": {
          "base_uri": "https://localhost:8080/",
          "height": 118
        }
      },
      "source": [
        "df2['size']=df2['size'].astype('str')"
      ],
      "execution_count": 0,
      "outputs": [
        {
          "output_type": "stream",
          "text": [
            "/home/jupyter/.local/lib/python3.5/site-packages/ipykernel_launcher.py:1: SettingWithCopyWarning: \n",
            "A value is trying to be set on a copy of a slice from a DataFrame.\n",
            "Try using .loc[row_indexer,col_indexer] = value instead\n",
            "\n",
            "See the caveats in the documentation: http://pandas.pydata.org/pandas-docs/stable/user_guide/indexing.html#returning-a-view-versus-a-copy\n",
            "  \"\"\"Entry point for launching an IPython kernel.\n"
          ],
          "name": "stderr"
        }
      ]
    },
    {
      "cell_type": "code",
      "metadata": {
        "colab_type": "code",
        "id": "1j3yyMTh8EQC",
        "colab": {}
      },
      "source": [
        "# list=['L','No Size','XS','XL','SL','M','S']\n",
        "list=['SL']\n",
        "df3=df2\n",
        "for l in list:\n",
        "  df3=df3[df3['size']!=l]"
      ],
      "execution_count": 0,
      "outputs": []
    },
    {
      "cell_type": "code",
      "metadata": {
        "colab_type": "code",
        "id": "HUW9AsD2BCma",
        "outputId": "0c5892c2-649b-4c4e-d74c-73b2a1b0abf5",
        "colab": {
          "base_uri": "https://localhost:8080/",
          "height": 118
        }
      },
      "source": [
        "df3['size']=df3['size'].map(lambda x:x.replace('No Size','no size'))"
      ],
      "execution_count": 0,
      "outputs": [
        {
          "output_type": "stream",
          "text": [
            "/home/jupyter/.local/lib/python3.5/site-packages/ipykernel_launcher.py:1: SettingWithCopyWarning: \n",
            "A value is trying to be set on a copy of a slice from a DataFrame.\n",
            "Try using .loc[row_indexer,col_indexer] = value instead\n",
            "\n",
            "See the caveats in the documentation: http://pandas.pydata.org/pandas-docs/stable/user_guide/indexing.html#returning-a-view-versus-a-copy\n",
            "  \"\"\"Entry point for launching an IPython kernel.\n"
          ],
          "name": "stderr"
        }
      ]
    },
    {
      "cell_type": "code",
      "metadata": {
        "colab_type": "code",
        "id": "XOE4O9_z9swR",
        "colab": {}
      },
      "source": [
        "# df3['size']=df3['size'].astype('int64')\n",
        "# df3['size'].dtype"
      ],
      "execution_count": 0,
      "outputs": []
    },
    {
      "cell_type": "code",
      "metadata": {
        "colab_type": "code",
        "id": "p0VcdqTlI_P-",
        "outputId": "7a1e23d4-e3b8-49b6-8970-0510982e858d",
        "colab": {
          "base_uri": "https://localhost:8080/",
          "height": 386
        }
      },
      "source": [
        "df3['size'].unique()#sl only remove #no size, xl,xs,sl,s,m,l"
      ],
      "execution_count": 0,
      "outputs": [
        {
          "output_type": "execute_result",
          "data": {
            "text/plain": [
              "array(['44', '50', '56', '62', '68', '74', '80', '86', '92', '98', '104',\n",
              "       '110', '116', '122', '128', '134', '130', '136', '152', '158',\n",
              "       '164', '170', '51', '52', '53', '54', '55', '57', '58', '59', '60',\n",
              "       '61', '63', '64', '65', '66', '67', '69', '70', '71', '72', '73',\n",
              "       '75', '76', '77', '78', '79', '93', '94', '95', '96', '97', '99',\n",
              "       '100', '101', '102', '103', '111', '112', '113', '114', '115',\n",
              "       '123', '124', '125', '126', '127', '81', '82', '83', '84', '85',\n",
              "       '87', '88', '89', '90', '91', '46', '47', '48', 'no size', '34',\n",
              "       '45', '129', '131', '132', '133', '135', '137', '138', '139',\n",
              "       '140', '141', '142', '143', '144', '145', '146', '147', '148',\n",
              "       '149', '150', '42', '43', '38', 'S', 'M', 'L', '120', '117', '118',\n",
              "       '119', '121', '151', '153', '154', '155', '156', '157', '159',\n",
              "       '160', '161', '162', '163', '165', '166', '167', '168', '169',\n",
              "       '36', '37', '40', '41', '105', '106', '107', '108', '109', 'XS',\n",
              "       'XL', '4', '6', '49', '5', '1', '8', '12', '10', '14', '39', '3',\n",
              "       '32', '2', '190', '31', '33', '35', '23', '24', '25', '26', '18',\n",
              "       '19', '20', '27', '28', '29', '30', '21', '22', '16', '17', '171',\n",
              "       '172', '173', '174', '175', '176', '15', '13', '0', '182', '183',\n",
              "       '184', '185', '186', '187', '188', '177', '178', '179', '180',\n",
              "       '181', '189', '9', '7', '191', '192', '193', '194', '195', '196',\n",
              "       '197', '198', '199', '200', '201', '202', '203', '204', '205',\n",
              "       '206', '207', '208', '209', '210', '11'], dtype=object)"
            ]
          },
          "metadata": {
            "tags": []
          },
          "execution_count": 113
        }
      ]
    },
    {
      "cell_type": "code",
      "metadata": {
        "colab_type": "code",
        "id": "oV0Q_lwd_7ma",
        "outputId": "7a944a18-7a13-4a78-99da-c8ece3321843",
        "colab": {
          "base_uri": "https://localhost:8080/",
          "height": 148
        }
      },
      "source": [
        "df3['brand']=df3['brand'].map(lambda x: x.replace('unauthorized', 'no brand'))\n",
        "df3[df3['brand']=='unauthorized']\n",
        "\n"
      ],
      "execution_count": 0,
      "outputs": [
        {
          "output_type": "stream",
          "text": [
            "/home/jupyter/.local/lib/python3.5/site-packages/ipykernel_launcher.py:1: SettingWithCopyWarning: \n",
            "A value is trying to be set on a copy of a slice from a DataFrame.\n",
            "Try using .loc[row_indexer,col_indexer] = value instead\n",
            "\n",
            "See the caveats in the documentation: http://pandas.pydata.org/pandas-docs/stable/user_guide/indexing.html#returning-a-view-versus-a-copy\n",
            "  \"\"\"Entry point for launching an IPython kernel.\n"
          ],
          "name": "stderr"
        },
        {
          "output_type": "execute_result",
          "data": {
            "text/html": [
              "<div>\n",
              "<style scoped>\n",
              "    .dataframe tbody tr th:only-of-type {\n",
              "        vertical-align: middle;\n",
              "    }\n",
              "\n",
              "    .dataframe tbody tr th {\n",
              "        vertical-align: top;\n",
              "    }\n",
              "\n",
              "    .dataframe thead th {\n",
              "        text-align: right;\n",
              "    }\n",
              "</style>\n",
              "<table border=\"1\" class=\"dataframe\">\n",
              "  <thead>\n",
              "    <tr style=\"text-align: right;\">\n",
              "      <th></th>\n",
              "      <th>gender</th>\n",
              "      <th>category</th>\n",
              "      <th>price</th>\n",
              "      <th>size</th>\n",
              "      <th>brand</th>\n",
              "    </tr>\n",
              "  </thead>\n",
              "  <tbody>\n",
              "  </tbody>\n",
              "</table>\n",
              "</div>"
            ],
            "text/plain": [
              "Empty DataFrame\n",
              "Columns: [gender, category, price, size, brand]\n",
              "Index: []"
            ]
          },
          "metadata": {
            "tags": []
          },
          "execution_count": 114
        }
      ]
    },
    {
      "cell_type": "code",
      "metadata": {
        "colab_type": "code",
        "id": "29HY4l6W-LOY",
        "outputId": "4470a41c-6ec8-4560-90d6-f7a825a1c1b5",
        "colab": {
          "base_uri": "https://localhost:8080/",
          "height": 106
        }
      },
      "source": [
        "df3.head(2)"
      ],
      "execution_count": 0,
      "outputs": [
        {
          "output_type": "execute_result",
          "data": {
            "text/html": [
              "<div>\n",
              "<style scoped>\n",
              "    .dataframe tbody tr th:only-of-type {\n",
              "        vertical-align: middle;\n",
              "    }\n",
              "\n",
              "    .dataframe tbody tr th {\n",
              "        vertical-align: top;\n",
              "    }\n",
              "\n",
              "    .dataframe thead th {\n",
              "        text-align: right;\n",
              "    }\n",
              "</style>\n",
              "<table border=\"1\" class=\"dataframe\">\n",
              "  <thead>\n",
              "    <tr style=\"text-align: right;\">\n",
              "      <th></th>\n",
              "      <th>gender</th>\n",
              "      <th>category</th>\n",
              "      <th>price</th>\n",
              "      <th>size</th>\n",
              "      <th>brand</th>\n",
              "    </tr>\n",
              "  </thead>\n",
              "  <tbody>\n",
              "    <tr>\n",
              "      <td>0</td>\n",
              "      <td>unisex</td>\n",
              "      <td>bodysuits</td>\n",
              "      <td>99</td>\n",
              "      <td>44</td>\n",
              "      <td>h&amp;m</td>\n",
              "    </tr>\n",
              "    <tr>\n",
              "      <td>1</td>\n",
              "      <td>unisex</td>\n",
              "      <td>bodysuits</td>\n",
              "      <td>99</td>\n",
              "      <td>50</td>\n",
              "      <td>h&amp;m</td>\n",
              "    </tr>\n",
              "  </tbody>\n",
              "</table>\n",
              "</div>"
            ],
            "text/plain": [
              "   gender   category  price size brand\n",
              "0  unisex  bodysuits  99     44   h&m \n",
              "1  unisex  bodysuits  99     50   h&m "
            ]
          },
          "metadata": {
            "tags": []
          },
          "execution_count": 115
        }
      ]
    },
    {
      "cell_type": "code",
      "metadata": {
        "colab_type": "code",
        "id": "eKOJQA9Y-LSS",
        "outputId": "21b19ef1-06af-494e-8afc-88d1c818f446",
        "colab": {
          "base_uri": "https://localhost:8080/",
          "height": 218
        }
      },
      "source": [
        "X=df3[['size','gender','category','brand']]\n",
        "X=pd.get_dummies(data=X)\n",
        "X[0:3]\n"
      ],
      "execution_count": 0,
      "outputs": [
        {
          "output_type": "execute_result",
          "data": {
            "text/html": [
              "<div>\n",
              "<style scoped>\n",
              "    .dataframe tbody tr th:only-of-type {\n",
              "        vertical-align: middle;\n",
              "    }\n",
              "\n",
              "    .dataframe tbody tr th {\n",
              "        vertical-align: top;\n",
              "    }\n",
              "\n",
              "    .dataframe thead th {\n",
              "        text-align: right;\n",
              "    }\n",
              "</style>\n",
              "<table border=\"1\" class=\"dataframe\">\n",
              "  <thead>\n",
              "    <tr style=\"text-align: right;\">\n",
              "      <th></th>\n",
              "      <th>size_0</th>\n",
              "      <th>size_1</th>\n",
              "      <th>size_10</th>\n",
              "      <th>size_100</th>\n",
              "      <th>size_101</th>\n",
              "      <th>size_102</th>\n",
              "      <th>size_103</th>\n",
              "      <th>size_104</th>\n",
              "      <th>size_105</th>\n",
              "      <th>size_106</th>\n",
              "      <th>...</th>\n",
              "      <th>brand_wynken</th>\n",
              "      <th>brand_young soles</th>\n",
              "      <th>brand_young versace</th>\n",
              "      <th>brand_yporqué</th>\n",
              "      <th>brand_zadig &amp; voltaire</th>\n",
              "      <th>brand_zalando essentials kids</th>\n",
              "      <th>brand_zara</th>\n",
              "      <th>brand_zip and zoe</th>\n",
              "      <th>brand_zunblock</th>\n",
              "      <th>brand_åhléns</th>\n",
              "    </tr>\n",
              "  </thead>\n",
              "  <tbody>\n",
              "    <tr>\n",
              "      <td>0</td>\n",
              "      <td>0</td>\n",
              "      <td>0</td>\n",
              "      <td>0</td>\n",
              "      <td>0</td>\n",
              "      <td>0</td>\n",
              "      <td>0</td>\n",
              "      <td>0</td>\n",
              "      <td>0</td>\n",
              "      <td>0</td>\n",
              "      <td>0</td>\n",
              "      <td>...</td>\n",
              "      <td>0</td>\n",
              "      <td>0</td>\n",
              "      <td>0</td>\n",
              "      <td>0</td>\n",
              "      <td>0</td>\n",
              "      <td>0</td>\n",
              "      <td>0</td>\n",
              "      <td>0</td>\n",
              "      <td>0</td>\n",
              "      <td>0</td>\n",
              "    </tr>\n",
              "    <tr>\n",
              "      <td>1</td>\n",
              "      <td>0</td>\n",
              "      <td>0</td>\n",
              "      <td>0</td>\n",
              "      <td>0</td>\n",
              "      <td>0</td>\n",
              "      <td>0</td>\n",
              "      <td>0</td>\n",
              "      <td>0</td>\n",
              "      <td>0</td>\n",
              "      <td>0</td>\n",
              "      <td>...</td>\n",
              "      <td>0</td>\n",
              "      <td>0</td>\n",
              "      <td>0</td>\n",
              "      <td>0</td>\n",
              "      <td>0</td>\n",
              "      <td>0</td>\n",
              "      <td>0</td>\n",
              "      <td>0</td>\n",
              "      <td>0</td>\n",
              "      <td>0</td>\n",
              "    </tr>\n",
              "    <tr>\n",
              "      <td>2</td>\n",
              "      <td>0</td>\n",
              "      <td>0</td>\n",
              "      <td>0</td>\n",
              "      <td>0</td>\n",
              "      <td>0</td>\n",
              "      <td>0</td>\n",
              "      <td>0</td>\n",
              "      <td>0</td>\n",
              "      <td>0</td>\n",
              "      <td>0</td>\n",
              "      <td>...</td>\n",
              "      <td>0</td>\n",
              "      <td>0</td>\n",
              "      <td>0</td>\n",
              "      <td>0</td>\n",
              "      <td>0</td>\n",
              "      <td>0</td>\n",
              "      <td>0</td>\n",
              "      <td>0</td>\n",
              "      <td>0</td>\n",
              "      <td>0</td>\n",
              "    </tr>\n",
              "  </tbody>\n",
              "</table>\n",
              "<p>3 rows × 819 columns</p>\n",
              "</div>"
            ],
            "text/plain": [
              "   size_0  size_1  size_10  size_100  size_101  size_102  size_103  size_104  \\\n",
              "0  0       0       0        0         0         0         0         0          \n",
              "1  0       0       0        0         0         0         0         0          \n",
              "2  0       0       0        0         0         0         0         0          \n",
              "\n",
              "   size_105  size_106  ...  brand_wynken  brand_young soles  \\\n",
              "0  0         0         ...  0             0                   \n",
              "1  0         0         ...  0             0                   \n",
              "2  0         0         ...  0             0                   \n",
              "\n",
              "   brand_young versace  brand_yporqué  brand_zadig & voltaire  \\\n",
              "0  0                    0              0                        \n",
              "1  0                    0              0                        \n",
              "2  0                    0              0                        \n",
              "\n",
              "   brand_zalando essentials kids  brand_zara  brand_zip and zoe  \\\n",
              "0  0                              0           0                   \n",
              "1  0                              0           0                   \n",
              "2  0                              0           0                   \n",
              "\n",
              "   brand_zunblock  brand_åhléns  \n",
              "0  0               0             \n",
              "1  0               0             \n",
              "2  0               0             \n",
              "\n",
              "[3 rows x 819 columns]"
            ]
          },
          "metadata": {
            "tags": []
          },
          "execution_count": 116
        }
      ]
    },
    {
      "cell_type": "code",
      "metadata": {
        "colab_type": "code",
        "id": "oKep-H0_-LMb",
        "outputId": "9d21f7e7-95c9-41d7-8a21-8e4ac52a720c",
        "colab": {
          "base_uri": "https://localhost:8080/",
          "height": 136
        }
      },
      "source": [
        "Y=df3[['price']]\n",
        "Y[0:3]"
      ],
      "execution_count": 0,
      "outputs": [
        {
          "output_type": "execute_result",
          "data": {
            "text/html": [
              "<div>\n",
              "<style scoped>\n",
              "    .dataframe tbody tr th:only-of-type {\n",
              "        vertical-align: middle;\n",
              "    }\n",
              "\n",
              "    .dataframe tbody tr th {\n",
              "        vertical-align: top;\n",
              "    }\n",
              "\n",
              "    .dataframe thead th {\n",
              "        text-align: right;\n",
              "    }\n",
              "</style>\n",
              "<table border=\"1\" class=\"dataframe\">\n",
              "  <thead>\n",
              "    <tr style=\"text-align: right;\">\n",
              "      <th></th>\n",
              "      <th>price</th>\n",
              "    </tr>\n",
              "  </thead>\n",
              "  <tbody>\n",
              "    <tr>\n",
              "      <td>0</td>\n",
              "      <td>99</td>\n",
              "    </tr>\n",
              "    <tr>\n",
              "      <td>1</td>\n",
              "      <td>99</td>\n",
              "    </tr>\n",
              "    <tr>\n",
              "      <td>2</td>\n",
              "      <td>99</td>\n",
              "    </tr>\n",
              "  </tbody>\n",
              "</table>\n",
              "</div>"
            ],
            "text/plain": [
              "   price\n",
              "0  99   \n",
              "1  99   \n",
              "2  99   "
            ]
          },
          "metadata": {
            "tags": []
          },
          "execution_count": 117
        }
      ]
    },
    {
      "cell_type": "code",
      "metadata": {
        "colab_type": "code",
        "id": "xWYULE9qI_Ny",
        "colab": {}
      },
      "source": [
        "# df2['brand'].unique() #no brand\n",
        "dt={}\n",
        "dt['X']=X\n",
        "dt['y']=Y\n"
      ],
      "execution_count": 0,
      "outputs": []
    },
    {
      "cell_type": "code",
      "metadata": {
        "colab_type": "code",
        "id": "p9UTmmY50ZPb",
        "colab": {}
      },
      "source": [
        "# train['y']=train['y'].astype('int64')\n",
        "# train['X']=train['X'].astype('float32')"
      ],
      "execution_count": 0,
      "outputs": []
    },
    {
      "cell_type": "code",
      "metadata": {
        "colab_type": "code",
        "id": "GqMxupn3SpGZ",
        "colab": {}
      },
      "source": [
        ""
      ],
      "execution_count": 0,
      "outputs": []
    },
    {
      "cell_type": "code",
      "metadata": {
        "colab_type": "code",
        "id": "1gvZUizpxIST",
        "outputId": "59838094-fb88-4197-86e6-b16c5948a2b5",
        "colab": {
          "base_uri": "https://localhost:8080/",
          "height": 34
        }
      },
      "source": [
        "dt['y'].shape"
      ],
      "execution_count": 0,
      "outputs": [
        {
          "output_type": "execute_result",
          "data": {
            "text/plain": [
              "(522428, 1)"
            ]
          },
          "metadata": {
            "tags": []
          },
          "execution_count": 120
        }
      ]
    },
    {
      "cell_type": "code",
      "metadata": {
        "colab_type": "code",
        "id": "A9QYYG3Wy-s5",
        "colab": {}
      },
      "source": [
        "import numpy as np\n",
        "# np.unique(train['y'])"
      ],
      "execution_count": 0,
      "outputs": []
    },
    {
      "cell_type": "code",
      "metadata": {
        "colab_type": "code",
        "id": "RYavff90w3yD",
        "outputId": "035e9323-9693-4523-d11c-6523e5b1d367",
        "colab": {
          "base_uri": "https://localhost:8080/",
          "height": 34
        }
      },
      "source": [
        "dt['X'].shape"
      ],
      "execution_count": 0,
      "outputs": [
        {
          "output_type": "execute_result",
          "data": {
            "text/plain": [
              "(522428, 819)"
            ]
          },
          "metadata": {
            "tags": []
          },
          "execution_count": 122
        }
      ]
    },
    {
      "cell_type": "code",
      "metadata": {
        "colab_type": "code",
        "id": "p4_9eR6FwRhg",
        "outputId": "9e28ea01-5c43-44e8-857e-781a345a3a36",
        "colab": {
          "base_uri": "https://localhost:8080/",
          "height": 34
        }
      },
      "source": [
        "# train['X']=train['X'].to_numpy()\n",
        "type(dt['X']) "
      ],
      "execution_count": 0,
      "outputs": [
        {
          "output_type": "execute_result",
          "data": {
            "text/plain": [
              "pandas.core.frame.DataFrame"
            ]
          },
          "metadata": {
            "tags": []
          },
          "execution_count": 123
        }
      ]
    },
    {
      "cell_type": "code",
      "metadata": {
        "colab_type": "code",
        "id": "cWy8MDt3IdTL",
        "outputId": "11bde5ad-5147-4f7b-847d-d1bc97d51cff",
        "colab": {
          "base_uri": "https://localhost:8080/",
          "height": 34
        }
      },
      "source": [
        "# train['y']=train['y'].to_numpy()\n",
        "type(dt['y']) "
      ],
      "execution_count": 0,
      "outputs": [
        {
          "output_type": "execute_result",
          "data": {
            "text/plain": [
              "pandas.core.frame.DataFrame"
            ]
          },
          "metadata": {
            "tags": []
          },
          "execution_count": 124
        }
      ]
    },
    {
      "cell_type": "code",
      "metadata": {
        "colab_type": "code",
        "id": "0yYw8zIIwdFr",
        "outputId": "18cee43f-4a8b-4148-9d93-830d67dced3b",
        "colab": {
          "base_uri": "https://localhost:8080/",
          "height": 34
        }
      },
      "source": [
        "import time\n",
        "start_time = time.time()\n",
        "print('Start time in seconds is : {}'.format(start_time))"
      ],
      "execution_count": 0,
      "outputs": [
        {
          "output_type": "stream",
          "text": [
            "Start time in seconds is : 1567800984.1059225\n"
          ],
          "name": "stdout"
        }
      ]
    },
    {
      "cell_type": "code",
      "metadata": {
        "colab_type": "code",
        "id": "iBLlbcwzSpG8",
        "colab": {}
      },
      "source": [
        "# train['y']=train['y'].astype('int64')\n",
        "# train['X']=train['X'].astype('float32')"
      ],
      "execution_count": 0,
      "outputs": []
    },
    {
      "cell_type": "code",
      "metadata": {
        "colab_type": "code",
        "id": "YYu6uJ81MuMo",
        "colab": {}
      },
      "source": [
        "from sklearn.model_selection import train_test_split\n",
        "# now we use the train_test_split function already available in sklearn library to split our data set\n",
        "trainX, testX, Y_train, Y_test = train_test_split(dt['X'], dt['y'], test_size = .10, random_state = 42)"
      ],
      "execution_count": 0,
      "outputs": []
    },
    {
      "cell_type": "code",
      "metadata": {
        "colab_type": "code",
        "id": "yO3xEUvsRy20",
        "outputId": "4398305c-a188-499c-b35d-064fe6406ea8",
        "colab": {
          "base_uri": "https://localhost:8080/",
          "height": 34
        }
      },
      "source": [
        "trainX.shape"
      ],
      "execution_count": 0,
      "outputs": [
        {
          "output_type": "execute_result",
          "data": {
            "text/plain": [
              "(470185, 819)"
            ]
          },
          "metadata": {
            "tags": []
          },
          "execution_count": 128
        }
      ]
    },
    {
      "cell_type": "code",
      "metadata": {
        "colab_type": "code",
        "id": "o5Ty9Nq2QMeS",
        "colab": {}
      },
      "source": [
        "# find the largest house price in the training set and use it to\n",
        "# scale our house prices to the range [0, 1] (this will lead to\n",
        "# better training and convergence)\n",
        "maxPrice = Y_train.max()\n",
        "trainY = Y_train / maxPrice\n",
        "testY = Y_test / maxPrice"
      ],
      "execution_count": 0,
      "outputs": []
    },
    {
      "cell_type": "code",
      "metadata": {
        "colab_type": "code",
        "id": "lX3ACTeSMuPh",
        "colab": {}
      },
      "source": [
        "# import the necessary packages\n",
        "from keras.models import Sequential\n",
        "from keras.layers.normalization import BatchNormalization\n",
        "from keras.layers.convolutional import Conv2D\n",
        "from keras.layers.convolutional import MaxPooling2D\n",
        "from keras.layers.core import Activation\n",
        "from keras.layers.core import Dropout\n",
        "from keras.layers.core import Dense\n",
        "from keras.layers import Flatten\n",
        "from keras.layers import Input\n",
        "from keras.models import Model\n",
        " \n",
        "def create_mlp(dim):\n",
        "  model = Sequential()\n",
        "    # define our MLP network\n",
        "  model.add(Dense(500, activation='relu', input_dim=dim))\n",
        "  model.add(Dropout(0.5))\n",
        "  model.add(Dense(100, activation='relu'))\n",
        "  model.add(Dropout(0.5))\n",
        "  model.add(Dense(50, activation='relu'))\n",
        "  model.add(Dense(1, activation=\"linear\"))\n",
        "  return model\n",
        "   \n",
        "\n"
      ],
      "execution_count": 0,
      "outputs": []
    },
    {
      "cell_type": "code",
      "metadata": {
        "colab_type": "code",
        "id": "CCScakK23o4Y",
        "outputId": "59af2112-9430-4cd1-f841-9a490662e92a",
        "colab": {
          "base_uri": "https://localhost:8080/",
          "height": 34
        }
      },
      "source": [
        "trainX.shape[1]"
      ],
      "execution_count": 0,
      "outputs": [
        {
          "output_type": "execute_result",
          "data": {
            "text/plain": [
              "819"
            ]
          },
          "metadata": {
            "tags": []
          },
          "execution_count": 131
        }
      ]
    },
    {
      "cell_type": "code",
      "metadata": {
        "colab_type": "code",
        "id": "7Bm3Pltg3B_L",
        "outputId": "0b53030f-3307-4c0d-d732-c5fa61ddba1b",
        "colab": {
          "base_uri": "https://localhost:8080/",
          "height": 574
        }
      },
      "source": [
        "model2=create_mlp(trainX.shape[1])\n",
        "model2.summary()"
      ],
      "execution_count": 0,
      "outputs": [
        {
          "output_type": "stream",
          "text": [
            "_________________________________________________________________\n",
            "Layer (type)                 Output Shape              Param #   \n",
            "=================================================================\n",
            "dense_9 (Dense)              (None, 500)               410000    \n",
            "_________________________________________________________________\n",
            "dropout_5 (Dropout)          (None, 500)               0         \n",
            "_________________________________________________________________\n",
            "dense_10 (Dense)             (None, 100)               50100     \n",
            "_________________________________________________________________\n",
            "dropout_6 (Dropout)          (None, 100)               0         \n",
            "_________________________________________________________________\n",
            "dense_11 (Dense)             (None, 50)                5050      \n",
            "_________________________________________________________________\n",
            "dense_12 (Dense)             (None, 1)                 51        \n",
            "=================================================================\n",
            "Total params: 465,201\n",
            "Trainable params: 465,201\n",
            "Non-trainable params: 0\n",
            "_________________________________________________________________\n"
          ],
          "name": "stdout"
        }
      ]
    },
    {
      "cell_type": "code",
      "metadata": {
        "colab_type": "code",
        "id": "g3ffecTn4BJ9",
        "outputId": "77bf0b76-ff94-4940-cd53-4df6ff809c2f",
        "colab": {
          "base_uri": "https://localhost:8080/",
          "height": 87
        }
      },
      "source": [
        "from keras import backend as K\n",
        "K.tensorflow_backend._get_available_gpus()"
      ],
      "execution_count": 0,
      "outputs": [
        {
          "output_type": "error",
          "ename": "InternalError",
          "evalue": "CUDA runtime implicit initialization on GPU:0 failed. Status: out of memory",
          "traceback": [
            "\u001b[0;31m---------------------------------------------------------------------------\u001b[0m",
            "\u001b[0;31mInternalError\u001b[0m                             Traceback (most recent call last)",
            "\u001b[0;32m<ipython-input-133-3d00d838479b>\u001b[0m in \u001b[0;36m<module>\u001b[0;34m\u001b[0m\n\u001b[1;32m      1\u001b[0m \u001b[0;32mfrom\u001b[0m \u001b[0mkeras\u001b[0m \u001b[0;32mimport\u001b[0m \u001b[0mbackend\u001b[0m \u001b[0;32mas\u001b[0m \u001b[0mK\u001b[0m\u001b[0;34m\u001b[0m\u001b[0m\n\u001b[0;32m----> 2\u001b[0;31m \u001b[0mK\u001b[0m\u001b[0;34m.\u001b[0m\u001b[0mtensorflow_backend\u001b[0m\u001b[0;34m.\u001b[0m\u001b[0m_get_available_gpus\u001b[0m\u001b[0;34m(\u001b[0m\u001b[0;34m)\u001b[0m\u001b[0;34m\u001b[0m\u001b[0m\n\u001b[0m",
            "\u001b[0;32m/usr/local/lib/python3.5/dist-packages/keras/backend/tensorflow_backend.py\u001b[0m in \u001b[0;36m_get_available_gpus\u001b[0;34m()\u001b[0m\n\u001b[1;32m    276\u001b[0m     \u001b[0;32mglobal\u001b[0m \u001b[0m_LOCAL_DEVICES\u001b[0m\u001b[0;34m\u001b[0m\u001b[0m\n\u001b[1;32m    277\u001b[0m     \u001b[0;32mif\u001b[0m \u001b[0m_LOCAL_DEVICES\u001b[0m \u001b[0;32mis\u001b[0m \u001b[0;32mNone\u001b[0m\u001b[0;34m:\u001b[0m\u001b[0;34m\u001b[0m\u001b[0m\n\u001b[0;32m--> 278\u001b[0;31m         \u001b[0m_LOCAL_DEVICES\u001b[0m \u001b[0;34m=\u001b[0m \u001b[0mget_session\u001b[0m\u001b[0;34m(\u001b[0m\u001b[0;34m)\u001b[0m\u001b[0;34m.\u001b[0m\u001b[0mlist_devices\u001b[0m\u001b[0;34m(\u001b[0m\u001b[0;34m)\u001b[0m\u001b[0;34m\u001b[0m\u001b[0m\n\u001b[0m\u001b[1;32m    279\u001b[0m     \u001b[0;32mreturn\u001b[0m \u001b[0;34m[\u001b[0m\u001b[0mx\u001b[0m\u001b[0;34m.\u001b[0m\u001b[0mname\u001b[0m \u001b[0;32mfor\u001b[0m \u001b[0mx\u001b[0m \u001b[0;32min\u001b[0m \u001b[0m_LOCAL_DEVICES\u001b[0m \u001b[0;32mif\u001b[0m \u001b[0mx\u001b[0m\u001b[0;34m.\u001b[0m\u001b[0mdevice_type\u001b[0m \u001b[0;34m==\u001b[0m \u001b[0;34m'GPU'\u001b[0m\u001b[0;34m]\u001b[0m\u001b[0;34m\u001b[0m\u001b[0m\n\u001b[1;32m    280\u001b[0m \u001b[0;34m\u001b[0m\u001b[0m\n",
            "\u001b[0;32m/usr/local/lib/python3.5/dist-packages/keras/backend/tensorflow_backend.py\u001b[0m in \u001b[0;36mget_session\u001b[0;34m()\u001b[0m\n\u001b[1;32m    184\u001b[0m                 config = tf.ConfigProto(intra_op_parallelism_threads=num_thread,\n\u001b[1;32m    185\u001b[0m                                         allow_soft_placement=True)\n\u001b[0;32m--> 186\u001b[0;31m             \u001b[0m_SESSION\u001b[0m \u001b[0;34m=\u001b[0m \u001b[0mtf\u001b[0m\u001b[0;34m.\u001b[0m\u001b[0mSession\u001b[0m\u001b[0;34m(\u001b[0m\u001b[0mconfig\u001b[0m\u001b[0;34m=\u001b[0m\u001b[0mconfig\u001b[0m\u001b[0;34m)\u001b[0m\u001b[0;34m\u001b[0m\u001b[0m\n\u001b[0m\u001b[1;32m    187\u001b[0m         \u001b[0msession\u001b[0m \u001b[0;34m=\u001b[0m \u001b[0m_SESSION\u001b[0m\u001b[0;34m\u001b[0m\u001b[0m\n\u001b[1;32m    188\u001b[0m     \u001b[0;32mif\u001b[0m \u001b[0;32mnot\u001b[0m \u001b[0m_MANUAL_VAR_INIT\u001b[0m\u001b[0;34m:\u001b[0m\u001b[0;34m\u001b[0m\u001b[0m\n",
            "\u001b[0;32m/usr/local/lib/python3.5/dist-packages/tensorflow/python/client/session.py\u001b[0m in \u001b[0;36m__init__\u001b[0;34m(self, target, graph, config)\u001b[0m\n\u001b[1;32m   1568\u001b[0m \u001b[0;34m\u001b[0m\u001b[0m\n\u001b[1;32m   1569\u001b[0m     \"\"\"\n\u001b[0;32m-> 1570\u001b[0;31m     \u001b[0msuper\u001b[0m\u001b[0;34m(\u001b[0m\u001b[0mSession\u001b[0m\u001b[0;34m,\u001b[0m \u001b[0mself\u001b[0m\u001b[0;34m)\u001b[0m\u001b[0;34m.\u001b[0m\u001b[0m__init__\u001b[0m\u001b[0;34m(\u001b[0m\u001b[0mtarget\u001b[0m\u001b[0;34m,\u001b[0m \u001b[0mgraph\u001b[0m\u001b[0;34m,\u001b[0m \u001b[0mconfig\u001b[0m\u001b[0;34m=\u001b[0m\u001b[0mconfig\u001b[0m\u001b[0;34m)\u001b[0m\u001b[0;34m\u001b[0m\u001b[0m\n\u001b[0m\u001b[1;32m   1571\u001b[0m     \u001b[0;31m# NOTE(mrry): Create these on first `__enter__` to avoid a reference cycle.\u001b[0m\u001b[0;34m\u001b[0m\u001b[0;34m\u001b[0m\u001b[0m\n\u001b[1;32m   1572\u001b[0m     \u001b[0mself\u001b[0m\u001b[0;34m.\u001b[0m\u001b[0m_default_graph_context_manager\u001b[0m \u001b[0;34m=\u001b[0m \u001b[0;32mNone\u001b[0m\u001b[0;34m\u001b[0m\u001b[0m\n",
            "\u001b[0;32m/usr/local/lib/python3.5/dist-packages/tensorflow/python/client/session.py\u001b[0m in \u001b[0;36m__init__\u001b[0;34m(self, target, graph, config)\u001b[0m\n\u001b[1;32m    691\u001b[0m     \u001b[0;32mtry\u001b[0m\u001b[0;34m:\u001b[0m\u001b[0;34m\u001b[0m\u001b[0m\n\u001b[1;32m    692\u001b[0m       \u001b[0;31m# pylint: disable=protected-access\u001b[0m\u001b[0;34m\u001b[0m\u001b[0;34m\u001b[0m\u001b[0m\n\u001b[0;32m--> 693\u001b[0;31m       \u001b[0mself\u001b[0m\u001b[0;34m.\u001b[0m\u001b[0m_session\u001b[0m \u001b[0;34m=\u001b[0m \u001b[0mtf_session\u001b[0m\u001b[0;34m.\u001b[0m\u001b[0mTF_NewSessionRef\u001b[0m\u001b[0;34m(\u001b[0m\u001b[0mself\u001b[0m\u001b[0;34m.\u001b[0m\u001b[0m_graph\u001b[0m\u001b[0;34m.\u001b[0m\u001b[0m_c_graph\u001b[0m\u001b[0;34m,\u001b[0m \u001b[0mopts\u001b[0m\u001b[0;34m)\u001b[0m\u001b[0;34m\u001b[0m\u001b[0m\n\u001b[0m\u001b[1;32m    694\u001b[0m       \u001b[0;31m# pylint: enable=protected-access\u001b[0m\u001b[0;34m\u001b[0m\u001b[0;34m\u001b[0m\u001b[0m\n\u001b[1;32m    695\u001b[0m     \u001b[0;32mfinally\u001b[0m\u001b[0;34m:\u001b[0m\u001b[0;34m\u001b[0m\u001b[0m\n",
            "\u001b[0;31mInternalError\u001b[0m: CUDA runtime implicit initialization on GPU:0 failed. Status: out of memory"
          ]
        }
      ]
    },
    {
      "cell_type": "code",
      "metadata": {
        "colab_type": "code",
        "id": "1Ue2nEY24fJr",
        "colab": {}
      },
      "source": [
        "from tensorflow.python.client import device_lib\n",
        "print(device_lib.list_local_devices())"
      ],
      "execution_count": 0,
      "outputs": []
    },
    {
      "cell_type": "code",
      "metadata": {
        "colab_type": "code",
        "id": "hdeCSBwsc4xJ",
        "colab": {}
      },
      "source": [
        "#lr = self.lr * (1. / (1. + self.decay * self.iterations))\n"
      ],
      "execution_count": 0,
      "outputs": []
    },
    {
      "cell_type": "code",
      "metadata": {
        "colab_type": "code",
        "id": "mVjtiyihOTE3",
        "colab": {}
      },
      "source": [
        "# Regression with KerasPython\n",
        "# create our MLP and then compile the model using mean absolute\n",
        "# percentage error as our loss, implying that we seek to minimize\n",
        "# the absolute percentage difference between our price *predictions*\n",
        "# and the *actual prices*\n",
        "from keras.optimizers import adam\n",
        "\n",
        "model = create_mlp(trainX.shape[1])\n",
        "opt = adam(lr=1e-3, decay=1e-3 / 100)\n",
        "model.compile(loss=\"mean_absolute_percentage_error\", optimizer=opt)\n",
        "\n",
        "# train the model\n",
        "print(\"[INFO] training model...\")\n",
        "model.fit(trainX, trainY, validation_data=(testX, testY),epochs=100, batch_size=8)\n"
      ],
      "execution_count": 0,
      "outputs": []
    },
    {
      "cell_type": "code",
      "metadata": {
        "id": "pcx0XpKEw7RJ",
        "colab_type": "code",
        "colab": {}
      },
      "source": [
        "model.save('smart_price3.h5')"
      ],
      "execution_count": 0,
      "outputs": []
    },
    {
      "cell_type": "code",
      "metadata": {
        "id": "mvmyRiRMw7RL",
        "colab_type": "code",
        "colab": {}
      },
      "source": [
        "!du -h smart_price.h5"
      ],
      "execution_count": 0,
      "outputs": []
    },
    {
      "cell_type": "code",
      "metadata": {
        "id": "c3TTy7UAw7RN",
        "colab_type": "code",
        "colab": {}
      },
      "source": [
        ""
      ],
      "execution_count": 0,
      "outputs": []
    },
    {
      "cell_type": "code",
      "metadata": {
        "id": "m34zOYkCw7RP",
        "colab_type": "code",
        "colab": {}
      },
      "source": [
        ""
      ],
      "execution_count": 0,
      "outputs": []
    },
    {
      "cell_type": "code",
      "metadata": {
        "id": "aMQXZuhhw7RR",
        "colab_type": "code",
        "colab": {}
      },
      "source": [
        ""
      ],
      "execution_count": 0,
      "outputs": []
    },
    {
      "cell_type": "code",
      "metadata": {
        "id": "IsJ6q8skw7RT",
        "colab_type": "code",
        "colab": {}
      },
      "source": [
        "Y_train.max()"
      ],
      "execution_count": 0,
      "outputs": []
    },
    {
      "cell_type": "code",
      "metadata": {
        "id": "xYoyLElBw7RY",
        "colab_type": "code",
        "colab": {}
      },
      "source": [
        "testY=testY.astype('float32')"
      ],
      "execution_count": 0,
      "outputs": []
    },
    {
      "cell_type": "code",
      "metadata": {
        "id": "Hqf47GzGw7Ra",
        "colab_type": "code",
        "colab": {}
      },
      "source": [
        ""
      ],
      "execution_count": 0,
      "outputs": []
    },
    {
      "cell_type": "code",
      "metadata": {
        "id": "kf2OY8u1w7Rb",
        "colab_type": "code",
        "colab": {}
      },
      "source": [
        ""
      ],
      "execution_count": 0,
      "outputs": []
    },
    {
      "cell_type": "code",
      "metadata": {
        "colab_type": "code",
        "id": "FIJDuSeGS2sq",
        "colab": {}
      },
      "source": [
        "# make predictions on the testing data\n",
        "print(\"[INFO] predicting house prices...\")\n",
        "preds = model.predict(testX)\n",
        " \n",
        "# compute the difference between the *predicted* house prices and the\n",
        "# *actual* house prices, then compute the percentage difference and\n",
        "# the absolute percentage difference\n",
        "diff = preds - testY\n",
        "percentDiff = (diff / testY) * 100\n",
        "absPercentDiff = np.abs(percentDiff)\n",
        " \n",
        "# compute the mean and standard deviation of the absolute percentage\n",
        "# difference\n",
        "mean = np.mean(absPercentDiff)\n",
        "std = np.std(absPercentDiff)\n",
        "mean\n"
      ],
      "execution_count": 0,
      "outputs": []
    },
    {
      "cell_type": "code",
      "metadata": {
        "id": "QtmFTYX2w7Rf",
        "colab_type": "code",
        "colab": {}
      },
      "source": [
        "import tensorflow as tf #classification\n",
        "tf.metrics.accuracy(preds, testY)"
      ],
      "execution_count": 0,
      "outputs": []
    },
    {
      "cell_type": "code",
      "metadata": {
        "id": "7QbfYJ69w7Rh",
        "colab_type": "code",
        "colab": {}
      },
      "source": [
        "std"
      ],
      "execution_count": 0,
      "outputs": []
    },
    {
      "cell_type": "code",
      "metadata": {
        "id": "iWaC0J4sxJVE",
        "colab_type": "code",
        "colab": {}
      },
      "source": [
        ""
      ],
      "execution_count": 0,
      "outputs": []
    },
    {
      "cell_type": "code",
      "metadata": {
        "id": "FjVHDtk2w7Rj",
        "colab_type": "code",
        "colab": {}
      },
      "source": [
        "testY[11500]"
      ],
      "execution_count": 0,
      "outputs": []
    },
    {
      "cell_type": "code",
      "metadata": {
        "id": "UtPXu1T2w7Rl",
        "colab_type": "code",
        "colab": {}
      },
      "source": [
        "Y_train.max()"
      ],
      "execution_count": 0,
      "outputs": []
    },
    {
      "cell_type": "code",
      "metadata": {
        "id": "Ty8CI_Tlw7Rn",
        "colab_type": "code",
        "colab": {}
      },
      "source": [
        "testY=testY.to_numpy()"
      ],
      "execution_count": 0,
      "outputs": []
    },
    {
      "cell_type": "code",
      "metadata": {
        "id": "-cI0lptow7Rp",
        "colab_type": "code",
        "colab": {}
      },
      "source": [
        "print(testY[11500]*Y_train.max())\n",
        "preds[11500]*Y_train.max()"
      ],
      "execution_count": 0,
      "outputs": []
    },
    {
      "cell_type": "code",
      "metadata": {
        "id": "_6ABlTAIw7Rq",
        "colab_type": "code",
        "colab": {}
      },
      "source": [
        "print(testY[25000]*Y_train.max())\n",
        "preds[25000]*Y_train.max()"
      ],
      "execution_count": 0,
      "outputs": []
    },
    {
      "cell_type": "code",
      "metadata": {
        "id": "0H8JKHJNw7Rs",
        "colab_type": "code",
        "colab": {}
      },
      "source": [
        "print(testY[1000]*Y_train.max())\n",
        "preds[1000]*Y_train.max()"
      ],
      "execution_count": 0,
      "outputs": []
    },
    {
      "cell_type": "code",
      "metadata": {
        "id": "AEkUB4X6w7Ru",
        "colab_type": "code",
        "colab": {}
      },
      "source": [
        "print(testY[2750]*Y_train.max())\n",
        "preds[2750]*Y_train.max()"
      ],
      "execution_count": 0,
      "outputs": []
    },
    {
      "cell_type": "code",
      "metadata": {
        "colab_type": "code",
        "id": "y8Ve94P6U4wR",
        "colab": {}
      },
      "source": [
        "# testY"
      ],
      "execution_count": 0,
      "outputs": []
    },
    {
      "cell_type": "code",
      "metadata": {
        "colab_type": "code",
        "id": "WHiit_JjyVgT",
        "colab": {}
      },
      "source": [
        "# type(testY.to_numpy())"
      ],
      "execution_count": 0,
      "outputs": []
    },
    {
      "cell_type": "code",
      "metadata": {
        "colab_type": "code",
        "id": "xh4QtVxczHZ3",
        "colab": {}
      },
      "source": [
        "preds.dtype"
      ],
      "execution_count": 0,
      "outputs": []
    },
    {
      "cell_type": "code",
      "metadata": {
        "colab_type": "code",
        "id": "k_ZDvgkCzYcN",
        "colab": {}
      },
      "source": [
        "testY.size"
      ],
      "execution_count": 0,
      "outputs": []
    },
    {
      "cell_type": "code",
      "metadata": {
        "id": "b4Wjz2krw7R2",
        "colab_type": "code",
        "colab": {}
      },
      "source": [
        ""
      ],
      "execution_count": 0,
      "outputs": []
    },
    {
      "cell_type": "code",
      "metadata": {
        "id": "rrz2ab2ew7R4",
        "colab_type": "code",
        "colab": {}
      },
      "source": [
        ""
      ],
      "execution_count": 0,
      "outputs": []
    }
  ]
}
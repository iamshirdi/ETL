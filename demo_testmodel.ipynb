{
  "nbformat": 4,
  "nbformat_minor": 0,
  "metadata": {
    "colab": {
      "name": "demo_testmodel.ipynb",
      "version": "0.3.2",
      "provenance": [],
      "collapsed_sections": [],
      "include_colab_link": true
    },
    "kernelspec": {
      "name": "python3",
      "display_name": "Python 3"
    },
    "accelerator": "GPU"
  },
  "cells": [
    {
      "cell_type": "markdown",
      "metadata": {
        "id": "view-in-github",
        "colab_type": "text"
      },
      "source": [
        "<a href=\"https://colab.research.google.com/github/iamshirdi/uko/blob/master/demo_testmodel.ipynb\" target=\"_parent\"><img src=\"https://colab.research.google.com/assets/colab-badge.svg\" alt=\"Open In Colab\"/></a>"
      ]
    },
    {
      "cell_type": "code",
      "metadata": {
        "id": "i4lgqsB3k23r",
        "colab_type": "code",
        "outputId": "a832b70f-7de7-4c60-84cf-87d921679a8e",
        "colab": {
          "base_uri": "https://localhost:8080/",
          "height": 90
        }
      },
      "source": [
        "#https://heartbeat.fritz.ai/training-an-image-classification-convolutional-neural-net-to-detect-plant-disease-using-fast-ai-a9f5315ed59\n",
        "#https://github.com/render-examples/fastai-v3/blob/master/app/server.py\n",
        "!curl https://transfer.sh/YB5cO/export.pkl -O export.pkl"
      ],
      "execution_count": 68,
      "outputs": [
        {
          "output_type": "stream",
          "text": [
            "  % Total    % Received % Xferd  Average Speed   Time    Time     Time  Current\n",
            "                                 Dload  Upload   Total   Spent    Left  Speed\n",
            "100 83.3M  100 83.3M    0     0  3464k      0  0:00:24  0:00:24 --:--:-- 16.4M\n",
            "curl: (6) Could not resolve host: export.pkl\n"
          ],
          "name": "stdout"
        }
      ]
    },
    {
      "cell_type": "code",
      "metadata": {
        "id": "pIJDmOXYmdmk",
        "colab_type": "code",
        "outputId": "4f705b53-7831-4e5d-fcec-9e70518e2ad2",
        "colab": {
          "base_uri": "https://localhost:8080/",
          "height": 35
        }
      },
      "source": [
        "export_file_name = 'export.pkl'\n",
        "!ls "
      ],
      "execution_count": 73,
      "outputs": [
        {
          "output_type": "stream",
          "text": [
            "export.pkl  img1.jpg  models  sample_data  test  train\tvalid\n"
          ],
          "name": "stdout"
        }
      ]
    },
    {
      "cell_type": "code",
      "metadata": {
        "id": "ZW4aLz8OJRs5",
        "colab_type": "code",
        "outputId": "12f6d694-717d-4c9a-b438-e43f496f4451",
        "colab": {
          "base_uri": "https://localhost:8080/",
          "height": 90
        }
      },
      "source": [
        "#filename = '/content/drive/My Drive/Colab Notebooks/fastai/custom1/dcMbkPNZppDpa4xDJ-original.jpg'\n",
        "!curl -o  \"img1.jpg\" \"http://urbankiddo.s3bucket.s3-website-us-east-1.amazonaws.com/files/9MbNeFsKNPTTKpBFD-original.jpg\"\n",
        "filename =\"img1.jpg\"\n",
        "\n",
        "img = open_image(filename)\n",
        "img"
      ],
      "execution_count": 71,
      "outputs": [
        {
          "output_type": "stream",
          "text": [
            "  % Total    % Received % Xferd  Average Speed   Time    Time     Time  Current\n",
            "                                 Dload  Upload   Total   Spent    Left  Speed\n",
            "\r  0     0    0     0    0     0      0      0 --:--:-- --:--:-- --:--:--     0\r  0     0    0     0    0     0      0      0 --:--:-- --:--:-- --:--:--     0\r100  376k  100  376k    0     0   635k      0 --:--:-- --:--:-- --:--:--  634k\n",
            "export.pkl  img1.jpg  models  sample_data  test  train\tvalid\n"
          ],
          "name": "stdout"
        }
      ]
    },
    {
      "cell_type": "code",
      "metadata": {
        "id": "YlPkTRywl5iZ",
        "colab_type": "code",
        "outputId": "1c98d529-7d96-4a8d-e18e-1b67e4b89d6f",
        "colab": {
          "base_uri": "https://localhost:8080/",
          "height": 35
        }
      },
      "source": [
        "import torch\n",
        "from fastai import *\n",
        "from fastai.vision import *\n",
        "\n",
        "path=Path('/content/')\n",
        "learn = load_learner(path, export_file_name)\n",
        "img = open_image(filename)\n",
        "prediction = learn.predict(img)\n",
        "prediction"
      ],
      "execution_count": 83,
      "outputs": [
        {
          "output_type": "execute_result",
          "data": {
            "text/plain": [
              "(Category Baby Clothes, tensor(0), tensor([0.6631, 0.3369]))"
            ]
          },
          "metadata": {
            "tags": []
          },
          "execution_count": 83
        }
      ]
    },
    {
      "cell_type": "code",
      "metadata": {
        "id": "edjO8MidnOjG",
        "colab_type": "code",
        "colab": {}
      },
      "source": [
        ""
      ],
      "execution_count": 0,
      "outputs": []
    }
  ]
}
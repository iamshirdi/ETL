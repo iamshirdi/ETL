{
 "cells": [
  {
   "cell_type": "code",
   "execution_count": 1,
   "metadata": {},
   "outputs": [
    {
     "name": "stdout",
     "output_type": "stream",
     "text": [
      "name          11459\n",
      "brand         11459\n",
      "gender        11459\n",
      "category      11459\n",
      "size          11459\n",
      "price         11459\n",
      "url           11459\n",
      "img_url       11459\n",
      "article_no    11459\n",
      "dtype: int64\n"
     ]
    },
    {
     "data": {
      "text/html": [
       "<div>\n",
       "<style scoped>\n",
       "    .dataframe tbody tr th:only-of-type {\n",
       "        vertical-align: middle;\n",
       "    }\n",
       "\n",
       "    .dataframe tbody tr th {\n",
       "        vertical-align: top;\n",
       "    }\n",
       "\n",
       "    .dataframe thead th {\n",
       "        text-align: right;\n",
       "    }\n",
       "</style>\n",
       "<table border=\"1\" class=\"dataframe\">\n",
       "  <thead>\n",
       "    <tr style=\"text-align: right;\">\n",
       "      <th></th>\n",
       "      <th>name</th>\n",
       "      <th>brand</th>\n",
       "      <th>gender</th>\n",
       "      <th>category</th>\n",
       "      <th>size</th>\n",
       "      <th>price</th>\n",
       "      <th>url</th>\n",
       "      <th>img_url</th>\n",
       "      <th>article_no</th>\n",
       "    </tr>\n",
       "  </thead>\n",
       "  <tbody>\n",
       "    <tr>\n",
       "      <th>0</th>\n",
       "      <td>Stig Mini Multi Blue/sage/grey</td>\n",
       "      <td>Sandqvist</td>\n",
       "      <td>unisex</td>\n",
       "      <td>accessoarer</td>\n",
       "      <td>ONE SIZE</td>\n",
       "      <td>895 SEK</td>\n",
       "      <td>https://www.afound.com/sv-se/produkter/stig-mi...</td>\n",
       "      <td>https://www.afound.com/globalassets/1/kids/acc...</td>\n",
       "      <td>1831483</td>\n",
       "    </tr>\n",
       "    <tr>\n",
       "      <th>1</th>\n",
       "      <td>Stig Mini Plum</td>\n",
       "      <td>Sandqvist</td>\n",
       "      <td>unisex</td>\n",
       "      <td>accessoarer</td>\n",
       "      <td>ONE SIZE</td>\n",
       "      <td>895 SEK</td>\n",
       "      <td>https://www.afound.com/sv-se/produkter/stig-mi...</td>\n",
       "      <td>https://www.afound.com/globalassets/1/kids/acc...</td>\n",
       "      <td>1831495</td>\n",
       "    </tr>\n",
       "    <tr>\n",
       "      <th>2</th>\n",
       "      <td>Stig Mini Multi Sage/forest Green/grey</td>\n",
       "      <td>Sandqvist</td>\n",
       "      <td>unisex</td>\n",
       "      <td>accessoarer</td>\n",
       "      <td>ONE SIZE</td>\n",
       "      <td>895 SEK</td>\n",
       "      <td>https://www.afound.com/sv-se/produkter/stig-mi...</td>\n",
       "      <td>https://www.afound.com/globalassets/1/kids/acc...</td>\n",
       "      <td>1831507</td>\n",
       "    </tr>\n",
       "  </tbody>\n",
       "</table>\n",
       "</div>"
      ],
      "text/plain": [
       "                                     name      brand  gender     category  \\\n",
       "0          Stig Mini Multi Blue/sage/grey  Sandqvist  unisex  accessoarer   \n",
       "1                          Stig Mini Plum  Sandqvist  unisex  accessoarer   \n",
       "2  Stig Mini Multi Sage/forest Green/grey  Sandqvist  unisex  accessoarer   \n",
       "\n",
       "       size    price                                                url  \\\n",
       "0  ONE SIZE  895 SEK  https://www.afound.com/sv-se/produkter/stig-mi...   \n",
       "1  ONE SIZE  895 SEK  https://www.afound.com/sv-se/produkter/stig-mi...   \n",
       "2  ONE SIZE  895 SEK  https://www.afound.com/sv-se/produkter/stig-mi...   \n",
       "\n",
       "                                             img_url  article_no  \n",
       "0  https://www.afound.com/globalassets/1/kids/acc...     1831483  \n",
       "1  https://www.afound.com/globalassets/1/kids/acc...     1831495  \n",
       "2  https://www.afound.com/globalassets/1/kids/acc...     1831507  "
      ]
     },
     "execution_count": 1,
     "metadata": {},
     "output_type": "execute_result"
    }
   ],
   "source": [
    "import pandas as pd\n",
    "result=pd.read_csv(\"Image-Classification-and-Price-prediction/scrapping/data/afound.csv\", encoding='utf-8',index_col=False)\n",
    "print(result.count())\n",
    "result.head(3)"
   ]
  },
  {
   "cell_type": "code",
   "execution_count": 12,
   "metadata": {},
   "outputs": [
    {
     "data": {
      "text/plain": [
       "name          9730\n",
       "brand         9730\n",
       "gender        9730\n",
       "category      9730\n",
       "size          9730\n",
       "price         9730\n",
       "url           9730\n",
       "img_url       9730\n",
       "article_no    9730\n",
       "dtype: int64"
      ]
     },
     "execution_count": 12,
     "metadata": {},
     "output_type": "execute_result"
    }
   ],
   "source": [
    "df=result.drop_duplicates()\n",
    "result.drop_duplicates().count()"
   ]
  },
  {
   "cell_type": "code",
   "execution_count": 96,
   "metadata": {},
   "outputs": [
    {
     "data": {
      "text/plain": [
       "array(['accessoarer', 'bodies', 'tops', 'klanningar', 'kjolar',\n",
       "       'jackor-kapor', 'funktionklader', 'kladset', 'skor', 'shorts',\n",
       "       'byxor', 'accesories', 'klanningnar-kjolar', 'jackor',\n",
       "       'traningsklader', 'toppar', 'klanningar-kjolar', 'funktionsklader',\n",
       "       'trainingsklader', 'byxor-leggings', 'toppar-trojar'], dtype=object)"
      ]
     },
     "execution_count": 96,
     "metadata": {},
     "output_type": "execute_result"
    }
   ],
   "source": [
    "df['category'].unique()"
   ]
  },
  {
   "cell_type": "code",
   "execution_count": 13,
   "metadata": {},
   "outputs": [
    {
     "data": {
      "text/plain": [
       "array(['895 SEK', '149 SEK', '99 SEK', '199 SEK', '179 SEK', '229 SEK',\n",
       "       '249 SEK', '399 SEK', '299 SEK', '190 SEK', '549 SEK', '499 SEK',\n",
       "       '449 SEK', '349 SEK', '290 SEK', '375 SEK', '189 SEK', '159 SEK',\n",
       "       '429 SEK', '300 SEK', '250 SEK', '450 SEK', '289 SEK', '279 SEK',\n",
       "       '529 SEK', '329 SEK', '129 SEK', '260 SEK', '500 SEK', '550 SEK',\n",
       "       '475 SEK', '439 SEK', '629 SEK', '999 SEK', '1\\xa0114 SEK',\n",
       "       '762 SEK', '849 SEK', '350 SEK', '1\\xa0299 SEK', '699 SEK',\n",
       "       '700 SEK', '599 SEK', '200 SEK', '400 SEK', '1\\xa0199 SEK',\n",
       "       '749 SEK', '650 SEK', '850 SEK', '795 SEK', '379 SEK', '139 SEK',\n",
       "       '79,90 SEK', '230 SEK', '649 SEK', '330 SEK', '799 SEK',\n",
       "       '1\\xa0599 SEK', '1\\xa0000 SEK', '1\\xa0100 SEK', '1\\xa0300 SEK',\n",
       "       '692 SEK', '1\\xa0447 SEK', '1\\xa0364 SEK', '697 SEK', '832 SEK',\n",
       "       '1\\xa0078 SEK', '1\\xa0600 SEK', '1\\xa0353 SEK', '1\\xa0711 SEK',\n",
       "       '1\\xa0799 SEK', '600 SEK', '800 SEK', '863 SEK', '744 SEK',\n",
       "       '476 SEK', '490 SEK', '80 SEK', '120 SEK', '49,90 SEK',\n",
       "       '1\\xa0399 SEK', '780 SEK', '955 SEK', '815 SEK', '1\\xa0450 SEK',\n",
       "       '1\\xa0499 SEK', '621 SEK', '569 SEK', '916 SEK', '280 SEK',\n",
       "       '359 SEK', '1\\xa0095 SEK', '1\\xa0341 SEK', '680 SEK',\n",
       "       '1\\xa0424 SEK', '686 SEK', '819 SEK', '1\\xa0061 SEK',\n",
       "       '1\\xa0337 SEK', '1\\xa0683 SEK', '1\\xa0769 SEK', '853 SEK',\n",
       "       '732 SEK', '468 SEK', '767 SEK', '940 SEK', '801 SEK',\n",
       "       '1\\xa0426 SEK', '611 SEK', '559 SEK', '905 SEK'], dtype=object)"
      ]
     },
     "execution_count": 13,
     "metadata": {},
     "output_type": "execute_result"
    }
   ],
   "source": [
    "df['price'].unique()"
   ]
  },
  {
   "cell_type": "code",
   "execution_count": 37,
   "metadata": {},
   "outputs": [
    {
     "data": {
      "text/plain": [
       "'1\\xa0114'"
      ]
     },
     "execution_count": 37,
     "metadata": {},
     "output_type": "execute_result"
    }
   ],
   "source": [
    "v1=u'1\\xa0114 SEK'.strip(' SEK')\n",
    "v1"
   ]
  },
  {
   "cell_type": "code",
   "execution_count": 46,
   "metadata": {},
   "outputs": [
    {
     "data": {
      "text/plain": [
       "'1114'"
      ]
     },
     "execution_count": 46,
     "metadata": {},
     "output_type": "execute_result"
    }
   ],
   "source": [
    "v1.replace(\"\\xa0\", \"\")"
   ]
  },
  {
   "cell_type": "code",
   "execution_count": 30,
   "metadata": {},
   "outputs": [
    {
     "data": {
      "text/plain": [
       "'1\\xa0114'"
      ]
     },
     "execution_count": 30,
     "metadata": {},
     "output_type": "execute_result"
    }
   ],
   "source": [
    "v1.strip()"
   ]
  },
  {
   "cell_type": "code",
   "execution_count": 48,
   "metadata": {},
   "outputs": [
    {
     "data": {
      "text/html": [
       "<div>\n",
       "<style scoped>\n",
       "    .dataframe tbody tr th:only-of-type {\n",
       "        vertical-align: middle;\n",
       "    }\n",
       "\n",
       "    .dataframe tbody tr th {\n",
       "        vertical-align: top;\n",
       "    }\n",
       "\n",
       "    .dataframe thead th {\n",
       "        text-align: right;\n",
       "    }\n",
       "</style>\n",
       "<table border=\"1\" class=\"dataframe\">\n",
       "  <thead>\n",
       "    <tr style=\"text-align: right;\">\n",
       "      <th></th>\n",
       "      <th>name</th>\n",
       "      <th>brand</th>\n",
       "      <th>gender</th>\n",
       "      <th>category</th>\n",
       "      <th>size</th>\n",
       "      <th>price</th>\n",
       "      <th>url</th>\n",
       "      <th>img_url</th>\n",
       "      <th>article_no</th>\n",
       "    </tr>\n",
       "  </thead>\n",
       "  <tbody>\n",
       "    <tr>\n",
       "      <th>9308</th>\n",
       "      <td>Regatta Great Outdoors Childrens/kids Aptitude Ii Waterproof Jacket</td>\n",
       "      <td>Regatta</td>\n",
       "      <td>boy</td>\n",
       "      <td>jackor</td>\n",
       "      <td>7-8Y FÅ KVAR!</td>\n",
       "      <td>1 061</td>\n",
       "      <td>https://www.afound.com/sv-se/produkter/regatta-great-outdoors-childrenskids-aptitude-ii-waterproof-jacket_ync4cur7</td>\n",
       "      <td>https://www.afound.com/globalassets/1/kids/jackets--coats/501818_061d71981ef174956553881d9f2cd054.jpg?preset=w100h100</td>\n",
       "      <td>1950622</td>\n",
       "    </tr>\n",
       "    <tr>\n",
       "      <th>9309</th>\n",
       "      <td>Regatta Great Outdoors Childrens/kids Aptitude Ii Waterproof Jacket</td>\n",
       "      <td>Regatta</td>\n",
       "      <td>boy</td>\n",
       "      <td>jackor</td>\n",
       "      <td>9-10Y FÅ KVAR!</td>\n",
       "      <td>1 061</td>\n",
       "      <td>https://www.afound.com/sv-se/produkter/regatta-great-outdoors-childrenskids-aptitude-ii-waterproof-jacket_ync4cur7</td>\n",
       "      <td>https://www.afound.com/globalassets/1/kids/jackets--coats/501818_061d71981ef174956553881d9f2cd054.jpg?preset=w100h100</td>\n",
       "      <td>1950622</td>\n",
       "    </tr>\n",
       "  </tbody>\n",
       "</table>\n",
       "</div>"
      ],
      "text/plain": [
       "                                                                     name  \\\n",
       "9308  Regatta Great Outdoors Childrens/kids Aptitude Ii Waterproof Jacket   \n",
       "9309  Regatta Great Outdoors Childrens/kids Aptitude Ii Waterproof Jacket   \n",
       "\n",
       "        brand gender category            size  price  \\\n",
       "9308  Regatta  boy    jackor   7-8Y FÅ KVAR!   1 061   \n",
       "9309  Regatta  boy    jackor   9-10Y FÅ KVAR!  1 061   \n",
       "\n",
       "                                                                                                                     url  \\\n",
       "9308  https://www.afound.com/sv-se/produkter/regatta-great-outdoors-childrenskids-aptitude-ii-waterproof-jacket_ync4cur7   \n",
       "9309  https://www.afound.com/sv-se/produkter/regatta-great-outdoors-childrenskids-aptitude-ii-waterproof-jacket_ync4cur7   \n",
       "\n",
       "                                                                                                                    img_url  \\\n",
       "9308  https://www.afound.com/globalassets/1/kids/jackets--coats/501818_061d71981ef174956553881d9f2cd054.jpg?preset=w100h100   \n",
       "9309  https://www.afound.com/globalassets/1/kids/jackets--coats/501818_061d71981ef174956553881d9f2cd054.jpg?preset=w100h100   \n",
       "\n",
       "      article_no  \n",
       "9308  1950622     \n",
       "9309  1950622     "
      ]
     },
     "execution_count": 48,
     "metadata": {},
     "output_type": "execute_result"
    }
   ],
   "source": [
    "pd.set_option('display.max_colwidth', -1) #full colunm dispaly\n",
    "df[df['price']=='1\\xa0061']"
   ]
  },
  {
   "cell_type": "code",
   "execution_count": 50,
   "metadata": {},
   "outputs": [
    {
     "name": "stderr",
     "output_type": "stream",
     "text": [
      "/usr/local/lib/python3.5/dist-packages/ipykernel_launcher.py:8: SettingWithCopyWarning: \n",
      "A value is trying to be set on a copy of a slice from a DataFrame.\n",
      "Try using .loc[row_indexer,col_indexer] = value instead\n",
      "\n",
      "See the caveats in the documentation: http://pandas.pydata.org/pandas-docs/stable/user_guide/indexing.html#returning-a-view-versus-a-copy\n",
      "  \n",
      "/usr/local/lib/python3.5/dist-packages/ipykernel_launcher.py:9: SettingWithCopyWarning: \n",
      "A value is trying to be set on a copy of a slice from a DataFrame.\n",
      "Try using .loc[row_indexer,col_indexer] = value instead\n",
      "\n",
      "See the caveats in the documentation: http://pandas.pydata.org/pandas-docs/stable/user_guide/indexing.html#returning-a-view-versus-a-copy\n",
      "  if __name__ == '__main__':\n",
      "/usr/local/lib/python3.5/dist-packages/ipykernel_launcher.py:10: SettingWithCopyWarning: \n",
      "A value is trying to be set on a copy of a slice from a DataFrame.\n",
      "Try using .loc[row_indexer,col_indexer] = value instead\n",
      "\n",
      "See the caveats in the documentation: http://pandas.pydata.org/pandas-docs/stable/user_guide/indexing.html#returning-a-view-versus-a-copy\n",
      "  # Remove the CWD from sys.path while we load stuff.\n"
     ]
    },
    {
     "data": {
      "text/html": [
       "<div>\n",
       "<style scoped>\n",
       "    .dataframe tbody tr th:only-of-type {\n",
       "        vertical-align: middle;\n",
       "    }\n",
       "\n",
       "    .dataframe tbody tr th {\n",
       "        vertical-align: top;\n",
       "    }\n",
       "\n",
       "    .dataframe thead th {\n",
       "        text-align: right;\n",
       "    }\n",
       "</style>\n",
       "<table border=\"1\" class=\"dataframe\">\n",
       "  <thead>\n",
       "    <tr style=\"text-align: right;\">\n",
       "      <th></th>\n",
       "      <th>name</th>\n",
       "      <th>brand</th>\n",
       "      <th>gender</th>\n",
       "      <th>category</th>\n",
       "      <th>size</th>\n",
       "      <th>price</th>\n",
       "      <th>url</th>\n",
       "      <th>img_url</th>\n",
       "      <th>article_no</th>\n",
       "    </tr>\n",
       "  </thead>\n",
       "  <tbody>\n",
       "    <tr>\n",
       "      <th>0</th>\n",
       "      <td>Stig Mini Multi Blue/sage/grey</td>\n",
       "      <td>Sandqvist</td>\n",
       "      <td>unisex</td>\n",
       "      <td>accessoarer</td>\n",
       "      <td>ONE SIZE</td>\n",
       "      <td>895</td>\n",
       "      <td>https://www.afound.com/sv-se/produkter/stig-mini-multi-bluesagegrey_h9744upl</td>\n",
       "      <td>https://www.afound.com/globalassets/1/kids/accessories/bags/505226_a08cdadf056c57d555a56be2f8df7c9c.jpg?preset=w100h100</td>\n",
       "      <td>1831483</td>\n",
       "    </tr>\n",
       "    <tr>\n",
       "      <th>1</th>\n",
       "      <td>Stig Mini Plum</td>\n",
       "      <td>Sandqvist</td>\n",
       "      <td>unisex</td>\n",
       "      <td>accessoarer</td>\n",
       "      <td>ONE SIZE</td>\n",
       "      <td>895</td>\n",
       "      <td>https://www.afound.com/sv-se/produkter/stig-mini-plum_vz63v0ri</td>\n",
       "      <td>https://www.afound.com/globalassets/1/kids/accessories/bags/505223_e27accca8d23ed93b4070c3a05b5d42b.jpg?preset=w100h100</td>\n",
       "      <td>1831495</td>\n",
       "    </tr>\n",
       "  </tbody>\n",
       "</table>\n",
       "</div>"
      ],
      "text/plain": [
       "                             name      brand  gender     category      size  \\\n",
       "0  Stig Mini Multi Blue/sage/grey  Sandqvist  unisex  accessoarer  ONE SIZE   \n",
       "1  Stig Mini Plum                  Sandqvist  unisex  accessoarer  ONE SIZE   \n",
       "\n",
       "   price  \\\n",
       "0  895     \n",
       "1  895     \n",
       "\n",
       "                                                                            url  \\\n",
       "0  https://www.afound.com/sv-se/produkter/stig-mini-multi-bluesagegrey_h9744upl   \n",
       "1  https://www.afound.com/sv-se/produkter/stig-mini-plum_vz63v0ri                 \n",
       "\n",
       "                                                                                                                   img_url  \\\n",
       "0  https://www.afound.com/globalassets/1/kids/accessories/bags/505226_a08cdadf056c57d555a56be2f8df7c9c.jpg?preset=w100h100   \n",
       "1  https://www.afound.com/globalassets/1/kids/accessories/bags/505223_e27accca8d23ed93b4070c3a05b5d42b.jpg?preset=w100h100   \n",
       "\n",
       "   article_no  \n",
       "0  1831483     \n",
       "1  1831495     "
      ]
     },
     "execution_count": 50,
     "metadata": {},
     "output_type": "execute_result"
    }
   ],
   "source": [
    "pd.options.display.float_format = '{:,.0f}'.format\n",
    "df2=df\n",
    "df2.price=df2.price.str.strip(' SEK')\n",
    "\n",
    "df2.price=df2.price.str.replace(\"\\xa0\", \"\")\n",
    "df2.price=df2.price.str.replace(\",\",\".\")\n",
    "\n",
    "df2['price']=df2['price'].astype(float)\n",
    "df2['price']=df2['price'].round()\n",
    "df2['price']=df2['price'].astype(int)\n",
    "\n",
    "df2.head(2)"
   ]
  },
  {
   "cell_type": "code",
   "execution_count": 52,
   "metadata": {},
   "outputs": [
    {
     "data": {
      "text/plain": [
       "array(['ONE SIZE', '54 FÅ KVAR!', '56', '0Y', '2Y', '4Y', '6Y', '52',\n",
       "       '54', '0-1M', '0-2M FÅ KVAR!', '2-6M FÅ KVAR!', '6-12M FÅ KVAR!',\n",
       "       '1-2Y FÅ KVAR!', '52/54 FÅ KVAR!', 'XXS FÅ KVAR!', '2-6M',\n",
       "       '3-4Y FÅ KVAR!', '5-6Y FÅ KVAR!', 'S FÅ KVAR!', '0-6M FÅ KVAR!',\n",
       "       'S', 'M FÅ KVAR!', '2-4Y FÅ KVAR!', '6Y FÅ KVAR!', '6-12M',\n",
       "       '48/50 FÅ KVAR!', 'ONE SIZE FÅ KVAR!', '1-2Y', '3-4Y', '5-6Y',\n",
       "       '62 FÅ KVAR!', '68', '74 FÅ KVAR!', '80', '86 FÅ KVAR!',\n",
       "       '92 FÅ KVAR!', '1M FÅ KVAR!', '3M FÅ KVAR!', '6M FÅ KVAR!',\n",
       "       '9M FÅ KVAR!', '56 FÅ KVAR!', '74', '68 FÅ KVAR!', '80 FÅ KVAR!',\n",
       "       '92', '70', '90', '50', '62', '86', '104', '104 FÅ KVAR!',\n",
       "       '50/56 FÅ KVAR!', '62/68 FÅ KVAR!', '62/68', '98 FÅ KVAR!',\n",
       "       '110 FÅ KVAR!', '116 FÅ KVAR!', '12M FÅ KVAR!', '18M FÅ KVAR!',\n",
       "       '6M', '24M FÅ KVAR!', '1M', '9M', '12M', '2Y FÅ KVAR!',\n",
       "       '90 FÅ KVAR!', '110', '120 FÅ KVAR!', '130', '140', '150', '160',\n",
       "       '80/86 FÅ KVAR!', '3-6M FÅ KVAR!', '6-9M FÅ KVAR!',\n",
       "       '110/116 FÅ KVAR!', '134/140 FÅ KVAR!', '158/164 FÅ KVAR!',\n",
       "       '170 FÅ KVAR!', '116', '104/110 FÅ KVAR!', '116/122 FÅ KVAR!',\n",
       "       '122 FÅ KVAR!', '140 FÅ KVAR!', '152', '164', '120',\n",
       "       '86/92 FÅ KVAR!', '122/128 FÅ KVAR!', '146/152 FÅ KVAR!',\n",
       "       '170/176 FÅ KVAR!', '128/134 FÅ KVAR!', '128 FÅ KVAR!',\n",
       "       '134 FÅ KVAR!', '122/128', '134/140', '128', '98', '130 FÅ KVAR!',\n",
       "       '3M', '100', '122', '134', '152 FÅ KVAR!', '160 FÅ KVAR!',\n",
       "       '100 FÅ KVAR!', '18-24M FÅ KVAR!', '146', '158', '170', '3-5Y',\n",
       "       '7-8Y', '9-10Y', '11-12Y', '13-14Y', 'EU 21 FÅ KVAR!',\n",
       "       'EU 22 FÅ KVAR!', 'EU 23 FÅ KVAR!', 'EU 28 FÅ KVAR!', 'EU 19',\n",
       "       'EU 20', 'EU 21', 'EU 22', 'EU 23', 'EU 24', 'EU 25', 'EU 26',\n",
       "       'EU 27', 'EU 28', 'EU 29', 'EU 30', 'EU 24 FÅ KVAR!',\n",
       "       'EU 25 FÅ KVAR!', 'EU 27 FÅ KVAR!', 'EU 31', 'EU 33', 'EU 36',\n",
       "       'EU 37', 'EU 20 FÅ KVAR!', 'EU 34 FÅ KVAR!', 'EU 35 FÅ KVAR!',\n",
       "       'EU 18', 'EU 26 FÅ KVAR!', 'EU 29 FÅ KVAR!', 'EU 30 FÅ KVAR!',\n",
       "       'EU 31 FÅ KVAR!', 'EU 33 FÅ KVAR!', 'EU 19 FÅ KVAR!', 'EU 25.5',\n",
       "       'EU 26/27', 'EU 32', 'EU 34', 'EU 18.5 FÅ KVAR!', 'EU 18/19',\n",
       "       'EU 21.5', 'EU 23.5', 'EU 17', 'EU 18.5', 'EU 22/23',\n",
       "       'EU 17 FÅ KVAR!', 'EU 35', '50 FÅ KVAR!', '98/104', '110/116',\n",
       "       'EU 3', 'EU 4', 'EU 5', '4-6Y FÅ KVAR!', '6-8Y FÅ KVAR!',\n",
       "       '8-10Y FÅ KVAR!', 'EU 5 FÅ KVAR!', 'M', 'XS', '0M',\n",
       "       '98/104 FÅ KVAR!', '3Y FÅ KVAR!', '4Y FÅ KVAR!', '5Y FÅ KVAR!',\n",
       "       '8Y FÅ KVAR!', '164 FÅ KVAR!', '10Y FÅ KVAR!', '158 FÅ KVAR!',\n",
       "       '12Y FÅ KVAR!', '12Y', '5-7Y', '7-8Y FÅ KVAR!', '146 FÅ KVAR!',\n",
       "       '11-12Y FÅ KVAR!', '9-10Y FÅ KVAR!', 'L FÅ KVAR!', '146/152',\n",
       "       '158/164', '170/176', 'EU 32 FÅ KVAR!', 'EU 28.5', 'EU 33.5',\n",
       "       'EU 38', 'EU 30.5', 'EU 38 FÅ KVAR!', 'EU 39 FÅ KVAR!', 'EU 27.5',\n",
       "       'EU 31.5', '10-11Y FÅ KVAR!', '12-13Y FÅ KVAR!', '150 FÅ KVAR!',\n",
       "       '10Y', '14Y FÅ KVAR!', '4-5Y', '16Y FÅ KVAR!', '12-13Y',\n",
       "       '8-9Y FÅ KVAR!', '10-11Y', '14-15Y', '8-9Y', '152/158 FÅ KVAR!',\n",
       "       'EU 35.5', 'EU 36 2/3', 'EU 37 1/3', 'EU 38 2/3', 'EU 39 1/3',\n",
       "       'EU 40', 'EU 34.5', 'EU 36.5', 'EU 31.5 FÅ KVAR!', 'EU 32.5',\n",
       "       'EU 39', 'EU 37.5 FÅ KVAR!', 'EU 38.5', 'EU 36 FÅ KVAR!',\n",
       "       'EU 37.5', 'EU 38.5 FÅ KVAR!', 'EU 37 FÅ KVAR!',\n",
       "       'EU 36.5 FÅ KVAR!', 'EU 36 2/3 FÅ KVAR!', 'EU 39 1/3 FÅ KVAR!',\n",
       "       '176', '176 FÅ KVAR!', '10-12Y FÅ KVAR!', '13-15Y',\n",
       "       '4-5Y FÅ KVAR!', '6-7Y FÅ KVAR!', '6-7Y', '14Y', '16Y'],\n",
       "      dtype=object)"
      ]
     },
     "execution_count": 52,
     "metadata": {},
     "output_type": "execute_result"
    }
   ],
   "source": [
    "df2['size'].unique()"
   ]
  },
  {
   "cell_type": "code",
   "execution_count": 60,
   "metadata": {},
   "outputs": [],
   "source": [
    "sz_list=df2['size'].tolist()"
   ]
  },
  {
   "cell_type": "code",
   "execution_count": null,
   "metadata": {},
   "outputs": [],
   "source": []
  },
  {
   "cell_type": "code",
   "execution_count": 87,
   "metadata": {},
   "outputs": [
    {
     "data": {
      "text/plain": [
       "{'100',\n",
       " '104',\n",
       " '110',\n",
       " '116',\n",
       " '120',\n",
       " '122',\n",
       " '128',\n",
       " '130',\n",
       " '134',\n",
       " '140',\n",
       " '146',\n",
       " '150',\n",
       " '152',\n",
       " '158',\n",
       " '160',\n",
       " '164',\n",
       " '17',\n",
       " '170',\n",
       " '176',\n",
       " '18',\n",
       " '19',\n",
       " '20',\n",
       " '21',\n",
       " '22',\n",
       " '23',\n",
       " '24',\n",
       " '25',\n",
       " '26',\n",
       " '27',\n",
       " '28',\n",
       " '29',\n",
       " '3',\n",
       " '30',\n",
       " '31',\n",
       " '32',\n",
       " '33',\n",
       " '34',\n",
       " '35',\n",
       " '36',\n",
       " '37',\n",
       " '38',\n",
       " '39',\n",
       " '4',\n",
       " '40',\n",
       " '48',\n",
       " '5',\n",
       " '50',\n",
       " '52',\n",
       " '54',\n",
       " '56',\n",
       " '62',\n",
       " '68',\n",
       " '70',\n",
       " '74',\n",
       " '80',\n",
       " '86',\n",
       " '90',\n",
       " '92',\n",
       " '98',\n",
       " 'L',\n",
       " 'NaN',\n",
       " 'ONE SIZ',\n",
       " 'S',\n",
       " 'XS',\n",
       " 'XXS'}"
      ]
     },
     "execution_count": 87,
     "metadata": {},
     "output_type": "execute_result"
    }
   ],
   "source": [
    "new_sz=[]\n",
    "for s in sz_list:\n",
    "    \n",
    "    s=s.strip(' FÅ KVAR!')\n",
    "    s=s.strip('EU ')\n",
    "    if s.find(\"/\")!=-1:\n",
    "#         print('splitting',s.split(\"/\")[0])\n",
    "        s=s.split(\" \")[0]\n",
    "\n",
    "    if s.find(\"/\")!=-1:\n",
    "#         print('splitting',s.split(\"/\")[0])\n",
    "        s=s.split(\"/\")[0]\n",
    "    \n",
    "    if s.find('Y')!=-1:\n",
    "        new_sz.append('NaN')\n",
    "        continue\n",
    "    \n",
    "    \n",
    "    if s.find('M')!=-1:\n",
    "        new_sz.append('NaN')\n",
    "        continue\n",
    "    if s.find('.')!=-1:\n",
    "        s=s.split('.')[0]\n",
    "    new_sz.append(s)\n",
    "set(new_sz) #unique values"
   ]
  },
  {
   "cell_type": "code",
   "execution_count": 88,
   "metadata": {},
   "outputs": [
    {
     "name": "stderr",
     "output_type": "stream",
     "text": [
      "/usr/local/lib/python3.5/dist-packages/ipykernel_launcher.py:1: SettingWithCopyWarning: \n",
      "A value is trying to be set on a copy of a slice from a DataFrame.\n",
      "Try using .loc[row_indexer,col_indexer] = value instead\n",
      "\n",
      "See the caveats in the documentation: http://pandas.pydata.org/pandas-docs/stable/user_guide/indexing.html#returning-a-view-versus-a-copy\n",
      "  \"\"\"Entry point for launching an IPython kernel.\n"
     ]
    }
   ],
   "source": [
    "df2['new_size']=new_sz"
   ]
  },
  {
   "cell_type": "code",
   "execution_count": 89,
   "metadata": {},
   "outputs": [
    {
     "data": {
      "text/html": [
       "<div>\n",
       "<style scoped>\n",
       "    .dataframe tbody tr th:only-of-type {\n",
       "        vertical-align: middle;\n",
       "    }\n",
       "\n",
       "    .dataframe tbody tr th {\n",
       "        vertical-align: top;\n",
       "    }\n",
       "\n",
       "    .dataframe thead th {\n",
       "        text-align: right;\n",
       "    }\n",
       "</style>\n",
       "<table border=\"1\" class=\"dataframe\">\n",
       "  <thead>\n",
       "    <tr style=\"text-align: right;\">\n",
       "      <th></th>\n",
       "      <th>article_no</th>\n",
       "      <th>gender</th>\n",
       "      <th>category</th>\n",
       "      <th>price</th>\n",
       "      <th>new_size</th>\n",
       "      <th>brand</th>\n",
       "    </tr>\n",
       "  </thead>\n",
       "  <tbody>\n",
       "    <tr>\n",
       "      <th>0</th>\n",
       "      <td>1831483</td>\n",
       "      <td>unisex</td>\n",
       "      <td>accessoarer</td>\n",
       "      <td>895</td>\n",
       "      <td>ONE SIZ</td>\n",
       "      <td>Sandqvist</td>\n",
       "    </tr>\n",
       "    <tr>\n",
       "      <th>1</th>\n",
       "      <td>1831495</td>\n",
       "      <td>unisex</td>\n",
       "      <td>accessoarer</td>\n",
       "      <td>895</td>\n",
       "      <td>ONE SIZ</td>\n",
       "      <td>Sandqvist</td>\n",
       "    </tr>\n",
       "  </tbody>\n",
       "</table>\n",
       "</div>"
      ],
      "text/plain": [
       "   article_no  gender     category  price new_size      brand\n",
       "0  1831483     unisex  accessoarer  895    ONE SIZ  Sandqvist\n",
       "1  1831495     unisex  accessoarer  895    ONE SIZ  Sandqvist"
      ]
     },
     "execution_count": 89,
     "metadata": {},
     "output_type": "execute_result"
    }
   ],
   "source": [
    "colunms=['article_no','gender','category','price','new_size','brand']\n",
    "df3=df2[colunms]\n",
    "df3.head(2)"
   ]
  },
  {
   "cell_type": "code",
   "execution_count": 90,
   "metadata": {},
   "outputs": [
    {
     "data": {
      "text/plain": [
       "array(['ONE SIZ', '54', '56', 'NaN', '52', 'XXS', 'S', '48', '62', '68',\n",
       "       '74', '80', '86', '92', '70', '90', '50', '104', '98', '110',\n",
       "       '116', '120', '130', '140', '150', '160', '134', '158', '170',\n",
       "       '122', '152', '164', '146', '128', '100', '21', '22', '23', '28',\n",
       "       '19', '20', '24', '25', '26', '27', '29', '30', '31', '33', '36',\n",
       "       '37', '34', '35', '18', '32', '17', '3', '4', '5', 'XS', 'L', '38',\n",
       "       '39', '40', '176'], dtype=object)"
      ]
     },
     "execution_count": 90,
     "metadata": {},
     "output_type": "execute_result"
    }
   ],
   "source": [
    "df3['new_size'].unique()"
   ]
  },
  {
   "cell_type": "code",
   "execution_count": 91,
   "metadata": {},
   "outputs": [],
   "source": [
    "df3=df3[df3['new_size']!='NaN']\n",
    "df3=df3[df3['new_size']!='ONE SIZ']"
   ]
  },
  {
   "cell_type": "code",
   "execution_count": 92,
   "metadata": {},
   "outputs": [
    {
     "data": {
      "text/plain": [
       "array(['54', '56', '52', 'XXS', 'S', '48', '62', '68', '74', '80', '86',\n",
       "       '92', '70', '90', '50', '104', '98', '110', '116', '120', '130',\n",
       "       '140', '150', '160', '134', '158', '170', '122', '152', '164',\n",
       "       '146', '128', '100', '21', '22', '23', '28', '19', '20', '24',\n",
       "       '25', '26', '27', '29', '30', '31', '33', '36', '37', '34', '35',\n",
       "       '18', '32', '17', '3', '4', '5', 'XS', 'L', '38', '39', '40',\n",
       "       '176'], dtype=object)"
      ]
     },
     "execution_count": 92,
     "metadata": {},
     "output_type": "execute_result"
    }
   ],
   "source": [
    "df3['new_size'].unique()"
   ]
  },
  {
   "cell_type": "code",
   "execution_count": 93,
   "metadata": {},
   "outputs": [
    {
     "data": {
      "text/html": [
       "<div>\n",
       "<style scoped>\n",
       "    .dataframe tbody tr th:only-of-type {\n",
       "        vertical-align: middle;\n",
       "    }\n",
       "\n",
       "    .dataframe tbody tr th {\n",
       "        vertical-align: top;\n",
       "    }\n",
       "\n",
       "    .dataframe thead th {\n",
       "        text-align: right;\n",
       "    }\n",
       "</style>\n",
       "<table border=\"1\" class=\"dataframe\">\n",
       "  <thead>\n",
       "    <tr style=\"text-align: right;\">\n",
       "      <th></th>\n",
       "      <th>article_no</th>\n",
       "      <th>gender</th>\n",
       "      <th>category</th>\n",
       "      <th>price</th>\n",
       "      <th>new_size</th>\n",
       "      <th>brand</th>\n",
       "    </tr>\n",
       "  </thead>\n",
       "  <tbody>\n",
       "    <tr>\n",
       "      <th>3</th>\n",
       "      <td>1896392</td>\n",
       "      <td>unisex</td>\n",
       "      <td>accessoarer</td>\n",
       "      <td>149</td>\n",
       "      <td>54</td>\n",
       "      <td>Didriksons</td>\n",
       "    </tr>\n",
       "    <tr>\n",
       "      <th>4</th>\n",
       "      <td>1896392</td>\n",
       "      <td>unisex</td>\n",
       "      <td>accessoarer</td>\n",
       "      <td>149</td>\n",
       "      <td>56</td>\n",
       "      <td>Didriksons</td>\n",
       "    </tr>\n",
       "  </tbody>\n",
       "</table>\n",
       "</div>"
      ],
      "text/plain": [
       "   article_no  gender     category  price new_size       brand\n",
       "3  1896392     unisex  accessoarer  149    54       Didriksons\n",
       "4  1896392     unisex  accessoarer  149    56       Didriksons"
      ]
     },
     "execution_count": 93,
     "metadata": {},
     "output_type": "execute_result"
    }
   ],
   "source": [
    "df4=df3\n",
    "df4.head(2)"
   ]
  },
  {
   "cell_type": "code",
   "execution_count": 94,
   "metadata": {},
   "outputs": [
    {
     "data": {
      "text/plain": [
       "article_no    int64 \n",
       "gender        object\n",
       "category      object\n",
       "price         int64 \n",
       "new_size      object\n",
       "brand         object\n",
       "dtype: object"
      ]
     },
     "execution_count": 94,
     "metadata": {},
     "output_type": "execute_result"
    }
   ],
   "source": [
    "df4.dtypes"
   ]
  },
  {
   "cell_type": "code",
   "execution_count": 95,
   "metadata": {},
   "outputs": [],
   "source": [
    "dfr=df4\n",
    "dfr.to_csv('afound_cleaned.csv',index=False) #for rows not showing\n"
   ]
  },
  {
   "cell_type": "code",
   "execution_count": null,
   "metadata": {},
   "outputs": [],
   "source": []
  },
  {
   "cell_type": "code",
   "execution_count": 10,
   "metadata": {},
   "outputs": [
    {
     "data": {
      "text/html": [
       "<div>\n",
       "<style scoped>\n",
       "    .dataframe tbody tr th:only-of-type {\n",
       "        vertical-align: middle;\n",
       "    }\n",
       "\n",
       "    .dataframe tbody tr th {\n",
       "        vertical-align: top;\n",
       "    }\n",
       "\n",
       "    .dataframe thead th {\n",
       "        text-align: right;\n",
       "    }\n",
       "</style>\n",
       "<table border=\"1\" class=\"dataframe\">\n",
       "  <thead>\n",
       "    <tr style=\"text-align: right;\">\n",
       "      <th></th>\n",
       "      <th>col</th>\n",
       "    </tr>\n",
       "  </thead>\n",
       "  <tbody>\n",
       "    <tr>\n",
       "      <th>0</th>\n",
       "      <td>one</td>\n",
       "    </tr>\n",
       "    <tr>\n",
       "      <th>1</th>\n",
       "      <td>two</td>\n",
       "    </tr>\n",
       "    <tr>\n",
       "      <th>2</th>\n",
       "      <td>NaN</td>\n",
       "    </tr>\n",
       "    <tr>\n",
       "      <th>3</th>\n",
       "      <td>NaN</td>\n",
       "    </tr>\n",
       "    <tr>\n",
       "      <th>4</th>\n",
       "      <td>NaN</td>\n",
       "    </tr>\n",
       "  </tbody>\n",
       "</table>\n",
       "</div>"
      ],
      "text/plain": [
       "   col\n",
       "0  one\n",
       "1  two\n",
       "2  NaN\n",
       "3  NaN\n",
       "4  NaN"
      ]
     },
     "execution_count": 10,
     "metadata": {},
     "output_type": "execute_result"
    }
   ],
   "source": [
    "import pandas as pd\n",
    "import numpy as np\n",
    "df = pd.DataFrame({'col':['one','two',np.nan,np.nan,np.nan,'two','two']})\n",
    "df.head() #count not showing nan"
   ]
  },
  {
   "cell_type": "code",
   "execution_count": 11,
   "metadata": {},
   "outputs": [
    {
     "data": {
      "text/html": [
       "<div>\n",
       "<style scoped>\n",
       "    .dataframe tbody tr th:only-of-type {\n",
       "        vertical-align: middle;\n",
       "    }\n",
       "\n",
       "    .dataframe tbody tr th {\n",
       "        vertical-align: top;\n",
       "    }\n",
       "\n",
       "    .dataframe thead th {\n",
       "        text-align: right;\n",
       "    }\n",
       "</style>\n",
       "<table border=\"1\" class=\"dataframe\">\n",
       "  <thead>\n",
       "    <tr style=\"text-align: right;\">\n",
       "      <th></th>\n",
       "      <th>col</th>\n",
       "    </tr>\n",
       "  </thead>\n",
       "  <tbody>\n",
       "    <tr>\n",
       "      <th>0</th>\n",
       "      <td>one</td>\n",
       "    </tr>\n",
       "    <tr>\n",
       "      <th>1</th>\n",
       "      <td>two</td>\n",
       "    </tr>\n",
       "    <tr>\n",
       "      <th>2</th>\n",
       "      <td>NaN</td>\n",
       "    </tr>\n",
       "  </tbody>\n",
       "</table>\n",
       "</div>"
      ],
      "text/plain": [
       "   col\n",
       "0  one\n",
       "1  two\n",
       "2  NaN"
      ]
     },
     "execution_count": 11,
     "metadata": {},
     "output_type": "execute_result"
    }
   ],
   "source": [
    "df.drop_duplicates().head() #no Nan vslues drop"
   ]
  },
  {
   "cell_type": "code",
   "execution_count": null,
   "metadata": {},
   "outputs": [],
   "source": []
  }
 ],
 "metadata": {
  "kernelspec": {
   "display_name": "Python 3",
   "language": "python",
   "name": "python3"
  },
  "language_info": {
   "codemirror_mode": {
    "name": "ipython",
    "version": 3
   },
   "file_extension": ".py",
   "mimetype": "text/x-python",
   "name": "python",
   "nbconvert_exporter": "python",
   "pygments_lexer": "ipython3",
   "version": "3.5.3"
  }
 },
 "nbformat": 4,
 "nbformat_minor": 4
}

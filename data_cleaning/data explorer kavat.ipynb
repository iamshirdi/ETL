{
 "cells": [
  {
   "cell_type": "code",
   "execution_count": 1,
   "metadata": {},
   "outputs": [
    {
     "name": "stdout",
     "output_type": "stream",
     "text": [
      "name          5115\n",
      "brand         5115\n",
      "gender        5115\n",
      "category      5115\n",
      "size          5115\n",
      "price         5115\n",
      "color         5115\n",
      "url           5115\n",
      "img_url       5115\n",
      "article_no    5085\n",
      "dtype: int64\n"
     ]
    },
    {
     "data": {
      "text/html": [
       "<div>\n",
       "<style scoped>\n",
       "    .dataframe tbody tr th:only-of-type {\n",
       "        vertical-align: middle;\n",
       "    }\n",
       "\n",
       "    .dataframe tbody tr th {\n",
       "        vertical-align: top;\n",
       "    }\n",
       "\n",
       "    .dataframe thead th {\n",
       "        text-align: right;\n",
       "    }\n",
       "</style>\n",
       "<table border=\"1\" class=\"dataframe\">\n",
       "  <thead>\n",
       "    <tr style=\"text-align: right;\">\n",
       "      <th></th>\n",
       "      <th>name</th>\n",
       "      <th>brand</th>\n",
       "      <th>gender</th>\n",
       "      <th>category</th>\n",
       "      <th>size</th>\n",
       "      <th>price</th>\n",
       "      <th>color</th>\n",
       "      <th>url</th>\n",
       "      <th>img_url</th>\n",
       "      <th>article_no</th>\n",
       "    </tr>\n",
       "  </thead>\n",
       "  <tbody>\n",
       "    <tr>\n",
       "      <th>0</th>\n",
       "      <td>\\nAmmenäs EP Mörkblå\\n</td>\n",
       "      <td>kavat</td>\n",
       "      <td>unisex</td>\n",
       "      <td>shoe</td>\n",
       "      <td>24</td>\n",
       "      <td>\\n300 SEK\\n\\n                    Jämför med 600 SEK\\n\\n</td>\n",
       "      <td>Mörkblå\\n</td>\n",
       "      <td>https://www.kavat.se/collections/barn/products/ammenas-ep-morkbla-2#1598892474439</td>\n",
       "      <td>https://cdn.shopify.com/s/files/1/0368/1233/products/SS19_AmmenasEP_R_B_1381271_989_blue.jpg?v=1551452105</td>\n",
       "      <td>Artikel 1381271</td>\n",
       "    </tr>\n",
       "    <tr>\n",
       "      <th>1</th>\n",
       "      <td>\\nAmmenäs EP Mörkblå\\n</td>\n",
       "      <td>kavat</td>\n",
       "      <td>unisex</td>\n",
       "      <td>shoe</td>\n",
       "      <td>25</td>\n",
       "      <td>\\n300 SEK\\n\\n                    Jämför med 600 SEK\\n\\n</td>\n",
       "      <td>Mörkblå\\n</td>\n",
       "      <td>https://www.kavat.se/collections/barn/products/ammenas-ep-morkbla-2#1598892474439</td>\n",
       "      <td>https://cdn.shopify.com/s/files/1/0368/1233/products/SS19_AmmenasEP_R_B_1381271_989_blue.jpg?v=1551452105</td>\n",
       "      <td>Artikel 1381271</td>\n",
       "    </tr>\n",
       "    <tr>\n",
       "      <th>2</th>\n",
       "      <td>\\nAmmenäs EP Mörkblå\\n</td>\n",
       "      <td>kavat</td>\n",
       "      <td>unisex</td>\n",
       "      <td>shoe</td>\n",
       "      <td>26</td>\n",
       "      <td>\\n300 SEK\\n\\n                    Jämför med 600 SEK\\n\\n</td>\n",
       "      <td>Mörkblå\\n</td>\n",
       "      <td>https://www.kavat.se/collections/barn/products/ammenas-ep-morkbla-2#1598892474439</td>\n",
       "      <td>https://cdn.shopify.com/s/files/1/0368/1233/products/SS19_AmmenasEP_R_B_1381271_989_blue.jpg?v=1551452105</td>\n",
       "      <td>Artikel 1381271</td>\n",
       "    </tr>\n",
       "  </tbody>\n",
       "</table>\n",
       "</div>"
      ],
      "text/plain": [
       "                     name  brand  gender category size  \\\n",
       "0  \\nAmmenäs EP Mörkblå\\n  kavat  unisex  shoe     24    \n",
       "1  \\nAmmenäs EP Mörkblå\\n  kavat  unisex  shoe     25    \n",
       "2  \\nAmmenäs EP Mörkblå\\n  kavat  unisex  shoe     26    \n",
       "\n",
       "                                                     price      color  \\\n",
       "0  \\n300 SEK\\n\\n                    Jämför med 600 SEK\\n\\n  Mörkblå\\n   \n",
       "1  \\n300 SEK\\n\\n                    Jämför med 600 SEK\\n\\n  Mörkblå\\n   \n",
       "2  \\n300 SEK\\n\\n                    Jämför med 600 SEK\\n\\n  Mörkblå\\n   \n",
       "\n",
       "                                                                                 url  \\\n",
       "0  https://www.kavat.se/collections/barn/products/ammenas-ep-morkbla-2#1598892474439   \n",
       "1  https://www.kavat.se/collections/barn/products/ammenas-ep-morkbla-2#1598892474439   \n",
       "2  https://www.kavat.se/collections/barn/products/ammenas-ep-morkbla-2#1598892474439   \n",
       "\n",
       "                                                                                                     img_url  \\\n",
       "0  https://cdn.shopify.com/s/files/1/0368/1233/products/SS19_AmmenasEP_R_B_1381271_989_blue.jpg?v=1551452105   \n",
       "1  https://cdn.shopify.com/s/files/1/0368/1233/products/SS19_AmmenasEP_R_B_1381271_989_blue.jpg?v=1551452105   \n",
       "2  https://cdn.shopify.com/s/files/1/0368/1233/products/SS19_AmmenasEP_R_B_1381271_989_blue.jpg?v=1551452105   \n",
       "\n",
       "        article_no  \n",
       "0  Artikel 1381271  \n",
       "1  Artikel 1381271  \n",
       "2  Artikel 1381271  "
      ]
     },
     "execution_count": 1,
     "metadata": {},
     "output_type": "execute_result"
    }
   ],
   "source": [
    "import pandas as pd\n",
    "pd.set_option('display.max_colwidth', -1) #full colunm dispaly\n",
    "\n",
    "result=pd.read_csv(\"Image-Classification-and-Price-prediction/scrapping/data/kavat.csv\", encoding='utf-8',index_col=False)\n",
    "print(result.count())\n",
    "result.head(3)"
   ]
  },
  {
   "cell_type": "code",
   "execution_count": 2,
   "metadata": {},
   "outputs": [
    {
     "data": {
      "text/plain": [
       "name          5115\n",
       "brand         5115\n",
       "gender        5115\n",
       "category      5115\n",
       "size          5115\n",
       "price         5115\n",
       "color         5115\n",
       "url           5115\n",
       "img_url       5115\n",
       "article_no    5085\n",
       "dtype: int64"
      ]
     },
     "execution_count": 2,
     "metadata": {},
     "output_type": "execute_result"
    }
   ],
   "source": [
    "df=result.drop_duplicates()\n",
    "result.drop_duplicates().count()"
   ]
  },
  {
   "cell_type": "code",
   "execution_count": 3,
   "metadata": {},
   "outputs": [
    {
     "data": {
      "text/plain": [
       "array(['\\n300 SEK\\n\\n                    Jämför med 600 SEK\\n\\n',\n",
       "       '\\n240 SEK\\n\\n                    Jämför med 480 SEK\\n\\n',\n",
       "       '\\n480 SEK\\n',\n",
       "       '\\n200 SEK\\n\\n                    Jämför med 400 SEK\\n\\n',\n",
       "       '\\n400 SEK\\n', '\\n600 SEK\\n', '\\n520 SEK\\n', '\\n(Kommer snart)\\n',\n",
       "       '\\n560 SEK\\n',\n",
       "       '\\n280 SEK\\n\\n                    Jämför med 560 SEK\\n\\n',\n",
       "       '\\n440 SEK\\n',\n",
       "       '\\n220 SEK\\n\\n                    Jämför med 440 SEK\\n\\n',\n",
       "       '\\n180 SEK\\n\\n                    Jämför med 360 SEK\\n\\n',\n",
       "       '\\n320 SEK\\n', '\\n119 SEK\\n', '\\n280 SEK\\n',\n",
       "       '\\n140 SEK\\n\\n                    Jämför med 280 SEK\\n\\n',\n",
       "       '\\n80 SEK\\n\\n                    Jämför med 160 SEK\\n\\n',\n",
       "       '\\n260 SEK\\n\\n                    Jämför med 520 SEK\\n\\n',\n",
       "       '\\n880 SEK\\n\\n                    Jämför med 1 760 SEK\\n\\n',\n",
       "       '\\n1 520 SEK\\n', '\\n72 SEK\\n', '\\n960 SEK\\n', '\\n79 SEK\\n',\n",
       "       '\\n55 SEK\\n', '\\n40 SEK\\n', '\\n360 SEK\\n', '\\n32 SEK\\n',\n",
       "       '\\n320 SEK\\n\\n                    Jämför med 640 SEK\\n\\n',\n",
       "       '\\n640 SEK\\n', '\\n160 SEK\\n', '\\n680 SEK\\n', '\\n519 SEK\\n',\n",
       "       '\\n800 SEK\\n', '\\n80 SEK\\n', '\\n96 SEK\\n'], dtype=object)"
      ]
     },
     "execution_count": 3,
     "metadata": {},
     "output_type": "execute_result"
    }
   ],
   "source": [
    "df['price'].unique()"
   ]
  },
  {
   "cell_type": "code",
   "execution_count": 4,
   "metadata": {},
   "outputs": [
    {
     "data": {
      "text/plain": [
       "array(['300', '240', '480', '200', '400', '600', '520', '(Kommer', '560',\n",
       "       '280', '440', '220', '180', '320', '119', '140', '80', '260',\n",
       "       '880', '1', '72', '960', '79', '55', '40', '360', '32', '640',\n",
       "       '160', '680', '519', '800', '96'], dtype=object)"
      ]
     },
     "execution_count": 4,
     "metadata": {},
     "output_type": "execute_result"
    }
   ],
   "source": [
    "df2=df\n",
    "df2['price']=df2['price'].str.strip()\n",
    "df2['price']=df2['price'].str.split(' ').str.get(0)\n",
    "df2['price'].unique()"
   ]
  },
  {
   "cell_type": "code",
   "execution_count": 5,
   "metadata": {},
   "outputs": [
    {
     "data": {
      "text/plain": [
       "array(['24 ', '25 ', '26 ', '27 ', '28 ', '29 ', '30 ', '31 ', '32 ',\n",
       "       '33 ', '34 ', '35 ', '19 ', '20 ', '21 ', '22 ', '23 ', '36 ',\n",
       "       '37 ', '38 ', '39 ', '23/24 ', '25/26 ', '27/28 ', '29/30 ', '40 ',\n",
       "       '41 ', '42 ', '43 ', '44 ', '45 ', '46 ', 'Neutral ', '19', '25',\n",
       "       '31', '37', '43', 'Skoborste ', 'Mörkbrun ', 'Svart ', '22/23 ',\n",
       "       '24/25 ', '26/27 ', '28/29 ', '30/31 ', '32/33 ', '34/35 ',\n",
       "       'Putsduk ', '120ml '], dtype=object)"
      ]
     },
     "execution_count": 5,
     "metadata": {},
     "output_type": "execute_result"
    }
   ],
   "source": [
    "df2['size'].unique()"
   ]
  },
  {
   "cell_type": "code",
   "execution_count": 6,
   "metadata": {},
   "outputs": [
    {
     "data": {
      "text/plain": [
       "array(['24', '25', '26', '27', '28', '29', '30', '31', '32', '33', '34',\n",
       "       '35', '19', '20', '21', '22', '23', '36', '37', '38', '39',\n",
       "       '23-24', '25-26', '27-28', '29-30', '40', '41', '42', '43', '44',\n",
       "       '45', '46', 'Na', '22-23', '24-25', '26-27', '28-29', '30-31',\n",
       "       '32-33', '34-35'], dtype=object)"
      ]
     },
     "execution_count": 6,
     "metadata": {},
     "output_type": "execute_result"
    }
   ],
   "source": [
    "df3=df2\n",
    "df3['size']=df2['size'].str.strip()\n",
    "df3['size']=df2['size'].str.replace('Skoborste','Na')\n",
    "df3['size']=df2['size'].str.replace('Mörkbrun','Na')\n",
    "df3['size']=df2['size'].str.replace('Svart','Na')\n",
    "df3['size']=df2['size'].str.replace('Putsduk','Na')\n",
    "df3['size']=df2['size'].str.replace('120ml','Na')\n",
    "df3['size']=df2['size'].str.replace('/','-')\n",
    "df3['size']=df2['size'].str.replace('Neutral','Na')\n",
    "\n",
    "df3['size'].unique()\n"
   ]
  },
  {
   "cell_type": "code",
   "execution_count": 7,
   "metadata": {},
   "outputs": [
    {
     "data": {
      "text/html": [
       "<div>\n",
       "<style scoped>\n",
       "    .dataframe tbody tr th:only-of-type {\n",
       "        vertical-align: middle;\n",
       "    }\n",
       "\n",
       "    .dataframe tbody tr th {\n",
       "        vertical-align: top;\n",
       "    }\n",
       "\n",
       "    .dataframe thead th {\n",
       "        text-align: right;\n",
       "    }\n",
       "</style>\n",
       "<table border=\"1\" class=\"dataframe\">\n",
       "  <thead>\n",
       "    <tr style=\"text-align: right;\">\n",
       "      <th></th>\n",
       "      <th>article_no</th>\n",
       "      <th>gender</th>\n",
       "      <th>category</th>\n",
       "      <th>price</th>\n",
       "      <th>size</th>\n",
       "      <th>brand</th>\n",
       "    </tr>\n",
       "  </thead>\n",
       "  <tbody>\n",
       "    <tr>\n",
       "      <th>0</th>\n",
       "      <td>Artikel 1381271</td>\n",
       "      <td>unisex</td>\n",
       "      <td>shoe</td>\n",
       "      <td>300</td>\n",
       "      <td>24</td>\n",
       "      <td>kavat</td>\n",
       "    </tr>\n",
       "    <tr>\n",
       "      <th>1</th>\n",
       "      <td>Artikel 1381271</td>\n",
       "      <td>unisex</td>\n",
       "      <td>shoe</td>\n",
       "      <td>300</td>\n",
       "      <td>25</td>\n",
       "      <td>kavat</td>\n",
       "    </tr>\n",
       "  </tbody>\n",
       "</table>\n",
       "</div>"
      ],
      "text/plain": [
       "        article_no  gender category price size  brand\n",
       "0  Artikel 1381271  unisex  shoe     300   24   kavat\n",
       "1  Artikel 1381271  unisex  shoe     300   25   kavat"
      ]
     },
     "execution_count": 7,
     "metadata": {},
     "output_type": "execute_result"
    }
   ],
   "source": [
    "colunms=['article_no','gender','category','price','size','brand']\n",
    "df4=df3[colunms]\n",
    "df4.head(2)"
   ]
  },
  {
   "cell_type": "code",
   "execution_count": 8,
   "metadata": {},
   "outputs": [],
   "source": [
    "dfr=df4\n",
    "dfr.to_csv('kavat_cleaned.csv',index=False) #for rows not showing\n"
   ]
  },
  {
   "cell_type": "code",
   "execution_count": null,
   "metadata": {},
   "outputs": [],
   "source": []
  }
 ],
 "metadata": {
  "kernelspec": {
   "display_name": "Python 3",
   "language": "python",
   "name": "python3"
  },
  "language_info": {
   "codemirror_mode": {
    "name": "ipython",
    "version": 3
   },
   "file_extension": ".py",
   "mimetype": "text/x-python",
   "name": "python",
   "nbconvert_exporter": "python",
   "pygments_lexer": "ipython3",
   "version": "3.5.3"
  }
 },
 "nbformat": 4,
 "nbformat_minor": 4
}

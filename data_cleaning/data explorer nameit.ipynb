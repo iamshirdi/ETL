{
 "cells": [
  {
   "cell_type": "code",
   "execution_count": 1,
   "metadata": {},
   "outputs": [
    {
     "name": "stdout",
     "output_type": "stream",
     "text": [
      "name           24897\n",
      "brand          24897\n",
      "gender         24897\n",
      "category       24897\n",
      "size           24897\n",
      "price          24897\n",
      "composition    24897\n",
      "color          24897\n",
      "url            24897\n",
      "img_url        24897\n",
      "article_no     24897\n",
      "dtype: int64\n"
     ]
    },
    {
     "data": {
      "text/html": [
       "<div>\n",
       "<style scoped>\n",
       "    .dataframe tbody tr th:only-of-type {\n",
       "        vertical-align: middle;\n",
       "    }\n",
       "\n",
       "    .dataframe tbody tr th {\n",
       "        vertical-align: top;\n",
       "    }\n",
       "\n",
       "    .dataframe thead th {\n",
       "        text-align: right;\n",
       "    }\n",
       "</style>\n",
       "<table border=\"1\" class=\"dataframe\">\n",
       "  <thead>\n",
       "    <tr style=\"text-align: right;\">\n",
       "      <th></th>\n",
       "      <th>name</th>\n",
       "      <th>brand</th>\n",
       "      <th>gender</th>\n",
       "      <th>category</th>\n",
       "      <th>size</th>\n",
       "      <th>price</th>\n",
       "      <th>composition</th>\n",
       "      <th>color</th>\n",
       "      <th>url</th>\n",
       "      <th>img_url</th>\n",
       "      <th>article_no</th>\n",
       "    </tr>\n",
       "  </thead>\n",
       "  <tbody>\n",
       "    <tr>\n",
       "      <th>0</th>\n",
       "      <td>BABY blommig Tunika</td>\n",
       "      <td>nameit</td>\n",
       "      <td>girl</td>\n",
       "      <td>ni-baby-dresses-skirts</td>\n",
       "      <td>50</td>\n",
       "      <td>\\n149,95 kr\\n</td>\n",
       "      <td>95% Ekologisk bomull, 5% Elastan</td>\n",
       "      <td>Grön / Green Gables</td>\n",
       "      <td>https://www.nameit.com/se/sv/ni/baby---strl-40-74/klanningar-och-kjolar/baby-blommig-tunika-13167118.html?cgid=ni-baby-dresses-skirts&amp;dwvar_colorPattern=13167118_GreenGables</td>\n",
       "      <td>https://www.nameit.com/dw/image/v2/ABBT_PRD/on/demandware.static/-/Sites-pim-catalog/default/dwaf17dba5/pim-static/large/13167118_GreenGables_001_ProductLarge.jpg?sw=685</td>\n",
       "      <td>13167118</td>\n",
       "    </tr>\n",
       "    <tr>\n",
       "      <th>1</th>\n",
       "      <td>BABY blommig Tunika</td>\n",
       "      <td>nameit</td>\n",
       "      <td>girl</td>\n",
       "      <td>ni-baby-dresses-skirts</td>\n",
       "      <td>56</td>\n",
       "      <td>\\n149,95 kr\\n</td>\n",
       "      <td>95% Ekologisk bomull, 5% Elastan</td>\n",
       "      <td>Grön / Green Gables</td>\n",
       "      <td>https://www.nameit.com/se/sv/ni/baby---strl-40-74/klanningar-och-kjolar/baby-blommig-tunika-13167118.html?cgid=ni-baby-dresses-skirts&amp;dwvar_colorPattern=13167118_GreenGables</td>\n",
       "      <td>https://www.nameit.com/dw/image/v2/ABBT_PRD/on/demandware.static/-/Sites-pim-catalog/default/dwaf17dba5/pim-static/large/13167118_GreenGables_001_ProductLarge.jpg?sw=685</td>\n",
       "      <td>13167118</td>\n",
       "    </tr>\n",
       "    <tr>\n",
       "      <th>2</th>\n",
       "      <td>BABY blommig Tunika</td>\n",
       "      <td>nameit</td>\n",
       "      <td>girl</td>\n",
       "      <td>ni-baby-dresses-skirts</td>\n",
       "      <td>62</td>\n",
       "      <td>\\n149,95 kr\\n</td>\n",
       "      <td>95% Ekologisk bomull, 5% Elastan</td>\n",
       "      <td>Grön / Green Gables</td>\n",
       "      <td>https://www.nameit.com/se/sv/ni/baby---strl-40-74/klanningar-och-kjolar/baby-blommig-tunika-13167118.html?cgid=ni-baby-dresses-skirts&amp;dwvar_colorPattern=13167118_GreenGables</td>\n",
       "      <td>https://www.nameit.com/dw/image/v2/ABBT_PRD/on/demandware.static/-/Sites-pim-catalog/default/dwaf17dba5/pim-static/large/13167118_GreenGables_001_ProductLarge.jpg?sw=685</td>\n",
       "      <td>13167118</td>\n",
       "    </tr>\n",
       "  </tbody>\n",
       "</table>\n",
       "</div>"
      ],
      "text/plain": [
       "                  name   brand gender                category size  \\\n",
       "0  BABY blommig Tunika  nameit  girl   ni-baby-dresses-skirts  50    \n",
       "1  BABY blommig Tunika  nameit  girl   ni-baby-dresses-skirts  56    \n",
       "2  BABY blommig Tunika  nameit  girl   ni-baby-dresses-skirts  62    \n",
       "\n",
       "           price                       composition                color  \\\n",
       "0  \\n149,95 kr\\n  95% Ekologisk bomull, 5% Elastan  Grön / Green Gables   \n",
       "1  \\n149,95 kr\\n  95% Ekologisk bomull, 5% Elastan  Grön / Green Gables   \n",
       "2  \\n149,95 kr\\n  95% Ekologisk bomull, 5% Elastan  Grön / Green Gables   \n",
       "\n",
       "                                                                                                                                                                             url  \\\n",
       "0  https://www.nameit.com/se/sv/ni/baby---strl-40-74/klanningar-och-kjolar/baby-blommig-tunika-13167118.html?cgid=ni-baby-dresses-skirts&dwvar_colorPattern=13167118_GreenGables   \n",
       "1  https://www.nameit.com/se/sv/ni/baby---strl-40-74/klanningar-och-kjolar/baby-blommig-tunika-13167118.html?cgid=ni-baby-dresses-skirts&dwvar_colorPattern=13167118_GreenGables   \n",
       "2  https://www.nameit.com/se/sv/ni/baby---strl-40-74/klanningar-och-kjolar/baby-blommig-tunika-13167118.html?cgid=ni-baby-dresses-skirts&dwvar_colorPattern=13167118_GreenGables   \n",
       "\n",
       "                                                                                                                                                                     img_url  \\\n",
       "0  https://www.nameit.com/dw/image/v2/ABBT_PRD/on/demandware.static/-/Sites-pim-catalog/default/dwaf17dba5/pim-static/large/13167118_GreenGables_001_ProductLarge.jpg?sw=685   \n",
       "1  https://www.nameit.com/dw/image/v2/ABBT_PRD/on/demandware.static/-/Sites-pim-catalog/default/dwaf17dba5/pim-static/large/13167118_GreenGables_001_ProductLarge.jpg?sw=685   \n",
       "2  https://www.nameit.com/dw/image/v2/ABBT_PRD/on/demandware.static/-/Sites-pim-catalog/default/dwaf17dba5/pim-static/large/13167118_GreenGables_001_ProductLarge.jpg?sw=685   \n",
       "\n",
       "   article_no  \n",
       "0  13167118    \n",
       "1  13167118    \n",
       "2  13167118    "
      ]
     },
     "execution_count": 1,
     "metadata": {},
     "output_type": "execute_result"
    }
   ],
   "source": [
    "import pandas as pd\n",
    "pd.set_option('display.max_colwidth', -1) #full colunm dispaly\n",
    "\n",
    "result=pd.read_csv(\"Image-Classification-and-Price-prediction/scrapping/data/nameit.csv\", encoding='utf-8',index_col=False)\n",
    "print(result.count())\n",
    "result.head(3)"
   ]
  },
  {
   "cell_type": "code",
   "execution_count": 2,
   "metadata": {},
   "outputs": [
    {
     "data": {
      "text/plain": [
       "name           24668\n",
       "brand          24668\n",
       "gender         24668\n",
       "category       24668\n",
       "size           24668\n",
       "price          24668\n",
       "composition    24668\n",
       "color          24668\n",
       "url            24668\n",
       "img_url        24668\n",
       "article_no     24668\n",
       "dtype: int64"
      ]
     },
     "execution_count": 2,
     "metadata": {},
     "output_type": "execute_result"
    }
   ],
   "source": [
    "df=result.drop_duplicates()\n",
    "result.drop_duplicates().count()"
   ]
  },
  {
   "cell_type": "code",
   "execution_count": 6,
   "metadata": {},
   "outputs": [
    {
     "name": "stderr",
     "output_type": "stream",
     "text": [
      "/usr/local/lib/python3.5/dist-packages/ipykernel_launcher.py:1: SettingWithCopyWarning: \n",
      "A value is trying to be set on a copy of a slice from a DataFrame.\n",
      "Try using .loc[row_indexer,col_indexer] = value instead\n",
      "\n",
      "See the caveats in the documentation: http://pandas.pydata.org/pandas-docs/stable/user_guide/indexing.html#returning-a-view-versus-a-copy\n",
      "  \"\"\"Entry point for launching an IPython kernel.\n",
      "/usr/local/lib/python3.5/dist-packages/ipykernel_launcher.py:2: SettingWithCopyWarning: \n",
      "A value is trying to be set on a copy of a slice from a DataFrame.\n",
      "Try using .loc[row_indexer,col_indexer] = value instead\n",
      "\n",
      "See the caveats in the documentation: http://pandas.pydata.org/pandas-docs/stable/user_guide/indexing.html#returning-a-view-versus-a-copy\n",
      "  \n",
      "/usr/local/lib/python3.5/dist-packages/ipykernel_launcher.py:3: SettingWithCopyWarning: \n",
      "A value is trying to be set on a copy of a slice from a DataFrame.\n",
      "Try using .loc[row_indexer,col_indexer] = value instead\n",
      "\n",
      "See the caveats in the documentation: http://pandas.pydata.org/pandas-docs/stable/user_guide/indexing.html#returning-a-view-versus-a-copy\n",
      "  This is separate from the ipykernel package so we can avoid doing imports until\n",
      "/usr/local/lib/python3.5/dist-packages/ipykernel_launcher.py:6: SettingWithCopyWarning: \n",
      "A value is trying to be set on a copy of a slice from a DataFrame.\n",
      "Try using .loc[row_indexer,col_indexer] = value instead\n",
      "\n",
      "See the caveats in the documentation: http://pandas.pydata.org/pandas-docs/stable/user_guide/indexing.html#returning-a-view-versus-a-copy\n",
      "  \n",
      "/usr/local/lib/python3.5/dist-packages/ipykernel_launcher.py:7: SettingWithCopyWarning: \n",
      "A value is trying to be set on a copy of a slice from a DataFrame.\n",
      "Try using .loc[row_indexer,col_indexer] = value instead\n",
      "\n",
      "See the caveats in the documentation: http://pandas.pydata.org/pandas-docs/stable/user_guide/indexing.html#returning-a-view-versus-a-copy\n",
      "  import sys\n",
      "/usr/local/lib/python3.5/dist-packages/ipykernel_launcher.py:8: SettingWithCopyWarning: \n",
      "A value is trying to be set on a copy of a slice from a DataFrame.\n",
      "Try using .loc[row_indexer,col_indexer] = value instead\n",
      "\n",
      "See the caveats in the documentation: http://pandas.pydata.org/pandas-docs/stable/user_guide/indexing.html#returning-a-view-versus-a-copy\n",
      "  \n"
     ]
    },
    {
     "data": {
      "text/plain": [
       "array([ 150,  160,  230,  500,  350,  180,  130,  280,  300,  330,  380,\n",
       "        260,  250,  170,  200,  140,  110,  100,  220,  400,  120,  290,\n",
       "        210,  270,  480,  450,  600,  430,  360,  390,  530,  320,  700,\n",
       "        650,   90,  190,   70,   40,   60,   80,   50,  470,  240,  550,\n",
       "        580,   30,  199,  340,  800,  780, 1000,  460,  440,  370,  750,\n",
       "        850,  630,  900])"
      ]
     },
     "execution_count": 6,
     "metadata": {},
     "output_type": "execute_result"
    }
   ],
   "source": [
    "df['price']=df['price'].str.strip()\n",
    "df['price']=df['price'].str.split(' kr').str.get(0)\n",
    "df['price']=df['price'].str.replace(',','.')\n",
    "\n",
    "\n",
    "df['price']=df['price'].astype(float)\n",
    "df['price']=df['price'].round()\n",
    "df['price']=df['price'].astype(int)\n",
    "df['price'].unique()"
   ]
  },
  {
   "cell_type": "code",
   "execution_count": 7,
   "metadata": {},
   "outputs": [
    {
     "data": {
      "text/plain": [
       "array(['50', '56', '62', '68', '74', '80', '86', '92', '98', '74/80',\n",
       "       '98/104', '86-92', '86/92', '110/116', '122/128', '62-68', '74-80',\n",
       "       '98-104', '62/68', '110-116', '134-140', '122-128', '158-164',\n",
       "       '146-152', '116', '122', '152', '128', '134', '140', '146', '158',\n",
       "       '164', '170', '176', '170-176', '134/152', '158/176', '104', '110',\n",
       "       'S', 'M', 'L', 'XL', '40', '44', '48', '50-56', 'ONE SIZE',\n",
       "       '34/39', '40/44', '45/47', '50/56', '68/74', '19/21', '22/24',\n",
       "       '25/27', '28/30', '80/86', '5', '6', '7', '8', '46/47', '48/49',\n",
       "       '50/51', '4', '80-86', '92-98', '104-110', '68-74', '19-21',\n",
       "       '21-23', '23-25', '20', '22', '23', '24', '25', '26', '27',\n",
       "       '17-19', '25-27', '134/140', '146/152', '158/164', '104-116',\n",
       "       '122-134', '140-152', '51/52', '52/53', '9', '31/33', '34/36',\n",
       "       '37/39', '16/18', '31-33', '34-36', '37-39', '28-29', '30-31',\n",
       "       '32-33', '34-35', '36-37', '55', '65', '53/55', '56/58', 'S/M',\n",
       "       'M/L', '75'], dtype=object)"
      ]
     },
     "execution_count": 7,
     "metadata": {},
     "output_type": "execute_result"
    }
   ],
   "source": [
    "df2=df\n",
    "df2['size'].unique()"
   ]
  },
  {
   "cell_type": "code",
   "execution_count": 8,
   "metadata": {},
   "outputs": [
    {
     "name": "stderr",
     "output_type": "stream",
     "text": [
      "/usr/local/lib/python3.5/dist-packages/ipykernel_launcher.py:1: SettingWithCopyWarning: \n",
      "A value is trying to be set on a copy of a slice from a DataFrame.\n",
      "Try using .loc[row_indexer,col_indexer] = value instead\n",
      "\n",
      "See the caveats in the documentation: http://pandas.pydata.org/pandas-docs/stable/user_guide/indexing.html#returning-a-view-versus-a-copy\n",
      "  \"\"\"Entry point for launching an IPython kernel.\n"
     ]
    },
    {
     "data": {
      "text/plain": [
       "array(['50', '56', '62', '68', '74', '80', '86', '92', '98', '74-80',\n",
       "       '98-104', '86-92', '110-116', '122-128', '62-68', '134-140',\n",
       "       '158-164', '146-152', '116', '122', '152', '128', '134', '140',\n",
       "       '146', '158', '164', '170', '176', '170-176', '134-152', '158-176',\n",
       "       '104', '110', 'S', 'M', 'L', 'XL', '40', '44', '48', '50-56',\n",
       "       'ONE SIZE', '34-39', '40-44', '45-47', '68-74', '19-21', '22-24',\n",
       "       '25-27', '28-30', '80-86', '5', '6', '7', '8', '46-47', '48-49',\n",
       "       '50-51', '4', '92-98', '104-110', '21-23', '23-25', '20', '22',\n",
       "       '23', '24', '25', '26', '27', '17-19', '104-116', '122-134',\n",
       "       '140-152', '51-52', '52-53', '9', '31-33', '34-36', '37-39',\n",
       "       '16-18', '28-29', '30-31', '32-33', '34-35', '36-37', '55', '65',\n",
       "       '53-55', '56-58', 'S-M', 'M-L', '75'], dtype=object)"
      ]
     },
     "execution_count": 8,
     "metadata": {},
     "output_type": "execute_result"
    }
   ],
   "source": [
    "df2['size']=df2['size'].str.replace('/','-')\n",
    "df2['size'].unique()"
   ]
  },
  {
   "cell_type": "code",
   "execution_count": 9,
   "metadata": {},
   "outputs": [
    {
     "data": {
      "text/html": [
       "<div>\n",
       "<style scoped>\n",
       "    .dataframe tbody tr th:only-of-type {\n",
       "        vertical-align: middle;\n",
       "    }\n",
       "\n",
       "    .dataframe tbody tr th {\n",
       "        vertical-align: top;\n",
       "    }\n",
       "\n",
       "    .dataframe thead th {\n",
       "        text-align: right;\n",
       "    }\n",
       "</style>\n",
       "<table border=\"1\" class=\"dataframe\">\n",
       "  <thead>\n",
       "    <tr style=\"text-align: right;\">\n",
       "      <th></th>\n",
       "      <th>article_no</th>\n",
       "      <th>gender</th>\n",
       "      <th>category</th>\n",
       "      <th>price</th>\n",
       "      <th>size</th>\n",
       "      <th>brand</th>\n",
       "    </tr>\n",
       "  </thead>\n",
       "  <tbody>\n",
       "    <tr>\n",
       "      <th>0</th>\n",
       "      <td>13167118</td>\n",
       "      <td>girl</td>\n",
       "      <td>ni-baby-dresses-skirts</td>\n",
       "      <td>150</td>\n",
       "      <td>50</td>\n",
       "      <td>nameit</td>\n",
       "    </tr>\n",
       "    <tr>\n",
       "      <th>1</th>\n",
       "      <td>13167118</td>\n",
       "      <td>girl</td>\n",
       "      <td>ni-baby-dresses-skirts</td>\n",
       "      <td>150</td>\n",
       "      <td>56</td>\n",
       "      <td>nameit</td>\n",
       "    </tr>\n",
       "  </tbody>\n",
       "</table>\n",
       "</div>"
      ],
      "text/plain": [
       "   article_no gender                category  price size   brand\n",
       "0  13167118    girl   ni-baby-dresses-skirts  150    50   nameit\n",
       "1  13167118    girl   ni-baby-dresses-skirts  150    56   nameit"
      ]
     },
     "execution_count": 9,
     "metadata": {},
     "output_type": "execute_result"
    }
   ],
   "source": [
    "colunms=['article_no','gender','category','price','size','brand']\n",
    "df4=df2[colunms]\n",
    "df4.head(2)"
   ]
  },
  {
   "cell_type": "code",
   "execution_count": 10,
   "metadata": {},
   "outputs": [],
   "source": [
    "dfr=df4\n",
    "dfr.to_csv('nameit_cleaned.csv',index=False) #for rows not showing\n"
   ]
  },
  {
   "cell_type": "code",
   "execution_count": null,
   "metadata": {},
   "outputs": [],
   "source": []
  }
 ],
 "metadata": {
  "kernelspec": {
   "display_name": "Python 3",
   "language": "python",
   "name": "python3"
  },
  "language_info": {
   "codemirror_mode": {
    "name": "ipython",
    "version": 3
   },
   "file_extension": ".py",
   "mimetype": "text/x-python",
   "name": "python",
   "nbconvert_exporter": "python",
   "pygments_lexer": "ipython3",
   "version": "3.5.3"
  }
 },
 "nbformat": 4,
 "nbformat_minor": 4
}

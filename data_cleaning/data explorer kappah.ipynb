{
 "cells": [
  {
   "cell_type": "code",
   "execution_count": 1,
   "metadata": {},
   "outputs": [
    {
     "name": "stdout",
     "output_type": "stream",
     "text": [
      "name          12413\n",
      "brand         12413\n",
      "gender        12413\n",
      "category      12413\n",
      "size          12413\n",
      "price         12413\n",
      "color         12413\n",
      "url           12413\n",
      "img_url       12413\n",
      "article_no    12413\n",
      "blob_url      12413\n",
      "dtype: int64\n"
     ]
    },
    {
     "data": {
      "text/html": [
       "<div>\n",
       "<style scoped>\n",
       "    .dataframe tbody tr th:only-of-type {\n",
       "        vertical-align: middle;\n",
       "    }\n",
       "\n",
       "    .dataframe tbody tr th {\n",
       "        vertical-align: top;\n",
       "    }\n",
       "\n",
       "    .dataframe thead th {\n",
       "        text-align: right;\n",
       "    }\n",
       "</style>\n",
       "<table border=\"1\" class=\"dataframe\">\n",
       "  <thead>\n",
       "    <tr style=\"text-align: right;\">\n",
       "      <th></th>\n",
       "      <th>name</th>\n",
       "      <th>brand</th>\n",
       "      <th>gender</th>\n",
       "      <th>category</th>\n",
       "      <th>size</th>\n",
       "      <th>price</th>\n",
       "      <th>color</th>\n",
       "      <th>url</th>\n",
       "      <th>img_url</th>\n",
       "      <th>article_no</th>\n",
       "      <th>blob_url</th>\n",
       "    </tr>\n",
       "  </thead>\n",
       "  <tbody>\n",
       "    <tr>\n",
       "      <th>0</th>\n",
       "      <td>Mjukisshorts</td>\n",
       "      <td>NEWBIE BABY</td>\n",
       "      <td>boy</td>\n",
       "      <td>Shorts</td>\n",
       "      <td>56</td>\n",
       "      <td>99:-</td>\n",
       "      <td>Grön</td>\n",
       "      <td>https://www.kappahl.com/sv-SE/barn/shorts/mjukisshorts/585208</td>\n",
       "      <td>https://www.kappahl.com/ProductImages/585208/585208_F.jpg?preset=ProductImageMagnified</td>\n",
       "      <td>585208</td>\n",
       "      <td>https://storage.googleapis.com/urbankiddo/kappah/585208</td>\n",
       "    </tr>\n",
       "    <tr>\n",
       "      <th>1</th>\n",
       "      <td>Mjukisshorts</td>\n",
       "      <td>NEWBIE BABY</td>\n",
       "      <td>boy</td>\n",
       "      <td>Shorts</td>\n",
       "      <td>62</td>\n",
       "      <td>99:-</td>\n",
       "      <td>Grön</td>\n",
       "      <td>https://www.kappahl.com/sv-SE/barn/shorts/mjukisshorts/585208</td>\n",
       "      <td>https://www.kappahl.com/ProductImages/585208/585208_F.jpg?preset=ProductImageMagnified</td>\n",
       "      <td>585208</td>\n",
       "      <td>https://storage.googleapis.com/urbankiddo/kappah/585208</td>\n",
       "    </tr>\n",
       "    <tr>\n",
       "      <th>2</th>\n",
       "      <td>Mjukisshorts</td>\n",
       "      <td>NEWBIE BABY</td>\n",
       "      <td>boy</td>\n",
       "      <td>Shorts</td>\n",
       "      <td>68</td>\n",
       "      <td>99:-</td>\n",
       "      <td>Grön</td>\n",
       "      <td>https://www.kappahl.com/sv-SE/barn/shorts/mjukisshorts/585208</td>\n",
       "      <td>https://www.kappahl.com/ProductImages/585208/585208_F.jpg?preset=ProductImageMagnified</td>\n",
       "      <td>585208</td>\n",
       "      <td>https://storage.googleapis.com/urbankiddo/kappah/585208</td>\n",
       "    </tr>\n",
       "  </tbody>\n",
       "</table>\n",
       "</div>"
      ],
      "text/plain": [
       "           name        brand gender category size price color  \\\n",
       "0  Mjukisshorts  NEWBIE BABY  boy    Shorts   56   99:-  Grön   \n",
       "1  Mjukisshorts  NEWBIE BABY  boy    Shorts   62   99:-  Grön   \n",
       "2  Mjukisshorts  NEWBIE BABY  boy    Shorts   68   99:-  Grön   \n",
       "\n",
       "                                                             url  \\\n",
       "0  https://www.kappahl.com/sv-SE/barn/shorts/mjukisshorts/585208   \n",
       "1  https://www.kappahl.com/sv-SE/barn/shorts/mjukisshorts/585208   \n",
       "2  https://www.kappahl.com/sv-SE/barn/shorts/mjukisshorts/585208   \n",
       "\n",
       "                                                                                  img_url  \\\n",
       "0  https://www.kappahl.com/ProductImages/585208/585208_F.jpg?preset=ProductImageMagnified   \n",
       "1  https://www.kappahl.com/ProductImages/585208/585208_F.jpg?preset=ProductImageMagnified   \n",
       "2  https://www.kappahl.com/ProductImages/585208/585208_F.jpg?preset=ProductImageMagnified   \n",
       "\n",
       "   article_no                                                 blob_url  \n",
       "0  585208      https://storage.googleapis.com/urbankiddo/kappah/585208  \n",
       "1  585208      https://storage.googleapis.com/urbankiddo/kappah/585208  \n",
       "2  585208      https://storage.googleapis.com/urbankiddo/kappah/585208  "
      ]
     },
     "execution_count": 1,
     "metadata": {},
     "output_type": "execute_result"
    }
   ],
   "source": [
    "import pandas as pd\n",
    "pd.set_option('display.max_colwidth', -1) #full colunm dispaly\n",
    "\n",
    "result=pd.read_csv(\"Image-Classification-and-Price-prediction/scrapping/data/kappah.csv\", encoding='utf-8',index_col=False)\n",
    "print(result.count())\n",
    "result.head(3)"
   ]
  },
  {
   "cell_type": "code",
   "execution_count": 2,
   "metadata": {},
   "outputs": [
    {
     "data": {
      "text/plain": [
       "name          3279\n",
       "brand         3279\n",
       "gender        3279\n",
       "category      3279\n",
       "size          3279\n",
       "price         3279\n",
       "color         3279\n",
       "url           3279\n",
       "img_url       3279\n",
       "article_no    3279\n",
       "blob_url      3279\n",
       "dtype: int64"
      ]
     },
     "execution_count": 2,
     "metadata": {},
     "output_type": "execute_result"
    }
   ],
   "source": [
    "df=result.drop_duplicates()\n",
    "result.drop_duplicates().count()"
   ]
  },
  {
   "cell_type": "code",
   "execution_count": 5,
   "metadata": {},
   "outputs": [
    {
     "data": {
      "text/plain": [
       "array(['99:-', '199:-', '69,30:- 99:- -30%', '49,50:- 99:- -50%',\n",
       "       '125,30:- 179:- -30%', '129:-', '149:-', '299:-',\n",
       "       '64,50:- 129:- -50%', '74,50:- 149:- -50%', '209,30:- 299:- -30%',\n",
       "       '179:-', '279:-', '249:-', '79,90:-', '90,30:- 129:- -30%',\n",
       "       '55,93:- 79,90:- -30%', '39,95:- 79,90:- -50%',\n",
       "       '44,50:- 149:- -70%', '89,50:- 179:- -50%', '104,30:- 149:- -30%',\n",
       "       '139,30:- 199:- -30%', '139,50:- 279:- -50%',\n",
       "       '195,30:- 279:- -30%', '699:-', '174,30:- 249:- -30%',\n",
       "       '124,50:- 249:- -50%', '160,30:- 229:- -30%', '59,90:-',\n",
       "       '24,95:- 49,90:- -50%', '99,50:- 199:- -50%',\n",
       "       '279,30:- 399:- -30%', '159:-', '111,30:- 159:- -30%', '89,90:-',\n",
       "       '49,90:-', '19,90:-', '69,90:-', '69,50:-', '59,50:-',\n",
       "       '41,93:- 59,90:- -30%', '44,95:- 89,90:- -50%',\n",
       "       '62,93:- 89,90:- -30%', '29,95:- 59,90:- -50%', '139:- 199:- -30%'],\n",
       "      dtype=object)"
      ]
     },
     "execution_count": 5,
     "metadata": {},
     "output_type": "execute_result"
    }
   ],
   "source": [
    "df['price'].unique()"
   ]
  },
  {
   "cell_type": "code",
   "execution_count": 9,
   "metadata": {},
   "outputs": [
    {
     "name": "stderr",
     "output_type": "stream",
     "text": [
      "/usr/local/lib/python3.5/dist-packages/ipykernel_launcher.py:2: SettingWithCopyWarning: \n",
      "A value is trying to be set on a copy of a slice from a DataFrame.\n",
      "Try using .loc[row_indexer,col_indexer] = value instead\n",
      "\n",
      "See the caveats in the documentation: http://pandas.pydata.org/pandas-docs/stable/user_guide/indexing.html#returning-a-view-versus-a-copy\n",
      "  \n",
      "/usr/local/lib/python3.5/dist-packages/ipykernel_launcher.py:3: SettingWithCopyWarning: \n",
      "A value is trying to be set on a copy of a slice from a DataFrame.\n",
      "Try using .loc[row_indexer,col_indexer] = value instead\n",
      "\n",
      "See the caveats in the documentation: http://pandas.pydata.org/pandas-docs/stable/user_guide/indexing.html#returning-a-view-versus-a-copy\n",
      "  This is separate from the ipykernel package so we can avoid doing imports until\n",
      "/usr/local/lib/python3.5/dist-packages/ipykernel_launcher.py:5: SettingWithCopyWarning: \n",
      "A value is trying to be set on a copy of a slice from a DataFrame.\n",
      "Try using .loc[row_indexer,col_indexer] = value instead\n",
      "\n",
      "See the caveats in the documentation: http://pandas.pydata.org/pandas-docs/stable/user_guide/indexing.html#returning-a-view-versus-a-copy\n",
      "  \"\"\"\n",
      "/usr/local/lib/python3.5/dist-packages/ipykernel_launcher.py:6: SettingWithCopyWarning: \n",
      "A value is trying to be set on a copy of a slice from a DataFrame.\n",
      "Try using .loc[row_indexer,col_indexer] = value instead\n",
      "\n",
      "See the caveats in the documentation: http://pandas.pydata.org/pandas-docs/stable/user_guide/indexing.html#returning-a-view-versus-a-copy\n",
      "  \n",
      "/usr/local/lib/python3.5/dist-packages/ipykernel_launcher.py:7: SettingWithCopyWarning: \n",
      "A value is trying to be set on a copy of a slice from a DataFrame.\n",
      "Try using .loc[row_indexer,col_indexer] = value instead\n",
      "\n",
      "See the caveats in the documentation: http://pandas.pydata.org/pandas-docs/stable/user_guide/indexing.html#returning-a-view-versus-a-copy\n",
      "  import sys\n"
     ]
    },
    {
     "data": {
      "text/plain": [
       "array([ 99, 199,  69,  50, 125, 129, 149, 299,  64,  74, 209, 179, 279,\n",
       "       249,  80,  90,  56,  40,  44, 104, 139, 140, 195, 699, 174, 124,\n",
       "       160,  60,  25, 100, 159, 111,  20,  70,  42,  45,  63,  30])"
      ]
     },
     "execution_count": 9,
     "metadata": {},
     "output_type": "execute_result"
    }
   ],
   "source": [
    "df2=df\n",
    "df2['price']=df2['price'].str.split(':-').str.get(0)\n",
    "df2['price']=df2['price'].str.replace(\",\",\".\")\n",
    "\n",
    "df2['price']=df2['price'].astype(float)\n",
    "df2['price']=df2['price'].round()\n",
    "df2['price']=df2['price'].astype(int)\n",
    "df2['price'].unique()\n"
   ]
  },
  {
   "cell_type": "code",
   "execution_count": 16,
   "metadata": {},
   "outputs": [
    {
     "name": "stderr",
     "output_type": "stream",
     "text": [
      "/usr/local/lib/python3.5/dist-packages/ipykernel_launcher.py:1: SettingWithCopyWarning: \n",
      "A value is trying to be set on a copy of a slice from a DataFrame.\n",
      "Try using .loc[row_indexer,col_indexer] = value instead\n",
      "\n",
      "See the caveats in the documentation: http://pandas.pydata.org/pandas-docs/stable/user_guide/indexing.html#returning-a-view-versus-a-copy\n",
      "  \"\"\"Entry point for launching an IPython kernel.\n",
      "/usr/local/lib/python3.5/dist-packages/ipykernel_launcher.py:3: SettingWithCopyWarning: \n",
      "A value is trying to be set on a copy of a slice from a DataFrame.\n",
      "Try using .loc[row_indexer,col_indexer] = value instead\n",
      "\n",
      "See the caveats in the documentation: http://pandas.pydata.org/pandas-docs/stable/user_guide/indexing.html#returning-a-view-versus-a-copy\n",
      "  This is separate from the ipykernel package so we can avoid doing imports until\n",
      "/usr/local/lib/python3.5/dist-packages/ipykernel_launcher.py:4: SettingWithCopyWarning: \n",
      "A value is trying to be set on a copy of a slice from a DataFrame.\n",
      "Try using .loc[row_indexer,col_indexer] = value instead\n",
      "\n",
      "See the caveats in the documentation: http://pandas.pydata.org/pandas-docs/stable/user_guide/indexing.html#returning-a-view-versus-a-copy\n",
      "  after removing the cwd from sys.path.\n",
      "/usr/local/lib/python3.5/dist-packages/ipykernel_launcher.py:5: SettingWithCopyWarning: \n",
      "A value is trying to be set on a copy of a slice from a DataFrame.\n",
      "Try using .loc[row_indexer,col_indexer] = value instead\n",
      "\n",
      "See the caveats in the documentation: http://pandas.pydata.org/pandas-docs/stable/user_guide/indexing.html#returning-a-view-versus-a-copy\n",
      "  \"\"\"\n"
     ]
    },
    {
     "data": {
      "text/plain": [
       "array(['56', '62', '68', '74', '80', '86', '62-68', '74-80', '86-92',\n",
       "       'Finnsibutik', '44', '50', '50-56', '98-104', '110-116', '122-128',\n",
       "       'ONESIZE', '13-14', '15-16', '17-18', '19-20', '40-42', '44-46',\n",
       "       '48-50', '92', '10-12', '13-15', '16-18', '52-54', '00-01Y',\n",
       "       '01-02Y', '00-03M', '04-06M', '38-40', '42-44', '00-06M', '02-04Y',\n",
       "       '04-06Y', '19-22'], dtype=object)"
      ]
     },
     "execution_count": 16,
     "metadata": {},
     "output_type": "execute_result"
    }
   ],
   "source": [
    "\n",
    "df2['size']=df2['size'].str.split('- Ej i lager').str.get(0)\n",
    "\n",
    "df2['size']=df2['size'].str.replace(\"/\",\"-\")\n",
    "df2['size']=df2['size'].str.replace(\" \",\"\")\n",
    "df2['size']=df2['size'].str.replace(\"cl\",\"\")\n",
    "\n",
    "\n",
    "df2['size'].unique()"
   ]
  },
  {
   "cell_type": "code",
   "execution_count": 19,
   "metadata": {},
   "outputs": [
    {
     "data": {
      "text/html": [
       "<div>\n",
       "<style scoped>\n",
       "    .dataframe tbody tr th:only-of-type {\n",
       "        vertical-align: middle;\n",
       "    }\n",
       "\n",
       "    .dataframe tbody tr th {\n",
       "        vertical-align: top;\n",
       "    }\n",
       "\n",
       "    .dataframe thead th {\n",
       "        text-align: right;\n",
       "    }\n",
       "</style>\n",
       "<table border=\"1\" class=\"dataframe\">\n",
       "  <thead>\n",
       "    <tr style=\"text-align: right;\">\n",
       "      <th></th>\n",
       "      <th>name</th>\n",
       "      <th>brand</th>\n",
       "      <th>gender</th>\n",
       "      <th>category</th>\n",
       "      <th>size</th>\n",
       "      <th>price</th>\n",
       "      <th>color</th>\n",
       "      <th>url</th>\n",
       "      <th>img_url</th>\n",
       "      <th>article_no</th>\n",
       "      <th>blob_url</th>\n",
       "    </tr>\n",
       "  </thead>\n",
       "  <tbody>\n",
       "    <tr>\n",
       "      <th>0</th>\n",
       "      <td>Mjukisshorts</td>\n",
       "      <td>NEWBIE BABY</td>\n",
       "      <td>boy</td>\n",
       "      <td>Shorts</td>\n",
       "      <td>56</td>\n",
       "      <td>99</td>\n",
       "      <td>Grön</td>\n",
       "      <td>https://www.kappahl.com/sv-SE/barn/shorts/mjukisshorts/585208</td>\n",
       "      <td>https://www.kappahl.com/ProductImages/585208/585208_F.jpg?preset=ProductImageMagnified</td>\n",
       "      <td>585208</td>\n",
       "      <td>https://storage.googleapis.com/urbankiddo/kappah/585208</td>\n",
       "    </tr>\n",
       "    <tr>\n",
       "      <th>1</th>\n",
       "      <td>Mjukisshorts</td>\n",
       "      <td>NEWBIE BABY</td>\n",
       "      <td>boy</td>\n",
       "      <td>Shorts</td>\n",
       "      <td>62</td>\n",
       "      <td>99</td>\n",
       "      <td>Grön</td>\n",
       "      <td>https://www.kappahl.com/sv-SE/barn/shorts/mjukisshorts/585208</td>\n",
       "      <td>https://www.kappahl.com/ProductImages/585208/585208_F.jpg?preset=ProductImageMagnified</td>\n",
       "      <td>585208</td>\n",
       "      <td>https://storage.googleapis.com/urbankiddo/kappah/585208</td>\n",
       "    </tr>\n",
       "  </tbody>\n",
       "</table>\n",
       "</div>"
      ],
      "text/plain": [
       "           name        brand gender category size  price color  \\\n",
       "0  Mjukisshorts  NEWBIE BABY  boy    Shorts   56   99     Grön   \n",
       "1  Mjukisshorts  NEWBIE BABY  boy    Shorts   62   99     Grön   \n",
       "\n",
       "                                                             url  \\\n",
       "0  https://www.kappahl.com/sv-SE/barn/shorts/mjukisshorts/585208   \n",
       "1  https://www.kappahl.com/sv-SE/barn/shorts/mjukisshorts/585208   \n",
       "\n",
       "                                                                                  img_url  \\\n",
       "0  https://www.kappahl.com/ProductImages/585208/585208_F.jpg?preset=ProductImageMagnified   \n",
       "1  https://www.kappahl.com/ProductImages/585208/585208_F.jpg?preset=ProductImageMagnified   \n",
       "\n",
       "   article_no                                                 blob_url  \n",
       "0  585208      https://storage.googleapis.com/urbankiddo/kappah/585208  \n",
       "1  585208      https://storage.googleapis.com/urbankiddo/kappah/585208  "
      ]
     },
     "execution_count": 19,
     "metadata": {},
     "output_type": "execute_result"
    }
   ],
   "source": [
    "df3=df2[df2['size']!='Finnsibutik']\n",
    "df3.head(2)"
   ]
  },
  {
   "cell_type": "code",
   "execution_count": 21,
   "metadata": {},
   "outputs": [
    {
     "data": {
      "text/html": [
       "<div>\n",
       "<style scoped>\n",
       "    .dataframe tbody tr th:only-of-type {\n",
       "        vertical-align: middle;\n",
       "    }\n",
       "\n",
       "    .dataframe tbody tr th {\n",
       "        vertical-align: top;\n",
       "    }\n",
       "\n",
       "    .dataframe thead th {\n",
       "        text-align: right;\n",
       "    }\n",
       "</style>\n",
       "<table border=\"1\" class=\"dataframe\">\n",
       "  <thead>\n",
       "    <tr style=\"text-align: right;\">\n",
       "      <th></th>\n",
       "      <th>article_no</th>\n",
       "      <th>gender</th>\n",
       "      <th>category</th>\n",
       "      <th>price</th>\n",
       "      <th>size</th>\n",
       "      <th>brand</th>\n",
       "    </tr>\n",
       "  </thead>\n",
       "  <tbody>\n",
       "    <tr>\n",
       "      <th>0</th>\n",
       "      <td>585208</td>\n",
       "      <td>boy</td>\n",
       "      <td>Shorts</td>\n",
       "      <td>99</td>\n",
       "      <td>56</td>\n",
       "      <td>NEWBIE BABY</td>\n",
       "    </tr>\n",
       "    <tr>\n",
       "      <th>1</th>\n",
       "      <td>585208</td>\n",
       "      <td>boy</td>\n",
       "      <td>Shorts</td>\n",
       "      <td>99</td>\n",
       "      <td>62</td>\n",
       "      <td>NEWBIE BABY</td>\n",
       "    </tr>\n",
       "  </tbody>\n",
       "</table>\n",
       "</div>"
      ],
      "text/plain": [
       "   article_no gender category  price size        brand\n",
       "0  585208      boy    Shorts   99     56   NEWBIE BABY\n",
       "1  585208      boy    Shorts   99     62   NEWBIE BABY"
      ]
     },
     "execution_count": 21,
     "metadata": {},
     "output_type": "execute_result"
    }
   ],
   "source": [
    "colunms=['article_no','gender','category','price','size','brand']\n",
    "df4=df3[colunms]\n",
    "df4.head(2)"
   ]
  },
  {
   "cell_type": "code",
   "execution_count": 22,
   "metadata": {},
   "outputs": [],
   "source": [
    "dfr=df4\n",
    "dfr.to_csv('kappah_cleaned.csv',index=False) #for rows not showing\n"
   ]
  },
  {
   "cell_type": "code",
   "execution_count": null,
   "metadata": {},
   "outputs": [],
   "source": []
  }
 ],
 "metadata": {
  "kernelspec": {
   "display_name": "Python 3",
   "language": "python",
   "name": "python3"
  },
  "language_info": {
   "codemirror_mode": {
    "name": "ipython",
    "version": 3
   },
   "file_extension": ".py",
   "mimetype": "text/x-python",
   "name": "python",
   "nbconvert_exporter": "python",
   "pygments_lexer": "ipython3",
   "version": "3.5.3"
  }
 },
 "nbformat": 4,
 "nbformat_minor": 4
}

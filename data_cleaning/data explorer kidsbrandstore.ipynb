{
 "cells": [
  {
   "cell_type": "code",
   "execution_count": 1,
   "metadata": {},
   "outputs": [
    {
     "name": "stdout",
     "output_type": "stream",
     "text": [
      "name          8969\n",
      "brand         8969\n",
      "gender        8969\n",
      "category      8969\n",
      "size          8969\n",
      "price         8969\n",
      "url           8969\n",
      "img_url       8969\n",
      "article_no    8969\n",
      "blob_url      8969\n",
      "dtype: int64\n"
     ]
    },
    {
     "data": {
      "text/html": [
       "<div>\n",
       "<style scoped>\n",
       "    .dataframe tbody tr th:only-of-type {\n",
       "        vertical-align: middle;\n",
       "    }\n",
       "\n",
       "    .dataframe tbody tr th {\n",
       "        vertical-align: top;\n",
       "    }\n",
       "\n",
       "    .dataframe thead th {\n",
       "        text-align: right;\n",
       "    }\n",
       "</style>\n",
       "<table border=\"1\" class=\"dataframe\">\n",
       "  <thead>\n",
       "    <tr style=\"text-align: right;\">\n",
       "      <th></th>\n",
       "      <th>name</th>\n",
       "      <th>brand</th>\n",
       "      <th>gender</th>\n",
       "      <th>category</th>\n",
       "      <th>size</th>\n",
       "      <th>price</th>\n",
       "      <th>url</th>\n",
       "      <th>img_url</th>\n",
       "      <th>article_no</th>\n",
       "      <th>blob_url</th>\n",
       "    </tr>\n",
       "  </thead>\n",
       "  <tbody>\n",
       "    <tr>\n",
       "      <th>0</th>\n",
       "      <td>ESSENTIAL SCANTON SLIM</td>\n",
       "      <td>Tommy Hilfiger</td>\n",
       "      <td>boy</td>\n",
       "      <td>BYXOR</td>\n",
       "      <td>10 år</td>\n",
       "      <td>\\n599 SEK749 SEK</td>\n",
       "      <td>https://kidsbrandstore.se/tommy-hilfiger-essential-scanton-slim-35919</td>\n",
       "      <td>https://d1zubn5gsgrqpe.cloudfront.net/images/product/thumb/tommy-hilfiger_byxor_bla_barnklader_35919-gnxv.jpg</td>\n",
       "      <td>product-entry-id-35919</td>\n",
       "      <td>https://storage.googleapis.com/urbankiddo/kidsbrandstore/product-entry-id-35919</td>\n",
       "    </tr>\n",
       "    <tr>\n",
       "      <th>1</th>\n",
       "      <td>ESSENTIAL SCANTON SLIM</td>\n",
       "      <td>Tommy Hilfiger</td>\n",
       "      <td>boy</td>\n",
       "      <td>BYXOR</td>\n",
       "      <td>12 år</td>\n",
       "      <td>\\n599 SEK749 SEK</td>\n",
       "      <td>https://kidsbrandstore.se/tommy-hilfiger-essential-scanton-slim-35919</td>\n",
       "      <td>https://d1zubn5gsgrqpe.cloudfront.net/images/product/thumb/tommy-hilfiger_byxor_bla_barnklader_35919-gnxv.jpg</td>\n",
       "      <td>product-entry-id-35919</td>\n",
       "      <td>https://storage.googleapis.com/urbankiddo/kidsbrandstore/product-entry-id-35919</td>\n",
       "    </tr>\n",
       "    <tr>\n",
       "      <th>2</th>\n",
       "      <td>ESSENTIAL SCANTON SLIM</td>\n",
       "      <td>Tommy Hilfiger</td>\n",
       "      <td>boy</td>\n",
       "      <td>BYXOR</td>\n",
       "      <td>14 år</td>\n",
       "      <td>\\n599 SEK749 SEK</td>\n",
       "      <td>https://kidsbrandstore.se/tommy-hilfiger-essential-scanton-slim-35919</td>\n",
       "      <td>https://d1zubn5gsgrqpe.cloudfront.net/images/product/thumb/tommy-hilfiger_byxor_bla_barnklader_35919-gnxv.jpg</td>\n",
       "      <td>product-entry-id-35919</td>\n",
       "      <td>https://storage.googleapis.com/urbankiddo/kidsbrandstore/product-entry-id-35919</td>\n",
       "    </tr>\n",
       "  </tbody>\n",
       "</table>\n",
       "</div>"
      ],
      "text/plain": [
       "                     name           brand gender category   size  \\\n",
       "0  ESSENTIAL SCANTON SLIM  Tommy Hilfiger  boy    BYXOR    10 år   \n",
       "1  ESSENTIAL SCANTON SLIM  Tommy Hilfiger  boy    BYXOR    12 år   \n",
       "2  ESSENTIAL SCANTON SLIM  Tommy Hilfiger  boy    BYXOR    14 år   \n",
       "\n",
       "               price  \\\n",
       "0  \\n599 SEK749 SEK    \n",
       "1  \\n599 SEK749 SEK    \n",
       "2  \\n599 SEK749 SEK    \n",
       "\n",
       "                                                                     url  \\\n",
       "0  https://kidsbrandstore.se/tommy-hilfiger-essential-scanton-slim-35919   \n",
       "1  https://kidsbrandstore.se/tommy-hilfiger-essential-scanton-slim-35919   \n",
       "2  https://kidsbrandstore.se/tommy-hilfiger-essential-scanton-slim-35919   \n",
       "\n",
       "                                                                                                         img_url  \\\n",
       "0  https://d1zubn5gsgrqpe.cloudfront.net/images/product/thumb/tommy-hilfiger_byxor_bla_barnklader_35919-gnxv.jpg   \n",
       "1  https://d1zubn5gsgrqpe.cloudfront.net/images/product/thumb/tommy-hilfiger_byxor_bla_barnklader_35919-gnxv.jpg   \n",
       "2  https://d1zubn5gsgrqpe.cloudfront.net/images/product/thumb/tommy-hilfiger_byxor_bla_barnklader_35919-gnxv.jpg   \n",
       "\n",
       "               article_no  \\\n",
       "0  product-entry-id-35919   \n",
       "1  product-entry-id-35919   \n",
       "2  product-entry-id-35919   \n",
       "\n",
       "                                                                          blob_url  \n",
       "0  https://storage.googleapis.com/urbankiddo/kidsbrandstore/product-entry-id-35919  \n",
       "1  https://storage.googleapis.com/urbankiddo/kidsbrandstore/product-entry-id-35919  \n",
       "2  https://storage.googleapis.com/urbankiddo/kidsbrandstore/product-entry-id-35919  "
      ]
     },
     "execution_count": 1,
     "metadata": {},
     "output_type": "execute_result"
    }
   ],
   "source": [
    "import pandas as pd\n",
    "pd.set_option('display.max_colwidth', -1) #full colunm dispaly\n",
    "\n",
    "result=pd.read_csv(\"Image-Classification-and-Price-prediction/scrapping/data/kidsbrandstore.csv\", encoding='utf-8',index_col=False)\n",
    "print(result.count())\n",
    "result.head(3)"
   ]
  },
  {
   "cell_type": "code",
   "execution_count": 2,
   "metadata": {},
   "outputs": [
    {
     "data": {
      "text/plain": [
       "name          8969\n",
       "brand         8969\n",
       "gender        8969\n",
       "category      8969\n",
       "size          8969\n",
       "price         8969\n",
       "url           8969\n",
       "img_url       8969\n",
       "article_no    8969\n",
       "blob_url      8969\n",
       "dtype: int64"
      ]
     },
     "execution_count": 2,
     "metadata": {},
     "output_type": "execute_result"
    }
   ],
   "source": [
    "df=result.drop_duplicates()\n",
    "result.drop_duplicates().count()"
   ]
  },
  {
   "cell_type": "code",
   "execution_count": 5,
   "metadata": {},
   "outputs": [
    {
     "data": {
      "text/plain": [
       "array(['599', '319', '959', '799', '439', '559', '639', '479', '537',\n",
       "       '519', '299', '389', '359', '539', '318', '351', '317', '239',\n",
       "       '419', '399', '227', '280', '180', '240', '503', '719', '679',\n",
       "       '329', '449', '340', '549', '314', '249', '209', '269', '477',\n",
       "       '315', '417', '699', '749', '179', '149', '221', '569', '200',\n",
       "       '260', '220', '369', '258', '70', '99', '83', '53', '59', '119',\n",
       "       '759', '897', '1', '899', '558', '879', '509', '600', '659', '779',\n",
       "       '2', '839', '410', '869', '777', '640', '3', '629', '919', '689',\n",
       "       '678', '837', '598', '289', '320', '358', '716', '287', '597',\n",
       "       '500', '250', '387', '375', '140', '60', '556', '251', '300',\n",
       "       '516', '160', '349', '229', '237', '285', '137', '100', '107',\n",
       "       '199', '489', '657', '167', '155', '169', '270', '30', '20', '80',\n",
       "       '263', '279', '215', '39', '520', '623', '90', '701', '717', '929',\n",
       "       '398', '420', '380', '357', '34', '849', '999', '327', '278',\n",
       "       '636', '190', '257', '587', '467', '343', '957', '207', '40'],\n",
       "      dtype=object)"
      ]
     },
     "execution_count": 5,
     "metadata": {},
     "output_type": "execute_result"
    }
   ],
   "source": [
    "df2=df\n",
    "df2['price']=df2['price'].str.strip()\n",
    "df2['price']=df2['price'].str.split(' ').str.get(0)\n",
    "df2['price'].unique()"
   ]
  },
  {
   "cell_type": "code",
   "execution_count": 6,
   "metadata": {},
   "outputs": [
    {
     "data": {
      "text/plain": [
       "array(['10 år', '12 år', '14 år', '16 år', 'S', 'M', 'L', 'XL', '130 cm',\n",
       "       '140 cm', '150 cm', '160 cm', '170 cm', '134-140 cm', '146-152 cm',\n",
       "       '158-164 cm', '176 cm', 'Size 8', 'Size 10', 'Size 12', 'Size 14',\n",
       "       'Size 16', 'Size 18', 'Size 20', '11 år', '13 år', '15 år',\n",
       "       '8-9 år', '10-11 år', '12-13 år', '14-15 år', '8-10 år',\n",
       "       '10-12 år', '13-15 år', '128 cm', '152 cm', '164 cm', '23', '24',\n",
       "       '25', '26', '27', '28', '29', '15-16 år', '8 år', '134 cm',\n",
       "       '146 cm', '158 cm', 'XXL', '122-128 cm', '170-176 cm', 'One size',\n",
       "       '37-39', '40-45', '36-40', '40-46', 'XS', '140-146 cm',\n",
       "       '152-158 cm', '164-170 cm', '16-17 år', '152-164', '7-8 år',\n",
       "       '9-10 år', '11-12 år', '13-14 år', '12-14 år', '14-16 år',\n",
       "       '120 cm', '30', '25/140', '26/146', '28/158', '30/170', 'L/XL',\n",
       "       'Rött snöre', 'Vitt snöre', '90 ', '85', '28 ', '32 ', '110 ',\n",
       "       '34-36', '35-38', '39-42', 'Size 7', '80 '], dtype=object)"
      ]
     },
     "execution_count": 6,
     "metadata": {},
     "output_type": "execute_result"
    }
   ],
   "source": [
    "df2['size'].unique()"
   ]
  },
  {
   "cell_type": "code",
   "execution_count": 20,
   "metadata": {},
   "outputs": [],
   "source": [
    "df3=df2\n",
    "df3['size']=df3['size'].str.replace(' år','Y')\n",
    "df3['size']=df3['size'].str.replace('Size ','')\n",
    "df3['size']=df3['size'].str.replace(' cm','')\n",
    "df3['size']=df3['size'].str.replace('L/XL','L-XL')\n",
    "\n"
   ]
  },
  {
   "cell_type": "code",
   "execution_count": 21,
   "metadata": {},
   "outputs": [
    {
     "data": {
      "text/plain": [
       "array(['10Y', '12Y', '14Y', '16Y', 'S', 'M', 'L', 'XL', '130', '140',\n",
       "       '150', '160', '170', '134-140', '146-152', '158-164', '176', '8',\n",
       "       '10', '12', '14', '16', '18', '20', '11Y', '13Y', '15Y', '8-9Y',\n",
       "       '10-11Y', '12-13Y', '14-15Y', '8-10Y', '10-12Y', '13-15Y', '128',\n",
       "       '152', '164', '23', '24', '25', '26', '27', '28', '29', '15-16Y',\n",
       "       '8Y', '134', '146', '158', 'XXL', '122-128', '170-176', 'One size',\n",
       "       '37-39', '40-45', '36-40', '40-46', 'XS', '140-146', '152-158',\n",
       "       '164-170', '16-17Y', '152-164', '7-8Y', '9-10Y', '11-12Y',\n",
       "       '13-14Y', '12-14Y', '14-16Y', '120', '30', '25/140', '26/146',\n",
       "       '28/158', '30/170', 'L-XL', '90 ', '85', '28 ', '32 ', '110 ',\n",
       "       '34-36', '35-38', '39-42', '7', '80 '], dtype=object)"
      ]
     },
     "execution_count": 21,
     "metadata": {},
     "output_type": "execute_result"
    }
   ],
   "source": [
    "df3=df3[df3['size']!='Rött snöre']\n",
    "df3=df3[df3['size']!='Vitt snöre']\n",
    "df3['size'].unique()\n"
   ]
  },
  {
   "cell_type": "code",
   "execution_count": 9,
   "metadata": {},
   "outputs": [
    {
     "data": {
      "text/html": [
       "<div>\n",
       "<style scoped>\n",
       "    .dataframe tbody tr th:only-of-type {\n",
       "        vertical-align: middle;\n",
       "    }\n",
       "\n",
       "    .dataframe tbody tr th {\n",
       "        vertical-align: top;\n",
       "    }\n",
       "\n",
       "    .dataframe thead th {\n",
       "        text-align: right;\n",
       "    }\n",
       "</style>\n",
       "<table border=\"1\" class=\"dataframe\">\n",
       "  <thead>\n",
       "    <tr style=\"text-align: right;\">\n",
       "      <th></th>\n",
       "      <th>name</th>\n",
       "      <th>brand</th>\n",
       "      <th>gender</th>\n",
       "      <th>category</th>\n",
       "      <th>size</th>\n",
       "      <th>price</th>\n",
       "      <th>url</th>\n",
       "      <th>img_url</th>\n",
       "      <th>article_no</th>\n",
       "      <th>blob_url</th>\n",
       "    </tr>\n",
       "  </thead>\n",
       "  <tbody>\n",
       "    <tr>\n",
       "      <th>1268</th>\n",
       "      <td>Maur gilet</td>\n",
       "      <td>Garcia</td>\n",
       "      <td>boy</td>\n",
       "      <td>JACKOR/VäSTAR</td>\n",
       "      <td>140-146 cm</td>\n",
       "      <td>299</td>\n",
       "      <td>https://kidsbrandstore.se/garcia-maur-gilet-33722</td>\n",
       "      <td>https://d1zubn5gsgrqpe.cloudfront.net/images/product/thumb/garcia_jackor-vastar_-ingen-_barnklader_33722-73rr.jpg</td>\n",
       "      <td>product-entry-id-33722</td>\n",
       "      <td>https://storage.googleapis.com/urbankiddo/kidsbrandstore/product-entry-id-33722</td>\n",
       "    </tr>\n",
       "    <tr>\n",
       "      <th>1544</th>\n",
       "      <td>Boys Jacket</td>\n",
       "      <td>Garcia</td>\n",
       "      <td>boy</td>\n",
       "      <td>JACKOR/VäSTAR</td>\n",
       "      <td>140-146 cm</td>\n",
       "      <td>659</td>\n",
       "      <td>https://kidsbrandstore.se/garcia-boys-jacket-30809</td>\n",
       "      <td>https://d1zubn5gsgrqpe.cloudfront.net/images/product/thumb/garcia_jackor-vastar_svart_barnklader_30809-xzp0.jpg</td>\n",
       "      <td>product-entry-id-30809</td>\n",
       "      <td>https://storage.googleapis.com/urbankiddo/kidsbrandstore/product-entry-id-30809</td>\n",
       "    </tr>\n",
       "    <tr>\n",
       "      <th>2882</th>\n",
       "      <td>BOYS SHIRT</td>\n",
       "      <td>Garcia</td>\n",
       "      <td>boy</td>\n",
       "      <td>SKJORTOR</td>\n",
       "      <td>140-146 cm</td>\n",
       "      <td>239</td>\n",
       "      <td>https://kidsbrandstore.se/garcia-boys-shirt-35645</td>\n",
       "      <td>https://d1zubn5gsgrqpe.cloudfront.net/images/product/thumb/garcia_skjortor_bla_barnklader_35645-fzj_.jpg</td>\n",
       "      <td>product-entry-id-35645</td>\n",
       "      <td>https://storage.googleapis.com/urbankiddo/kidsbrandstore/product-entry-id-35645</td>\n",
       "    </tr>\n",
       "    <tr>\n",
       "      <th>5855</th>\n",
       "      <td>GIRLS JACKET</td>\n",
       "      <td>Garcia</td>\n",
       "      <td>girl</td>\n",
       "      <td>JACKOR/VäSTAR</td>\n",
       "      <td>140-146 cm</td>\n",
       "      <td>299</td>\n",
       "      <td>https://kidsbrandstore.se/garcia-girls-jacket-35650</td>\n",
       "      <td>https://d1zubn5gsgrqpe.cloudfront.net/images/product/thumb/garcia_jackor-vastar_vit_barnklader_35650-1019.jpg</td>\n",
       "      <td>product-entry-id-35650</td>\n",
       "      <td>https://storage.googleapis.com/urbankiddo/kidsbrandstore/product-entry-id-35650</td>\n",
       "    </tr>\n",
       "    <tr>\n",
       "      <th>6276</th>\n",
       "      <td>Chiara gilet</td>\n",
       "      <td>Garcia</td>\n",
       "      <td>girl</td>\n",
       "      <td>JACKOR/VäSTAR</td>\n",
       "      <td>140-146 cm</td>\n",
       "      <td>299</td>\n",
       "      <td>https://kidsbrandstore.se/garcia-chiara-gilet-33719</td>\n",
       "      <td>https://d1zubn5gsgrqpe.cloudfront.net/images/product/thumb/garcia_jackor-vastar_bla_barnklader_33719-e9_o.jpg</td>\n",
       "      <td>product-entry-id-33719</td>\n",
       "      <td>https://storage.googleapis.com/urbankiddo/kidsbrandstore/product-entry-id-33719</td>\n",
       "    </tr>\n",
       "  </tbody>\n",
       "</table>\n",
       "</div>"
      ],
      "text/plain": [
       "              name   brand gender       category        size price  \\\n",
       "1268  Maur gilet    Garcia  boy    JACKOR/VäSTAR  140-146 cm  299    \n",
       "1544  Boys Jacket   Garcia  boy    JACKOR/VäSTAR  140-146 cm  659    \n",
       "2882  BOYS SHIRT    Garcia  boy    SKJORTOR       140-146 cm  239    \n",
       "5855  GIRLS JACKET  Garcia  girl   JACKOR/VäSTAR  140-146 cm  299    \n",
       "6276  Chiara gilet  Garcia  girl   JACKOR/VäSTAR  140-146 cm  299    \n",
       "\n",
       "                                                      url  \\\n",
       "1268  https://kidsbrandstore.se/garcia-maur-gilet-33722     \n",
       "1544  https://kidsbrandstore.se/garcia-boys-jacket-30809    \n",
       "2882  https://kidsbrandstore.se/garcia-boys-shirt-35645     \n",
       "5855  https://kidsbrandstore.se/garcia-girls-jacket-35650   \n",
       "6276  https://kidsbrandstore.se/garcia-chiara-gilet-33719   \n",
       "\n",
       "                                                                                                                img_url  \\\n",
       "1268  https://d1zubn5gsgrqpe.cloudfront.net/images/product/thumb/garcia_jackor-vastar_-ingen-_barnklader_33722-73rr.jpg   \n",
       "1544  https://d1zubn5gsgrqpe.cloudfront.net/images/product/thumb/garcia_jackor-vastar_svart_barnklader_30809-xzp0.jpg     \n",
       "2882  https://d1zubn5gsgrqpe.cloudfront.net/images/product/thumb/garcia_skjortor_bla_barnklader_35645-fzj_.jpg            \n",
       "5855  https://d1zubn5gsgrqpe.cloudfront.net/images/product/thumb/garcia_jackor-vastar_vit_barnklader_35650-1019.jpg       \n",
       "6276  https://d1zubn5gsgrqpe.cloudfront.net/images/product/thumb/garcia_jackor-vastar_bla_barnklader_33719-e9_o.jpg       \n",
       "\n",
       "                  article_no  \\\n",
       "1268  product-entry-id-33722   \n",
       "1544  product-entry-id-30809   \n",
       "2882  product-entry-id-35645   \n",
       "5855  product-entry-id-35650   \n",
       "6276  product-entry-id-33719   \n",
       "\n",
       "                                                                             blob_url  \n",
       "1268  https://storage.googleapis.com/urbankiddo/kidsbrandstore/product-entry-id-33722  \n",
       "1544  https://storage.googleapis.com/urbankiddo/kidsbrandstore/product-entry-id-30809  \n",
       "2882  https://storage.googleapis.com/urbankiddo/kidsbrandstore/product-entry-id-35645  \n",
       "5855  https://storage.googleapis.com/urbankiddo/kidsbrandstore/product-entry-id-35650  \n",
       "6276  https://storage.googleapis.com/urbankiddo/kidsbrandstore/product-entry-id-33719  "
      ]
     },
     "execution_count": 9,
     "metadata": {},
     "output_type": "execute_result"
    }
   ],
   "source": [
    "df3[df3['size']=='140-146 cm']"
   ]
  },
  {
   "cell_type": "code",
   "execution_count": 22,
   "metadata": {},
   "outputs": [
    {
     "data": {
      "text/html": [
       "<div>\n",
       "<style scoped>\n",
       "    .dataframe tbody tr th:only-of-type {\n",
       "        vertical-align: middle;\n",
       "    }\n",
       "\n",
       "    .dataframe tbody tr th {\n",
       "        vertical-align: top;\n",
       "    }\n",
       "\n",
       "    .dataframe thead th {\n",
       "        text-align: right;\n",
       "    }\n",
       "</style>\n",
       "<table border=\"1\" class=\"dataframe\">\n",
       "  <thead>\n",
       "    <tr style=\"text-align: right;\">\n",
       "      <th></th>\n",
       "      <th>article_no</th>\n",
       "      <th>gender</th>\n",
       "      <th>category</th>\n",
       "      <th>price</th>\n",
       "      <th>size</th>\n",
       "      <th>brand</th>\n",
       "    </tr>\n",
       "  </thead>\n",
       "  <tbody>\n",
       "    <tr>\n",
       "      <th>0</th>\n",
       "      <td>product-entry-id-35919</td>\n",
       "      <td>boy</td>\n",
       "      <td>BYXOR</td>\n",
       "      <td>599</td>\n",
       "      <td>10Y</td>\n",
       "      <td>Tommy Hilfiger</td>\n",
       "    </tr>\n",
       "    <tr>\n",
       "      <th>1</th>\n",
       "      <td>product-entry-id-35919</td>\n",
       "      <td>boy</td>\n",
       "      <td>BYXOR</td>\n",
       "      <td>599</td>\n",
       "      <td>12Y</td>\n",
       "      <td>Tommy Hilfiger</td>\n",
       "    </tr>\n",
       "  </tbody>\n",
       "</table>\n",
       "</div>"
      ],
      "text/plain": [
       "               article_no gender category price size           brand\n",
       "0  product-entry-id-35919  boy    BYXOR    599   10Y  Tommy Hilfiger\n",
       "1  product-entry-id-35919  boy    BYXOR    599   12Y  Tommy Hilfiger"
      ]
     },
     "execution_count": 22,
     "metadata": {},
     "output_type": "execute_result"
    }
   ],
   "source": [
    "colunms=['article_no','gender','category','price','size','brand']\n",
    "df4=df3[colunms]\n",
    "df4.head(2)"
   ]
  },
  {
   "cell_type": "code",
   "execution_count": null,
   "metadata": {},
   "outputs": [],
   "source": [
    "\n",
    "df4=df4.rename(columns={'article_no':'article_no','gender':'gender','category':'category','price':'new_price','size':'size','brand':'brand'})\n",
    "df4.head(2)"
   ]
  },
  {
   "cell_type": "code",
   "execution_count": 24,
   "metadata": {},
   "outputs": [],
   "source": [
    "dfr=df4\n",
    "dfr.to_csv('kidsbrandstore_cleaned.csv',index=False) #for rows not showing\n"
   ]
  },
  {
   "cell_type": "code",
   "execution_count": null,
   "metadata": {},
   "outputs": [],
   "source": []
  }
 ],
 "metadata": {
  "kernelspec": {
   "display_name": "Python 3",
   "language": "python",
   "name": "python3"
  },
  "language_info": {
   "codemirror_mode": {
    "name": "ipython",
    "version": 3
   },
   "file_extension": ".py",
   "mimetype": "text/x-python",
   "name": "python",
   "nbconvert_exporter": "python",
   "pygments_lexer": "ipython3",
   "version": "3.5.3"
  }
 },
 "nbformat": 4,
 "nbformat_minor": 4
}

{
 "cells": [
  {
   "cell_type": "code",
   "execution_count": null,
   "metadata": {},
   "outputs": [],
   "source": [
    "import pandas as pd\n",
    "df=pd.read_csv(\"cleaning_brand.csv\")\n",
    "dfr=pd.read_csv(\"raw_data.csv\")\n",
    "df2=df\n",
    "df2['size']=df2['size'].str.lower()\n",
    "df2['size']=df2['size'].replace(\" \",\"\")\n",
    "df2['size']=df2['size'].str.upper()\n",
    "df2['size']=df2['size'].str.strip(\"EU\")\n",
    "df2['size']=df2['size'].replace(\"ONESIZE\",\"ONE SIZE\")\n",
    "df2['size']=df2['size'].replace(\"ONESIZ\",\"ONE SIZE\")\n",
    "df2['size']=df2['size'].replace(\"ONE\",\"ONE SIZE\")\n",
    "df2['size']=df2['size'].replace(\"ONE SIZ\",\"ONE SIZE\")\n",
    "\n",
    "df2['size']=df2['size'].replace(\"56/1M\",\"56\")\n",
    "df2['size']=df2['size'].replace(\"98/3Y\",\"98\")\n",
    "df2['size']=df2['size'].replace(\"104/4Y\",\"104\")\n",
    "df2['size']=df2['size'].replace(\"110/5Y\",\"110\")\n",
    "df2['size']=df2['size'].replace(\"116/6Y\",\"116\")\n",
    "df2['size']=df2['size'].replace(\"122/7Y\",\"122\")\n",
    "df2['size']=df2['size'].replace(\"128/8Y\",\"128\")\n",
    "df2['size']=df2['size'].replace(\"134/9Y\",\"134\")\n",
    "df2['size']=df2['size'].replace(\"146/11Y\",\"146\")\n",
    "df2['size']=df2['size'].replace(\"152/12Y\",\"152\")\n",
    "df2['size']=df2['size'].replace(\"140/10Y\",\"140\")\n",
    "df2['size']=df2['size'].replace(\"104/4Y\",\"104\")\n",
    "df2['size']=df2['size'].replace(\"164/14Y\",\"164\")\n",
    "df2['size']=df2['size'].replace(\"176/16Y\",\"176\")\n",
    "df2['size']=df2['size'].replace(\"100/3Y\",\"100\")\n",
    "df2['size']=df2['size'].replace(\"120/6Y\",\"120\")\n",
    "df2['size']=df2['size'].replace(\"130/8Y\",\"130\")\n",
    "df2['size']=df2['size'].replace(\"150/12Y\",\"150\")\n",
    "df2['size']=df2['size'].replace(\"160/14Y\",\"160\")\n",
    "df2['size']=df2['size'].replace(\"170/16Y\",\"170\")\n",
    "\n",
    "df2['size']=df2['size'].replace(\"86/1½Y\",\"86\")\n",
    "df2['size']=df2['size'].replace(\"92/2Y\",\"92\")\n",
    "df2['size']=df2['size'].replace(\"90/2Y\",\"90\")\n",
    "df2['size']=df2['size'].replace(\"3+Y\",\"3Y\")\n",
    "df2['size']=df2['size'].replace(\"80/1Y\",\"80\")\n",
    "df2['size']=df2['size'].replace(\"PREMATUR\",\"44\")\n",
    "df2['size']=df2['size'].replace(\"6-7Å\",\"6-7Y\")\n",
    "df2['size']=df2['size'].replace(\"NA\",\"No Size\")\n",
    "\n",
    "df2['size']=df2['size'].replace(\"3-6KG\",\"0-3M\")\n",
    "df2['size']=df2['size'].replace(\"6-9KG\",\"3-9M\")\n",
    "df2['size']=df2['size'].replace(\"9-12KG\",\"12-18M\")\n",
    "df2['size']=df2['size'].replace(\"12-18KG\",\"2-6Y\")\n",
    "\n",
    "df2['size']=df2['size'].replace(\"62/3M\",\"62\")\n",
    "df2['size']=df2['size'].replace(\"68/6M\",\"68\")\n",
    "df2['size']=df2['size'].replace(\"74/9M\",\"74\")\n",
    "df2['size']=df2['size'].replace(\"68M\",\"68\")\n",
    "df2['size']=df2['size'].replace(\"24-36M\",\"24-25\")\n",
    "df2['size']=df2['size'].replace(\"18-36M\",\"23-26\")\n",
    "df2['size']=df2['size'].replace(\"6-24M\",\"ONE SIZE\")\n",
    "\n",
    "df2['brand']=df2['brand'].replace(\"leksaker\",\"No Brand\")\n",
    "\n",
    "df2['size']=df2['size'].replace(\"M\",\"Medium\")\n",
    "df2['size']=df2['size'].replace(\"00-03M\",\"0-3M\")\n",
    "df2['size']=df2['size'].replace(\"04-06M\",\"4-6M\")\n",
    "df2['size']=df2['size'].replace(\"00-06M\",\"0-6M\")\n",
    "df2['size']=df2['size'].replace(\"8M\",\"74\")\n",
    "df2['size']=df2['size'].replace(\"1.5-2Y\",\"90\")\n",
    "df2['size']=df2['size'].replace(\"3-4Y\",\"100\")\n",
    "df2['size']=df2['size'].replace(\"4-5Y\",\"110\")\n",
    "df2['size']=df2['size'].replace(\"6-7Y\",\"120\")\n",
    "df2['size']=df2['size'].replace(\"7-8Y\",\"130\")\n",
    "df2['size']=df2['size'].replace(\"9-10Y\",\"140\")\n",
    "df2['size']=df2['size'].replace(\"11-12Y\",\"150\")\n",
    "df2['size']=df2['size'].replace(\"12-13Y\",\"160\")\n",
    "df2['size']=df2['size'].replace(\"0-3Y\",\"52-98\")\n",
    "df2['size']=df2['size'].replace(\"0Y\",\"50-80\")\n",
    "df2['size']=df2['size'].replace(\"2Y\",\"92\")\n",
    "df2['size']=df2['size'].replace(\"4Y\",\"104\")\n",
    "df2['size']=df2['size'].replace(\"6Y\",\"122\")\n",
    "df2['size']=df2['size'].replace(\"2-4Y\",\"92-104\")\n",
    "df2['size']=df2['size'].replace(\"4-6Y\",\"110-116\")\n",
    "df2['size']=df2['size'].replace(\"6-8Y\",\"122-128\")\n",
    "df2['size']=df2['size'].replace(\"0-2Y\",\"50-92\")\n",
    "df2['size']=df2['size'].replace(\"2-3Y\",\"92-100\")\n",
    "df2['size']=df2['size'].replace(\"10M-2Y\",\"74-92\")\n",
    "df2['size']=df2['size'].replace(\"1-2Y\",\"82-92\")\n",
    "df2['size']=df2['size'].replace(\"6-12Y\",\"122-150\")\n",
    "df2['size']=df2['size'].replace(\"0-1Y\",\"52-80\")\n",
    "df2['size']=df2['size'].replace(\"8-10Y\",\"128-140\")\n",
    "df2['size']=df2['size'].replace(\"4-8Y\",\"110-128\")\n",
    "df2['size']=df2['size'].replace(\"10-12Y\",\"140-150\")\n",
    "df2['size']=df2['size'].replace(\"12-14Y\",\"150-170\")\n",
    "df2['size']=df2['size'].replace(\"1Y\",\"80\")\n",
    "df2['size']=df2['size'].replace(\"2-5Y\",\"92-116\")\n",
    "df2['size']=df2['size'].replace(\"5-10Y\",\"116-140\")\n",
    "df2['size']=df2['size'].replace(\"6-10Y\",\"122-140\")\n",
    "df2['size']=df2['size'].replace(\"5-6Y\",\"110-116\")\n",
    "df2['size']=df2['size'].replace(\"2-6Y\",\"92-116\")\n",
    "df2['size']=df2['size'].replace(\"5-8Y\",\"116-128\")\n",
    "df2['size']=df2['size'].replace(\"11Y\",\"150\")\n",
    "df2['size']=df2['size'].replace(\"8Y\",\"128\")\n",
    "df2['size']=df2['size'].replace(\"3-5Y\",\"100-110\")\n",
    "df2['size']=df2['size'].replace(\"4-7Y\",\"110-122\")\n",
    "df2['size']=df2['size'].replace(\"8-12Y\",\"128-150\")\n",
    "df2['size']=df2['size'].replace(\"1-3Y\",\"52-98\")\n",
    "df2['size']=df2['size'].replace(\"2-8Y\",\"92-128\")\n",
    "df2['size']=df2['size'].replace(\"3-7Y\",\"100-122\")\n",
    "df2['size']=df2['size'].replace(\"3Y\",\"100\")\n",
    "df2['size']=df2['size'].replace(\"5Y\",\"116\")\n",
    "df2['size']=df2['size'].replace(\"10Y\",\"140\")\n",
    "df2['size']=df2['size'].replace(\"12Y\",\"150\")\n",
    "df2['size']=df2['size'].replace(\"8-9Y\",\"134\")\n",
    "df2['size']=df2['size'].replace(\"10-11Y\",\"140-150\")\n",
    "df2['size']=df2['size'].replace(\"7Y\",\"122\")\n",
    "df2['size']=df2['size'].replace(\"9Y\",\"140\")\n",
    "df2['size']=df2['size'].replace(\"14Y\",\"170\")\n",
    "df2['size']=df2['size'].replace(\"13-14Y\",\"160-170\")\n",
    "df2['size']=df2['size'].replace(\"16Y\",\"190\")\n",
    "df2['size']=df2['size'].replace(\"5-7Y\",\"110-122\")\n",
    "df2['size']=df2['size'].replace(\"9-12Y\",\"134-140\")\n",
    "df2['size']=df2['size'].replace(\"3-6Y\",\"104-116\")\n",
    "df2['size']=df2['size'].replace(\"13-15Y\",\"152-160\")\n",
    "df2['size']=df2['size'].replace(\"14Y-16Y\",\"170-190\")\n",
    "df2['size']=df2['size'].replace(\"2-5Y\",\"92-116\")\n",
    "df2['size']=df2['size'].replace(\"6-12Y\",\"122-150\")\n",
    "df2['size']=df2['size'].replace(\"13-15Y\",\"160-180\")\n",
    "df2['size']=df2['size'].replace(\"14-16Y\",\"170-190\")\n",
    "df2['size']=df2['size'].replace(\"1-1.5Y\",\"80-86\")\n",
    "df2['size']=df2['size'].replace(\"15-16Y\",\"160-170\")\n",
    "df2['size']=df2['size'].replace(\"1.5Y\",\"86\")\n",
    "df2['size']=df2['size'].replace(\"10-14Y\",\"140-170\")\n",
    "df2['size']=df2['size'].replace(\"7-9Y\",\"122-134\")\n",
    "df2['size']=df2['size'].replace(\"14-15Y\",\"170-180\")\n",
    "df2['size']=df2['size'].replace(\"16-18Y\",\"190-210\")\n",
    "df2['size']=df2['size'].replace(\"1-4Y\",\"80-110\")\n",
    "df2['size']=df2['size'].replace(\"12Y\",\"150\")\n",
    "df2['size']=df2['size'].replace(\"2.5Y\",\"96\")\n",
    "df2['size']=df2['size'].replace(\"6-9Y\",\"122-140\")\n",
    "df2['size']=df2['size'].replace(\"2Y-5Y\",\"92-110\")\n",
    "df2['size']=df2['size'].replace(\"6Y-12Y\",\"116-150\")\n",
    "df2['size']=df2['size'].replace(\"13Y\",\"160\")\n",
    "df2['size']=df2['size'].replace(\"15Y\",\"180\")\n",
    "df2['size']=df2['size'].replace(\"5-12Y\",\"116-150\")\n",
    "df2['size']=df2['size'].replace(\"12-18Y\",\"150-210\")\n",
    "df2['size']=df2['size'].replace(\"9-11Y\",\"128-150\")\n",
    "df2['size']=df2['size'].replace(\"11-14Y\",\"150-170\")\n",
    "df2['size']=df2['size'].replace(\"00-01Y\",\"50-80\")\n",
    "df2['size']=df2['size'].replace(\"01-02Y\",\"86-92\")\n",
    "df2['size']=df2['size'].replace(\"02-04Y\",\"98-104\")\n",
    "df2['size']=df2['size'].replace(\"04-06Y\",\"110-116\")\n",
    "df2['size']=df2['size'].replace(\"16-17Y\",\"190-200\")\n",
    "df2['size']=df2['size'].replace(\"0-6Y\",\"50-116\")\n",
    "df2['size']=df2['size'].replace(\"2/3Y\",\"92-100\")\n",
    "df2['size']=df2['size'].replace(\"4/5Y\",\"110\")\n",
    "df2['size']=df2['size'].replace(\"6/8Y\",\"122-128\")\n",
    "df2['size']=df2['size'].replace(\"6-16Y\",\"122-190\")\n",
    "\n",
    "df2['size']=df2['size'].replace(\"0-3M\",\"50-62\")\n",
    "df2['size']=df2['size'].replace(\"3-6M\",\"62-74\")\n",
    "df2['size']=df2['size'].replace(\"6-12M\",\"74-80\")\n",
    "df2['size']=df2['size'].replace(\"12-18M\",\"80-86\")\n",
    "df2['size']=df2['size'].replace(\"0-6M\",\"50-74\")\n",
    "df2['size']=df2['size'].replace(\"9-12M\",\"74-80\")\n",
    "df2['size']=df2['size'].replace(\"18-24M\",\"92-98\")\n",
    "df2['size']=df2['size'].replace(\"2-6M\",\"60-68\")\n",
    "df2['size']=df2['size'].replace(\"4-9M\",\"58-74\")\n",
    "df2['size']=df2['size'].replace(\"0-2M\",\"50-56\")\n",
    "df2['size']=df2['size'].replace(\"12-24M\",\"80-98\")\n",
    "df2['size']=df2['size'].replace(\"6M\",\"74\")\n",
    "df2['size']=df2['size'].replace(\"0M\",\"50\")\n",
    "df2['size']=df2['size'].replace(\"1M\",\"56\")\n",
    "df2['size']=df2['size'].replace(\"3M\",\"62\")\n",
    "df2['size']=df2['size'].replace(\"1-4M\",\"56-58\")\n",
    "df2['size']=df2['size'].replace(\"2-8M\",\"60-72\")\n",
    "df2['size']=df2['size'].replace(\"12M\",\"80\")\n",
    "df2['size']=df2['size'].replace(\"18M\",\"88\")\n",
    "df2['size']=df2['size'].replace(\"24M\",\"92\")\n",
    "df2['size']=df2['size'].replace(\"36M\",\"96\")\n",
    "df2['size']=df2['size'].replace(\"6-9M\",\"68-74\")\n",
    "df2['size']=df2['size'].replace(\"9M\",\"74\")\n",
    "df2['size']=df2['size'].replace(\"1-3M\",\"56-62\")\n",
    "df2['size']=df2['size'].replace(\"23M\",\"94\")\n",
    "df2['size']=df2['size'].replace(\"1-2M\",\"56-60\")\n",
    "df2['size']=df2['size'].replace(\"0-4M\",\"50-64\")\n",
    "df2['size']=df2['size'].replace(\"4-10M\",\"68-78\")\n",
    "df2['size']=df2['size'].replace(\"2-4M\",\"62\")\n",
    "df2['size']=df2['size'].replace(\"4-6M\",\"68\")\n",
    "df2['size']=df2['size'].replace(\"30M\",\"94\")\n",
    "df2['size']=df2['size'].replace(\"S-M\",\"S\")\n",
    "df2['size']=df2['size'].replace(\"3-9M\",\"56-76\")\n",
    "df2['size']=df2['size'].replace(\"3-12M\",\"56-80\")\n",
    "\n",
    "df2['size']=df2['size'].replace(\"4-5M\",\"62\")\n",
    "df2['size']=df2['size'].replace(\"6-7M\",\"68\")\n",
    "df2['size']=df2['size'].replace(\"7-9M\",\"68-76\")\n",
    "df2['size']=df2['size'].replace(\"0-12M\",\"54-80\")\n",
    "df2['size']=df2['size'].replace(\"9-18M\",\"76-94\")\n",
    "df2['size']=df2['size'].replace(\"30-36M\",\"94-104\")\n",
    "df2['size']=df2['size'].replace(\"0-9M\",\"50-76\")\n",
    "df2['size']=df2['size'].replace(\"9-24M\",\"76-88\")\n",
    "df2['size']=df2['size'].replace(\"48M\",\"92\")\n",
    "df2['size']=df2['size'].replace(\"4M\",\"62\")\n",
    "df2['size']=df2['size'].replace(\"2M\",\"58\")\n",
    "df2['size']=df2['size'].replace(\"7-12M\",\"68-80\")\n",
    "df2['size']=df2['size'].replace(\"0-1M\",\"50-54\")\n",
    "df2['size']=df2['size'].replace(\"1-6M\",\"54-68\")\n",
    "df2['size']=df2['size'].replace(\"5-8M\",\"66-74\")\n",
    "df2['size']=df2['size'].replace(\"10-24M\",\"80-92\")\n",
    "df2['size']=df2['size'].replace(\"13US\",\"No Size\")\n",
    "df2['size']=df2['size'].replace(\"NEWBORN\",\"50-74\")\n",
    "df2['size']=df2['size'].replace(\"ON\",\"No Size\")\n",
    "df2['size']=df2['size'].replace(\"ONE-SIZ\",\"ONE SIZE\")\n",
    "df2['size']=df2['size'].replace(\"2-4YS\",\"92-104\")\n",
    "df2['size']=df2['size'].replace(\"ONE SIZE\",\"74-90\")\n",
    "df2['size']=df2['size'].replace(\"4SR\",\"No Size\")\n",
    "df2['size']=df2['size'].replace(\"XXXL\",\"XL\")\n",
    "df2['size']=df2['size'].replace(\"XL-XXL\",\"XL\")\n",
    "df2['size']=df2['size'].replace(\"XS-S\",\"S\")\n",
    "df2['size']=df2['size'].replace(\"XXS\",\"S\")\n",
    "df2['size']=df2['size'].replace(\"L-XL\",\"L\")\n",
    "df2['size']=df2['size'].replace(\"XXL\",\"XL\")\n",
    "df2['size']=df2['size'].replace(\"2Y-92\",\"92\")\n",
    "df2['size']=df2['size'].replace(\"MEDIUM\",\"M\")\n",
    "df2['size']=df2['size'].replace(\"XX\",\"No Size\")\n",
    "df2['size']=df2['size'].replace(\"X\",\"No Size\")\n",
    "df2['size']=df2['size'].replace(\"M-L\",\"M\")\n",
    "df2['size']=df2['size'].str.replace(\",\",\".\")\n",
    "\n",
    "df2['size']=df2['size'].replace(\"NO SIZ\",\"No Size\")\n",
    "df2['size']=df2['size'].replace(\"Medium\",\"M\")\n",
    "df2['size']=df2['size'].str.replace(\"/\",\"-\")\n",
    "\n",
    "df2['size']=df2['size'].replace(\"\",\"No Size\")\n",
    "\n",
    "df2['size'].unique()\n",
    "\n",
    "df3=df2\n",
    "df5= pd.DataFrame( columns=['article_no', 'gender','category', 'price','size','brand','name','url']) #creates a new dataframe that's empty\n",
    "c=0\n",
    "df4 = pd.DataFrame( columns=['article_no', 'gender','category', 'price','size','brand','name','url']) #creates a new dataframe that's empty\n"
   ]
  },
  {
   "cell_type": "code",
   "execution_count": 7,
   "metadata": {},
   "outputs": [
    {
     "data": {
      "text/plain": [
       "article_no    463828\n",
       "gender        463828\n",
       "category      463828\n",
       "price         463828\n",
       "size          463828\n",
       "brand         463828\n",
       "dtype: int64"
      ]
     },
     "execution_count": 7,
     "metadata": {},
     "output_type": "execute_result"
    }
   ],
   "source": [
    "df2.count()"
   ]
  },
  {
   "cell_type": "code",
   "execution_count": 10,
   "metadata": {},
   "outputs": [
    {
     "data": {
      "text/plain": [
       "nan"
      ]
     },
     "execution_count": 10,
     "metadata": {},
     "output_type": "execute_result"
    }
   ],
   "source": [
    "nn"
   ]
  },
  {
   "cell_type": "code",
   "execution_count": null,
   "metadata": {},
   "outputs": [],
   "source": [
    "# for i in range(df3.count().values[0]):\n",
    "for i in range(395952,463828):\n",
    "    an=df2.iloc[i]['article_no']\n",
    "    try:\n",
    "        un=dfr[dfr['article_no']==an]['url'].values[0]\n",
    "        nn=dfr[dfr['article_no']==an]['name'].values[0]\n",
    "    except:\n",
    "        un='Na'\n",
    "        nn='Na'\n",
    "        pass\n",
    "\n",
    "    bn=df2.iloc[i]['brand']\n",
    "    pn=df2.iloc[i]['price']\n",
    "    gn=df2.iloc[i]['gender']\n",
    "    cn=df2.iloc[i]['category']\n",
    "    sn=df2.iloc[i]['size']\n",
    "\n",
    "    if nn in ['2','3','4','5','6','7','8','9']:\n",
    "        sn2=sn\n",
    "        df5 = df5.append([{'article_no':an,'gender':gn,'category':cn,'price':pn,'size':sn2,'brand':bn,'name':nn,'url':un}], ignore_index = True)\n",
    "        continue\n",
    "\n",
    "    if sn in ['XS','S','M','L','XL','SL','No Size']:\n",
    "        sn2=sn\n",
    "        df4 = df4.append([{'article_no':an,'gender':gn,'category':cn,'price':pn,'size':sn2,'brand':bn,'name':nn,'url':un}], ignore_index = True)\n",
    "        continue\n",
    "\n",
    "    if sn.find('-')!=-1:\n",
    "\n",
    "        la=sn.split('-')\n",
    "        for sn2 in range(round(float(la[0])),round(float(la[1]))+1):\n",
    "#             print(sn2)\n",
    "            df4 = df4.append([{'article_no':an,'gender':gn,'category':cn,'price':pn,'size':sn2,'brand':bn,'name':nn,'url':un}], ignore_index = True) # ignoring index is optional\n",
    "    else:\n",
    "        sn2=round(float(sn))\n",
    "        df4 = df4.append([{'article_no':an,'gender':gn,'category':cn,'price':pn,'size':sn2,'brand':bn,'name':nn,'url':un}], ignore_index = True) # ignoring index is optional\n",
    "\n",
    "    with open('log.txt', 'a+') as file:\n",
    "        # Use file to refer to the file object\n",
    "        file.write('N'+str(i)+'S'+sn+'\\t')\n",
    "    c=c+1\n",
    "#     print('count',c)\n",
    "    "
   ]
  },
  {
   "cell_type": "code",
   "execution_count": 4,
   "metadata": {},
   "outputs": [
    {
     "data": {
      "text/plain": [
       "740106"
      ]
     },
     "execution_count": 4,
     "metadata": {},
     "output_type": "execute_result"
    }
   ],
   "source": [
    "df4['article_no'].count()"
   ]
  },
  {
   "cell_type": "code",
   "execution_count": 15,
   "metadata": {},
   "outputs": [
    {
     "data": {
      "text/plain": [
       "article_no    45245\n",
       "gender        45245\n",
       "category      45245\n",
       "price         45245\n",
       "size          45245\n",
       "brand         45245\n",
       "name          45245\n",
       "url           45245\n",
       "dtype: int64"
      ]
     },
     "execution_count": 15,
     "metadata": {},
     "output_type": "execute_result"
    }
   ],
   "source": [
    "df5.count()"
   ]
  },
  {
   "cell_type": "code",
   "execution_count": 16,
   "metadata": {},
   "outputs": [
    {
     "data": {
      "text/plain": [
       "article_no    28367\n",
       "gender        28367\n",
       "category      28367\n",
       "price         28367\n",
       "size          28367\n",
       "brand         28367\n",
       "name          28367\n",
       "url           28367\n",
       "dtype: int64"
      ]
     },
     "execution_count": 16,
     "metadata": {},
     "output_type": "execute_result"
    }
   ],
   "source": [
    "df5.drop_duplicates().count()"
   ]
  },
  {
   "cell_type": "code",
   "execution_count": 17,
   "metadata": {},
   "outputs": [],
   "source": [
    "df6=df4.drop_duplicates()\n",
    "df7=df5.drop_duplicates()"
   ]
  },
  {
   "cell_type": "code",
   "execution_count": 18,
   "metadata": {},
   "outputs": [],
   "source": [
    "df6.to_csv('data.csv',index=False) #for rows not showing\n",
    "df7.to_csv('data2.csv',index=False) #for rows not showing\n"
   ]
  },
  {
   "cell_type": "code",
   "execution_count": 19,
   "metadata": {},
   "outputs": [],
   "source": [
    "df2.to_csv('raw_data.csv',index=False) #for rows not showing\n"
   ]
  },
  {
   "cell_type": "code",
   "execution_count": null,
   "metadata": {},
   "outputs": [],
   "source": []
  }
 ],
 "metadata": {
  "kernelspec": {
   "display_name": "Python 3",
   "language": "python",
   "name": "python3"
  },
  "language_info": {
   "codemirror_mode": {
    "name": "ipython",
    "version": 3
   },
   "file_extension": ".py",
   "mimetype": "text/x-python",
   "name": "python",
   "nbconvert_exporter": "python",
   "pygments_lexer": "ipython3",
   "version": "3.5.3"
  }
 },
 "nbformat": 4,
 "nbformat_minor": 4
}

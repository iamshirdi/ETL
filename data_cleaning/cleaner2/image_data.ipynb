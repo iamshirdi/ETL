{
 "cells": [
  {
   "cell_type": "code",
   "execution_count": 1,
   "metadata": {},
   "outputs": [
    {
     "data": {
      "text/html": [
       "<div>\n",
       "<style scoped>\n",
       "    .dataframe tbody tr th:only-of-type {\n",
       "        vertical-align: middle;\n",
       "    }\n",
       "\n",
       "    .dataframe tbody tr th {\n",
       "        vertical-align: top;\n",
       "    }\n",
       "\n",
       "    .dataframe thead th {\n",
       "        text-align: right;\n",
       "    }\n",
       "</style>\n",
       "<table border=\"1\" class=\"dataframe\">\n",
       "  <thead>\n",
       "    <tr style=\"text-align: right;\">\n",
       "      <th></th>\n",
       "      <th>article_no</th>\n",
       "      <th>gender</th>\n",
       "      <th>category</th>\n",
       "      <th>price</th>\n",
       "      <th>size</th>\n",
       "      <th>brand</th>\n",
       "    </tr>\n",
       "  </thead>\n",
       "  <tbody>\n",
       "    <tr>\n",
       "      <th>0</th>\n",
       "      <td>H&amp;M/701784001</td>\n",
       "      <td>unisex</td>\n",
       "      <td>bodysuits</td>\n",
       "      <td>149</td>\n",
       "      <td>44</td>\n",
       "      <td>h&amp;m</td>\n",
       "    </tr>\n",
       "    <tr>\n",
       "      <th>1</th>\n",
       "      <td>H&amp;M/701784001</td>\n",
       "      <td>unisex</td>\n",
       "      <td>bodysuits</td>\n",
       "      <td>149</td>\n",
       "      <td>50</td>\n",
       "      <td>h&amp;m</td>\n",
       "    </tr>\n",
       "  </tbody>\n",
       "</table>\n",
       "</div>"
      ],
      "text/plain": [
       "      article_no  gender   category  price size brand\n",
       "0  H&M/701784001  unisex  bodysuits    149   44   h&m\n",
       "1  H&M/701784001  unisex  bodysuits    149   50   h&m"
      ]
     },
     "execution_count": 1,
     "metadata": {},
     "output_type": "execute_result"
    }
   ],
   "source": [
    "import pandas as pd\n",
    "da=pd.read_csv('cleaning_brand.csv')\n",
    "da.head(2)"
   ]
  },
  {
   "cell_type": "code",
   "execution_count": 2,
   "metadata": {},
   "outputs": [
    {
     "data": {
      "text/html": [
       "<div>\n",
       "<style scoped>\n",
       "    .dataframe tbody tr th:only-of-type {\n",
       "        vertical-align: middle;\n",
       "    }\n",
       "\n",
       "    .dataframe tbody tr th {\n",
       "        vertical-align: top;\n",
       "    }\n",
       "\n",
       "    .dataframe thead th {\n",
       "        text-align: right;\n",
       "    }\n",
       "</style>\n",
       "<table border=\"1\" class=\"dataframe\">\n",
       "  <thead>\n",
       "    <tr style=\"text-align: right;\">\n",
       "      <th></th>\n",
       "      <th>article_no</th>\n",
       "      <th>category</th>\n",
       "    </tr>\n",
       "  </thead>\n",
       "  <tbody>\n",
       "    <tr>\n",
       "      <th>0</th>\n",
       "      <td>H&amp;M/701784001</td>\n",
       "      <td>bodysuits</td>\n",
       "    </tr>\n",
       "    <tr>\n",
       "      <th>1</th>\n",
       "      <td>H&amp;M/701784001</td>\n",
       "      <td>bodysuits</td>\n",
       "    </tr>\n",
       "  </tbody>\n",
       "</table>\n",
       "</div>"
      ],
      "text/plain": [
       "      article_no   category\n",
       "0  H&M/701784001  bodysuits\n",
       "1  H&M/701784001  bodysuits"
      ]
     },
     "execution_count": 2,
     "metadata": {},
     "output_type": "execute_result"
    }
   ],
   "source": [
    "d2=da[['article_no','category']]\n",
    "d2.head(2)"
   ]
  },
  {
   "cell_type": "code",
   "execution_count": 3,
   "metadata": {},
   "outputs": [
    {
     "name": "stderr",
     "output_type": "stream",
     "text": [
      "/usr/local/lib/python3.5/dist-packages/ipykernel_launcher.py:2: SettingWithCopyWarning: \n",
      "A value is trying to be set on a copy of a slice from a DataFrame.\n",
      "Try using .loc[row_indexer,col_indexer] = value instead\n",
      "\n",
      "See the caveats in the documentation: http://pandas.pydata.org/pandas-docs/stable/user_guide/indexing.html#returning-a-view-versus-a-copy\n",
      "  \n"
     ]
    }
   ],
   "source": [
    "labels, uniques = pd.factorize(d2['category'])\n",
    "d2['labels']=labels"
   ]
  },
  {
   "cell_type": "code",
   "execution_count": 19,
   "metadata": {},
   "outputs": [
    {
     "name": "stdout",
     "output_type": "stream",
     "text": [
      "5\n",
      "An exception occurred\n"
     ]
    }
   ],
   "source": [
    "#The try block will generate an error, because x is not defined:\n",
    "y=5\n",
    "try:\n",
    "    print(y)\n",
    "\n",
    "    print(x)\n",
    "except:\n",
    "    print(\"An exception occurred\")\n"
   ]
  },
  {
   "cell_type": "code",
   "execution_count": null,
   "metadata": {},
   "outputs": [],
   "source": []
  },
  {
   "cell_type": "code",
   "execution_count": 6,
   "metadata": {},
   "outputs": [
    {
     "name": "stderr",
     "output_type": "stream",
     "text": [
      "/usr/local/lib/python3.5/dist-packages/ipykernel_launcher.py:4: SettingWithCopyWarning: \n",
      "A value is trying to be set on a copy of a slice from a DataFrame\n",
      "\n",
      "See the caveats in the documentation: http://pandas.pydata.org/pandas-docs/stable/user_guide/indexing.html#returning-a-view-versus-a-copy\n",
      "  after removing the cwd from sys.path.\n",
      "/usr/local/lib/python3.5/dist-packages/IPython/core/interactiveshell.py:3326: SettingWithCopyWarning: \n",
      "A value is trying to be set on a copy of a slice from a DataFrame\n",
      "\n",
      "See the caveats in the documentation: http://pandas.pydata.org/pandas-docs/stable/user_guide/indexing.html#returning-a-view-versus-a-copy\n",
      "  exec(code_obj, self.user_global_ns, self.user_ns)\n"
     ]
    }
   ],
   "source": [
    "ellos_list=d2[d2['article_no'].str.startswith('ellos/')].index.tolist()\n",
    "for i in ellos_list:\n",
    "    r='ellos/'+d2.iloc[i,0].split('ellos/')[1].strip()\n",
    "    d2['article_no'][i]=r\n",
    "    "
   ]
  },
  {
   "cell_type": "code",
   "execution_count": 7,
   "metadata": {},
   "outputs": [
    {
     "data": {
      "text/plain": [
       "array(['bodysuits', 'accessories/scarf', 'blouses', 'bottoms',\n",
       "       'knitwear/cardigan', 'accessories/hats', 'accessories/hairband',\n",
       "       'jackets', 'jumpsuits', 'skirts', 'dresses', 'bottoms/leggings',\n",
       "       'accessories/mössor', 'overalls', 'pajamas', 'bottoms/shorts',\n",
       "       'tops', 'footwear', 'accessories/sleeping bags', 'shirts',\n",
       "       'footwear/socks', 'footwear/slippers', 'winter jackets/sweaters',\n",
       "       'accessories/gloves', 'coats/vest', 'bottoms/swimming trunks',\n",
       "       'badklader/swimwear', 'costume wear', 'accessories/bowtie',\n",
       "       'accessories/braces', 'bottoms/jeans', 'accessories/caps',\n",
       "       'accessories/bags', 'badklader/bathing suit',\n",
       "       'bottoms/bikinitrosa', 'coats', 'shoes/mockasiner',\n",
       "       'badklader/robe', 'bottoms/trosa', 'dresses/tunics',\n",
       "       'accessories/tiara', 'bottoms/underwear', 'toys',\n",
       "       'bottoms/long underwear', 'costume wear/accessories',\n",
       "       'accessories/belts', 'accessories/sunglasses',\n",
       "       'bottoms/legwarmers', 'tops/bikini', 'tops/bolero',\n",
       "       'accessories/necklace', 'accessories/hairdecoration',\n",
       "       'accessories/hairtie', 'accessories/hairpin',\n",
       "       'accessories/lipbalm', 'accessories/nailpolish',\n",
       "       'pajamas/nightgown', 'accessories/pencilcase', 'tops/poncho',\n",
       "       'ögonmask', 'accessories/armband', 'accessories/headphones',\n",
       "       'accessories', 'tops/fleece', 'costume wear/holiday clothing',\n",
       "       'klader/giftset', 'pajmas/sleepwear', 'klader/wool',\n",
       "       'klader/uvclothing', 'klader/outerwear', 'jackets/sweatshirts',\n",
       "       'knitwear', 'klader/lisas', 'bottoms/pants',\n",
       "       'bottoms/bermudashorts', 'accessories/bags and backpacks',\n",
       "       'klader/underwear and pyjamas', 'klader/kepsar och mössor',\n",
       "       'klader/pants and shorts', 'bottoms/leggings and pants',\n",
       "       'badklader', 'klader/socks and trousers',\n",
       "       'klader/skirts and shorts', 'klader/tshirts and bodies',\n",
       "       'klader/pyjamas and underwear', 'bottoms/hingepants',\n",
       "       'klader/dresses and sparkbyxor', 'klader/shirts and bodies',\n",
       "       'klader/shirts and trousers', 'footwear/sportshoes',\n",
       "       'footwear/sandals', 'footwear/rubberboots', 'footwear/boots',\n",
       "       'klader/underwear and nightwear', 'klader/shirts and linnen',\n",
       "       'klader/newclothes', 'klader/3 for 2', 'klader/pop brand',\n",
       "       'klader/trousers and tops', 'klader/pants and jumpsuits',\n",
       "       'klader/bodies and sparkcostumes', 'accessories/sunhats',\n",
       "       'klader/underwear and trousers', 'klader/shoes and highshoes',\n",
       "       'badklader/pants', 'klader/shirts and blouses', 'klader/set',\n",
       "       'klader/dresses and skirts', 'pajamas/sleepwear',\n",
       "       'klader/top and blouses', 'klader/sweaters and cardigans',\n",
       "       'klader/sportswear', 'klader/bodysuits and overalls',\n",
       "       'klader/dresses and tunics', 'klader/jeans and leggings',\n",
       "       'klader/underwear and swimwear', 'klader/functionalclothing',\n",
       "       'jackets/hoodies', 'bottoms/trousers',\n",
       "       'klader/trousers and jackets', 'klader/pants and jeans',\n",
       "       'klader/presents', 'winterwear', 'tröjor & koftor', 'kjolar',\n",
       "       'sportklader', 'pajmas/nightwear', 'klader/panties and bra',\n",
       "       'klader/sweater and cardigans', 'klader/large clothes',\n",
       "       'bottoms/underpants', 'klader/sweaters and knitwear ', 'costumes',\n",
       "       'klader/rainwear', 'klader/babyproducts',\n",
       "       'klader/knitwear and sweatshirts', 'klader/cotton',\n",
       "       'tops/longsleeve', 'tops/shortsleeve', 'klader/snowsuits',\n",
       "       'accessories/outerwear', 'bodysuits/basics',\n",
       "       'klader/socks and tights', 'accessories/dribblerbibs',\n",
       "       'klader/beanies and gloves', 'tops/shirts', 'winter jackets',\n",
       "       'ni-mini-outerwear-softshells', 'bottoms/underwearbasics',\n",
       "       'klader/accessories and shoes', 'accessories/other',\n",
       "       'jackets/outerwear', 'jackets/softshell', 'klader/lmtd brand',\n",
       "       'klader/basics', 'klader/bedtextile', 'accessories/scarves',\n",
       "       'klader/gowns and jackets', 'klader/the', 'sportswear',\n",
       "       'klader/sweaters and knitwear', 'bottoms/stocks and tights',\n",
       "       'tops/activewear', 'skirts/activewear', 'footwear/activewear',\n",
       "       'accessories/activewear', 'klader/activewear-outerwear',\n",
       "       'pajmas/activewear-badklader', 'klader/badkläder and uv',\n",
       "       'klader/bodysuits and sets', 'klader/tops and shirts',\n",
       "       'klader/jumpsuits and onesies', 'klader/festivewear', 'pajmas',\n",
       "       'bottoms/chassis', 'klader/jackets and coats',\n",
       "       'klader/funktionklader', 'klader/kladset', 'klader/dunktionklader',\n",
       "       'klader/pants and leggings', 'tops/trousers',\n",
       "       'klader/jackets and bags', 'bottoms/täckbyxor and skalbyxor',\n",
       "       'klader/pike and rugbytrojor', 'klader/overall', 'shirts/linen',\n",
       "       'klader/trousers and cardigans', 'badklader/towels',\n",
       "       'accessories/watches', 'klader/jumpsuits and trousers',\n",
       "       'klader/tights and leggings', 'klader/tops and blouses',\n",
       "       'klader/tops and bodies', 'bottoms/stockings',\n",
       "       'klader/shoes and accessories',\n",
       "       'klader/bodysuits and sparkdrakter', 'badkader/swimwear',\n",
       "       'badklader/swimsuits', 'knitwear/cardigans', 'bottoms/panties',\n",
       "       'klader/badklader and uvclothing',\n",
       "       'klader/bodysuits and sparkrakter',\n",
       "       'klader/baptimsal and festivewear', 'klader/bags and backpacks',\n",
       "       'klader/cartoon'], dtype=object)"
      ]
     },
     "execution_count": 7,
     "metadata": {},
     "output_type": "execute_result"
    }
   ],
   "source": [
    "pd.options.display.width = -1\n",
    "uniques.values"
   ]
  },
  {
   "cell_type": "code",
   "execution_count": 10,
   "metadata": {},
   "outputs": [],
   "source": []
  },
  {
   "cell_type": "code",
   "execution_count": 11,
   "metadata": {},
   "outputs": [
    {
     "data": {
      "text/plain": [
       "'ellos/1523187-01-21'"
      ]
     },
     "execution_count": 11,
     "metadata": {},
     "output_type": "execute_result"
    }
   ],
   "source": [
    "'ellos/'+d2.iloc[i,0].split('ellos/')[1].strip()"
   ]
  },
  {
   "cell_type": "code",
   "execution_count": null,
   "metadata": {},
   "outputs": [],
   "source": []
  },
  {
   "cell_type": "code",
   "execution_count": 12,
   "metadata": {},
   "outputs": [
    {
     "data": {
      "text/plain": [
       "article_no    463828\n",
       "category      463828\n",
       "labels        463828\n",
       "dtype: int64"
      ]
     },
     "execution_count": 12,
     "metadata": {},
     "output_type": "execute_result"
    }
   ],
   "source": [
    "import pandas as pd\n",
    "d=d2\n",
    "d.count()"
   ]
  },
  {
   "cell_type": "code",
   "execution_count": null,
   "metadata": {},
   "outputs": [],
   "source": [
    "d.to_csv('image_data.csv',index=False)"
   ]
  },
  {
   "cell_type": "code",
   "execution_count": 13,
   "metadata": {},
   "outputs": [
    {
     "data": {
      "text/plain": [
       "array(['H&M', 'jollyroom', 'zara', 'kavat', 'polarnopyret', 'ellos',\n",
       "       'lager157', 'zalando', 'bonprix', 'babyshop', 'nameit',\n",
       "       'oildesign', 'boozt', 'kappah', 'afound', 'kidsbrandstore',\n",
       "       'åhlens', 'cdon', 'lekmer'], dtype=object)"
      ]
     },
     "execution_count": 13,
     "metadata": {},
     "output_type": "execute_result"
    }
   ],
   "source": [
    "d['article_no'].str.split('/').str.get(0).unique()\n"
   ]
  },
  {
   "cell_type": "code",
   "execution_count": 14,
   "metadata": {},
   "outputs": [
    {
     "name": "stderr",
     "output_type": "stream",
     "text": [
      "/usr/local/lib/python3.5/dist-packages/ipykernel_launcher.py:2: SettingWithCopyWarning: \n",
      "A value is trying to be set on a copy of a slice from a DataFrame\n",
      "\n",
      "See the caveats in the documentation: http://pandas.pydata.org/pandas-docs/stable/user_guide/indexing.html#returning-a-view-versus-a-copy\n",
      "  \n"
     ]
    }
   ],
   "source": [
    "for i in range(463828):\n",
    "    d['article_no'][i]=d['article_no'][i]+'.jpg'"
   ]
  },
  {
   "cell_type": "code",
   "execution_count": 15,
   "metadata": {},
   "outputs": [
    {
     "data": {
      "text/plain": [
       "0        -1\n",
       "1        -1\n",
       "2        -1\n",
       "3        -1\n",
       "4        -1\n",
       "         ..\n",
       "463823   -1\n",
       "463824   -1\n",
       "463825   -1\n",
       "463826   -1\n",
       "463827   -1\n",
       "Name: article_no, Length: 463828, dtype: int64"
      ]
     },
     "execution_count": 15,
     "metadata": {},
     "output_type": "execute_result"
    }
   ],
   "source": [
    "d3=pd.read_csv('image_data.csv')\n",
    "d3['article_no'].str.find('jpg')"
   ]
  },
  {
   "cell_type": "code",
   "execution_count": 16,
   "metadata": {},
   "outputs": [],
   "source": []
  },
  {
   "cell_type": "code",
   "execution_count": null,
   "metadata": {},
   "outputs": [],
   "source": [
    "import pandas as pd\n",
    "df=pd.read_csv('cleaning_brand.csv')\n",
    "LS=df['brand'].unique().tolist()\n",
    "for l in LS:\n",
    "    l2='{\"value\":\"'+l+'\"'+', \"text\": \"'+l+'\"},'\n",
    "    print(l2)"
   ]
  },
  {
   "cell_type": "code",
   "execution_count": null,
   "metadata": {},
   "outputs": [],
   "source": []
  }
 ],
 "metadata": {
  "kernelspec": {
   "display_name": "Python 3",
   "language": "python",
   "name": "python3"
  },
  "language_info": {
   "codemirror_mode": {
    "name": "ipython",
    "version": 3
   },
   "file_extension": ".py",
   "mimetype": "text/x-python",
   "name": "python",
   "nbconvert_exporter": "python",
   "pygments_lexer": "ipython3",
   "version": "3.5.3"
  }
 },
 "nbformat": 4,
 "nbformat_minor": 4
}

{
 "cells": [
  {
   "cell_type": "code",
   "execution_count": 1,
   "metadata": {},
   "outputs": [
    {
     "name": "stdout",
     "output_type": "stream",
     "text": [
      "name           6143\n",
      "brand          6143\n",
      "gender         6143\n",
      "category       6143\n",
      "size           6143\n",
      "price          6143\n",
      "color          6134\n",
      "composition    6143\n",
      "url            6143\n",
      "img_url        6143\n",
      "article_no     6143\n",
      "blob_url          0\n",
      "dtype: int64\n"
     ]
    },
    {
     "data": {
      "text/html": [
       "<div>\n",
       "<style scoped>\n",
       "    .dataframe tbody tr th:only-of-type {\n",
       "        vertical-align: middle;\n",
       "    }\n",
       "\n",
       "    .dataframe tbody tr th {\n",
       "        vertical-align: top;\n",
       "    }\n",
       "\n",
       "    .dataframe thead th {\n",
       "        text-align: right;\n",
       "    }\n",
       "</style>\n",
       "<table border=\"1\" class=\"dataframe\">\n",
       "  <thead>\n",
       "    <tr style=\"text-align: right;\">\n",
       "      <th></th>\n",
       "      <th>name</th>\n",
       "      <th>brand</th>\n",
       "      <th>gender</th>\n",
       "      <th>category</th>\n",
       "      <th>size</th>\n",
       "      <th>price</th>\n",
       "      <th>color</th>\n",
       "      <th>composition</th>\n",
       "      <th>url</th>\n",
       "      <th>img_url</th>\n",
       "      <th>article_no</th>\n",
       "      <th>blob_url</th>\n",
       "    </tr>\n",
       "  </thead>\n",
       "  <tbody>\n",
       "    <tr>\n",
       "      <th>0</th>\n",
       "      <td>Glänsande offshoulder-klänning</td>\n",
       "      <td>bpc bonprix collection</td>\n",
       "      <td>girl</td>\n",
       "      <td>Dresses</td>\n",
       "      <td>\\nStorlek128/134\\n\\t</td>\n",
       "      <td>79kr</td>\n",
       "      <td>roséguld</td>\n",
       "      <td>Yttermaterial: 95% polyester, 5% elastan, Fode...</td>\n",
       "      <td>https://www.bonprix.se/produkt/glaensande-offs...</td>\n",
       "      <td>https://image01.bonprix.se/assets/460x644/1545...</td>\n",
       "      <td>90352981</td>\n",
       "      <td>NaN</td>\n",
       "    </tr>\n",
       "    <tr>\n",
       "      <th>1</th>\n",
       "      <td>Glänsande offshoulder-klänning</td>\n",
       "      <td>bpc bonprix collection</td>\n",
       "      <td>girl</td>\n",
       "      <td>Dresses</td>\n",
       "      <td>\\nStorlek140/146\\n\\t</td>\n",
       "      <td>79kr</td>\n",
       "      <td>roséguld</td>\n",
       "      <td>Yttermaterial: 95% polyester, 5% elastan, Fode...</td>\n",
       "      <td>https://www.bonprix.se/produkt/glaensande-offs...</td>\n",
       "      <td>https://image01.bonprix.se/assets/460x644/1545...</td>\n",
       "      <td>90352981</td>\n",
       "      <td>NaN</td>\n",
       "    </tr>\n",
       "    <tr>\n",
       "      <th>2</th>\n",
       "      <td>Glänsande offshoulder-klänning</td>\n",
       "      <td>bpc bonprix collection</td>\n",
       "      <td>girl</td>\n",
       "      <td>Dresses</td>\n",
       "      <td>\\nStorlek152/158\\n\\t</td>\n",
       "      <td>79kr</td>\n",
       "      <td>roséguld</td>\n",
       "      <td>Yttermaterial: 95% polyester, 5% elastan, Fode...</td>\n",
       "      <td>https://www.bonprix.se/produkt/glaensande-offs...</td>\n",
       "      <td>https://image01.bonprix.se/assets/460x644/1545...</td>\n",
       "      <td>90352981</td>\n",
       "      <td>NaN</td>\n",
       "    </tr>\n",
       "  </tbody>\n",
       "</table>\n",
       "</div>"
      ],
      "text/plain": [
       "                             name                   brand gender category  \\\n",
       "0  Glänsande offshoulder-klänning  bpc bonprix collection   girl  Dresses   \n",
       "1  Glänsande offshoulder-klänning  bpc bonprix collection   girl  Dresses   \n",
       "2  Glänsande offshoulder-klänning  bpc bonprix collection   girl  Dresses   \n",
       "\n",
       "                                   size price     color  \\\n",
       "0  \\nStorlek128/134\\n\\t                  79kr  roséguld   \n",
       "1  \\nStorlek140/146\\n\\t                  79kr  roséguld   \n",
       "2  \\nStorlek152/158\\n\\t                  79kr  roséguld   \n",
       "\n",
       "                                         composition  \\\n",
       "0  Yttermaterial: 95% polyester, 5% elastan, Fode...   \n",
       "1  Yttermaterial: 95% polyester, 5% elastan, Fode...   \n",
       "2  Yttermaterial: 95% polyester, 5% elastan, Fode...   \n",
       "\n",
       "                                                 url  \\\n",
       "0  https://www.bonprix.se/produkt/glaensande-offs...   \n",
       "1  https://www.bonprix.se/produkt/glaensande-offs...   \n",
       "2  https://www.bonprix.se/produkt/glaensande-offs...   \n",
       "\n",
       "                                             img_url  article_no  blob_url  \n",
       "0  https://image01.bonprix.se/assets/460x644/1545...    90352981       NaN  \n",
       "1  https://image01.bonprix.se/assets/460x644/1545...    90352981       NaN  \n",
       "2  https://image01.bonprix.se/assets/460x644/1545...    90352981       NaN  "
      ]
     },
     "execution_count": 1,
     "metadata": {},
     "output_type": "execute_result"
    }
   ],
   "source": [
    "import pandas as pd\n",
    "result=pd.read_csv(\"Image-Classification-and-Price-prediction/scrapping/data/bonprix.csv\", encoding='utf-8',index_col=False)\n",
    "print(result.count())\n",
    "result.head(3)"
   ]
  },
  {
   "cell_type": "code",
   "execution_count": 2,
   "metadata": {},
   "outputs": [
    {
     "data": {
      "text/plain": [
       "name           6143\n",
       "brand          6143\n",
       "gender         6143\n",
       "category       6143\n",
       "size           6143\n",
       "price          6143\n",
       "color          6134\n",
       "composition    6143\n",
       "url            6143\n",
       "img_url        6143\n",
       "article_no     6143\n",
       "blob_url          0\n",
       "dtype: int64"
      ]
     },
     "execution_count": 2,
     "metadata": {},
     "output_type": "execute_result"
    }
   ],
   "source": [
    "df=result.drop_duplicates()\n",
    "result.drop_duplicates().count()"
   ]
  },
  {
   "cell_type": "code",
   "execution_count": 3,
   "metadata": {},
   "outputs": [
    {
     "data": {
      "text/plain": [
       "array(['79kr', '59kr', '139kr', '129kr', '199kr', '149kr', '89kr',\n",
       "       '159kr', '169kr', '279kr', '249kr', '99kr', '69kr', '219kr',\n",
       "       '229kr', '299kr', '119kr', '49kr', '269kr', '419kr', '399kr',\n",
       "       '499kr', '699kr', '549kr', '349kr', '449kr', '329kr', '189kr',\n",
       "       '389kr', '289kr', '179kr', '479kr', '259kr'], dtype=object)"
      ]
     },
     "execution_count": 3,
     "metadata": {},
     "output_type": "execute_result"
    }
   ],
   "source": [
    "df['price'].unique()"
   ]
  },
  {
   "cell_type": "code",
   "execution_count": 4,
   "metadata": {},
   "outputs": [
    {
     "data": {
      "text/plain": [
       "array(['79', '59', '139', '129', '199', '149', '89', '159', '169', '279',\n",
       "       '249', '99', '69', '219', '229', '299', '119', '49', '269', '419',\n",
       "       '399', '499', '699', '549', '349', '449', '329', '189', '389',\n",
       "       '289', '179', '479', '259'], dtype=object)"
      ]
     },
     "execution_count": 4,
     "metadata": {},
     "output_type": "execute_result"
    }
   ],
   "source": [
    "df2=df\n",
    "df2['price']=df2['price'].str.strip('kr')\n",
    "df2['price'].unique()"
   ]
  },
  {
   "cell_type": "code",
   "execution_count": null,
   "metadata": {},
   "outputs": [],
   "source": []
  },
  {
   "cell_type": "code",
   "execution_count": 5,
   "metadata": {},
   "outputs": [
    {
     "data": {
      "text/plain": [
       "array(['128/134', '140/146', '152/158', '164/170', '116/122', '176/182',\n",
       "       '128', '134', '140', '146', '152', '158', '164', '170', '176',\n",
       "       '104/110', '116', '122', '92/98', '182', '35-38', '39-42', '43-46',\n",
       "       '47/48', '36', '37', '38', '39', '40', '41', '42', '43', '44',\n",
       "       '45', '35', '34', '46', '32', '33', '24', '25', '26', '27', '28',\n",
       "       '29', '30', '31'], dtype=object)"
      ]
     },
     "execution_count": 5,
     "metadata": {},
     "output_type": "execute_result"
    }
   ],
   "source": [
    "df3=df2\n",
    "df3['size']=df3['size'].str.strip()\n",
    "df3['size']=df3['size'].str.replace('Storlek','')\n",
    "\n",
    "\n",
    "df3['size'].unique()"
   ]
  },
  {
   "cell_type": "code",
   "execution_count": 10,
   "metadata": {},
   "outputs": [
    {
     "data": {
      "text/plain": [
       "{'110',\n",
       " '116',\n",
       " '122',\n",
       " '128',\n",
       " '134',\n",
       " '140',\n",
       " '146',\n",
       " '152',\n",
       " '158',\n",
       " '164',\n",
       " '170',\n",
       " '176',\n",
       " '182',\n",
       " '24',\n",
       " '25',\n",
       " '26',\n",
       " '27',\n",
       " '28',\n",
       " '29',\n",
       " '30',\n",
       " '31',\n",
       " '32',\n",
       " '33',\n",
       " '34',\n",
       " '35',\n",
       " '36',\n",
       " '37',\n",
       " '38',\n",
       " '39',\n",
       " '40',\n",
       " '41',\n",
       " '42',\n",
       " '43',\n",
       " '44',\n",
       " '45',\n",
       " '46',\n",
       " '48',\n",
       " '98'}"
      ]
     },
     "execution_count": 10,
     "metadata": {},
     "output_type": "execute_result"
    }
   ],
   "source": [
    "sz_list=df3['size'].tolist()\n",
    "\n",
    "new_siz=[]\n",
    "\n",
    "for s in sz_list:\n",
    "    \n",
    "    if s.find(\"/\")!=-1:\n",
    "        s=s.split(\"/\")[1]\n",
    "\n",
    "    if s.find(\"-\")!=-1:\n",
    "        s=s.split(\"-\")[1]\n",
    "        \n",
    "    new_siz.append(s)\n",
    "set(new_siz)\n"
   ]
  },
  {
   "cell_type": "code",
   "execution_count": 11,
   "metadata": {},
   "outputs": [],
   "source": [
    "df3['new_size']=new_siz"
   ]
  },
  {
   "cell_type": "code",
   "execution_count": 12,
   "metadata": {},
   "outputs": [
    {
     "data": {
      "text/html": [
       "<div>\n",
       "<style scoped>\n",
       "    .dataframe tbody tr th:only-of-type {\n",
       "        vertical-align: middle;\n",
       "    }\n",
       "\n",
       "    .dataframe tbody tr th {\n",
       "        vertical-align: top;\n",
       "    }\n",
       "\n",
       "    .dataframe thead th {\n",
       "        text-align: right;\n",
       "    }\n",
       "</style>\n",
       "<table border=\"1\" class=\"dataframe\">\n",
       "  <thead>\n",
       "    <tr style=\"text-align: right;\">\n",
       "      <th></th>\n",
       "      <th>article_no</th>\n",
       "      <th>gender</th>\n",
       "      <th>category</th>\n",
       "      <th>price</th>\n",
       "      <th>new_size</th>\n",
       "      <th>brand</th>\n",
       "    </tr>\n",
       "  </thead>\n",
       "  <tbody>\n",
       "    <tr>\n",
       "      <th>0</th>\n",
       "      <td>90352981</td>\n",
       "      <td>girl</td>\n",
       "      <td>Dresses</td>\n",
       "      <td>79</td>\n",
       "      <td>134</td>\n",
       "      <td>bpc bonprix collection</td>\n",
       "    </tr>\n",
       "    <tr>\n",
       "      <th>1</th>\n",
       "      <td>90352981</td>\n",
       "      <td>girl</td>\n",
       "      <td>Dresses</td>\n",
       "      <td>79</td>\n",
       "      <td>146</td>\n",
       "      <td>bpc bonprix collection</td>\n",
       "    </tr>\n",
       "  </tbody>\n",
       "</table>\n",
       "</div>"
      ],
      "text/plain": [
       "   article_no gender category price new_size                   brand\n",
       "0    90352981   girl  Dresses    79      134  bpc bonprix collection\n",
       "1    90352981   girl  Dresses    79      146  bpc bonprix collection"
      ]
     },
     "execution_count": 12,
     "metadata": {},
     "output_type": "execute_result"
    }
   ],
   "source": [
    "colunms=['article_no','gender','category','price','new_size','brand']\n",
    "df4=df3[colunms]\n",
    "df4.head(2)"
   ]
  },
  {
   "cell_type": "code",
   "execution_count": 13,
   "metadata": {},
   "outputs": [],
   "source": [
    "dfr=df4\n",
    "dfr.to_csv('bonprix_cleaned.csv',index=False) #for rows not showing\n"
   ]
  },
  {
   "cell_type": "code",
   "execution_count": null,
   "metadata": {},
   "outputs": [],
   "source": []
  }
 ],
 "metadata": {
  "kernelspec": {
   "display_name": "Python 3",
   "language": "python",
   "name": "python3"
  },
  "language_info": {
   "codemirror_mode": {
    "name": "ipython",
    "version": 3
   },
   "file_extension": ".py",
   "mimetype": "text/x-python",
   "name": "python",
   "nbconvert_exporter": "python",
   "pygments_lexer": "ipython3",
   "version": "3.5.3"
  }
 },
 "nbformat": 4,
 "nbformat_minor": 4
}

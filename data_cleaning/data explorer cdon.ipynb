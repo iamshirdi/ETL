{
 "cells": [
  {
   "cell_type": "code",
   "execution_count": 2,
   "metadata": {},
   "outputs": [
    {
     "name": "stdout",
     "output_type": "stream",
     "text": [
      "name          8129\n",
      "brand         8129\n",
      "gender        8129\n",
      "category      8129\n",
      "size          8129\n",
      "price         8129\n",
      "color         8129\n",
      "url           8129\n",
      "img_url       8129\n",
      "article_no    8129\n",
      "dtype: int64\n"
     ]
    },
    {
     "data": {
      "text/html": [
       "<div>\n",
       "<style scoped>\n",
       "    .dataframe tbody tr th:only-of-type {\n",
       "        vertical-align: middle;\n",
       "    }\n",
       "\n",
       "    .dataframe tbody tr th {\n",
       "        vertical-align: top;\n",
       "    }\n",
       "\n",
       "    .dataframe thead th {\n",
       "        text-align: right;\n",
       "    }\n",
       "</style>\n",
       "<table border=\"1\" class=\"dataframe\">\n",
       "  <thead>\n",
       "    <tr style=\"text-align: right;\">\n",
       "      <th></th>\n",
       "      <th>name</th>\n",
       "      <th>brand</th>\n",
       "      <th>gender</th>\n",
       "      <th>category</th>\n",
       "      <th>size</th>\n",
       "      <th>price</th>\n",
       "      <th>color</th>\n",
       "      <th>url</th>\n",
       "      <th>img_url</th>\n",
       "      <th>article_no</th>\n",
       "    </tr>\n",
       "  </thead>\n",
       "  <tbody>\n",
       "    <tr>\n",
       "      <th>0</th>\n",
       "      <td>Babyset Teddy 5 delar, Pink</td>\n",
       "      <td>Ellos Kids</td>\n",
       "      <td>\\r\\nBarn\\t\\t\\t</td>\n",
       "      <td>BODIES &amp; SPARKDRÄKTER</td>\n",
       "      <td>50</td>\n",
       "      <td>119 kr\\n\\n        449 kr</td>\n",
       "      <td>\\r\\nRosa\\t\\t\\t</td>\n",
       "      <td>https://cdon.se/klader/babyset-teddy-5-delar-p46611322-62114086</td>\n",
       "      <td>https://cdn.cdon.com/media-dynamic/images/product/clothing/clothing/image150/babyset_teddy_5_delar-46611322-62114086-org.jpg</td>\n",
       "      <td>46611322</td>\n",
       "    </tr>\n",
       "    <tr>\n",
       "      <th>1</th>\n",
       "      <td>Babyset Teddy 5 delar, Pink</td>\n",
       "      <td>Ellos Kids</td>\n",
       "      <td>\\r\\nBarn\\t\\t\\t</td>\n",
       "      <td>BODIES &amp; SPARKDRÄKTER</td>\n",
       "      <td>56</td>\n",
       "      <td>119 kr\\n\\n        449 kr</td>\n",
       "      <td>\\r\\nRosa\\t\\t\\t</td>\n",
       "      <td>https://cdon.se/klader/babyset-teddy-5-delar-p46611322-62114086</td>\n",
       "      <td>https://cdn.cdon.com/media-dynamic/images/product/clothing/clothing/image150/babyset_teddy_5_delar-46611322-62114086-org.jpg</td>\n",
       "      <td>46611322</td>\n",
       "    </tr>\n",
       "    <tr>\n",
       "      <th>2</th>\n",
       "      <td>Babyset Teddy 5 delar, Pink</td>\n",
       "      <td>Ellos Kids</td>\n",
       "      <td>\\r\\nBarn\\t\\t\\t</td>\n",
       "      <td>BODIES &amp; SPARKDRÄKTER</td>\n",
       "      <td>62</td>\n",
       "      <td>119 kr\\n\\n        449 kr</td>\n",
       "      <td>\\r\\nRosa\\t\\t\\t</td>\n",
       "      <td>https://cdon.se/klader/babyset-teddy-5-delar-p46611322-62114086</td>\n",
       "      <td>https://cdn.cdon.com/media-dynamic/images/product/clothing/clothing/image150/babyset_teddy_5_delar-46611322-62114086-org.jpg</td>\n",
       "      <td>46611322</td>\n",
       "    </tr>\n",
       "  </tbody>\n",
       "</table>\n",
       "</div>"
      ],
      "text/plain": [
       "                          name       brand          gender  \\\n",
       "0  Babyset Teddy 5 delar, Pink  Ellos Kids  \\r\\nBarn\\t\\t\\t   \n",
       "1  Babyset Teddy 5 delar, Pink  Ellos Kids  \\r\\nBarn\\t\\t\\t   \n",
       "2  Babyset Teddy 5 delar, Pink  Ellos Kids  \\r\\nBarn\\t\\t\\t   \n",
       "\n",
       "                category size                     price           color  \\\n",
       "0  BODIES & SPARKDRÄKTER  50   119 kr\\n\\n        449 kr  \\r\\nRosa\\t\\t\\t   \n",
       "1  BODIES & SPARKDRÄKTER  56   119 kr\\n\\n        449 kr  \\r\\nRosa\\t\\t\\t   \n",
       "2  BODIES & SPARKDRÄKTER  62   119 kr\\n\\n        449 kr  \\r\\nRosa\\t\\t\\t   \n",
       "\n",
       "                                                               url  \\\n",
       "0  https://cdon.se/klader/babyset-teddy-5-delar-p46611322-62114086   \n",
       "1  https://cdon.se/klader/babyset-teddy-5-delar-p46611322-62114086   \n",
       "2  https://cdon.se/klader/babyset-teddy-5-delar-p46611322-62114086   \n",
       "\n",
       "                                                                                                                        img_url  \\\n",
       "0  https://cdn.cdon.com/media-dynamic/images/product/clothing/clothing/image150/babyset_teddy_5_delar-46611322-62114086-org.jpg   \n",
       "1  https://cdn.cdon.com/media-dynamic/images/product/clothing/clothing/image150/babyset_teddy_5_delar-46611322-62114086-org.jpg   \n",
       "2  https://cdn.cdon.com/media-dynamic/images/product/clothing/clothing/image150/babyset_teddy_5_delar-46611322-62114086-org.jpg   \n",
       "\n",
       "   article_no  \n",
       "0  46611322    \n",
       "1  46611322    \n",
       "2  46611322    "
      ]
     },
     "execution_count": 2,
     "metadata": {},
     "output_type": "execute_result"
    }
   ],
   "source": [
    "import pandas as pd\n",
    "pd.set_option('display.max_colwidth', -1) #full colunm dispaly\n",
    "\n",
    "result=pd.read_csv(\"Image-Classification-and-Price-prediction/scrapping/data/cdon.csv\", encoding='utf-8',index_col=False)\n",
    "print(result.count())\n",
    "result.head(3)"
   ]
  },
  {
   "cell_type": "code",
   "execution_count": 3,
   "metadata": {},
   "outputs": [
    {
     "data": {
      "text/plain": [
       "name          8108\n",
       "brand         8108\n",
       "gender        8108\n",
       "category      8108\n",
       "size          8108\n",
       "price         8108\n",
       "color         8108\n",
       "url           8108\n",
       "img_url       8108\n",
       "article_no    8108\n",
       "dtype: int64"
      ]
     },
     "execution_count": 3,
     "metadata": {},
     "output_type": "execute_result"
    }
   ],
   "source": [
    "df=result.drop_duplicates()\n",
    "result.drop_duplicates().count()"
   ]
  },
  {
   "cell_type": "code",
   "execution_count": 3,
   "metadata": {},
   "outputs": [
    {
     "data": {
      "text/plain": [
       "array(['Barn', 'Pojke', 'Flicka', 'Barn - Unisex', 'Junior'], dtype=object)"
      ]
     },
     "execution_count": 3,
     "metadata": {},
     "output_type": "execute_result"
    }
   ],
   "source": [
    "\n",
    "df['gender'].str.strip().unique()"
   ]
  },
  {
   "cell_type": "code",
   "execution_count": 4,
   "metadata": {},
   "outputs": [
    {
     "data": {
      "text/plain": [
       "(1280,)"
      ]
     },
     "execution_count": 4,
     "metadata": {},
     "output_type": "execute_result"
    }
   ],
   "source": [
    "df['article_no'].unique().shape"
   ]
  },
  {
   "cell_type": "code",
   "execution_count": 4,
   "metadata": {},
   "outputs": [
    {
     "data": {
      "text/plain": [
       "8108"
      ]
     },
     "execution_count": 4,
     "metadata": {},
     "output_type": "execute_result"
    }
   ],
   "source": [
    "pr_list=df['url'].tolist()\n",
    "len(pr_list)"
   ]
  },
  {
   "cell_type": "code",
   "execution_count": null,
   "metadata": {},
   "outputs": [],
   "source": [
    "pr"
   ]
  },
  {
   "cell_type": "code",
   "execution_count": 8,
   "metadata": {
    "collapsed": true,
    "jupyter": {
     "outputs_hidden": true
    }
   },
   "outputs": [
    {
     "name": "stdout",
     "output_type": "stream",
     "text": [
      "https://cdon.se/klader/babyset-teddy-5-delar-p46611322-62114085\n",
      "https://cdon.se/klader/body-stripe-p46611327-62114266\n",
      "https://cdon.se/klader/body-stripe-p46611327-62114266\n",
      "https://cdon.se/klader/body-hug-p46715395-62114065\n",
      "https://cdon.se/klader/body-dot-p46619663-62114273\n",
      "https://cdon.se/klader/body-dot-p46619663-62114273\n",
      "https://cdon.se/klader/babybody-i-bambu-p45233857\n",
      "https://cdon.se/klader/body-heart-p46570486-62114270\n",
      "https://cdon.se/klader/body-heart-p46570486-62114270\n",
      "https://cdon.se/klader/body-heart-p46570486-62114270\n",
      "https://cdon.se/klader/body-dot-p46619663-62114271\n",
      "https://cdon.se/klader/body-dot-p46619663-62114271\n",
      "https://cdon.se/klader/body-dot-p46619663-62114271\n",
      "https://cdon.se/klader/body-dot-p46619663-62114272\n",
      "https://cdon.se/klader/body-dot-p46619663-62114272\n",
      "https://cdon.se/klader/body-journey-p46734377-62114068\n",
      "https://cdon.se/klader/body-journey-p46734377-62114068\n",
      "https://cdon.se/klader/hummel-fashion-shaun-badshorts-p46966819-61102916\n",
      "https://cdon.se/klader/hummel-fashion-shaun-badshorts-p46966819-61102916\n",
      "https://cdon.se/klader/hummel-fashion-shaun-badshorts-p46966819-61102916\n",
      "https://cdon.se/klader/hummel-fashion-shaun-badshorts-p46966819-61102916\n",
      "https://cdon.se/klader/soft-gallery-dandy-uv-badshorts-p46452995-59181808\n",
      "https://cdon.se/klader/soft-gallery-dandy-uv-badshorts-p46452995-59181808\n",
      "https://cdon.se/klader/soft-gallery-dandy-uv-badshorts-p46452995-59181808\n",
      "https://cdon.se/klader/soft-gallery-dandy-uv-badshorts-p46452995-59181808\n",
      "https://cdon.se/klader/soft-gallery-dandy-uv-badshorts-p46452995-59181808\n",
      "https://cdon.se/klader/soft-gallery-dandy-uv-badshorts-p46452995-59181808\n",
      "https://cdon.se/klader/soft-gallery-dandy-uv-badshorts-p46452995-59181808\n",
      "https://cdon.se/klader/soft-gallery-dandy-uv-badshorts-p46452995-59181808\n",
      "https://cdon.se/klader/soft-gallery-dandy-uv-badshorts-p46452995-59181808\n",
      "https://cdon.se/klader/soft-gallery-don-uv-badshorts-p46477497-59263992\n",
      "https://cdon.se/klader/soft-gallery-don-uv-badshorts-p46477497-59263992\n",
      "https://cdon.se/klader/soft-gallery-don-uv-badshorts-p46477497-59263992\n",
      "https://cdon.se/klader/soft-gallery-don-uv-badshorts-p46477497-59263992\n",
      "https://cdon.se/klader/soft-gallery-don-uv-badshorts-p46477497-59263992\n",
      "https://cdon.se/klader/soft-gallery-pamela-uv-shorts-p46477498-59264003\n",
      "https://cdon.se/klader/soft-gallery-pamela-uv-shorts-p46477498-59264003\n",
      "https://cdon.se/klader/soft-gallery-pamela-uv-shorts-p46477498-59264003\n",
      "https://cdon.se/klader/soft-gallery-pamela-uv-shorts-p46477498-59264003\n",
      "https://cdon.se/klader/soft-gallery-pamela-uv-shorts-p46477498-59264003\n",
      "https://cdon.se/klader/soft-gallery-mina-uv-bikinitrosa-p46458374-59200754\n",
      "https://cdon.se/klader/soft-gallery-mina-uv-bikinitrosa-p46458374-59200754\n",
      "https://cdon.se/klader/soft-gallery-mina-uv-bikinitrosa-p46458374-59200754\n",
      "https://cdon.se/klader/soft-gallery-mina-uv-bikinitrosa-p46458374-59200754\n",
      "https://cdon.se/klader/soft-gallery-mina-uv-bikinitrosa-p46458374-59200754\n",
      "https://cdon.se/klader/soft-gallery-mina-uv-bikinitrosa-p46458374-59200754\n",
      "https://cdon.se/klader/hummel-fashion-spot-badshorts-p46966821-61102939\n",
      "https://cdon.se/klader/hummel-fashion-spot-badshorts-p46966821-61102939\n",
      "https://cdon.se/klader/hummel-fashion-spot-badshorts-p46966821-61102939\n",
      "https://cdon.se/klader/swettisbyxor-timmy-p46545393-62113367\n",
      "https://cdon.se/klader/byxor-p46685092-62114340\n",
      "https://cdon.se/klader/swettisbyxor-mike-p46554394-62113082\n",
      "https://cdon.se/klader/swettisbyxor-mike-p46554394-62113082\n",
      "https://cdon.se/klader/mjukisbyxor-journey-p46734378-62114069\n",
      "https://cdon.se/klader/shorts-p46638064-62113789\n",
      "https://cdon.se/klader/shorts-p46638064-62113789\n",
      "https://cdon.se/klader/mjukisbyxor-journey-p46734378-62114070\n",
      "https://cdon.se/klader/mjukisbyxor-journey-p46734378-62114070\n",
      "https://cdon.se/klader/mjukisbyxor-journey-p46734378-62114070\n",
      "https://cdon.se/klader/mjukisbyxor-dot-p46611328-62114284\n",
      "https://cdon.se/klader/sweatshirtbyxor-basic-p46651666-62114419\n",
      "https://cdon.se/klader/sweatshirtbyxor-basic-p46651666-62114419\n",
      "https://cdon.se/klader/phister-philina-habit-sully-byxor-p41230979-37854329\n",
      "https://cdon.se/klader/name-it-theo-jeans-p42793781-42971608\n",
      "https://cdon.se/klader/jeans-i-femficksmodell-regular-p46307091-62109663\n",
      "https://cdon.se/klader/jeans-i-femficksmodell-regular-p46307091-62109663\n",
      "https://cdon.se/klader/jeans-med-handbrush-effekt-slim-fit-p46307951-62110448\n",
      "https://cdon.se/klader/fleecebyxa-leo-p46350436-62110610\n",
      "https://cdon.se/klader/mjukisbyxor-dot-p46611328-62114283\n",
      "https://cdon.se/klader/mjukisbyxor-dot-p46611328-62114283\n",
      "https://cdon.se/klader/mjukisbyxor-dot-p46611328-62114283\n",
      "https://cdon.se/klader/mjukisbyxor-dot-p46611328-62114285\n",
      "https://cdon.se/klader/mjukisbyxor-dot-p46611328-62114285\n",
      "https://cdon.se/klader/sweatshirtbyxor-basic-p46651666-66386366\n",
      "https://cdon.se/klader/bobo-choses-apples-bermuda-shorts-p46696247-60106661\n",
      "https://cdon.se/klader/bobo-choses-apples-bermuda-shorts-p46696247-60106661\n",
      "https://cdon.se/klader/bobo-choses-apples-bermuda-shorts-p46696247-60106661\n",
      "https://cdon.se/klader/bobo-choses-apples-bermuda-shorts-p46696247-60106661\n",
      "https://cdon.se/klader/hummel-fashion-habit-limar-byxor-p46836085-60666004\n",
      "https://cdon.se/klader/byxor-i-culottemodell-p46896508-62114631\n",
      "https://cdon.se/klader/byxor-i-culottemodell-p46896508-62114631\n",
      "https://cdon.se/klader/hummel-fashion-scar-shorts-p47357305-62328292\n",
      "https://cdon.se/klader/name-it-theo-jeans-p42793781-42971608\n",
      "https://cdon.se/klader/jeans-i-femficksmodell-regular-p46307091-62109663\n",
      "https://cdon.se/klader/jeans-i-femficksmodell-regular-p46307091-62109663\n",
      "https://cdon.se/klader/jeans-med-handbrush-effekt-slim-fit-p46307951-62110448\n",
      "https://cdon.se/klader/shorts-p46638064-62113789\n",
      "https://cdon.se/klader/shorts-p46638064-62113789\n",
      "https://cdon.se/klader/chinosshorts-brayden-p46611274-66019344\n",
      "https://cdon.se/klader/chinosshorts-brayden-p46611274-66019344\n",
      "https://cdon.se/klader/klanning-aicha-p46309068-62112565\n",
      "https://cdon.se/klader/klanning-elli-p46309203-62112837\n",
      "https://cdon.se/klader/klanning-elli-p46309203-62112837\n",
      "https://cdon.se/klader/klanning-elli-p46309203-62112837\n",
      "https://cdon.se/klader/klanning-elli-p46309203-62112837\n",
      "https://cdon.se/klader/klanning-elli-p46309203-62112837\n",
      "https://cdon.se/klader/klanning-elli-p46309203-62112837\n",
      "https://cdon.se/klader/klanning-elli-p46309203-62112837\n",
      "https://cdon.se/klader/klanning-aicha-p46309068-62112564\n",
      "https://cdon.se/klader/sweatshirtklanning-yrsa-p46495384-62113709\n",
      "https://cdon.se/klader/klanning-hedvig-p46570465-62113743\n",
      "https://cdon.se/klader/klanning-hedvig-p46570465-62113743\n",
      "https://cdon.se/klader/klanning-elli-p46309203-62112838\n",
      "https://cdon.se/klader/klanning-felicia-p46309073-62112579\n",
      "https://cdon.se/klader/klanning-lea-p46309101-62112647\n",
      "https://cdon.se/klader/klanning-lea-p46309101-62112647\n",
      "https://cdon.se/klader/klanning-corinne-p46309197-62112830\n",
      "https://cdon.se/klader/cardigan-i-ekologisk-bomull-p46306896-62109393\n",
      "https://cdon.se/klader/t-shirt-spiderman-p47360546\n",
      "https://cdon.se/klader/t-shirt-hector-p46545396-62113416\n",
      "https://cdon.se/klader/t-shirt-stefan-p46545394-62113400\n",
      "https://cdon.se/klader/t-shirt-stefan-p46545394-62113400\n",
      "https://cdon.se/klader/t-shirt-stefan-p46545394-62113400\n",
      "https://cdon.se/klader/t-shirt-jonas-p46545395-62113414\n",
      "https://cdon.se/klader/t-shirt-esias-p47295343-62113431\n",
      "https://cdon.se/klader/t-shirt-raul-p46685068-62113352\n",
      "https://cdon.se/klader/t-shirt-raul-p46685068-62113352\n",
      "https://cdon.se/klader/t-shirt-ebbe-p47295349-62114581\n",
      "https://cdon.se/klader/t-shirt-cars-p47937169\n",
      "https://cdon.se/klader/t-shirt-ricky-p46611288-62113347\n",
      "https://cdon.se/klader/t-shirt-maximus-p46809944-62113333\n",
      "https://cdon.se/klader/t-shirt-leon-p46611276-62113059\n",
      "https://cdon.se/klader/t-shirt-leon-p46611276-62113059\n",
      "https://cdon.se/klader/t-shirt-leon-p46611276-62113059\n",
      "https://cdon.se/klader/t-shirt-leon-p46611276-62113059\n",
      "https://cdon.se/klader/t-shirt-leon-p46611276-62113059\n",
      "https://cdon.se/klader/t-shirt-harry-p46619647-62113323\n",
      "https://cdon.se/klader/soft-gallery-astin-uv-troja-p46458379-59200759\n",
      "https://cdon.se/klader/soft-gallery-astin-uv-troja-p46458379-59200759\n",
      "https://cdon.se/klader/soft-gallery-astin-uv-troja-p46458379-59200759\n",
      "https://cdon.se/klader/soft-gallery-astin-uv-troja-p46458379-59200759\n",
      "https://cdon.se/klader/soft-gallery-astin-uv-troja-p46458379-59200759\n",
      "https://cdon.se/klader/t-shirt-thor-p46619650-62113397\n",
      "https://cdon.se/klader/t-shirt-thor-p46619650-62113397\n",
      "https://cdon.se/klader/t-shirt-thor-p46619650-62113397\n",
      "https://cdon.se/klader/t-shirt-claes-p47295347-62114545\n",
      "https://cdon.se/klader/t-shirt-claes-p47295347-62114545\n",
      "https://cdon.se/klader/t-shirt-ossian-p46619649-62113395\n",
      "https://cdon.se/klader/t-shirt-ossian-p46619649-62113395\n",
      "https://cdon.se/klader/t-shirt-ossian-p46619649-62113395\n",
      "https://cdon.se/klader/t-shirt-l-s-tee-martin-p46309085-62112599\n",
      "https://cdon.se/klader/t-shirt-victor-p46309022-62112496\n",
      "https://cdon.se/klader/soft-gallery-mille-uv-baddrakt-p46452994-59181789\n",
      "https://cdon.se/klader/soft-gallery-mille-uv-baddrakt-p46452994-59181789\n",
      "https://cdon.se/klader/soft-gallery-mille-uv-baddrakt-p46452994-59181789\n",
      "https://cdon.se/klader/soft-gallery-mille-uv-baddrakt-p46452994-59181789\n",
      "https://cdon.se/klader/soft-gallery-mille-uv-baddrakt-p46452994-59181789\n",
      "https://cdon.se/klader/soft-gallery-mille-uv-baddrakt-p46452994-59181789\n",
      "https://cdon.se/klader/soft-gallery-baby-astin-uv-troja-p46458376-59200756\n",
      "https://cdon.se/klader/soft-gallery-baby-astin-uv-troja-p46458376-59200756\n",
      "https://cdon.se/klader/soft-gallery-baby-astin-uv-troja-p46458376-59200756\n",
      "https://cdon.se/klader/soft-gallery-baby-astin-uv-troja-p46458376-59200756\n",
      "https://cdon.se/klader/soft-gallery-baby-astin-uv-troja-p46458376-59200756\n",
      "https://cdon.se/klader/soft-gallery-baby-astin-uv-troja-p46458376-59200756\n",
      "https://cdon.se/klader/soft-gallery-astin-uv-troja-p46477501-59264040\n",
      "https://cdon.se/klader/soft-gallery-astin-uv-troja-p46477501-59264040\n",
      "https://cdon.se/klader/soft-gallery-astin-uv-troja-p46477501-59264040\n",
      "https://cdon.se/klader/soft-gallery-astin-uv-troja-p46477501-59264040\n",
      "https://cdon.se/klader/soft-gallery-astin-uv-troja-p46477501-59264040\n",
      "https://cdon.se/klader/hummel-fashion-zab-badklader-p46966822-61102967\n",
      "https://cdon.se/klader/hummel-fashion-zab-badklader-p46966822-61102967\n",
      "https://cdon.se/klader/hummel-fashion-zab-badklader-p46966822-61102967\n",
      "https://cdon.se/klader/hummel-fashion-oyster-uv-t-shirt-p46966825-61103064\n",
      "https://cdon.se/klader/hummel-fashion-oyster-uv-t-shirt-p46966825-61103064\n",
      "https://cdon.se/klader/hummel-fashion-oyster-uv-t-shirt-p46966825-61103064\n",
      "https://cdon.se/klader/hummel-fashion-oyster-uv-t-shirt-p46966825-61103064\n",
      "https://cdon.se/klader/t-shirt-esias-p47295343-66370425\n",
      "https://cdon.se/klader/lego-wear-troja-p48246576-66391999\n",
      "https://cdon.se/klader/lego-wear-troja-p48246576-66391999\n",
      "https://cdon.se/klader/lego-wear-troja-p48246576-66391999\n",
      "https://cdon.se/klader/lego-wear-troja-p48246576-66391999\n",
      "https://cdon.se/klader/lego-wear-troja-p48246576-66391999\n",
      "https://cdon.se/klader/lego-wear-troja-p48246576-66391999\n",
      "https://cdon.se/klader/lego-wear-troja-p48246576-66391999\n",
      "https://cdon.se/klader/sweatshirt-p46651665-62114403\n",
      "https://cdon.se/klader/sweatshirt-p46651665-62114403\n",
      "https://cdon.se/klader/sweatshirt-harriet-p46309072-60009417\n",
      "https://cdon.se/klader/sweatshirt-harriet-p46309072-62112575\n",
      "https://cdon.se/klader/sweatshirt-harriet-p46309072-62112575\n",
      "https://cdon.se/klader/huvtroja-elize-p46309074-62112585\n",
      "https://cdon.se/klader/sweatshirt-p46797959-62114415\n",
      "https://cdon.se/klader/sweatshirt-p46797959-62114415\n",
      "https://cdon.se/klader/sweatshirt-p46797959-62114415\n",
      "https://cdon.se/klader/sweatshirt-theo-p46545392-62113362\n",
      "https://cdon.se/klader/sweatshirt-theo-p46545392-62113362\n",
      "https://cdon.se/klader/jultroja-milton-p46309319-62113070\n",
      "https://cdon.se/klader/jultroja-milton-p46309319-62113070\n",
      "https://cdon.se/klader/sweatshirt-p46685091-62114337\n",
      "https://cdon.se/klader/sweatshirtjacka-med-huva-p46797958-62114398\n",
      "https://cdon.se/klader/sweatshirtjacka-med-huva-p46797958-62114398\n",
      "https://cdon.se/klader/sockar-7-pack-p46308041-62110614\n",
      "https://cdon.se/klader/my-little-pony-2-pack-halksockar-p46965269\n",
      "https://cdon.se/klader/my-little-pony-2-pack-halksockar-p46965269\n",
      "https://cdon.se/klader/my-little-pony-2-pack-halksockar-p46965269\n",
      "https://cdon.se/klader/3-par-trosor-frozen-frost-p47773005\n",
      "https://cdon.se/klader/hipstertrosa-i-ekologisk-bomull-p46350174-62109460\n",
      "https://cdon.se/klader/pyjamas-teddy-friends-i-2-pack-p47717101-63527460\n",
      "https://cdon.se/klader/weather-report-tusi-junior-p42310179-41385589\n",
      "https://cdon.se/klader/weather-report-tusi-junior-p42310179-41385589\n",
      "https://cdon.se/klader/weather-report-tusi-junior-p42310179-41385589\n",
      "https://cdon.se/klader/weather-report-tusi-junior-p42310179-41385589\n",
      "https://cdon.se/klader/weather-report-tusi-junior-p42310179-41385589\n",
      "https://cdon.se/klader/weather-report-tusi-junior-p42310179-41385589\n",
      "https://cdon.se/klader/vinteroverall-med-avtagbar-huva-p46306954-62109601\n",
      "https://cdon.se/klader/pyjamas-teddy-friends-i-2-pack-p47717101-63527460\n",
      "https://cdon.se/klader/weather-report-tusi-junior-p42310179-41385589\n",
      "https://cdon.se/klader/weather-report-tusi-junior-p42310179-41385589\n",
      "https://cdon.se/klader/weather-report-tusi-junior-p42310179-41385589\n",
      "https://cdon.se/klader/weather-report-tusi-junior-p42310179-41385589\n",
      "https://cdon.se/klader/weather-report-tusi-junior-p42310179-41385589\n",
      "https://cdon.se/klader/weather-report-tusi-junior-p42310179-41385589\n",
      "https://cdon.se/klader/vinteroverall-med-avtagbar-huva-p46306954-62109601\n",
      "https://cdon.se/klader/tenson-sky-stripe-kid-s-rainset-p42264959-41241226\n",
      "https://cdon.se/klader/tenson-sky-stripe-kid-s-rainset-p42264959-41241226\n",
      "https://cdon.se/klader/tenson-sky-stripe-kid-s-rainset-p42264959-41241226\n",
      "https://cdon.se/klader/tenson-sky-stripe-kid-s-rainset-p42264959-41241226\n",
      "https://cdon.se/klader/tenson-sky-stripe-kid-s-rainset-p42264959-41241226\n",
      "https://cdon.se/klader/vattentat-fleecefodrad-regnoverall-p46306936-62109453\n"
     ]
    }
   ],
   "source": [
    "import requests\n",
    "from bs4 import BeautifulSoup\n",
    "\n",
    "new_pr=[]\n",
    "for c,pr in enumerate(pr_list):\n",
    "    try:\n",
    "        html_doc=requests.get(pr).content.decode()\n",
    "        soup = BeautifulSoup(html_doc, 'html.parser')\n",
    "        pri=soup.find(\"meta\",attrs={\"itemprop\":\"price\"})['content']\n",
    "        new_pr.append(pri)\n",
    "        if c%300==0 & c!=0:\n",
    "            print(c)\n",
    "            print(new_pr)\n",
    "        \n",
    "    except:\n",
    "        print(pr)\n",
    "        new_pr.append('Na')\n",
    "\n",
    "        continue\n",
    "\n",
    "    \n",
    "    "
   ]
  },
  {
   "cell_type": "code",
   "execution_count": 11,
   "metadata": {},
   "outputs": [
    {
     "name": "stderr",
     "output_type": "stream",
     "text": [
      "/usr/local/lib/python3.5/dist-packages/ipykernel_launcher.py:1: SettingWithCopyWarning: \n",
      "A value is trying to be set on a copy of a slice from a DataFrame.\n",
      "Try using .loc[row_indexer,col_indexer] = value instead\n",
      "\n",
      "See the caveats in the documentation: http://pandas.pydata.org/pandas-docs/stable/user_guide/indexing.html#returning-a-view-versus-a-copy\n",
      "  \"\"\"Entry point for launching an IPython kernel.\n"
     ]
    }
   ],
   "source": [
    "df['new_price']=new_pr"
   ]
  },
  {
   "cell_type": "code",
   "execution_count": 13,
   "metadata": {},
   "outputs": [
    {
     "data": {
      "text/plain": [
       "array(['179', '149', 'Na', '59', '125', '99', '199', '119', '129', '219',\n",
       "       '139', '69', '84', '142', '110', '299', '101', '229', '409', '159',\n",
       "       '79', '169', '349', '109', '359', '309', '249', '77', '89', '104',\n",
       "       '90', '209', '25', '29', '49', '174', '449', '345', '399', '279',\n",
       "       '195', '193', '499', '379', '100', '107', '97', '55', '75', '329',\n",
       "       '144', '128', '41', '50', '127', '99,5', '259', '319', '161',\n",
       "       '114,5', '239', '183,2', '469', '699', '509', '432,65', '322,15',\n",
       "       '439', '289', '519', '529', '369', '465', '112', '162', '189',\n",
       "       '505', '204', '183', '419', '455', '265', '269', '255', '389',\n",
       "       '175', '385', '459', '167', '244', '133', '137', '799', '181',\n",
       "       '188', '549', '124,5', '140', '74', '74,5', '94,5', '200', '89,5',\n",
       "       '65', '173', '244,3', '106', '116', '111', '93', '899', '418,9',\n",
       "       '160', '31', '63', '339', '599', '186', '939', '559', '609', '489',\n",
       "       '296,65', '339,15'], dtype=object)"
      ]
     },
     "execution_count": 13,
     "metadata": {},
     "output_type": "execute_result"
    }
   ],
   "source": [
    "df['new_price'].unique()"
   ]
  },
  {
   "cell_type": "code",
   "execution_count": 19,
   "metadata": {},
   "outputs": [
    {
     "data": {
      "text/plain": [
       "name          218\n",
       "brand         218\n",
       "gender        218\n",
       "category      218\n",
       "size          218\n",
       "price         218\n",
       "color         218\n",
       "url           218\n",
       "img_url       218\n",
       "article_no    218\n",
       "new_price     218\n",
       "dtype: int64"
      ]
     },
     "execution_count": 19,
     "metadata": {},
     "output_type": "execute_result"
    }
   ],
   "source": [
    "df[df['new_price']!='Na'].count()"
   ]
  },
  {
   "cell_type": "code",
   "execution_count": 20,
   "metadata": {},
   "outputs": [],
   "source": [
    "df2=df[df['new_price']!='Na']"
   ]
  },
  {
   "cell_type": "code",
   "execution_count": 23,
   "metadata": {},
   "outputs": [
    {
     "name": "stderr",
     "output_type": "stream",
     "text": [
      "/usr/local/lib/python3.5/dist-packages/ipykernel_launcher.py:6: SettingWithCopyWarning: \n",
      "A value is trying to be set on a copy of a slice from a DataFrame.\n",
      "Try using .loc[row_indexer,col_indexer] = value instead\n",
      "\n",
      "See the caveats in the documentation: http://pandas.pydata.org/pandas-docs/stable/user_guide/indexing.html#returning-a-view-versus-a-copy\n",
      "  \n",
      "/usr/local/lib/python3.5/dist-packages/ipykernel_launcher.py:7: SettingWithCopyWarning: \n",
      "A value is trying to be set on a copy of a slice from a DataFrame.\n",
      "Try using .loc[row_indexer,col_indexer] = value instead\n",
      "\n",
      "See the caveats in the documentation: http://pandas.pydata.org/pandas-docs/stable/user_guide/indexing.html#returning-a-view-versus-a-copy\n",
      "  import sys\n",
      "/usr/local/lib/python3.5/dist-packages/ipykernel_launcher.py:8: SettingWithCopyWarning: \n",
      "A value is trying to be set on a copy of a slice from a DataFrame.\n",
      "Try using .loc[row_indexer,col_indexer] = value instead\n",
      "\n",
      "See the caveats in the documentation: http://pandas.pydata.org/pandas-docs/stable/user_guide/indexing.html#returning-a-view-versus-a-copy\n",
      "  \n"
     ]
    }
   ],
   "source": [
    "pd.options.display.float_format = '{:,.0f}'.format\n",
    "df2.new_price=df2.new_price.str.replace(\",\",\".\")\n",
    "\n",
    "\n",
    "\n",
    "df2['new_price']=df2['new_price'].astype(float)\n",
    "df2['new_price']=df2['new_price'].round()\n",
    "df2['new_price']=df2['new_price'].astype(int)\n"
   ]
  },
  {
   "cell_type": "code",
   "execution_count": 24,
   "metadata": {},
   "outputs": [
    {
     "data": {
      "text/plain": [
       "array([179, 149,  59, 125,  99, 199, 119, 129, 219, 139,  69,  84, 142,\n",
       "       110, 299, 101, 229, 409, 159,  79, 169, 349, 109, 359, 309, 249,\n",
       "        77,  89, 104,  90, 209,  25,  29,  49, 174, 449, 345, 399, 279,\n",
       "       195, 193, 499, 379, 100, 107,  97,  55,  75, 329, 144, 128,  41,\n",
       "        50, 127, 259, 319, 161, 114, 239, 183, 469, 699, 509, 433, 322,\n",
       "       439, 289, 519, 529, 369, 465, 112, 162, 189, 505, 204, 419, 455,\n",
       "       265, 269, 255, 389, 175, 385, 459, 167, 244, 133, 137, 799, 181,\n",
       "       188, 549, 124, 140,  74,  94, 200,  65, 173, 106, 116, 111,  93,\n",
       "       899, 160,  31,  63, 339, 599, 186, 939, 559, 609, 489, 297])"
      ]
     },
     "execution_count": 24,
     "metadata": {},
     "output_type": "execute_result"
    }
   ],
   "source": [
    "df2['new_price'].unique()"
   ]
  },
  {
   "cell_type": "code",
   "execution_count": 9,
   "metadata": {},
   "outputs": [
    {
     "data": {
      "text/plain": [
       "8108"
      ]
     },
     "execution_count": 9,
     "metadata": {},
     "output_type": "execute_result"
    }
   ],
   "source": [
    "len(new_pr)"
   ]
  },
  {
   "cell_type": "code",
   "execution_count": 8,
   "metadata": {},
   "outputs": [
    {
     "data": {
      "text/plain": [
       "name          2116\n",
       "brand         2116\n",
       "gender        2116\n",
       "category      2116\n",
       "size          2116\n",
       "price         2116\n",
       "color         2116\n",
       "url           2116\n",
       "img_url       2116\n",
       "article_no    2116\n",
       "dtype: int64"
      ]
     },
     "execution_count": 8,
     "metadata": {},
     "output_type": "execute_result"
    }
   ],
   "source": [
    "df[df['gender'].str.strip()=='Barn'].count()"
   ]
  },
  {
   "cell_type": "code",
   "execution_count": 26,
   "metadata": {},
   "outputs": [],
   "source": [
    "# df2['size'].unique()"
   ]
  },
  {
   "cell_type": "code",
   "execution_count": 55,
   "metadata": {},
   "outputs": [],
   "source": [
    "# set(sz_list)"
   ]
  },
  {
   "cell_type": "code",
   "execution_count": 56,
   "metadata": {},
   "outputs": [
    {
     "data": {
      "text/html": [
       "<div>\n",
       "<style scoped>\n",
       "    .dataframe tbody tr th:only-of-type {\n",
       "        vertical-align: middle;\n",
       "    }\n",
       "\n",
       "    .dataframe tbody tr th {\n",
       "        vertical-align: top;\n",
       "    }\n",
       "\n",
       "    .dataframe thead th {\n",
       "        text-align: right;\n",
       "    }\n",
       "</style>\n",
       "<table border=\"1\" class=\"dataframe\">\n",
       "  <thead>\n",
       "    <tr style=\"text-align: right;\">\n",
       "      <th></th>\n",
       "      <th>name</th>\n",
       "      <th>brand</th>\n",
       "      <th>gender</th>\n",
       "      <th>category</th>\n",
       "      <th>size</th>\n",
       "      <th>price</th>\n",
       "      <th>color</th>\n",
       "      <th>url</th>\n",
       "      <th>img_url</th>\n",
       "      <th>article_no</th>\n",
       "      <th>new_price</th>\n",
       "    </tr>\n",
       "  </thead>\n",
       "  <tbody>\n",
       "    <tr>\n",
       "      <th>675</th>\n",
       "      <td>Swimpy, UV-shorts Mumin, Rosa/Svart</td>\n",
       "      <td>Ellos Kids</td>\n",
       "      <td>\\r\\nFlicka\\t\\t\\t</td>\n",
       "      <td>UV-KLÄDER</td>\n",
       "      <td>110-116 cl</td>\n",
       "      <td>119 kr\\n\\n        449 kr</td>\n",
       "      <td>\\r\\nGul\\t\\t\\t</td>\n",
       "      <td>https://cdon.se/skonhet-halsa/swimpy-uv-shorts-mumin-rosa-svart-p40056189</td>\n",
       "      <td>https://cdn.cdon.com/media-dynamic/images/product/toy/kladerochvaskor/image0/swimpy_uv-shorts_moomin_pinkblack-40056189-1.jpg</td>\n",
       "      <td>40056189</td>\n",
       "      <td>29</td>\n",
       "    </tr>\n",
       "    <tr>\n",
       "      <th>682</th>\n",
       "      <td>Swimpy, UV-shorts Mumin, Blå/Svart</td>\n",
       "      <td>Ellos Kids</td>\n",
       "      <td>\\r\\nFlicka\\t\\t\\t</td>\n",
       "      <td>UV-KLÄDER</td>\n",
       "      <td>110-116 cl</td>\n",
       "      <td>119 kr\\n\\n        449 kr</td>\n",
       "      <td>\\r\\nGul\\t\\t\\t</td>\n",
       "      <td>https://cdon.se/skonhet-halsa/swimpy-uv-shorts-mumin-bla-svart-p40056114</td>\n",
       "      <td>https://cdn.cdon.com/media-dynamic/images/product/toy/kladerochvaskor/image2/swimpy_uv-shorts_moomin_blueblack-40056114-1.jpg</td>\n",
       "      <td>40056114</td>\n",
       "      <td>29</td>\n",
       "    </tr>\n",
       "  </tbody>\n",
       "</table>\n",
       "</div>"
      ],
      "text/plain": [
       "                                    name       brand            gender  \\\n",
       "675  Swimpy, UV-shorts Mumin, Rosa/Svart  Ellos Kids  \\r\\nFlicka\\t\\t\\t   \n",
       "682  Swimpy, UV-shorts Mumin, Blå/Svart   Ellos Kids  \\r\\nFlicka\\t\\t\\t   \n",
       "\n",
       "      category        size                     price          color  \\\n",
       "675  UV-KLÄDER  110-116 cl  119 kr\\n\\n        449 kr  \\r\\nGul\\t\\t\\t   \n",
       "682  UV-KLÄDER  110-116 cl  119 kr\\n\\n        449 kr  \\r\\nGul\\t\\t\\t   \n",
       "\n",
       "                                                                           url  \\\n",
       "675  https://cdon.se/skonhet-halsa/swimpy-uv-shorts-mumin-rosa-svart-p40056189   \n",
       "682  https://cdon.se/skonhet-halsa/swimpy-uv-shorts-mumin-bla-svart-p40056114    \n",
       "\n",
       "                                                                                                                           img_url  \\\n",
       "675  https://cdn.cdon.com/media-dynamic/images/product/toy/kladerochvaskor/image0/swimpy_uv-shorts_moomin_pinkblack-40056189-1.jpg   \n",
       "682  https://cdn.cdon.com/media-dynamic/images/product/toy/kladerochvaskor/image2/swimpy_uv-shorts_moomin_blueblack-40056114-1.jpg   \n",
       "\n",
       "     article_no  new_price  \n",
       "675  40056189    29         \n",
       "682  40056114    29         "
      ]
     },
     "execution_count": 56,
     "metadata": {},
     "output_type": "execute_result"
    }
   ],
   "source": [
    "df2[df2['size']=='110-116 cl']"
   ]
  },
  {
   "cell_type": "code",
   "execution_count": 80,
   "metadata": {
    "collapsed": true,
    "jupyter": {
     "outputs_hidden": true
    }
   },
   "outputs": [
    {
     "data": {
      "text/plain": [
       "{'0-6M',\n",
       " '1-2Y',\n",
       " '10-11Y',\n",
       " '100',\n",
       " '100/3Y',\n",
       " '104',\n",
       " '104-110',\n",
       " '104/110',\n",
       " '104/4Y',\n",
       " '10Y',\n",
       " '11-12Y',\n",
       " '110',\n",
       " '110-116',\n",
       " '110/116',\n",
       " '110/120',\n",
       " '110/5Y',\n",
       " '116',\n",
       " '116-122',\n",
       " '116/122',\n",
       " '116/6Y',\n",
       " '12-18M',\n",
       " '12-24M',\n",
       " '120',\n",
       " '120/6Y',\n",
       " '122',\n",
       " '122-128',\n",
       " '122/128',\n",
       " '122/7Y',\n",
       " '128',\n",
       " '128-134',\n",
       " '128/134',\n",
       " '128/8Y',\n",
       " '12M',\n",
       " '12Y',\n",
       " '13-14Y',\n",
       " '130',\n",
       " '130/140',\n",
       " '130/8Y',\n",
       " '134',\n",
       " '134-140',\n",
       " '134/140',\n",
       " '134/9Y',\n",
       " '140',\n",
       " '140/10Y',\n",
       " '140/146',\n",
       " '146',\n",
       " '146-152',\n",
       " '146/11Y',\n",
       " '146/152',\n",
       " '14Y',\n",
       " '15/18',\n",
       " '150',\n",
       " '150/12Y',\n",
       " '152',\n",
       " '152/12Y',\n",
       " '158',\n",
       " '158-164',\n",
       " '158/164',\n",
       " '16-18',\n",
       " '16/18',\n",
       " '160',\n",
       " '160/14Y',\n",
       " '164',\n",
       " '164-170',\n",
       " '164/14Y',\n",
       " '170',\n",
       " '170-176',\n",
       " '170/16Y',\n",
       " '176/16Y',\n",
       " '18-24M',\n",
       " '18/22',\n",
       " '18M',\n",
       " '19-21',\n",
       " '19/21',\n",
       " '1Y',\n",
       " '2',\n",
       " '2-3Y',\n",
       " '2-4',\n",
       " '2-4Ys',\n",
       " '2/3',\n",
       " '2/3Y',\n",
       " '20',\n",
       " '21',\n",
       " '22',\n",
       " '22-24',\n",
       " '22/24',\n",
       " '23',\n",
       " '23/26',\n",
       " '24',\n",
       " '24-36M',\n",
       " '24M',\n",
       " '25',\n",
       " '25-27',\n",
       " '25/27',\n",
       " '26',\n",
       " '27',\n",
       " '27-30',\n",
       " '27/30',\n",
       " '28',\n",
       " '28-30',\n",
       " '28/30',\n",
       " '29',\n",
       " '2Y',\n",
       " '3-4Y',\n",
       " '30',\n",
       " '30-35',\n",
       " '31',\n",
       " '31-33',\n",
       " '31-34',\n",
       " '31/33',\n",
       " '31/34',\n",
       " '32',\n",
       " '33',\n",
       " '34',\n",
       " '34/36',\n",
       " '35',\n",
       " '37/39',\n",
       " '3Y',\n",
       " '4',\n",
       " '4-5Y',\n",
       " '4-6',\n",
       " '4-6Y',\n",
       " '4/5Y',\n",
       " '40/42',\n",
       " '44',\n",
       " '48',\n",
       " '4Y',\n",
       " '5-6Y',\n",
       " '50',\n",
       " '50/56',\n",
       " '56',\n",
       " '56/1M',\n",
       " '5Y',\n",
       " '6',\n",
       " '6-12M',\n",
       " '6-7Y',\n",
       " '6-7å',\n",
       " '6/7',\n",
       " '6/8',\n",
       " '6/8Y',\n",
       " '62',\n",
       " '62/3M',\n",
       " '62/68',\n",
       " '68',\n",
       " '68/6M',\n",
       " '68/74',\n",
       " '68M',\n",
       " '6Y',\n",
       " '7-8Y',\n",
       " '70',\n",
       " '74',\n",
       " '74-80',\n",
       " '74/80',\n",
       " '74/9M',\n",
       " '7Y',\n",
       " '8-9Y',\n",
       " '80',\n",
       " '80/1Y',\n",
       " '80/86',\n",
       " '86',\n",
       " '86-92',\n",
       " '86/1½Y',\n",
       " '86/92',\n",
       " '8Y',\n",
       " '9-10Y',\n",
       " '90',\n",
       " '90/2Y',\n",
       " '92',\n",
       " '92-98',\n",
       " '92/110',\n",
       " '92/2Y',\n",
       " '92/98',\n",
       " '98',\n",
       " '98-104',\n",
       " '98/104',\n",
       " '98/3Y',\n",
       " 'Na',\n",
       " 'One',\n",
       " 'S',\n",
       " 'XL',\n",
       " 'XS',\n",
       " 'XXL',\n",
       " 'XXXL'}"
      ]
     },
     "execution_count": 80,
     "metadata": {},
     "output_type": "execute_result"
    }
   ],
   "source": [
    "sz_list=df2['size'].tolist()\n",
    "\n",
    "new_sz=[]\n",
    "for s in sz_list:\n",
    "    s=s.strip(' - Bevaka storlek')\n",
    "    \n",
    "    if s.find(',')!=-1:\n",
    "        s=s.replace('Grey, ','')\n",
    "        \n",
    "    if s.find(' (')!=-1:\n",
    "        s=s.split(' (') [0]\n",
    "    if s.find(' å')!=-1:\n",
    "        s=s.replace(' å','Y')\n",
    "    if s.find(' y')!=-1:\n",
    "        s=s.replace(' y','Y')\n",
    "\n",
    "    if s.find(' cm')!=-1:\n",
    "        s=s.split(' cm')[0]\n",
    "        \n",
    "    if s.find('m')!=-1:\n",
    "        s=s.replace('m','M')\n",
    "    if s.find(' M')!=-1:\n",
    "        s=s.split(' M')[0]+'M'\n",
    "    \n",
    "    s=s.strip('c')\n",
    "    \n",
    "    if s.find('cl')!=-1:\n",
    "        s=s.split('cl')[0]\n",
    "    if s.find(\", \")!=-1:\n",
    "        s=s.split(', ')[1]\n",
    "    if s.find(\"NattlinneM\")!=-1:\n",
    "        s=s.strip('NattlinneM')\n",
    "    if s.find(\" \")!=-1:\n",
    "        s=s.split(\" \")[0]\n",
    "    if s in ['Child', 'Dark110/116', 'Dark122/128', 'L', 'Larg', 'M', 'MediuM', 'MediuM,M', 'No','SM', 'X-Larg',\n",
    "            ]:\n",
    "        s='Na'\n",
    "    if s.find(\"One\"):\n",
    "        s=s.replace(\"One\",\"One size\")\n",
    "    if s.find(\"Yr\"):\n",
    "        s=s.replace(\"Yr\",\"Y\")\n",
    "    \n",
    "    new_sz.append(s)\n",
    "set(new_sz)"
   ]
  },
  {
   "cell_type": "code",
   "execution_count": 81,
   "metadata": {},
   "outputs": [
    {
     "name": "stderr",
     "output_type": "stream",
     "text": [
      "/usr/local/lib/python3.5/dist-packages/ipykernel_launcher.py:1: SettingWithCopyWarning: \n",
      "A value is trying to be set on a copy of a slice from a DataFrame.\n",
      "Try using .loc[row_indexer,col_indexer] = value instead\n",
      "\n",
      "See the caveats in the documentation: http://pandas.pydata.org/pandas-docs/stable/user_guide/indexing.html#returning-a-view-versus-a-copy\n",
      "  \"\"\"Entry point for launching an IPython kernel.\n"
     ]
    }
   ],
   "source": [
    "df2['new_size']=new_sz"
   ]
  },
  {
   "cell_type": "code",
   "execution_count": 83,
   "metadata": {},
   "outputs": [
    {
     "data": {
      "text/plain": [
       "array(['Ellos Kids', 'Petter&Kajsa', 'Petter & Kajsa', 'Walking',\n",
       "       'Walking Bamboo', 'BÄBIS', 'Me Too', 'Disney Baby', 'Soft Gallery',\n",
       "       'Walking Newborn', 'Fixoni', 'mi&u design', 'Small Rags',\n",
       "       'Hello Kitty', 'Bobo Choses', 'Hummel Fashion', 'Piikaboo',\n",
       "       'Reimatec', 'Milly & Willy', 'Name it', 'Riot Club', 'DC Shoes',\n",
       "       'Mickey Mouse', 'Star Wars', 'Frozen', 'Lucky Ellen', 'Paddington',\n",
       "       'Avengers', 'Minnie Mouse', 'My Little Pony', 'Phister & Philina',\n",
       "       'Popupshop', 'Lindberg Sweden', 'THE NEW', 'eStore', 'Sugar Squad',\n",
       "       'Nova Kids', 'Pippi Långstrump', 'Creamie', 'Disney Princess',\n",
       "       'Disney Frozen', 'Revival', 'Super Mario Bros', 'Paw Patrol',\n",
       "       'Spiderman', 'Cars', 'Disney', 'Angry Birds', 'Pinkoholic',\n",
       "       'Street Life', 'Minions', 'Monster High', 'Joha', 'Vingino',\n",
       "       'Reima', 'Lego Wear', 'Disney Pixar Cars', 'Emil i Lönneberga',\n",
       "       'Helly Hansen', 'Asics', 'Burton', 'Smiley', 'Björn Borg',\n",
       "       'Pierre Robert', 'Spider-Man', 'SC', 'Lundmyr Of Sweden', 'Sanrio',\n",
       "       'D6 Soul', 'True North', 'Weather  Report', 'Mini A Ture',\n",
       "       'Snowtex', 'Celavi', 'RainBusters', 'Tenson', 'Color Kids',\n",
       "       'Mikk-Line', 'Bagheera', 'Viking'], dtype=object)"
      ]
     },
     "execution_count": 83,
     "metadata": {},
     "output_type": "execute_result"
    }
   ],
   "source": [
    "df2['brand'].unique()"
   ]
  },
  {
   "cell_type": "code",
   "execution_count": 85,
   "metadata": {},
   "outputs": [
    {
     "name": "stderr",
     "output_type": "stream",
     "text": [
      "/usr/local/lib/python3.5/dist-packages/ipykernel_launcher.py:1: SettingWithCopyWarning: \n",
      "A value is trying to be set on a copy of a slice from a DataFrame.\n",
      "Try using .loc[row_indexer,col_indexer] = value instead\n",
      "\n",
      "See the caveats in the documentation: http://pandas.pydata.org/pandas-docs/stable/user_guide/indexing.html#returning-a-view-versus-a-copy\n",
      "  \"\"\"Entry point for launching an IPython kernel.\n"
     ]
    },
    {
     "data": {
      "text/plain": [
       "array(['Barn', 'Pojke', 'Flicka', 'Barn - Unisex', 'Junior'], dtype=object)"
      ]
     },
     "execution_count": 85,
     "metadata": {},
     "output_type": "execute_result"
    }
   ],
   "source": [
    "df2['gender']=df2['gender'].str.strip()\n",
    "df2['gender'].unique()"
   ]
  },
  {
   "cell_type": "code",
   "execution_count": 86,
   "metadata": {},
   "outputs": [
    {
     "data": {
      "text/html": [
       "<div>\n",
       "<style scoped>\n",
       "    .dataframe tbody tr th:only-of-type {\n",
       "        vertical-align: middle;\n",
       "    }\n",
       "\n",
       "    .dataframe tbody tr th {\n",
       "        vertical-align: top;\n",
       "    }\n",
       "\n",
       "    .dataframe thead th {\n",
       "        text-align: right;\n",
       "    }\n",
       "</style>\n",
       "<table border=\"1\" class=\"dataframe\">\n",
       "  <thead>\n",
       "    <tr style=\"text-align: right;\">\n",
       "      <th></th>\n",
       "      <th>article_no</th>\n",
       "      <th>gender</th>\n",
       "      <th>category</th>\n",
       "      <th>new_price</th>\n",
       "      <th>new_size</th>\n",
       "      <th>brand</th>\n",
       "    </tr>\n",
       "  </thead>\n",
       "  <tbody>\n",
       "    <tr>\n",
       "      <th>0</th>\n",
       "      <td>46611322</td>\n",
       "      <td>Barn</td>\n",
       "      <td>BODIES &amp; SPARKDRÄKTER</td>\n",
       "      <td>179</td>\n",
       "      <td>50</td>\n",
       "      <td>Ellos Kids</td>\n",
       "    </tr>\n",
       "    <tr>\n",
       "      <th>1</th>\n",
       "      <td>46611322</td>\n",
       "      <td>Barn</td>\n",
       "      <td>BODIES &amp; SPARKDRÄKTER</td>\n",
       "      <td>179</td>\n",
       "      <td>56</td>\n",
       "      <td>Ellos Kids</td>\n",
       "    </tr>\n",
       "  </tbody>\n",
       "</table>\n",
       "</div>"
      ],
      "text/plain": [
       "   article_no gender               category  new_price new_size       brand\n",
       "0  46611322    Barn   BODIES & SPARKDRÄKTER  179        50       Ellos Kids\n",
       "1  46611322    Barn   BODIES & SPARKDRÄKTER  179        56       Ellos Kids"
      ]
     },
     "execution_count": 86,
     "metadata": {},
     "output_type": "execute_result"
    }
   ],
   "source": [
    "colunms=['article_no','gender','category','new_price','new_size','brand']\n",
    "df3=df2[colunms]\n",
    "df3.head(2)"
   ]
  },
  {
   "cell_type": "code",
   "execution_count": 89,
   "metadata": {},
   "outputs": [
    {
     "data": {
      "text/html": [
       "<div>\n",
       "<style scoped>\n",
       "    .dataframe tbody tr th:only-of-type {\n",
       "        vertical-align: middle;\n",
       "    }\n",
       "\n",
       "    .dataframe tbody tr th {\n",
       "        vertical-align: top;\n",
       "    }\n",
       "\n",
       "    .dataframe thead th {\n",
       "        text-align: right;\n",
       "    }\n",
       "</style>\n",
       "<table border=\"1\" class=\"dataframe\">\n",
       "  <thead>\n",
       "    <tr style=\"text-align: right;\">\n",
       "      <th></th>\n",
       "      <th>article_no</th>\n",
       "      <th>gender</th>\n",
       "      <th>category</th>\n",
       "      <th>price</th>\n",
       "      <th>new_size</th>\n",
       "      <th>brand</th>\n",
       "    </tr>\n",
       "  </thead>\n",
       "  <tbody>\n",
       "    <tr>\n",
       "      <th>0</th>\n",
       "      <td>46611322</td>\n",
       "      <td>Barn</td>\n",
       "      <td>BODIES &amp; SPARKDRÄKTER</td>\n",
       "      <td>179</td>\n",
       "      <td>50</td>\n",
       "      <td>Ellos Kids</td>\n",
       "    </tr>\n",
       "    <tr>\n",
       "      <th>1</th>\n",
       "      <td>46611322</td>\n",
       "      <td>Barn</td>\n",
       "      <td>BODIES &amp; SPARKDRÄKTER</td>\n",
       "      <td>179</td>\n",
       "      <td>56</td>\n",
       "      <td>Ellos Kids</td>\n",
       "    </tr>\n",
       "  </tbody>\n",
       "</table>\n",
       "</div>"
      ],
      "text/plain": [
       "   article_no gender               category  price new_size       brand\n",
       "0  46611322    Barn   BODIES & SPARKDRÄKTER  179    50       Ellos Kids\n",
       "1  46611322    Barn   BODIES & SPARKDRÄKTER  179    56       Ellos Kids"
      ]
     },
     "execution_count": 89,
     "metadata": {},
     "output_type": "execute_result"
    }
   ],
   "source": [
    "df4=df3.rename(columns={'article_no':'article_no','gender':'gender','category':'category','new_price':'new_price','new_size':'size','brand':'brand'})\n",
    "df4.head(2)"
   ]
  },
  {
   "cell_type": "code",
   "execution_count": 90,
   "metadata": {},
   "outputs": [],
   "source": [
    "dfr=df4\n",
    "dfr.to_csv('cdon_cleaned.csv',index=False) #for rows not showing\n"
   ]
  },
  {
   "cell_type": "code",
   "execution_count": 91,
   "metadata": {},
   "outputs": [
    {
     "data": {
      "text/plain": [
       "array(['BODIES & SPARKDRÄKTER', 'BADBYXOR', 'BADDRÄKTER', 'UV-KLÄDER',\n",
       "       'byxor', 'jeans', 'shorts', 'skirts', 'dresses', 'costumes',\n",
       "       'pyjamas', 'kardagins', 'tops', 'sweaters', 'underpants',\n",
       "       'leggings', 'socks', 'panties', 'jackets', 'overall', 'rainwear'],\n",
       "      dtype=object)"
      ]
     },
     "execution_count": 91,
     "metadata": {},
     "output_type": "execute_result"
    }
   ],
   "source": [
    "df['category'].unique()"
   ]
  },
  {
   "cell_type": "code",
   "execution_count": null,
   "metadata": {},
   "outputs": [],
   "source": []
  }
 ],
 "metadata": {
  "kernelspec": {
   "display_name": "Python 3",
   "language": "python",
   "name": "python3"
  },
  "language_info": {
   "codemirror_mode": {
    "name": "ipython",
    "version": 3
   },
   "file_extension": ".py",
   "mimetype": "text/x-python",
   "name": "python",
   "nbconvert_exporter": "python",
   "pygments_lexer": "ipython3",
   "version": "3.5.3"
  }
 },
 "nbformat": 4,
 "nbformat_minor": 4
}

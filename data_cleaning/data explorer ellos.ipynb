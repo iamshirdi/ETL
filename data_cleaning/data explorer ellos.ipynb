{
 "cells": [
  {
   "cell_type": "code",
   "execution_count": 1,
   "metadata": {},
   "outputs": [
    {
     "name": "stdout",
     "output_type": "stream",
     "text": [
      "name          7450\n",
      "brand         7450\n",
      "gender        7450\n",
      "category      7450\n",
      "size          7450\n",
      "price         7450\n",
      "url           7450\n",
      "img_url       7450\n",
      "article_no    7450\n",
      "blob_url      0   \n",
      "dtype: int64\n"
     ]
    },
    {
     "data": {
      "text/html": [
       "<div>\n",
       "<style scoped>\n",
       "    .dataframe tbody tr th:only-of-type {\n",
       "        vertical-align: middle;\n",
       "    }\n",
       "\n",
       "    .dataframe tbody tr th {\n",
       "        vertical-align: top;\n",
       "    }\n",
       "\n",
       "    .dataframe thead th {\n",
       "        text-align: right;\n",
       "    }\n",
       "</style>\n",
       "<table border=\"1\" class=\"dataframe\">\n",
       "  <thead>\n",
       "    <tr style=\"text-align: right;\">\n",
       "      <th></th>\n",
       "      <th>name</th>\n",
       "      <th>brand</th>\n",
       "      <th>gender</th>\n",
       "      <th>category</th>\n",
       "      <th>size</th>\n",
       "      <th>price</th>\n",
       "      <th>url</th>\n",
       "      <th>img_url</th>\n",
       "      <th>article_no</th>\n",
       "      <th>blob_url</th>\n",
       "    </tr>\n",
       "  </thead>\n",
       "  <tbody>\n",
       "    <tr>\n",
       "      <th>0</th>\n",
       "      <td>Leggings</td>\n",
       "      <td>Ellos Kids</td>\n",
       "      <td>girl</td>\n",
       "      <td>byxor-shorts</td>\n",
       "      <td>86/92</td>\n",
       "      <td>74</td>\n",
       "      <td>https://www.ellos.se/ellos-kids/leggings/7007355-04</td>\n",
       "      <td>https://assets.ellosgroup.com/i/ellos/b?%24eg%24&amp;%24emz%24&amp;%24ep%24&amp;%24ez%24&amp;n=ell_7007355-04_Ff_M0028018&amp;mw=1000</td>\n",
       "      <td>7007355-04-07</td>\n",
       "      <td>NaN</td>\n",
       "    </tr>\n",
       "    <tr>\n",
       "      <th>1</th>\n",
       "      <td>Leggings</td>\n",
       "      <td>Ellos Kids</td>\n",
       "      <td>girl</td>\n",
       "      <td>byxor-shorts</td>\n",
       "      <td>98/104</td>\n",
       "      <td>74</td>\n",
       "      <td>https://www.ellos.se/ellos-kids/leggings/7007355-04</td>\n",
       "      <td>https://assets.ellosgroup.com/i/ellos/b?%24eg%24&amp;%24emz%24&amp;%24ep%24&amp;%24ez%24&amp;n=ell_7007355-04_Ff_M0028018&amp;mw=1000</td>\n",
       "      <td>7007355-04-07</td>\n",
       "      <td>NaN</td>\n",
       "    </tr>\n",
       "    <tr>\n",
       "      <th>2</th>\n",
       "      <td>Leggings</td>\n",
       "      <td>Ellos Kids</td>\n",
       "      <td>girl</td>\n",
       "      <td>byxor-shorts</td>\n",
       "      <td>110/116</td>\n",
       "      <td>74</td>\n",
       "      <td>https://www.ellos.se/ellos-kids/leggings/7007355-04</td>\n",
       "      <td>https://assets.ellosgroup.com/i/ellos/b?%24eg%24&amp;%24emz%24&amp;%24ep%24&amp;%24ez%24&amp;n=ell_7007355-04_Ff_M0028018&amp;mw=1000</td>\n",
       "      <td>7007355-04-07</td>\n",
       "      <td>NaN</td>\n",
       "    </tr>\n",
       "  </tbody>\n",
       "</table>\n",
       "</div>"
      ],
      "text/plain": [
       "        name       brand gender      category     size price  \\\n",
       "0  Leggings   Ellos Kids  girl   byxor-shorts  86/92    74     \n",
       "1  Leggings   Ellos Kids  girl   byxor-shorts  98/104   74     \n",
       "2  Leggings   Ellos Kids  girl   byxor-shorts  110/116  74     \n",
       "\n",
       "                                                   url  \\\n",
       "0  https://www.ellos.se/ellos-kids/leggings/7007355-04   \n",
       "1  https://www.ellos.se/ellos-kids/leggings/7007355-04   \n",
       "2  https://www.ellos.se/ellos-kids/leggings/7007355-04   \n",
       "\n",
       "                                                                                                             img_url  \\\n",
       "0  https://assets.ellosgroup.com/i/ellos/b?%24eg%24&%24emz%24&%24ep%24&%24ez%24&n=ell_7007355-04_Ff_M0028018&mw=1000   \n",
       "1  https://assets.ellosgroup.com/i/ellos/b?%24eg%24&%24emz%24&%24ep%24&%24ez%24&n=ell_7007355-04_Ff_M0028018&mw=1000   \n",
       "2  https://assets.ellosgroup.com/i/ellos/b?%24eg%24&%24emz%24&%24ep%24&%24ez%24&n=ell_7007355-04_Ff_M0028018&mw=1000   \n",
       "\n",
       "       article_no  blob_url  \n",
       "0   7007355-04-07 NaN        \n",
       "1   7007355-04-07 NaN        \n",
       "2   7007355-04-07 NaN        "
      ]
     },
     "execution_count": 1,
     "metadata": {},
     "output_type": "execute_result"
    }
   ],
   "source": [
    "import pandas as pd\n",
    "pd.set_option('display.max_colwidth', -1) #full colunm dispaly\n",
    "\n",
    "result=pd.read_csv(\"Image-Classification-and-Price-prediction/scrapping/data/ellos.csv\", encoding='utf-8',index_col=False)\n",
    "print(result.count())\n",
    "result.head(3)"
   ]
  },
  {
   "cell_type": "code",
   "execution_count": 2,
   "metadata": {},
   "outputs": [
    {
     "data": {
      "text/plain": [
       "name          5803\n",
       "brand         5803\n",
       "gender        5803\n",
       "category      5803\n",
       "size          5803\n",
       "price         5803\n",
       "url           5803\n",
       "img_url       5803\n",
       "article_no    5803\n",
       "blob_url      0   \n",
       "dtype: int64"
      ]
     },
     "execution_count": 2,
     "metadata": {},
     "output_type": "execute_result"
    }
   ],
   "source": [
    "df=result.drop_duplicates()\n",
    "result.drop_duplicates().count()"
   ]
  },
  {
   "cell_type": "code",
   "execution_count": 3,
   "metadata": {},
   "outputs": [
    {
     "data": {
      "text/plain": [
       "array(['74', '59', '149', '89', '75', '90', '134', '50', '107', '112',\n",
       "       '65', '97', '125', '69', '104', '55', '127', '224', '187', '249',\n",
       "       '129', '99', '244', '359', '199,50', '119', '339', '299,40',\n",
       "       '104,30', '174', '139', '299', '209', '77', '137', '167', '195',\n",
       "       '279', '199', '262', '179', '172', '47', '103', '79', '160', '116',\n",
       "       '210', '239', '374', '524', '599', '674', '489', '899', '100',\n",
       "       '40', '111', '212', '44', '41', '319', '269', '169', '52', '949'],\n",
       "      dtype=object)"
      ]
     },
     "execution_count": 3,
     "metadata": {},
     "output_type": "execute_result"
    }
   ],
   "source": [
    "df['price'].unique()"
   ]
  },
  {
   "cell_type": "code",
   "execution_count": 4,
   "metadata": {},
   "outputs": [
    {
     "name": "stderr",
     "output_type": "stream",
     "text": [
      "/usr/local/lib/python3.5/dist-packages/pandas/core/generic.py:5209: SettingWithCopyWarning: \n",
      "A value is trying to be set on a copy of a slice from a DataFrame.\n",
      "Try using .loc[row_indexer,col_indexer] = value instead\n",
      "\n",
      "See the caveats in the documentation: http://pandas.pydata.org/pandas-docs/stable/user_guide/indexing.html#returning-a-view-versus-a-copy\n",
      "  self[name] = value\n",
      "/usr/local/lib/python3.5/dist-packages/ipykernel_launcher.py:7: SettingWithCopyWarning: \n",
      "A value is trying to be set on a copy of a slice from a DataFrame.\n",
      "Try using .loc[row_indexer,col_indexer] = value instead\n",
      "\n",
      "See the caveats in the documentation: http://pandas.pydata.org/pandas-docs/stable/user_guide/indexing.html#returning-a-view-versus-a-copy\n",
      "  import sys\n",
      "/usr/local/lib/python3.5/dist-packages/ipykernel_launcher.py:8: SettingWithCopyWarning: \n",
      "A value is trying to be set on a copy of a slice from a DataFrame.\n",
      "Try using .loc[row_indexer,col_indexer] = value instead\n",
      "\n",
      "See the caveats in the documentation: http://pandas.pydata.org/pandas-docs/stable/user_guide/indexing.html#returning-a-view-versus-a-copy\n",
      "  \n",
      "/usr/local/lib/python3.5/dist-packages/ipykernel_launcher.py:9: SettingWithCopyWarning: \n",
      "A value is trying to be set on a copy of a slice from a DataFrame.\n",
      "Try using .loc[row_indexer,col_indexer] = value instead\n",
      "\n",
      "See the caveats in the documentation: http://pandas.pydata.org/pandas-docs/stable/user_guide/indexing.html#returning-a-view-versus-a-copy\n",
      "  if __name__ == '__main__':\n"
     ]
    },
    {
     "data": {
      "text/html": [
       "<div>\n",
       "<style scoped>\n",
       "    .dataframe tbody tr th:only-of-type {\n",
       "        vertical-align: middle;\n",
       "    }\n",
       "\n",
       "    .dataframe tbody tr th {\n",
       "        vertical-align: top;\n",
       "    }\n",
       "\n",
       "    .dataframe thead th {\n",
       "        text-align: right;\n",
       "    }\n",
       "</style>\n",
       "<table border=\"1\" class=\"dataframe\">\n",
       "  <thead>\n",
       "    <tr style=\"text-align: right;\">\n",
       "      <th></th>\n",
       "      <th>name</th>\n",
       "      <th>brand</th>\n",
       "      <th>gender</th>\n",
       "      <th>category</th>\n",
       "      <th>size</th>\n",
       "      <th>price</th>\n",
       "      <th>url</th>\n",
       "      <th>img_url</th>\n",
       "      <th>article_no</th>\n",
       "      <th>blob_url</th>\n",
       "    </tr>\n",
       "  </thead>\n",
       "  <tbody>\n",
       "    <tr>\n",
       "      <th>0</th>\n",
       "      <td>Leggings</td>\n",
       "      <td>Ellos Kids</td>\n",
       "      <td>girl</td>\n",
       "      <td>byxor-shorts</td>\n",
       "      <td>86/92</td>\n",
       "      <td>74</td>\n",
       "      <td>https://www.ellos.se/ellos-kids/leggings/7007355-04</td>\n",
       "      <td>https://assets.ellosgroup.com/i/ellos/b?%24eg%24&amp;%24emz%24&amp;%24ep%24&amp;%24ez%24&amp;n=ell_7007355-04_Ff_M0028018&amp;mw=1000</td>\n",
       "      <td>7007355-04-07</td>\n",
       "      <td>nan</td>\n",
       "    </tr>\n",
       "    <tr>\n",
       "      <th>1</th>\n",
       "      <td>Leggings</td>\n",
       "      <td>Ellos Kids</td>\n",
       "      <td>girl</td>\n",
       "      <td>byxor-shorts</td>\n",
       "      <td>98/104</td>\n",
       "      <td>74</td>\n",
       "      <td>https://www.ellos.se/ellos-kids/leggings/7007355-04</td>\n",
       "      <td>https://assets.ellosgroup.com/i/ellos/b?%24eg%24&amp;%24emz%24&amp;%24ep%24&amp;%24ez%24&amp;n=ell_7007355-04_Ff_M0028018&amp;mw=1000</td>\n",
       "      <td>7007355-04-07</td>\n",
       "      <td>nan</td>\n",
       "    </tr>\n",
       "  </tbody>\n",
       "</table>\n",
       "</div>"
      ],
      "text/plain": [
       "        name       brand gender      category    size  price  \\\n",
       "0  Leggings   Ellos Kids  girl   byxor-shorts  86/92   74      \n",
       "1  Leggings   Ellos Kids  girl   byxor-shorts  98/104  74      \n",
       "\n",
       "                                                   url  \\\n",
       "0  https://www.ellos.se/ellos-kids/leggings/7007355-04   \n",
       "1  https://www.ellos.se/ellos-kids/leggings/7007355-04   \n",
       "\n",
       "                                                                                                             img_url  \\\n",
       "0  https://assets.ellosgroup.com/i/ellos/b?%24eg%24&%24emz%24&%24ep%24&%24ez%24&n=ell_7007355-04_Ff_M0028018&mw=1000   \n",
       "1  https://assets.ellosgroup.com/i/ellos/b?%24eg%24&%24emz%24&%24ep%24&%24ez%24&n=ell_7007355-04_Ff_M0028018&mw=1000   \n",
       "\n",
       "       article_no  blob_url  \n",
       "0   7007355-04-07 nan        \n",
       "1   7007355-04-07 nan        "
      ]
     },
     "execution_count": 4,
     "metadata": {},
     "output_type": "execute_result"
    }
   ],
   "source": [
    "pd.options.display.float_format = '{:,.0f}'.format\n",
    "df2=df\n",
    "df2.price=df2.price.str.replace(\",\", \".\")\n",
    "\n",
    "\n",
    "\n",
    "df2['price']=df2['price'].astype(float)\n",
    "df2['price']=df2['price'].round()\n",
    "df2['price']=df2['price'].astype(int)\n",
    "\n",
    "df2.head(2)"
   ]
  },
  {
   "cell_type": "code",
   "execution_count": 5,
   "metadata": {},
   "outputs": [
    {
     "data": {
      "text/plain": [
       "array(['86/92', '98/104', '110/116', '122/128', '134/140', '74/80', '92',\n",
       "       '98', '104', '110', '116', '122', '128', '134', '140', '146/152',\n",
       "       '158/164', '170', '110/120', '130/140', '62', '68', '74', '80',\n",
       "       '86', '20', '21', '22', '23', '24', '25', '26', '27', '28', '29',\n",
       "       '30', '31', '32', '33', '34', '35', '36', '37', '38', '39',\n",
       "       '16/17', '18/19', '20/21', '22/23', '18-19', '24/25', '26/27',\n",
       "       '28/29', '30/31', '170/176', '62/68', '22/24', '25/27', '28/30',\n",
       "       '31/33', '34/36', '37/39', '40/42', '110-116', '74-80', '86-92',\n",
       "       '98-104', '122-128', '134-140', '146-152', '158-164', '146', '152',\n",
       "       '158', '164', '176', '40', '41', 'S/10', 'M/12', 'L/14', 'XL/16',\n",
       "       'One Size', '92/110', '116/140', '146/164', '50', '56', '2', '4',\n",
       "       '6', '16/18', '19/21', 'ONE SIZE', 'S', 'M', '200 [20]',\n",
       "       '210 [21]', '220 [22]', '230 [23]', '240 [24]', '250 [25]',\n",
       "       '260 [26]'], dtype=object)"
      ]
     },
     "execution_count": 5,
     "metadata": {},
     "output_type": "execute_result"
    }
   ],
   "source": [
    "df2['size'].unique()"
   ]
  },
  {
   "cell_type": "code",
   "execution_count": 9,
   "metadata": {},
   "outputs": [
    {
     "data": {
      "text/html": [
       "<div>\n",
       "<style scoped>\n",
       "    .dataframe tbody tr th:only-of-type {\n",
       "        vertical-align: middle;\n",
       "    }\n",
       "\n",
       "    .dataframe tbody tr th {\n",
       "        vertical-align: top;\n",
       "    }\n",
       "\n",
       "    .dataframe thead th {\n",
       "        text-align: right;\n",
       "    }\n",
       "</style>\n",
       "<table border=\"1\" class=\"dataframe\">\n",
       "  <thead>\n",
       "    <tr style=\"text-align: right;\">\n",
       "      <th></th>\n",
       "      <th>name</th>\n",
       "      <th>brand</th>\n",
       "      <th>gender</th>\n",
       "      <th>category</th>\n",
       "      <th>size</th>\n",
       "      <th>price</th>\n",
       "      <th>url</th>\n",
       "      <th>img_url</th>\n",
       "      <th>article_no</th>\n",
       "      <th>blob_url</th>\n",
       "    </tr>\n",
       "  </thead>\n",
       "  <tbody>\n",
       "    <tr>\n",
       "      <th>7446</th>\n",
       "      <td>Kängor Yxhult EP</td>\n",
       "      <td>Kavat</td>\n",
       "      <td>unisex</td>\n",
       "      <td>babyskor</td>\n",
       "      <td>230 [23]</td>\n",
       "      <td>949</td>\n",
       "      <td>https://www.ellos.se/kavat/kangor-yxhult-ep/1523187-01</td>\n",
       "      <td>https://assets.ellosgroup.com/i/ellos/b?%24eg%24&amp;%24emz%24&amp;%24ep%24&amp;%24ez%24&amp;n=ell_1523187-01_Fs&amp;mw=1000</td>\n",
       "      <td>1523187-01-21</td>\n",
       "      <td>nan</td>\n",
       "    </tr>\n",
       "  </tbody>\n",
       "</table>\n",
       "</div>"
      ],
      "text/plain": [
       "                  name  brand  gender  category      size  price  \\\n",
       "7446  Kängor Yxhult EP  Kavat  unisex  babyskor  230 [23]  949     \n",
       "\n",
       "                                                         url  \\\n",
       "7446  https://www.ellos.se/kavat/kangor-yxhult-ep/1523187-01   \n",
       "\n",
       "                                                                                                       img_url  \\\n",
       "7446  https://assets.ellosgroup.com/i/ellos/b?%24eg%24&%24emz%24&%24ep%24&%24ez%24&n=ell_1523187-01_Fs&mw=1000   \n",
       "\n",
       "          article_no  blob_url  \n",
       "7446   1523187-01-21 nan        "
      ]
     },
     "execution_count": 9,
     "metadata": {},
     "output_type": "execute_result"
    }
   ],
   "source": [
    "df2[df2['size']=='230 [23]']"
   ]
  },
  {
   "cell_type": "code",
   "execution_count": 20,
   "metadata": {},
   "outputs": [
    {
     "data": {
      "text/plain": [
       "{'10',\n",
       " '104',\n",
       " '110',\n",
       " '116',\n",
       " '12',\n",
       " '120',\n",
       " '122',\n",
       " '128',\n",
       " '134',\n",
       " '14',\n",
       " '140',\n",
       " '146',\n",
       " '152',\n",
       " '158',\n",
       " '16',\n",
       " '164',\n",
       " '17',\n",
       " '170',\n",
       " '176',\n",
       " '18',\n",
       " '19',\n",
       " '2',\n",
       " '20',\n",
       " '21',\n",
       " '22',\n",
       " '23',\n",
       " '24',\n",
       " '25',\n",
       " '26',\n",
       " '27',\n",
       " '28',\n",
       " '29',\n",
       " '30',\n",
       " '31',\n",
       " '32',\n",
       " '33',\n",
       " '34',\n",
       " '35',\n",
       " '36',\n",
       " '37',\n",
       " '38',\n",
       " '39',\n",
       " '4',\n",
       " '40',\n",
       " '41',\n",
       " '42',\n",
       " '50',\n",
       " '56',\n",
       " '6',\n",
       " '62',\n",
       " '68',\n",
       " '74',\n",
       " '80',\n",
       " '86',\n",
       " '92',\n",
       " '98',\n",
       " 'M',\n",
       " 'One Size',\n",
       " 'S'}"
      ]
     },
     "execution_count": 20,
     "metadata": {},
     "output_type": "execute_result"
    }
   ],
   "source": [
    "sz_list=df2['size'].tolist()\n",
    "\n",
    "new_sz=[]\n",
    "for s in sz_list:\n",
    "    if s.find(\"/\")!=-1:\n",
    "        s=s.split('/')[1]\n",
    "    \n",
    "    if s.find('[')!=-1:\n",
    "        s=s.split('[')[1]\n",
    "        s=s.strip(']')\n",
    "        \n",
    "    \n",
    "    if s.find('ONE SIZE')!=-1:\n",
    "        s=s.replace('ONE SIZE','One Size')\n",
    "    \n",
    "    if s.find('-')!=-1:\n",
    "        s=s.split('-')[1]\n",
    "    \n",
    "    new_sz.append(s)\n",
    "    \n",
    "set(new_sz)\n",
    "    "
   ]
  },
  {
   "cell_type": "code",
   "execution_count": 13,
   "metadata": {},
   "outputs": [
    {
     "data": {
      "text/plain": [
       "'20]'"
      ]
     },
     "execution_count": 13,
     "metadata": {},
     "output_type": "execute_result"
    }
   ],
   "source": [
    "'200 [20]'.split('[')[1]"
   ]
  },
  {
   "cell_type": "code",
   "execution_count": 21,
   "metadata": {},
   "outputs": [
    {
     "name": "stderr",
     "output_type": "stream",
     "text": [
      "/usr/local/lib/python3.5/dist-packages/ipykernel_launcher.py:1: SettingWithCopyWarning: \n",
      "A value is trying to be set on a copy of a slice from a DataFrame.\n",
      "Try using .loc[row_indexer,col_indexer] = value instead\n",
      "\n",
      "See the caveats in the documentation: http://pandas.pydata.org/pandas-docs/stable/user_guide/indexing.html#returning-a-view-versus-a-copy\n",
      "  \"\"\"Entry point for launching an IPython kernel.\n"
     ]
    }
   ],
   "source": [
    "df2['new_size']=new_sz\n"
   ]
  },
  {
   "cell_type": "code",
   "execution_count": 22,
   "metadata": {},
   "outputs": [
    {
     "data": {
      "text/html": [
       "<div>\n",
       "<style scoped>\n",
       "    .dataframe tbody tr th:only-of-type {\n",
       "        vertical-align: middle;\n",
       "    }\n",
       "\n",
       "    .dataframe tbody tr th {\n",
       "        vertical-align: top;\n",
       "    }\n",
       "\n",
       "    .dataframe thead th {\n",
       "        text-align: right;\n",
       "    }\n",
       "</style>\n",
       "<table border=\"1\" class=\"dataframe\">\n",
       "  <thead>\n",
       "    <tr style=\"text-align: right;\">\n",
       "      <th></th>\n",
       "      <th>article_no</th>\n",
       "      <th>gender</th>\n",
       "      <th>category</th>\n",
       "      <th>price</th>\n",
       "      <th>new_size</th>\n",
       "      <th>brand</th>\n",
       "    </tr>\n",
       "  </thead>\n",
       "  <tbody>\n",
       "    <tr>\n",
       "      <th>0</th>\n",
       "      <td>7007355-04-07</td>\n",
       "      <td>girl</td>\n",
       "      <td>byxor-shorts</td>\n",
       "      <td>74</td>\n",
       "      <td>92</td>\n",
       "      <td>Ellos Kids</td>\n",
       "    </tr>\n",
       "    <tr>\n",
       "      <th>1</th>\n",
       "      <td>7007355-04-07</td>\n",
       "      <td>girl</td>\n",
       "      <td>byxor-shorts</td>\n",
       "      <td>74</td>\n",
       "      <td>104</td>\n",
       "      <td>Ellos Kids</td>\n",
       "    </tr>\n",
       "  </tbody>\n",
       "</table>\n",
       "</div>"
      ],
      "text/plain": [
       "       article_no gender      category  price new_size       brand\n",
       "0   7007355-04-07  girl   byxor-shorts  74     92       Ellos Kids\n",
       "1   7007355-04-07  girl   byxor-shorts  74     104      Ellos Kids"
      ]
     },
     "execution_count": 22,
     "metadata": {},
     "output_type": "execute_result"
    }
   ],
   "source": [
    "colunms=['article_no','gender','category','price','new_size','brand']\n",
    "df3=df2[colunms]\n",
    "df3.head(2)"
   ]
  },
  {
   "cell_type": "code",
   "execution_count": 23,
   "metadata": {},
   "outputs": [],
   "source": [
    "dfr=df3\n",
    "dfr.to_csv('ellos_cleaned.csv',index=False) #for rows not showing\n"
   ]
  },
  {
   "cell_type": "code",
   "execution_count": null,
   "metadata": {},
   "outputs": [],
   "source": []
  }
 ],
 "metadata": {
  "kernelspec": {
   "display_name": "Python 3",
   "language": "python",
   "name": "python3"
  },
  "language_info": {
   "codemirror_mode": {
    "name": "ipython",
    "version": 3
   },
   "file_extension": ".py",
   "mimetype": "text/x-python",
   "name": "python",
   "nbconvert_exporter": "python",
   "pygments_lexer": "ipython3",
   "version": "3.5.3"
  }
 },
 "nbformat": 4,
 "nbformat_minor": 4
}

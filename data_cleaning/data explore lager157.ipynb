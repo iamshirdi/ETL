{
 "cells": [
  {
   "cell_type": "code",
   "execution_count": 1,
   "metadata": {},
   "outputs": [
    {
     "name": "stdout",
     "output_type": "stream",
     "text": [
      "name          3514\n",
      "brand         3514\n",
      "gender        3514\n",
      "category      3514\n",
      "color         3514\n",
      "size          3514\n",
      "price         3514\n",
      "url           3514\n",
      "img_url       3514\n",
      "article_no    3514\n",
      "blob_url      0   \n",
      "dtype: int64\n"
     ]
    },
    {
     "data": {
      "text/html": [
       "<div>\n",
       "<style scoped>\n",
       "    .dataframe tbody tr th:only-of-type {\n",
       "        vertical-align: middle;\n",
       "    }\n",
       "\n",
       "    .dataframe tbody tr th {\n",
       "        vertical-align: top;\n",
       "    }\n",
       "\n",
       "    .dataframe thead th {\n",
       "        text-align: right;\n",
       "    }\n",
       "</style>\n",
       "<table border=\"1\" class=\"dataframe\">\n",
       "  <thead>\n",
       "    <tr style=\"text-align: right;\">\n",
       "      <th></th>\n",
       "      <th>name</th>\n",
       "      <th>brand</th>\n",
       "      <th>gender</th>\n",
       "      <th>category</th>\n",
       "      <th>color</th>\n",
       "      <th>size</th>\n",
       "      <th>price</th>\n",
       "      <th>url</th>\n",
       "      <th>img_url</th>\n",
       "      <th>article_no</th>\n",
       "      <th>blob_url</th>\n",
       "    </tr>\n",
       "  </thead>\n",
       "  <tbody>\n",
       "    <tr>\n",
       "      <th>0</th>\n",
       "      <td>Shorts \"All star\"</td>\n",
       "      <td>lager157</td>\n",
       "      <td>unisex</td>\n",
       "      <td>shorts</td>\n",
       "      <td>Pink 2</td>\n",
       "      <td>90</td>\n",
       "      <td>30.0</td>\n",
       "      <td>https://www.lager157.com/sv-se/article/shorts-all-star?attr1_id=100</td>\n",
       "      <td>https://www.lager157.com/media/SHORTS-ALL-STAR_13651_PINK_FRONT.jpg</td>\n",
       "      <td>13651</td>\n",
       "      <td>NaN</td>\n",
       "    </tr>\n",
       "    <tr>\n",
       "      <th>1</th>\n",
       "      <td>Shorts \"All star\"</td>\n",
       "      <td>lager157</td>\n",
       "      <td>unisex</td>\n",
       "      <td>shorts</td>\n",
       "      <td>Pink 2</td>\n",
       "      <td>100</td>\n",
       "      <td>30.0</td>\n",
       "      <td>https://www.lager157.com/sv-se/article/shorts-all-star?attr1_id=100</td>\n",
       "      <td>https://www.lager157.com/media/SHORTS-ALL-STAR_13651_PINK_FRONT.jpg</td>\n",
       "      <td>13651</td>\n",
       "      <td>NaN</td>\n",
       "    </tr>\n",
       "    <tr>\n",
       "      <th>2</th>\n",
       "      <td>Shorts \"All star\"</td>\n",
       "      <td>lager157</td>\n",
       "      <td>unisex</td>\n",
       "      <td>shorts</td>\n",
       "      <td>Pink 2</td>\n",
       "      <td>130</td>\n",
       "      <td>30.0</td>\n",
       "      <td>https://www.lager157.com/sv-se/article/shorts-all-star?attr1_id=100</td>\n",
       "      <td>https://www.lager157.com/media/SHORTS-ALL-STAR_13651_PINK_FRONT.jpg</td>\n",
       "      <td>13651</td>\n",
       "      <td>NaN</td>\n",
       "    </tr>\n",
       "  </tbody>\n",
       "</table>\n",
       "</div>"
      ],
      "text/plain": [
       "                name     brand  gender category   color size  price  \\\n",
       "0  Shorts \"All star\"  lager157  unisex  shorts   Pink 2  90   30.0    \n",
       "1  Shorts \"All star\"  lager157  unisex  shorts   Pink 2  100  30.0    \n",
       "2  Shorts \"All star\"  lager157  unisex  shorts   Pink 2  130  30.0    \n",
       "\n",
       "                                                                   url  \\\n",
       "0  https://www.lager157.com/sv-se/article/shorts-all-star?attr1_id=100   \n",
       "1  https://www.lager157.com/sv-se/article/shorts-all-star?attr1_id=100   \n",
       "2  https://www.lager157.com/sv-se/article/shorts-all-star?attr1_id=100   \n",
       "\n",
       "                                                               img_url  \\\n",
       "0  https://www.lager157.com/media/SHORTS-ALL-STAR_13651_PINK_FRONT.jpg   \n",
       "1  https://www.lager157.com/media/SHORTS-ALL-STAR_13651_PINK_FRONT.jpg   \n",
       "2  https://www.lager157.com/media/SHORTS-ALL-STAR_13651_PINK_FRONT.jpg   \n",
       "\n",
       "   article_no  blob_url  \n",
       "0  13651      NaN        \n",
       "1  13651      NaN        \n",
       "2  13651      NaN        "
      ]
     },
     "execution_count": 1,
     "metadata": {},
     "output_type": "execute_result"
    }
   ],
   "source": [
    "import pandas as pd\n",
    "pd.set_option('display.max_colwidth', -1) #full colunm dispaly\n",
    "\n",
    "result=pd.read_csv(\"Image-Classification-and-Price-prediction/scrapping/data/lager157.csv\", encoding='utf-8',index_col=False)\n",
    "print(result.count())\n",
    "result.head(3)"
   ]
  },
  {
   "cell_type": "code",
   "execution_count": 2,
   "metadata": {},
   "outputs": [
    {
     "data": {
      "text/plain": [
       "name          3514\n",
       "brand         3514\n",
       "gender        3514\n",
       "category      3514\n",
       "color         3514\n",
       "size          3514\n",
       "price         3514\n",
       "url           3514\n",
       "img_url       3514\n",
       "article_no    3514\n",
       "blob_url      0   \n",
       "dtype: int64"
      ]
     },
     "execution_count": 2,
     "metadata": {},
     "output_type": "execute_result"
    }
   ],
   "source": [
    "df=result.drop_duplicates()\n",
    "result.drop_duplicates().count()"
   ]
  },
  {
   "cell_type": "code",
   "execution_count": 3,
   "metadata": {},
   "outputs": [
    {
     "data": {
      "text/plain": [
       "array([ 30.,  80.,  35., 150., 200., 300.,  70., 250., 120.,  40.,  60.,\n",
       "        50., 100.,  20.])"
      ]
     },
     "execution_count": 3,
     "metadata": {},
     "output_type": "execute_result"
    }
   ],
   "source": [
    "df['price'].unique()"
   ]
  },
  {
   "cell_type": "code",
   "execution_count": 5,
   "metadata": {},
   "outputs": [
    {
     "data": {
      "text/plain": [
       "array([ 30,  80,  35, 150, 200, 300,  70, 250, 120,  40,  60,  50, 100,\n",
       "        20])"
      ]
     },
     "execution_count": 5,
     "metadata": {},
     "output_type": "execute_result"
    }
   ],
   "source": [
    "df2=df\n",
    "\n",
    "df2['price']=df2['price'].astype(float)\n",
    "df2['price']=df2['price'].round()\n",
    "df2['price']=df2['price'].astype(int)\n",
    "\n",
    "\n",
    "df2['price'].unique()"
   ]
  },
  {
   "cell_type": "code",
   "execution_count": 8,
   "metadata": {},
   "outputs": [
    {
     "data": {
      "text/plain": [
       "array(['90', '100', '130', '150', '110', '160', '140', '120', '90-100',\n",
       "       '110-120', '150-160', '130-140', '90-110', '80', 'One size',\n",
       "       '25-30', '31-35', '20-24', '2', '1', '146-152', '134-140', '86-92',\n",
       "       '158-164', '110-116', '98-104', '122-128', '35-36', '43-44',\n",
       "       '39-40', '41-42', '45-46', '37-38', '41-45', '36-40'], dtype=object)"
      ]
     },
     "execution_count": 8,
     "metadata": {},
     "output_type": "execute_result"
    }
   ],
   "source": [
    "df3=df2\n",
    "df3['size']=df3['size'].str.replace('/','-')\n",
    "df3['size']=df3['size'].str.replace('Size ','')\n",
    "\n",
    "df3['size'].unique()"
   ]
  },
  {
   "cell_type": "code",
   "execution_count": 9,
   "metadata": {},
   "outputs": [
    {
     "data": {
      "text/html": [
       "<div>\n",
       "<style scoped>\n",
       "    .dataframe tbody tr th:only-of-type {\n",
       "        vertical-align: middle;\n",
       "    }\n",
       "\n",
       "    .dataframe tbody tr th {\n",
       "        vertical-align: top;\n",
       "    }\n",
       "\n",
       "    .dataframe thead th {\n",
       "        text-align: right;\n",
       "    }\n",
       "</style>\n",
       "<table border=\"1\" class=\"dataframe\">\n",
       "  <thead>\n",
       "    <tr style=\"text-align: right;\">\n",
       "      <th></th>\n",
       "      <th>article_no</th>\n",
       "      <th>gender</th>\n",
       "      <th>category</th>\n",
       "      <th>price</th>\n",
       "      <th>size</th>\n",
       "      <th>brand</th>\n",
       "    </tr>\n",
       "  </thead>\n",
       "  <tbody>\n",
       "    <tr>\n",
       "      <th>0</th>\n",
       "      <td>13651</td>\n",
       "      <td>unisex</td>\n",
       "      <td>shorts</td>\n",
       "      <td>30</td>\n",
       "      <td>90</td>\n",
       "      <td>lager157</td>\n",
       "    </tr>\n",
       "    <tr>\n",
       "      <th>1</th>\n",
       "      <td>13651</td>\n",
       "      <td>unisex</td>\n",
       "      <td>shorts</td>\n",
       "      <td>30</td>\n",
       "      <td>100</td>\n",
       "      <td>lager157</td>\n",
       "    </tr>\n",
       "  </tbody>\n",
       "</table>\n",
       "</div>"
      ],
      "text/plain": [
       "   article_no  gender category  price size     brand\n",
       "0  13651       unisex  shorts   30     90   lager157\n",
       "1  13651       unisex  shorts   30     100  lager157"
      ]
     },
     "execution_count": 9,
     "metadata": {},
     "output_type": "execute_result"
    }
   ],
   "source": [
    "colunms=['article_no','gender','category','price','size','brand']\n",
    "df4=df3[colunms]\n",
    "df4.head(2)"
   ]
  },
  {
   "cell_type": "code",
   "execution_count": 10,
   "metadata": {},
   "outputs": [],
   "source": [
    "dfr=df4\n",
    "dfr.to_csv('lager157_cleaned.csv',index=False) #for rows not showing\n"
   ]
  },
  {
   "cell_type": "code",
   "execution_count": null,
   "metadata": {},
   "outputs": [],
   "source": []
  }
 ],
 "metadata": {
  "kernelspec": {
   "display_name": "Python 3",
   "language": "python",
   "name": "python3"
  },
  "language_info": {
   "codemirror_mode": {
    "name": "ipython",
    "version": 3
   },
   "file_extension": ".py",
   "mimetype": "text/x-python",
   "name": "python",
   "nbconvert_exporter": "python",
   "pygments_lexer": "ipython3",
   "version": "3.5.3"
  }
 },
 "nbformat": 4,
 "nbformat_minor": 4
}

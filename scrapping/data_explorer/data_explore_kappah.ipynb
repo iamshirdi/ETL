{
 "cells": [
  {
   "cell_type": "code",
   "execution_count": 1,
   "metadata": {},
   "outputs": [
    {
     "name": "stdout",
     "output_type": "stream",
     "text": []
    },
    {
     "name": "stdout",
     "output_type": "stream",
     "text": [
      "Reading package lists... Done\n",
      "Building dependency tree       \n",
      "Reading state information... Done\n",
      "E: Unable to locate package chromium-chromedriver\n",
      "cp: cannot stat '/usr/lib/chromium-browser/chromedriver': No such file or directory\n",
      "Requirement already satisfied: selenium in ./.local/lib/python3.5/site-packages\n",
      "Requirement already satisfied: urllib3 in /usr/local/lib/python3.5/dist-packages (from selenium)\n"
     ]
    }
   ],
   "source": [
    "#https://github.com/garywu/google-compute-engine-selenium\n",
    "# install chromium, its driver, and selenium\n",
    "!sudo apt install chromium-chromedriver\n",
    "!sudo cp /usr/lib/chromium-browser/chromedriver /usr/bin\n",
    "!pip install selenium\n",
    "# set options to be headless, ..\n",
    "from selenium import webdriver\n",
    "options = webdriver.ChromeOptions()\n",
    "options.add_argument('--headless')\n",
    "options.add_argument('--no-sandbox')\n",
    "options.add_argument('--disable-dev-shm-usage')\n",
    "\n",
    "# open it, go to a website, and get results\n",
    "# wd = webdriver.Chrome('chromedriver',options=options)\n",
    "# wd.get(\"https://www.website.com\")\n",
    "# print(wd.page_source)  # results"
   ]
  },
  {
   "cell_type": "code",
   "execution_count": null,
   "metadata": {},
   "outputs": [],
   "source": []
  },
  {
   "cell_type": "code",
   "execution_count": 2,
   "metadata": {},
   "outputs": [],
   "source": [
    "driver = webdriver.Chrome('chromedriver',options=options)\n",
    "\n",
    "driver.set_window_size(1920,1080)\n",
    "url_m=\"https://www.kappahl.com/sv-SE/barn/44-86/toppar-t-shirts/\"\n",
    "driver.get(url_m)\n",
    "# execute script to scroll down the page\n",
    "#driver.execute_script(\"window.scrollTo(0, document.body.scrollHeight);var lenOfPage=document.body.scrollHeight;return lenOfPage;\")\n",
    "# sleep for 30s\n",
    "# time.sleep(30)\n",
    "# driver.quit()\n"
   ]
  },
  {
   "cell_type": "code",
   "execution_count": 3,
   "metadata": {},
   "outputs": [
    {
     "name": "stdout",
     "output_type": "stream",
     "text": [
      "Number of results 0\n"
     ]
    }
   ],
   "source": [
    "\n",
    "driver= webdriver.Chrome('chromedriver',options=options)\n",
    "driver.get(sub_url)\n",
    "driver.set_window_size(1920,1080)\n",
    "\n",
    "wait = WebDriverWait(driver, 5)\n",
    "productCountPresent = ec.presence_of_element_located(\n",
    "    (By.CLASS_NAME, 'product-card__url'))\n",
    "wait.until(productCountPresent)\n",
    "\n",
    "xpath2='//*[@class=\"product-card__url\"]'\n",
    "products = driver.find_elements_by_xpath(xpath2)\n",
    "print('Number of results', category,len(products))\n"
   ]
  },
  {
   "cell_type": "code",
   "execution_count": 4,
   "metadata": {},
   "outputs": [
    {
     "ename": "IndexError",
     "evalue": "list index out of range",
     "output_type": "error",
     "traceback": [
      "\u001b[0;31m---------------------------------------------------------------------------\u001b[0m",
      "\u001b[0;31mIndexError\u001b[0m                                Traceback (most recent call last)",
      "\u001b[0;32m<ipython-input-4-9b6d72921f0b>\u001b[0m in \u001b[0;36m<module>\u001b[0;34m\u001b[0m\n\u001b[0;32m----> 1\u001b[0;31m \u001b[0murl\u001b[0m\u001b[0;34m=\u001b[0m\u001b[0mcateg\u001b[0m\u001b[0;34m[\u001b[0m\u001b[0;36m0\u001b[0m\u001b[0;34m]\u001b[0m\u001b[0;34m.\u001b[0m\u001b[0mget_attribute\u001b[0m\u001b[0;34m(\u001b[0m\u001b[0;34m\"href\"\u001b[0m\u001b[0;34m)\u001b[0m\u001b[0;34m\u001b[0m\u001b[0m\n\u001b[0m\u001b[1;32m      2\u001b[0m \u001b[0murl\u001b[0m\u001b[0;34m\u001b[0m\u001b[0m\n",
      "\u001b[0;31mIndexError\u001b[0m: list index out of range"
     ]
    }
   ],
   "source": [
    "url=categ[0].get_attribute(\"href\")\n",
    "url"
   ]
  },
  {
   "cell_type": "code",
   "execution_count": null,
   "metadata": {},
   "outputs": [],
   "source": [
    "#driver.get(url)\n",
    "driver.get('https://www.kappahl.com/sv-SE/barn/shorts/mjukisshorts/585182/')\n",
    "name=driver.find_element_by_xpath('//*[@class=\"product__name\"]').text\n",
    "name"
   ]
  },
  {
   "cell_type": "code",
   "execution_count": null,
   "metadata": {},
   "outputs": [],
   "source": [
    "\n",
    "article_no = driver.find_element_by_name('ProductCode')\n",
    "article_no.get_attribute(\"value\")"
   ]
  },
  {
   "cell_type": "code",
   "execution_count": null,
   "metadata": {},
   "outputs": [],
   "source": [
    "\n",
    "price=driver.find_element_by_xpath('//*[@class=\"product__price\"]').text\n",
    "price"
   ]
  },
  {
   "cell_type": "code",
   "execution_count": null,
   "metadata": {},
   "outputs": [],
   "source": [
    "brand=driver.find_element_by_xpath('//*[@class=\"product__brand\"]').text\n",
    "brand"
   ]
  },
  {
   "cell_type": "code",
   "execution_count": null,
   "metadata": {},
   "outputs": [],
   "source": [
    "color=driver.find_element_by_xpath('//span[@id=\"colorModel-button\"]').text\n",
    "color\n"
   ]
  },
  {
   "cell_type": "code",
   "execution_count": null,
   "metadata": {},
   "outputs": [],
   "source": [
    "size=driver.find_element_by_id('sizeModel')\n",
    "#size=size.findElement(By.tagName(\"li\"))\n",
    "\n",
    "# size.get_attribute('outerHTML')\n",
    "size.get_attribute('outerHTML')\n",
    "\n",
    "\n"
   ]
  },
  {
   "cell_type": "code",
   "execution_count": null,
   "metadata": {},
   "outputs": [],
   "source": [
    "sizes=size.find_elements_by_xpath(\".//option\")\n",
    "for s in sizes:\n",
    "    size=s.get_attribute('innerHTML') \n",
    "    print(size)"
   ]
  },
  {
   "cell_type": "code",
   "execution_count": 5,
   "metadata": {},
   "outputs": [
    {
     "name": "stdout",
     "output_type": "stream",
     "text": [
      "Number of results 19\n"
     ]
    }
   ],
   "source": [
    "url=\"https://www.kappahl.com/sv-SE/barn/44-86/toppar-t-shirts/\"\n",
    "driver.get(url)\n",
    "driver.set_window_size(1920,1080)\n",
    "\n",
    "xpath='//*[@id=\"form1\"]/div[3]/div/main/div[6]/div[4]/div[1]/ul/li/ul/li[2]/ul/li'\n",
    "categ = driver.find_elements_by_xpath(xpath)\n",
    "print('Number of results', len(categ))"
   ]
  },
  {
   "cell_type": "code",
   "execution_count": 160,
   "metadata": {},
   "outputs": [
    {
     "data": {
      "text/plain": [
       "'<li class=\"left-menu-item--level-3\">\\n\\n            <a href=\"/sv-SE/barn/44-86/badklader/\">Badkläder &amp; UV</a>\\n\\n        </li>'"
      ]
     },
     "execution_count": 160,
     "metadata": {},
     "output_type": "execute_result"
    }
   ],
   "source": [
    "categ[3].get_attribute('outerHTML')"
   ]
  },
  {
   "cell_type": "code",
   "execution_count": 155,
   "metadata": {},
   "outputs": [
    {
     "data": {
      "text/plain": [
       "'Nyheter'"
      ]
     },
     "execution_count": 155,
     "metadata": {},
     "output_type": "execute_result"
    }
   ],
   "source": [
    "categ[0].find_element_by_xpath(\".//a\").get_attribute('innerHTML')"
   ]
  },
  {
   "cell_type": "code",
   "execution_count": 156,
   "metadata": {},
   "outputs": [
    {
     "data": {
      "text/plain": [
       "'https://www.kappahl.com/sv-SE/barn/44-86/nyheter/'"
      ]
     },
     "execution_count": 156,
     "metadata": {},
     "output_type": "execute_result"
    }
   ],
   "source": [
    "categ[0].find_element_by_xpath(\".//a\").get_attribute('href')"
   ]
  },
  {
   "cell_type": "code",
   "execution_count": 147,
   "metadata": {},
   "outputs": [
    {
     "name": "stdout",
     "output_type": "stream",
     "text": [
      "\n",
      "\n",
      "\n",
      "\n",
      "\n",
      "\n",
      "\n",
      "\n",
      "\n",
      "\n",
      "\n",
      "\n",
      "\n",
      "\n",
      "\n",
      "\n",
      "\n",
      "\n",
      "\n"
     ]
    }
   ],
   "source": [
    "c=[]\n",
    "for i in categ:\n",
    "    c.append(i.text)\n",
    "    print(i.text)"
   ]
  },
  {
   "cell_type": "code",
   "execution_count": 16,
   "metadata": {},
   "outputs": [
    {
     "data": {
      "text/plain": [
       "['Shorts',\n",
       " 'Badkläder & UV',\n",
       " 'Bodys & set',\n",
       " 'Toppar & t-shirts',\n",
       " 'Skjortor & blusar',\n",
       " 'Byxor',\n",
       " 'Leggings',\n",
       " 'Jumpsuits & onesies',\n",
       " 'Klänningar & kjolar',\n",
       " 'Festkläder',\n",
       " 'Tröjor & koftor',\n",
       " 'Ytterkläder',\n",
       " 'Pyjamas',\n",
       " 'Underkläder',\n",
       " 'Underställ',\n",
       " 'Accessoarer',\n",
       " 'Skor']"
      ]
     },
     "execution_count": 16,
     "metadata": {},
     "output_type": "execute_result"
    }
   ],
   "source": [
    "c.pop(0)\n",
    "c.pop(0)\n",
    "c"
   ]
  },
  {
   "cell_type": "code",
   "execution_count": 64,
   "metadata": {},
   "outputs": [
    {
     "name": "stdout",
     "output_type": "stream",
     "text": [
      "Number of results 20\n"
     ]
    }
   ],
   "source": []
  },
  {
   "cell_type": "code",
   "execution_count": 7,
   "metadata": {},
   "outputs": [
    {
     "data": {
      "text/plain": [
       "'https://www.kappahl.com/sv-SE/barn/44-86/alla-babyklader/'"
      ]
     },
     "execution_count": 7,
     "metadata": {},
     "output_type": "execute_result"
    }
   ],
   "source": [
    "urls=[]\n",
    "for k in ur:\n",
    "    urls.append(k.get_attribute(\"href\"))\n",
    "urls.pop(0)\n",
    "urls.pop(0)\n"
   ]
  },
  {
   "cell_type": "code",
   "execution_count": 8,
   "metadata": {},
   "outputs": [
    {
     "data": {
      "text/plain": [
       "['https://www.kappahl.com/sv-SE/barn/44-86/shorts/',\n",
       " 'https://www.kappahl.com/sv-SE/barn/44-86/badklader/',\n",
       " 'https://www.kappahl.com/sv-SE/barn/44-86/bodys-set/',\n",
       " 'https://www.kappahl.com/sv-SE/barn/44-86/toppar-t-shirts/',\n",
       " 'https://www.kappahl.com/sv-SE/barn/44-86/skjortor-blusar/',\n",
       " 'https://www.kappahl.com/sv-SE/barn/44-86/byxor/',\n",
       " 'https://www.kappahl.com/sv-SE/barn/44-86/leggings/',\n",
       " 'https://www.kappahl.com/sv-SE/barn/44-86/jumpsuits-onesies/',\n",
       " 'https://www.kappahl.com/sv-SE/barn/44-86/klanningar-kjolar/',\n",
       " 'https://www.kappahl.com/sv-SE/barn/44-86/festklader/',\n",
       " 'https://www.kappahl.com/sv-SE/barn/44-86/trojor-koftor/',\n",
       " 'https://www.kappahl.com/sv-SE/barn/44-86/ytterklader/',\n",
       " 'https://www.kappahl.com/sv-SE/barn/44-86/pyjamas/',\n",
       " 'https://www.kappahl.com/sv-SE/barn/44-86/underklader/',\n",
       " 'https://www.kappahl.com/sv-SE/barn/44-86/understall/',\n",
       " 'https://www.kappahl.com/sv-SE/barn/44-86/accessoarer/',\n",
       " 'https://www.kappahl.com/sv-SE/barn/44-86/skor/']"
      ]
     },
     "execution_count": 8,
     "metadata": {},
     "output_type": "execute_result"
    }
   ],
   "source": [
    "urls"
   ]
  },
  {
   "cell_type": "code",
   "execution_count": 35,
   "metadata": {},
   "outputs": [
    {
     "data": {
      "text/plain": [
       "1655"
      ]
     },
     "execution_count": 35,
     "metadata": {},
     "output_type": "execute_result"
    }
   ],
   "source": [
    "driver.get(urls[0])\n",
    "driver.execute_script(\"window.scrollTo(0, document.body.scrollHeight);var lenOfPage=document.body.scrollHeight;return lenOfPage;\")\n"
   ]
  },
  {
   "cell_type": "code",
   "execution_count": 38,
   "metadata": {},
   "outputs": [
    {
     "name": "stdout",
     "output_type": "stream",
     "text": [
      "Number of results 20\n"
     ]
    }
   ],
   "source": [
    "# find elements by xpath\n",
    "xpath='//*[@id=\"ProductList\"]/div'\n",
    "products = driver.find_elements_by_xpath(xpath)\n",
    "print('Number of results', len(products))"
   ]
  },
  {
   "cell_type": "code",
   "execution_count": 40,
   "metadata": {},
   "outputs": [
    {
     "data": {
      "text/plain": [
       "'RESPONSIBLE FASHION\\nMjukisshorts\\nNEWBIE BABY\\n99:-'"
      ]
     },
     "execution_count": 40,
     "metadata": {},
     "output_type": "execute_result"
    }
   ],
   "source": [
    "products[0].text\n"
   ]
  },
  {
   "cell_type": "code",
   "execution_count": 39,
   "metadata": {},
   "outputs": [],
   "source": [
    "products[0].get_attribute(\"href\")"
   ]
  },
  {
   "cell_type": "code",
   "execution_count": 32,
   "metadata": {},
   "outputs": [
    {
     "name": "stdout",
     "output_type": "stream",
     "text": [
      "Number of results 1\n"
     ]
    }
   ],
   "source": [
    "xpath2='//*[@id=\"ProductList\"]/div[7]/article/div/div/div/div[1]/span'\n",
    "retail = driver.find_elements_by_xpath(xpath2)\n",
    "print('Number of results', len(retail))"
   ]
  },
  {
   "cell_type": "code",
   "execution_count": 33,
   "metadata": {},
   "outputs": [
    {
     "data": {
      "text/plain": [
       "'79,90:-'"
      ]
     },
     "execution_count": 33,
     "metadata": {},
     "output_type": "execute_result"
    }
   ],
   "source": [
    "retail[0].text"
   ]
  },
  {
   "cell_type": "code",
   "execution_count": 47,
   "metadata": {},
   "outputs": [
    {
     "name": "stdout",
     "output_type": "stream",
     "text": [
      "Number of results 1\n"
     ]
    }
   ],
   "source": [
    "xpath3='//*[@id=\"ProductList\"]/div[3]/article/a'\n",
    "url = driver.find_elements_by_xpath(xpath3)\n",
    "print('Number of results', len(url))"
   ]
  },
  {
   "cell_type": "code",
   "execution_count": 50,
   "metadata": {},
   "outputs": [
    {
     "data": {
      "text/plain": [
       "'https://www.kappahl.com/sv-SE/barn/shorts/mjukisshorts/585174'"
      ]
     },
     "execution_count": 50,
     "metadata": {},
     "output_type": "execute_result"
    }
   ],
   "source": [
    "url[0].get_attribute(\"href\")"
   ]
  },
  {
   "cell_type": "code",
   "execution_count": null,
   "metadata": {},
   "outputs": [],
   "source": [
    "xpath4='//img[@class=\"dx bw p t r l eg m a2 hj f3 w x hk hl\"]'\n",
    "img_url = driver.find_elements_by_xpath(xpath4)\n",
    "print('Number of results', len(img_url))"
   ]
  },
  {
   "cell_type": "code",
   "execution_count": null,
   "metadata": {},
   "outputs": [],
   "source": [
    "img_url[0].get_attribute(\"src\")"
   ]
  },
  {
   "cell_type": "code",
   "execution_count": null,
   "metadata": {},
   "outputs": [],
   "source": [
    "# create empty array to store data\n",
    "data = []\n",
    "# loop over results\n",
    "for result in results:\n",
    "    product_name = result.text\n",
    "    link = result.find_element_by_tag_name('a')\n",
    "    product_link = link.get_attribute(\"href\")\n",
    "    # append dict to array\n",
    "    data.append({\"product\" : product_name, \"link\" : product_link})"
   ]
  },
  {
   "cell_type": "code",
   "execution_count": null,
   "metadata": {},
   "outputs": [],
   "source": [
    "# close driver \n",
    "driver.quit()\n",
    "# save to pandas dataframe\n",
    "df = pd.DataFrame(data)\n",
    "print(df)"
   ]
  },
  {
   "cell_type": "code",
   "execution_count": null,
   "metadata": {},
   "outputs": [],
   "source": [
    "# write to csv\n",
    "df.to_csv('asdaYogurtLink.csv')"
   ]
  }
 ],
 "metadata": {
  "kernelspec": {
   "display_name": "Python 3",
   "language": "python",
   "name": "python3"
  },
  "language_info": {
   "codemirror_mode": {
    "name": "ipython",
    "version": 3
   },
   "file_extension": ".py",
   "mimetype": "text/x-python",
   "name": "python",
   "nbconvert_exporter": "python",
   "pygments_lexer": "ipython3",
   "version": "3.5.3"
  }
 },
 "nbformat": 4,
 "nbformat_minor": 2
}

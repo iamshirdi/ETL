{
 "cells": [
  {
   "cell_type": "markdown",
   "metadata": {},
   "source": [
    "### Python code\n",
    "\n",
    "``` python\n",
    "\n",
    "from google.cloud import storage\n",
    "client = storage.Client()\n",
    "# https://console.cloud.google.com/storage/browser/[bucket-id]/\n",
    "bucket = client.get_bucket('bucket-id-here')\n",
    "# Then do other things...\n",
    "blob = bucket.get_blob('remote/path/to/file.txt')\n",
    "print(blob.download_as_string())\n",
    "blob.upload_from_string('New contents!')\n",
    "blob2 = bucket.blob('remote/path/storage.txt')\n",
    "blob2.upload_from_filename(filename='/local/path.txt')\n",
    "```\n",
    "### https://stackoverflow.com/questions/37003862/google-cloud-storage-how-to-upload-a-file-from-python-3\n",
    "\n",
    "## https://hackersandslackers.com/manage-files-in-google-cloud-storage-with-python/"
   ]
  },
  {
   "cell_type": "code",
   "execution_count": 4,
   "metadata": {},
   "outputs": [],
   "source": [
    "from google.cloud import storage\n",
    "\n",
    "def upload_to_bucket(blob_name, path_to_file, bucket_name):\n",
    "    \"\"\" Upload data to a bucket\"\"\"\n",
    "\n",
    "    # Explicitly use service account credentials by specifying the private key\n",
    "    # file.\n",
    "    storage_client = storage.Client.from_service_account_json(\n",
    "        'urbankiddo-c8528ce11ed0.json')\n",
    "\n",
    "    #print(buckets = list(storage_client.list_buckets())\n",
    "\n",
    "    bucket = storage_client.get_bucket(bucket_name)\n",
    "    blob = bucket.blob(blob_name)\n",
    "    blob.upload_from_filename(path_to_file)\n",
    "\n",
    "    #returns a public url\n",
    "    return blob.public_url"
   ]
  },
  {
   "cell_type": "code",
   "execution_count": 5,
   "metadata": {},
   "outputs": [
    {
     "name": "stdout",
     "output_type": "stream",
     "text": [
      "[<Bucket: urbankiddo>]\n"
     ]
    }
   ],
   "source": [
    "from google.cloud import storage\n",
    "storage_client = storage.Client.from_service_account_json('auth.json')\n",
    "buckets = list(storage_client.list_buckets())\n",
    "print(buckets)"
   ]
  },
  {
   "cell_type": "code",
   "execution_count": 7,
   "metadata": {},
   "outputs": [
    {
     "data": {
      "text/plain": [
       "['.ipynb_checkpoints',\n",
       " 'categories.txt',\n",
       " 'gcloud bucket.ipynb',\n",
       " 'geckodriver-v0.24.0-win64',\n",
       " 'geckodriver.log',\n",
       " 'H&M',\n",
       " 'kappah.ipynb',\n",
       " 'polarnopyret.ipynb',\n",
       " 'urbankiddo-c8528ce11ed0.json',\n",
       " 'zara.csv',\n",
       " 'Zara.ipynb']"
      ]
     },
     "execution_count": 7,
     "metadata": {},
     "output_type": "execute_result"
    }
   ],
   "source": [
    "import os\n",
    "os.listdir()"
   ]
  },
  {
   "cell_type": "code",
   "execution_count": 8,
   "metadata": {},
   "outputs": [],
   "source": [
    "# bucket = storage_client.get_bucket('urbankiddo')\n",
    "# blob = bucket.blob('h&m/test0')\n",
    "# blob.upload_from_filename('categories.txt')\n",
    "# blob.public_url"
   ]
  },
  {
   "cell_type": "code",
   "execution_count": 12,
   "metadata": {},
   "outputs": [
    {
     "data": {
      "text/plain": [
       "1758"
      ]
     },
     "execution_count": 12,
     "metadata": {},
     "output_type": "execute_result"
    }
   ],
   "source": [
    "bucket = storage_client.get_bucket('urbankiddo')\n",
    "list=[]\n",
    "for f in bucket.list_blobs(prefix='zara/'):\n",
    "    list.append(f)\n",
    "len(list)"
   ]
  },
  {
   "cell_type": "code",
   "execution_count": 13,
   "metadata": {},
   "outputs": [
    {
     "data": {
      "text/plain": [
       "501"
      ]
     },
     "execution_count": 13,
     "metadata": {},
     "output_type": "execute_result"
    }
   ],
   "source": [
    "bucket = storage_client.get_bucket('urbankiddo')\n",
    "list=[]\n",
    "for f in bucket.list_blobs(prefix='kappah/'):\n",
    "    list.append(f)\n",
    "len(list)"
   ]
  },
  {
   "cell_type": "code",
   "execution_count": 11,
   "metadata": {},
   "outputs": [
    {
     "data": {
      "text/plain": [
       "1065"
      ]
     },
     "execution_count": 11,
     "metadata": {},
     "output_type": "execute_result"
    }
   ],
   "source": [
    "bucket = storage_client.get_bucket('urbankiddo')\n",
    "list=[]\n",
    "for f in bucket.list_blobs(prefix='polarnopyret/'):\n",
    "    list.append(f)\n",
    "len(list)"
   ]
  },
  {
   "cell_type": "code",
   "execution_count": 6,
   "metadata": {},
   "outputs": [
    {
     "data": {
      "text/plain": [
       "423"
      ]
     },
     "execution_count": 6,
     "metadata": {},
     "output_type": "execute_result"
    }
   ],
   "source": [
    "bucket = storage_client.get_bucket('urbankiddo')\n",
    "list=[]\n",
    "for f in bucket.list_blobs(prefix='nameit/'):\n",
    "    list.append(f)\n",
    "len(list)"
   ]
  },
  {
   "cell_type": "code",
   "execution_count": 20,
   "metadata": {},
   "outputs": [
    {
     "data": {
      "text/plain": [
       "5697"
      ]
     },
     "execution_count": 20,
     "metadata": {},
     "output_type": "execute_result"
    }
   ],
   "source": [
    "bucket = storage_client.get_bucket('urbankiddo')\n",
    "list=[]\n",
    "for f in bucket.list_blobs(prefix='babyshop/'):\n",
    "    list.append(f)\n",
    "len(list)"
   ]
  },
  {
   "cell_type": "code",
   "execution_count": 17,
   "metadata": {},
   "outputs": [
    {
     "data": {
      "text/plain": [
       "861"
      ]
     },
     "execution_count": 17,
     "metadata": {},
     "output_type": "execute_result"
    }
   ],
   "source": [
    "bucket = storage_client.get_bucket('urbankiddo')\n",
    "list=[]\n",
    "for f in bucket.list_blobs(prefix='jollyroom/'):\n",
    "    list.append(f)\n",
    "len(list)"
   ]
  },
  {
   "cell_type": "code",
   "execution_count": null,
   "metadata": {},
   "outputs": [],
   "source": []
  },
  {
   "cell_type": "code",
   "execution_count": null,
   "metadata": {},
   "outputs": [],
   "source": []
  },
  {
   "cell_type": "code",
   "execution_count": 20,
   "metadata": {},
   "outputs": [
    {
     "name": "stdout",
     "output_type": "stream",
     "text": [
      "655M\tH&M\n"
     ]
    }
   ],
   "source": [
    "!du -sh \"H&M\"\n"
   ]
  },
  {
   "cell_type": "code",
   "execution_count": 23,
   "metadata": {},
   "outputs": [
    {
     "name": "stdout",
     "output_type": "stream",
     "text": [
      "123M\tpolarnopyret\n"
     ]
    }
   ],
   "source": [
    "!du -sh \"polarnopyret\"\n"
   ]
  },
  {
   "cell_type": "code",
   "execution_count": 39,
   "metadata": {},
   "outputs": [
    {
     "name": "stdout",
     "output_type": "stream",
     "text": [
      "1141\n"
     ]
    }
   ],
   "source": [
    "!ls -l \"polarnopyret\"  | wc -l"
   ]
  },
  {
   "cell_type": "code",
   "execution_count": 30,
   "metadata": {},
   "outputs": [
    {
     "name": "stdout",
     "output_type": "stream",
     "text": [
      "2800\n"
     ]
    }
   ],
   "source": [
    "!ls -l \"nameit\"  | wc -l"
   ]
  },
  {
   "cell_type": "code",
   "execution_count": 32,
   "metadata": {},
   "outputs": [
    {
     "name": "stdout",
     "output_type": "stream",
     "text": [
      "165M\tnameit\n"
     ]
    }
   ],
   "source": [
    "!du -sh \"nameit\"\n"
   ]
  },
  {
   "cell_type": "code",
   "execution_count": 19,
   "metadata": {},
   "outputs": [
    {
     "name": "stdout",
     "output_type": "stream",
     "text": [
      "1.5G\tboozt\n"
     ]
    }
   ],
   "source": [
    "!du -sh \"boozt\"\n"
   ]
  },
  {
   "cell_type": "code",
   "execution_count": 1,
   "metadata": {},
   "outputs": [
    {
     "name": "stdout",
     "output_type": "stream",
     "text": [
      "3.7G\t.\n"
     ]
    }
   ],
   "source": [
    "!du -sh"
   ]
  },
  {
   "cell_type": "code",
   "execution_count": 18,
   "metadata": {},
   "outputs": [
    {
     "name": "stdout",
     "output_type": "stream",
     "text": [
      "total 90M\n",
      "-rw-r--r-- 1 jupyter jupyter 2.3K Jul 25 12:56 auth.json\n",
      "-rw-r--r-- 1 jupyter jupyter  16K Jul 23 12:39 data_explore_kappah.ipynb\n",
      "-rw-r--r-- 1 jupyter jupyter 6.0K Jul 23 22:55 data_explore_polarnopyret.ipynb\n",
      "-rw-r--r-- 1 jupyter jupyter 118K Jul 22 00:27 data explorer.ipynb\n",
      "-rw-r--r-- 1 jupyter jupyter 5.4K Jul 25 12:57 gcloud bucket.ipynb\n",
      "-rwxrwxr-x 1 jupyter jupyter 8.4M Jan 28 22:49 geckodriver\n",
      "-rw-r--r-- 1 jupyter jupyter    0 Jul 20 17:55 geckodriver.log\n",
      "-rw-r--r-- 1 jupyter jupyter  57M Jul 12 23:32 google-chrome-stable_current_amd64.deb\n",
      "drwxr-xr-x 3 jupyter jupyter 320K Jul 24 12:17 H&M\n",
      "drwxr-xr-x 3 jupyter jupyter  20K Jul 24 14:48 kappah\n",
      "-rw-r--r-- 1 jupyter jupyter 3.5M Jul 24 16:02 kappah.csv\n",
      "-rw-r--r-- 1 jupyter jupyter 3.1M Jul 24 16:03 kappah.ipynb\n",
      "drwxr-xr-x 2 jupyter jupyter  68K Jul 25 12:56 nameit\n",
      "-rw-r--r-- 1 jupyter jupyter  13M Jul 25 12:58 nameit.csv\n",
      "-rw-r--r-- 1 jupyter jupyter 5.0M Jul 25 12:55 nameit.ipynb\n",
      "drwxr-xr-x 2 jupyter jupyter  36K Jul 25 05:50 polarnopyret\n",
      "-rw-r--r-- 1 jupyter jupyter  15K Jul 25 12:57 polarnopyret (1).ipynb\n",
      "-rw-r--r-- 1 jupyter jupyter 5.6K Jul 25 12:58 polarnopyret.csv\n",
      "drwxr-xr-x 6 jupyter jupyter 4.0K Jul 17 21:13 tutorials\n",
      "drwxr-xr-x 6 jupyter jupyter 4.0K Jul 21 20:21 uko\n",
      "drwxr-xr-x 3 jupyter jupyter  60K Jul 22 11:19 zara\n"
     ]
    }
   ],
   "source": [
    "!ls -lh"
   ]
  },
  {
   "cell_type": "code",
   "execution_count": null,
   "metadata": {},
   "outputs": [],
   "source": []
  }
 ],
 "metadata": {
  "kernelspec": {
   "display_name": "Python 3",
   "language": "python",
   "name": "python3"
  },
  "language_info": {
   "codemirror_mode": {
    "name": "ipython",
    "version": 3
   },
   "file_extension": ".py",
   "mimetype": "text/x-python",
   "name": "python",
   "nbconvert_exporter": "python",
   "pygments_lexer": "ipython3",
   "version": "3.5.3"
  }
 },
 "nbformat": 4,
 "nbformat_minor": 2
}

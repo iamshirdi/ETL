{
 "cells": [
  {
   "cell_type": "code",
   "execution_count": 1,
   "metadata": {
    "colab": {},
    "colab_type": "code",
    "id": "mqSrAsSPVFdJ"
   },
   "outputs": [],
   "source": [
    "import requests\n",
    "main_url=\"https://www.zara.com/se/sv/barn-flicka-nyheter-l391.html?v1=1282252\"\n",
    "headers = {'user-agent': 'Mozilla/5.0 (Windows NT 10.0; Win64; x64) AppleWebKit/537.36 (KHTML, like Gecko) Chrome/76.0.3809.62 Safari/537.36'}\n"
   ]
  },
  {
   "cell_type": "code",
   "execution_count": 2,
   "metadata": {},
   "outputs": [
    {
     "data": {
      "text/html": [
       "<div>\n",
       "<style scoped>\n",
       "    .dataframe tbody tr th:only-of-type {\n",
       "        vertical-align: middle;\n",
       "    }\n",
       "\n",
       "    .dataframe tbody tr th {\n",
       "        vertical-align: top;\n",
       "    }\n",
       "\n",
       "    .dataframe thead th {\n",
       "        text-align: right;\n",
       "    }\n",
       "</style>\n",
       "<table border=\"1\" class=\"dataframe\">\n",
       "  <thead>\n",
       "    <tr style=\"text-align: right;\">\n",
       "      <th></th>\n",
       "      <th>name</th>\n",
       "      <th>brand</th>\n",
       "      <th>gender</th>\n",
       "      <th>category</th>\n",
       "      <th>size</th>\n",
       "      <th>price</th>\n",
       "      <th>composition</th>\n",
       "      <th>color</th>\n",
       "      <th>url</th>\n",
       "      <th>img_url</th>\n",
       "      <th>article_no</th>\n",
       "      <th>blob_url</th>\n",
       "    </tr>\n",
       "  </thead>\n",
       "  <tbody>\n",
       "  </tbody>\n",
       "</table>\n",
       "</div>"
      ],
      "text/plain": [
       "Empty DataFrame\n",
       "Columns: [name, brand, gender, category, size, price, composition, color, url, img_url, article_no, blob_url]\n",
       "Index: []"
      ]
     },
     "execution_count": 2,
     "metadata": {},
     "output_type": "execute_result"
    }
   ],
   "source": [
    "import csv\n",
    "\n",
    "f = open(\"zara.csv\", \"w\", encoding='utf-8')\n",
    "writer = csv.DictWriter(f, fieldnames=[\"name\",\"brand\",\"gender\",\"category\",\"size\",\"price\",\"composition\",\"color\",\"url\",\"img_url\",\"article_no\",\"blob_url\"])\n",
    "writer.writeheader()\n",
    "f.close()\n",
    "\n",
    "import pandas as pd\n",
    "df=pd.read_csv(\"zara.csv\", encoding='utf-8')\n",
    "df.head()"
   ]
  },
  {
   "cell_type": "code",
   "execution_count": 3,
   "metadata": {},
   "outputs": [],
   "source": [
    "def quality(url_qu):\n",
    "    #https://github.com/garywu/google-compute-engine-selenium\n",
    "    # install chromium, its driver, and selenium\n",
    "    # !sudo apt install chromium-chromedriver\n",
    "    # !sudo cp /usr/lib/chromium-browser/chromedriver /usr/bin\n",
    "    # !pip install selenium\n",
    "    # set options to be headless, ..\n",
    "\n",
    "    from selenium import webdriver\n",
    "    from selenium.webdriver.common.by import By\n",
    "    from selenium.webdriver.support.ui import WebDriverWait\n",
    "    from selenium.webdriver.support import expected_conditions as EC\n",
    "    options = webdriver.ChromeOptions()\n",
    "    options.add_argument('--headless')\n",
    "    options.add_argument('--no-sandbox')\n",
    "    options.add_argument('--disable-dev-shm-usage')\n",
    "\n",
    "\n",
    "\n",
    "    driver = webdriver.Chrome('chromedriver',options=options)\n",
    "    driver.get(url_qu)\n",
    "    driver.set_window_size(1024, 768)\n",
    "\n",
    "\n",
    "    button=driver.find_elements_by_xpath('/html/body/div[2]/section/section/div[1]/div/div[2]/div[3]/ul/li[1]/a')\n",
    "\n",
    "    driver.execute_script(\"arguments[0].click();\", button[0])\n",
    "\n",
    "\n",
    "    try:\n",
    "\n",
    "        element = WebDriverWait(driver, 10).until(\n",
    "            EC.presence_of_element_located((By.ID, \"popup-composition\"))\n",
    "        )\n",
    "    except:\n",
    "        print('error')\n",
    "    # finally:\n",
    "    #     driver.quit()\n",
    "\n",
    "    material=driver.find_elements_by_xpath('//*[@id=\"popup-composition\"]/ul[1]/li[1]/p[2]')\n",
    "    composition=material[0].text\n",
    "    return composition"
   ]
  },
  {
   "cell_type": "code",
   "execution_count": null,
   "metadata": {},
   "outputs": [],
   "source": []
  },
  {
   "cell_type": "code",
   "execution_count": null,
   "metadata": {},
   "outputs": [],
   "source": []
  },
  {
   "cell_type": "code",
   "execution_count": 4,
   "metadata": {},
   "outputs": [],
   "source": [
    "from google.cloud import storage\n",
    "\n",
    "def upload_to_bucket(blob_name, path_to_file):\n",
    "    \"\"\" Upload data to a bucket\"\"\" #doc string in function\n",
    "\n",
    "    # Explicitly use service account credentials by specifying the private key\n",
    "    # file.\n",
    "    storage_client = storage.Client.from_service_account_json(\n",
    "        'auth.json')\n",
    "\n",
    "    #print(buckets = list(storage_client.list_buckets())\n",
    "\n",
    "    bucket = storage_client.get_bucket('urbankiddo')\n",
    "    blob = bucket.blob(blob_name)\n",
    "    blob.upload_from_filename(path_to_file)\n",
    "\n",
    "    #returns a public url\n",
    "    return blob.public_url"
   ]
  },
  {
   "cell_type": "code",
   "execution_count": 5,
   "metadata": {
    "colab": {},
    "colab_type": "code",
    "id": "Eh2iCaihVoyf"
   },
   "outputs": [],
   "source": [
    "import urllib.request\n",
    "import csv\n",
    "\n",
    "import time\n",
    "import random\n",
    "\n",
    "def scrapper(atr,gender):\n",
    "    r=requests.get(main_url, headers=headers)\n",
    "    html_doc=r.content.decode()\n",
    "    from bs4 import BeautifulSoup\n",
    "    soup = BeautifulSoup(html_doc, 'html.parser')\n",
    "    cs=soup.find(\"li\", attrs={ \"data-name\" :atr})\n",
    "    html_doc2=str(cs.ul)\n",
    "    soup2 = BeautifulSoup(html_doc2, 'html.parser')\n",
    "    css=soup2.find_all(\"li\",attrs={\"data-layout\":\"products-category-view\"})\n",
    "    cgs=[]\n",
    "    ur=[]\n",
    "    for i in css:\n",
    "        try:\n",
    "            if i.a['href'] not in ur:\n",
    "                cgs.append(i['data-name'])\n",
    "                ur.append(i.a['href'])\n",
    "#         print(i['data-name'])                                \n",
    "#         print(i.a['href'])\n",
    "            \n",
    "        except:\n",
    "            continue\n",
    "#         print('error :',i)\n",
    "    cgs.pop(0)\n",
    "    ur.pop(0)\n",
    "    for u,category in zip(ur,cgs):\n",
    "        print(\"sub category url is\",u)\n",
    "        p=requests.get(u,headers=headers)\n",
    "        html_doc2=p.content.decode()\n",
    "        soup2 = BeautifulSoup(html_doc2, 'html.parser')\n",
    "\n",
    "        acd=soup2.find(\"ul\",attrs={\"class\":\"product-list _productList\"})\n",
    "\n",
    "        html_doc3=str(acd)\n",
    "        soup3 = BeautifulSoup(html_doc3, 'html.parser')\n",
    "        error=[]\n",
    "        for k in soup3.find_all(\"li\"):\n",
    "            try:\n",
    "                brand='zara'\n",
    "                article_no=k['data-productid']\n",
    "                name=k.a.img['alt']\n",
    "                url=k.a['href']\n",
    "                price=k.find(\"span\")['data-price']\n",
    "                u=requests.get(url,headers=headers)\n",
    "                html_doc3=u.content.decode()\n",
    "                soup3 = BeautifulSoup(html_doc3, 'html.parser')\n",
    "                print(article_no,url,price,name)\n",
    "                u=requests.get(url,headers=headers)\n",
    "                html_doc3=u.content.decode()\n",
    "                soup3 = BeautifulSoup(html_doc3, 'html.parser')\n",
    "                ig=soup3.find(\"a\",attrs={\"class\":\"_seoImg main-image\"})\n",
    "                img_url=ig['href']\n",
    "                \n",
    "                img_url = \"https:\" + img_url\n",
    "                img_url=img_url.replace(' ','+')\n",
    "                ac='zara'+'/'+article_no+str('.jpg')\n",
    "\n",
    "                opener = urllib.request.URLopener()\n",
    "                opener.addheader('User-Agent', 'whatever')\n",
    "                filename, headers2 = opener.retrieve(img_url, ac)\n",
    "\n",
    "\n",
    "                blob_name=str('zara')+str('/')+str(article_no)\n",
    "                path_to_file='zara/'+article_no+str('.jpg')\n",
    "                blob_url=upload_to_bucket(blob_name, path_to_file)\n",
    "                \n",
    "                color=soup3.find(\"span\",attrs={\"class\":\"_colorName\"}).text\n",
    "                composition=quality(url_qu=url)\n",
    "                for s in soup3.find_all(\"span\",attrs={\"class\":\"size-name\"}):\n",
    "                    size=s.text\n",
    "                    with open(\"zara.csv\", \"a\", encoding='utf-8') as f:\n",
    "    \n",
    "                        writer = csv.writer(f)\n",
    "                        writer.writerow([name,brand,gender,category,size,price,composition,color,url,img_url,article_no,blob_url])\n",
    "                print(color,composition,size,img_url)\n",
    "\n",
    "            except:\n",
    "                print(k)\n",
    "                continue\n",
    "\n",
    "    \n",
    "# scrapper(atr=\"POJKE | 6 - 14 år\",gender=\"boy\")\n",
    "# url_data=[\"POJKE | 6 - 14 år\",\"FLICKA | 6 - 14 år\"]   \n",
    "    "
   ]
  },
  {
   "cell_type": "code",
   "execution_count": 6,
   "metadata": {},
   "outputs": [],
   "source": [
    "url_data=[\"POJKE | 6 - 14 år\",\"FLICKA | 6 - 14 år\",\"BABY FLICKA | 3 månader - 5 år\",\"BABY POJKE | 3 månader - 5 år\",\"MINI | 0 - 12 månader\"]   \n",
    "\n",
    "\n"
   ]
  },
  {
   "cell_type": "code",
   "execution_count": null,
   "metadata": {},
   "outputs": [
    {
     "name": "stdout",
     "output_type": "stream",
     "text": [
      "sub category url is https://www.zara.com/se/sv/barn-pojke-ytterklader-l231.html\n",
      "23422850 https://www.zara.com/se/sv/denimjacka-p06987755.html 299,00 SEK DENIMJACKA\n"
     ]
    },
    {
     "name": "stderr",
     "output_type": "stream",
     "text": [
      "/usr/local/lib/python3.5/dist-packages/ipykernel_launcher.py:1: DeprecationWarning: URLopener style of invoking requests is deprecated. Use newer urlopen functions/methods\n",
      "  \"\"\"Entry point for launching an IPython kernel.\n"
     ]
    },
    {
     "name": "stdout",
     "output_type": "stream",
     "text": [
      "Rödorange 100% BOMULL 13-14 år (164 cm) https://static.zara.net/photos///2019/I/0/3/p/6987/755/670/8/w/560/6987755670_2_10_1.jpg?ts=1562665297495\n",
      "<li id=\"category-description-top\"><h1 class=\"category-main-header\">POJKJACKOR</h1><div class=\"category-description\">De trendigaste pojkjackorna: quiltade dunjackor, bomberjackor, jeansjackor, pilotjackor och jackor för pojke med tryck. Beställ enkelt med fri retur</div></li>\n",
      "12817669 https://www.zara.com/se/sv/denimjacka-p06987754.html 299,00 SEK DENIMJACKA\n"
     ]
    },
    {
     "name": "stderr",
     "output_type": "stream",
     "text": [
      "/usr/local/lib/python3.5/dist-packages/ipykernel_launcher.py:1: DeprecationWarning: URLopener style of invoking requests is deprecated. Use newer urlopen functions/methods\n",
      "  \"\"\"Entry point for launching an IPython kernel.\n"
     ]
    },
    {
     "name": "stdout",
     "output_type": "stream",
     "text": [
      "Sandfärgad 100% BOMULL 13-14 år (164 cm) https://static.zara.net/photos///2019/I/0/3/p/6987/754/711/8/w/560/6987754711_2_10_1.jpg?ts=1563207131012\n",
      "12817237 https://www.zara.com/se/sv/denimjacka-p06987755.html 299,00 SEK DENIMJACKA\n"
     ]
    },
    {
     "name": "stderr",
     "output_type": "stream",
     "text": [
      "/usr/local/lib/python3.5/dist-packages/ipykernel_launcher.py:1: DeprecationWarning: URLopener style of invoking requests is deprecated. Use newer urlopen functions/methods\n",
      "  \"\"\"Entry point for launching an IPython kernel.\n"
     ]
    },
    {
     "name": "stdout",
     "output_type": "stream",
     "text": [
      "Rödorange 100% BOMULL 13-14 år (164 cm) https://static.zara.net/photos///2019/I/0/3/p/6987/755/670/8/w/560/6987755670_2_10_1.jpg?ts=1562665297495\n",
      "23422848 https://www.zara.com/se/sv/denimjacka-p06987754.html 299,00 SEK DENIMJACKA\n"
     ]
    },
    {
     "name": "stderr",
     "output_type": "stream",
     "text": [
      "/usr/local/lib/python3.5/dist-packages/ipykernel_launcher.py:1: DeprecationWarning: URLopener style of invoking requests is deprecated. Use newer urlopen functions/methods\n",
      "  \"\"\"Entry point for launching an IPython kernel.\n"
     ]
    },
    {
     "name": "stdout",
     "output_type": "stream",
     "text": [
      "Sandfärgad 100% BOMULL 13-14 år (164 cm) https://static.zara.net/photos///2019/I/0/3/p/6987/754/711/8/w/560/6987754711_2_10_1.jpg?ts=1563207131012\n",
      "20789875 https://www.zara.com/se/sv/denimjacka-i-basmodell-p01506656.html 299,00 SEK DENIMJACKA I BASMODELL\n"
     ]
    },
    {
     "name": "stderr",
     "output_type": "stream",
     "text": [
      "/usr/local/lib/python3.5/dist-packages/ipykernel_launcher.py:1: DeprecationWarning: URLopener style of invoking requests is deprecated. Use newer urlopen functions/methods\n",
      "  \"\"\"Entry point for launching an IPython kernel.\n"
     ]
    },
    {
     "name": "stdout",
     "output_type": "stream",
     "text": [
      "Ljusblå 100% BOMULL 13-14 år (164 cm) https://static.zara.net/photos///2019/I/0/3/p/1506/656/406/8/w/560/1506656406_2_10_1.jpg?ts=1563209341040\n",
      "12817674 https://www.zara.com/se/sv/denimjacka-med-revor-p06987758.html 349,00 SEK DENIMJACKA MED REVOR\n"
     ]
    },
    {
     "name": "stderr",
     "output_type": "stream",
     "text": [
      "/usr/local/lib/python3.5/dist-packages/ipykernel_launcher.py:1: DeprecationWarning: URLopener style of invoking requests is deprecated. Use newer urlopen functions/methods\n",
      "  \"\"\"Entry point for launching an IPython kernel.\n"
     ]
    },
    {
     "name": "stdout",
     "output_type": "stream",
     "text": [
      "Svart 100% BOMULL 13-14 år (164 cm) https://static.zara.net/photos///2019/I/0/3/p/6987/758/800/8/w/560/6987758800_2_10_1.jpg?ts=1563208898031\n",
      "22628030 https://www.zara.com/se/sv/bomberjacka-av-college-modell-p03548661.html 399,00 SEK BOMBERJACKA AV COLLEGE-MODELL\n"
     ]
    },
    {
     "name": "stderr",
     "output_type": "stream",
     "text": [
      "/usr/local/lib/python3.5/dist-packages/ipykernel_launcher.py:1: DeprecationWarning: URLopener style of invoking requests is deprecated. Use newer urlopen functions/methods\n",
      "  \"\"\"Entry point for launching an IPython kernel.\n"
     ]
    },
    {
     "name": "stdout",
     "output_type": "stream",
     "text": [
      "Marinblå KROPP\n",
      "100% POLYESTER 13-14 år (164 cm) https://static.zara.net/photos///2019/I/0/3/p/3548/661/401/7/w/560/3548661401_2_10_1.jpg?ts=1561707257025\n",
      "12758082 https://www.zara.com/se/sv/bomberjacka-av-college-modell-p03548661.html 399,00 SEK BOMBERJACKA AV COLLEGE-MODELL\n"
     ]
    },
    {
     "name": "stderr",
     "output_type": "stream",
     "text": [
      "/usr/local/lib/python3.5/dist-packages/ipykernel_launcher.py:1: DeprecationWarning: URLopener style of invoking requests is deprecated. Use newer urlopen functions/methods\n",
      "  \"\"\"Entry point for launching an IPython kernel.\n"
     ]
    },
    {
     "name": "stdout",
     "output_type": "stream",
     "text": [
      "Marinblå KROPP\n",
      "100% POLYESTER 13-14 år (164 cm) https://static.zara.net/photos///2019/I/0/3/p/3548/661/401/7/w/560/3548661401_2_10_1.jpg?ts=1561707257025\n",
      "12758181 https://www.zara.com/se/sv/kombinerad-lumberjacka-p05992765.html 349,00 SEK KOMBINERAD LUMBERJACKA\n"
     ]
    },
    {
     "name": "stderr",
     "output_type": "stream",
     "text": [
      "/usr/local/lib/python3.5/dist-packages/ipykernel_launcher.py:1: DeprecationWarning: URLopener style of invoking requests is deprecated. Use newer urlopen functions/methods\n",
      "  \"\"\"Entry point for launching an IPython kernel.\n"
     ]
    },
    {
     "name": "stdout",
     "output_type": "stream",
     "text": [
      "Is 58% BOMULL, 42% NYLON 13-14 år (164 cm) https://static.zara.net/photos///2019/I/0/3/p/5992/765/805/2/w/560/5992765805_1_1_1.jpg?ts=1562861657790\n",
      "12758236 https://www.zara.com/se/sv/vadderad-jacka-med-tv%C3%A5-f%C3%A4rger-p05992766.html 249,00 SEK VADDERAD JACKA MED TVÅ FÄRGER\n"
     ]
    },
    {
     "name": "stderr",
     "output_type": "stream",
     "text": [
      "/usr/local/lib/python3.5/dist-packages/ipykernel_launcher.py:1: DeprecationWarning: URLopener style of invoking requests is deprecated. Use newer urlopen functions/methods\n",
      "  \"\"\"Entry point for launching an IPython kernel.\n"
     ]
    },
    {
     "name": "stdout",
     "output_type": "stream",
     "text": [
      "Blå medel 100% NYLON 13-14 år (164 cm) https://static.zara.net/photos///2019/I/0/3/p/5992/766/427/2/w/560/5992766427_1_1_1.jpg?ts=1562861733345\n",
      "12758282 https://www.zara.com/se/sv/bikerjacka-i-konstl%C3%A4der-p03548660.html 549,00 SEK BIKERJACKA I KONSTLÄDER\n"
     ]
    },
    {
     "name": "stderr",
     "output_type": "stream",
     "text": [
      "/usr/local/lib/python3.5/dist-packages/ipykernel_launcher.py:1: DeprecationWarning: URLopener style of invoking requests is deprecated. Use newer urlopen functions/methods\n",
      "  \"\"\"Entry point for launching an IPython kernel.\n"
     ]
    },
    {
     "name": "stdout",
     "output_type": "stream",
     "text": [
      "Svart BASTYG\n",
      "100% VISKOS 13-14 år (164 cm) https://static.zara.net/photos///2019/I/0/3/p/3548/660/800/8/w/560/3548660800_2_10_1.jpg?ts=1561619955964\n",
      "22629477 https://www.zara.com/se/sv/bikerjacka-i-konstl%C3%A4der-p03548660.html 549,00 SEK BIKERJACKA I KONSTLÄDER\n"
     ]
    },
    {
     "name": "stderr",
     "output_type": "stream",
     "text": [
      "/usr/local/lib/python3.5/dist-packages/ipykernel_launcher.py:1: DeprecationWarning: URLopener style of invoking requests is deprecated. Use newer urlopen functions/methods\n",
      "  \"\"\"Entry point for launching an IPython kernel.\n"
     ]
    },
    {
     "name": "stdout",
     "output_type": "stream",
     "text": [
      "Svart BASTYG\n",
      "100% VISKOS 13-14 år (164 cm) https://static.zara.net/photos///2019/I/0/3/p/3548/660/800/8/w/560/3548660800_2_10_1.jpg?ts=1561619955964\n",
      "13678699 https://www.zara.com/se/sv/jacka-i-sporttyg-p09347763.html 249,00 SEK JACKA I SPORTTYG\n"
     ]
    },
    {
     "name": "stderr",
     "output_type": "stream",
     "text": [
      "/usr/local/lib/python3.5/dist-packages/ipykernel_launcher.py:1: DeprecationWarning: URLopener style of invoking requests is deprecated. Use newer urlopen functions/methods\n",
      "  \"\"\"Entry point for launching an IPython kernel.\n"
     ]
    },
    {
     "name": "stdout",
     "output_type": "stream",
     "text": [
      "Svart 100% POLYESTER 13-14 år (164 cm) https://static.zara.net/photos///2019/I/0/3/p/9347/763/800/8/w/560/9347763800_2_10_1.jpg?ts=1562745347673\n",
      "12758176 https://www.zara.com/se/sv/kombinerad-sportjacka-p05992764.html 249,00 SEK KOMBINERAD SPORTJACKA\n"
     ]
    },
    {
     "name": "stderr",
     "output_type": "stream",
     "text": [
      "/usr/local/lib/python3.5/dist-packages/ipykernel_launcher.py:1: DeprecationWarning: URLopener style of invoking requests is deprecated. Use newer urlopen functions/methods\n",
      "  \"\"\"Entry point for launching an IPython kernel.\n"
     ]
    },
    {
     "name": "stdout",
     "output_type": "stream",
     "text": [
      "Ljusgrön 100% POLYESTER 13-14 år (164 cm) https://static.zara.net/photos///2019/I/0/3/p/5992/764/526/8/w/560/5992764526_2_10_1.jpg?ts=1561475660248\n"
     ]
    }
   ],
   "source": [
    "scrapper(atr=url_data[0],gender=\"boy\")\n"
   ]
  },
  {
   "cell_type": "code",
   "execution_count": null,
   "metadata": {},
   "outputs": [],
   "source": [
    "scrapper(atr=url_data[1],gender=\"girl\")\n"
   ]
  },
  {
   "cell_type": "code",
   "execution_count": null,
   "metadata": {},
   "outputs": [],
   "source": [
    "scrapper(atr=url_data[2],gender=\"girl\")\n"
   ]
  },
  {
   "cell_type": "code",
   "execution_count": null,
   "metadata": {},
   "outputs": [],
   "source": [
    "scrapper(atr=url_data[3],gender=\"boy\")\n"
   ]
  },
  {
   "cell_type": "code",
   "execution_count": null,
   "metadata": {},
   "outputs": [],
   "source": [
    "scrapper(atr=url_data[4],gender=\"unisex\")\n"
   ]
  },
  {
   "cell_type": "code",
   "execution_count": null,
   "metadata": {},
   "outputs": [],
   "source": []
  },
  {
   "cell_type": "code",
   "execution_count": null,
   "metadata": {},
   "outputs": [],
   "source": []
  }
 ],
 "metadata": {
  "colab": {
   "name": "zara.ipynb",
   "provenance": [],
   "version": "0.3.2"
  },
  "kernelspec": {
   "display_name": "Python 3",
   "language": "python",
   "name": "python3"
  },
  "language_info": {
   "codemirror_mode": {
    "name": "ipython",
    "version": 3
   },
   "file_extension": ".py",
   "mimetype": "text/x-python",
   "name": "python",
   "nbconvert_exporter": "python",
   "pygments_lexer": "ipython3",
   "version": "3.5.3"
  }
 },
 "nbformat": 4,
 "nbformat_minor": 2
}

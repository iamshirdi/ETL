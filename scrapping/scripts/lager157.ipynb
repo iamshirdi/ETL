{
 "cells": [
  {
   "cell_type": "code",
   "execution_count": 1,
   "metadata": {},
   "outputs": [],
   "source": [
    "#https://github.com/garywu/google-compute-engine-selenium\n",
    "# # install chromium, its driver, and selenium\n",
    "# !yes |sudo apt install chromium-chromedriver\n",
    "# !sudo cp /usr/lib/chromium-browser/chromedriver /usr/bin\n",
    "# !pip install selenium\n",
    "# set options to be headless, ..\n",
    "from selenium import webdriver\n",
    "from selenium.webdriver.common.action_chains import ActionChains\n",
    "from selenium.webdriver.common.by import By\n",
    "from selenium.webdriver.support.ui import WebDriverWait\n",
    "from selenium.webdriver.support import expected_conditions as ec\n",
    "options = webdriver.ChromeOptions()\n",
    "options.add_argument('--headless')\n",
    "options.add_argument('--no-sandbox')\n",
    "options.add_argument('--disable-dev-shm-usage')\n",
    "driver= webdriver.Chrome('chromedriver',options=options)\n",
    "driver.quit()\n",
    "\n",
    "# open it, go to a website, and get results\n",
    "# wd = webdriver.Chrome('chromedriver',options=options)\n",
    "# wd.get(\"https://www.website.com\")\n",
    "# print(wd.page_source)  # results\n",
    "\n"
   ]
  },
  {
   "cell_type": "code",
   "execution_count": 2,
   "metadata": {},
   "outputs": [],
   "source": [
    "\n",
    "from google.cloud import storage\n",
    "\n",
    "def upload_to_bucket(blob_name, path_to_file):\n",
    "    \"\"\" Upload data to a bucket\"\"\" #doc string in function\n",
    "\n",
    "    # Explicitly use service account credentials by specifying the private key\n",
    "    # file.\n",
    "    storage_client = storage.Client.from_service_account_json(\n",
    "        'auth.json')\n",
    "\n",
    "    #print(buckets = list(storage_client.list_buckets())\n",
    "\n",
    "    bucket = storage_client.get_bucket('urbankiddo')\n",
    "    blob = bucket.blob(blob_name)\n",
    "    blob.upload_from_filename(path_to_file)\n",
    "\n",
    "    #returns a public url\n",
    "    return blob.public_url"
   ]
  },
  {
   "cell_type": "code",
   "execution_count": 3,
   "metadata": {},
   "outputs": [
    {
     "data": {
      "text/html": [
       "<div>\n",
       "<style scoped>\n",
       "    .dataframe tbody tr th:only-of-type {\n",
       "        vertical-align: middle;\n",
       "    }\n",
       "\n",
       "    .dataframe tbody tr th {\n",
       "        vertical-align: top;\n",
       "    }\n",
       "\n",
       "    .dataframe thead th {\n",
       "        text-align: right;\n",
       "    }\n",
       "</style>\n",
       "<table border=\"1\" class=\"dataframe\">\n",
       "  <thead>\n",
       "    <tr style=\"text-align: right;\">\n",
       "      <th></th>\n",
       "      <th>name</th>\n",
       "      <th>brand</th>\n",
       "      <th>gender</th>\n",
       "      <th>category</th>\n",
       "      <th>color</th>\n",
       "      <th>size</th>\n",
       "      <th>price</th>\n",
       "      <th>url</th>\n",
       "      <th>img_url</th>\n",
       "      <th>article_no</th>\n",
       "      <th>blob_url</th>\n",
       "    </tr>\n",
       "  </thead>\n",
       "  <tbody>\n",
       "  </tbody>\n",
       "</table>\n",
       "</div>"
      ],
      "text/plain": [
       "Empty DataFrame\n",
       "Columns: [name, brand, gender, category, color, size, price, url, img_url, article_no, blob_url]\n",
       "Index: []"
      ]
     },
     "execution_count": 3,
     "metadata": {},
     "output_type": "execute_result"
    }
   ],
   "source": [
    "import csv\n",
    "\n",
    "\n",
    "f = open(\"lager157.csv\", \"w\", encoding='utf-8')\n",
    "writer = csv.DictWriter(f, fieldnames=[\"name\",\"brand\",\"gender\",\"category\",\"color\",\"size\",\"price\",\"url\",\"img_url\",\"article_no\",\"blob_url\"])\n",
    "writer.writeheader()\n",
    "f.close()\n",
    "\n",
    "import pandas as pd\n",
    "df=pd.read_csv(\"lager157.csv\", encoding='utf-8')\n",
    "df.head()"
   ]
  },
  {
   "cell_type": "code",
   "execution_count": 4,
   "metadata": {},
   "outputs": [
    {
     "name": "stdout",
     "output_type": "stream",
     "text": [
      "mkdir: cannot create directory ‘lager157’: File exists\r\n"
     ]
    }
   ],
   "source": [
    "!mkdir lager157"
   ]
  },
  {
   "cell_type": "code",
   "execution_count": 5,
   "metadata": {},
   "outputs": [
    {
     "name": "stdout",
     "output_type": "stream",
     "text": [
      "https://www.lager157.com/sv-se/artiklar/barn/shorts/\n",
      "35\n",
      "https://www.lager157.com/sv-se/artiklar/barn/jeans/\n",
      "20\n",
      "https://www.lager157.com/sv-se/artiklar/barn/ytterkläder/\n",
      "20\n",
      "https://www.lager157.com/sv-se/artiklar/barn/funktionsplagg/\n",
      "76\n",
      "https://www.lager157.com/sv-se/artiklar/barn/training/\n",
      "20\n",
      "https://www.lager157.com/sv-se/artiklar/barn/toppar/\n",
      "37\n",
      "https://www.lager157.com/sv-se/artiklar/barn/t-shirts/\n",
      "59\n",
      "https://www.lager157.com/sv-se/artiklar/barn/skjortor/\n",
      "19\n",
      "https://www.lager157.com/sv-se/artiklar/barn/klänning-kjol/\n",
      "21\n",
      "https://www.lager157.com/sv-se/artiklar/barn/stickat/\n",
      "23\n",
      "https://www.lager157.com/sv-se/artiklar/barn/hoodar/\n",
      "29\n",
      "https://www.lager157.com/sv-se/artiklar/barn/tröjor/\n",
      "29\n",
      "https://www.lager157.com/sv-se/artiklar/barn/byxor/\n",
      "52\n",
      "https://www.lager157.com/sv-se/artiklar/barn/underkläder/\n",
      "11\n",
      "https://www.lager157.com/sv-se/artiklar/barn/swimwear/\n",
      "20\n",
      "https://www.lager157.com/sv-se/artiklar/barn/strumpor/\n",
      "13\n"
     ]
    }
   ],
   "source": [
    "from bs4 import BeautifulSoup\n",
    "import time\n",
    "import requests\n",
    "categorys=['shorts','jeans','ytterkläder','funktionsplagg','training','toppar','tshirts','skjortor','klanning-kjol',\n",
    "          'stickat','hoodar','trojor','byxor','underklader','swimwear','strumpor']\n",
    "main_urls=['https://www.lager157.com/sv-se/artiklar/barn/shorts/',\n",
    "          'https://www.lager157.com/sv-se/artiklar/barn/jeans/',\n",
    "          'https://www.lager157.com/sv-se/artiklar/barn/ytterkläder/',\n",
    "          'https://www.lager157.com/sv-se/artiklar/barn/funktionsplagg/',\n",
    "          'https://www.lager157.com/sv-se/artiklar/barn/training/',\n",
    "          'https://www.lager157.com/sv-se/artiklar/barn/toppar/',\n",
    "          'https://www.lager157.com/sv-se/artiklar/barn/t-shirts/',\n",
    "          'https://www.lager157.com/sv-se/artiklar/barn/skjortor/',\n",
    "          'https://www.lager157.com/sv-se/artiklar/barn/klänning-kjol/',\n",
    "          'https://www.lager157.com/sv-se/artiklar/barn/stickat/',\n",
    "          'https://www.lager157.com/sv-se/artiklar/barn/hoodar/',\n",
    "          'https://www.lager157.com/sv-se/artiklar/barn/tröjor/',\n",
    "          'https://www.lager157.com/sv-se/artiklar/barn/byxor/',\n",
    "          'https://www.lager157.com/sv-se/artiklar/barn/underkläder/',\n",
    "          'https://www.lager157.com/sv-se/artiklar/barn/swimwear/',\n",
    "          'https://www.lager157.com/sv-se/artiklar/barn/strumpor/']\n",
    "for c,main_url in enumerate(main_urls):\n",
    "    print(main_url)\n",
    "    category=categorys[c]\n",
    "    driver= webdriver.Chrome('chromedriver',options=options)\n",
    "    driver.get(main_url)\n",
    "    driver.set_window_size(1020,720)\n",
    "    pause=4\n",
    "    lastHeight = driver.execute_script(\"return document.body.scrollHeight\")\n",
    "    while True:\n",
    "        driver.execute_script(\"window.scrollTo(0, document.body.scrollHeight);\")\n",
    "        time.sleep(pause)\n",
    "        newHeight = driver.execute_script(\"return document.body.scrollHeight\")\n",
    "        if newHeight == lastHeight:\n",
    "            break\n",
    "        lastHeight = newHeight\n",
    "        products=driver.find_elements_by_xpath('//article[@class=\"ListArticle\"]')\n",
    "    print(len(products))\n",
    "    for p in products:\n",
    "        url=p.find_element_by_tag_name(\"a\").get_attribute(\"href\")\n",
    "        html_doc=requests.get(url).content.decode()\n",
    "        soup = BeautifulSoup(html_doc, 'html.parser')\n",
    "        name=soup.find(\"span\",attrs={\"class\":\"name\"}).text\n",
    "        price=soup.find(\"span\",attrs={\"class\":\"price\"}).text\n",
    "        article_no=soup.find(\"span\",attrs={\"class\":\"product_id\"}).text\n",
    "        l1=soup.find(\"span\",attrs={\"class\":\"image_url\"}).text\n",
    "        l2=l1.split('/')\n",
    "        img_url='https://www.lager157.com/media/'+l2[-1]\n",
    "        \n",
    "        ac='lager157'+'/'+article_no+str('.jpg')\n",
    "#             opener = urllib.request.URLopener()\n",
    "#             opener.addheader('User-Agent', 'whatever')\n",
    "#             filename, headers2 = opener.retrieve(img_url, ac)\n",
    "\n",
    "        rr = requests.get(img_url, allow_redirects=True)\n",
    "        open(ac, 'wb').write(rr.content)\n",
    "\n",
    "        blob_name=str('lager157')+str('/')+str(article_no)\n",
    "        path_to_file='lager157/'+article_no+str('.jpg')\n",
    "        blob_url=upload_to_bucket(blob_name, path_to_file)\n",
    "\n",
    "        brand='lager157'\n",
    "        gender='unisex'\n",
    "        \n",
    "        color=soup.find(\"span\",attrs={\"class\":\"color\"}).text\n",
    "        sizes=soup.find_all(\"span\",attrs={\"class\":\"size\"})\n",
    "        this_set=set()\n",
    "        for sz in sizes:\n",
    "            size2=sz.text\n",
    "            this_set.add(size2)\n",
    "        for size in this_set:\n",
    "#             print(name,price,color,article_no,size)\n",
    "            with open(\"lager157.csv\", \"a\", encoding='utf-8') as f:\n",
    "                writer = csv.writer(f)\n",
    "                writer.writerow([name,brand,gender,category,color,size,price,url,img_url,article_no])\n"
   ]
  },
  {
   "cell_type": "code",
   "execution_count": 6,
   "metadata": {},
   "outputs": [
    {
     "name": "stdout",
     "output_type": "stream",
     "text": [
      "Strumpor \"Raggsockar\" 30.0 Grey 10141 25-30\n",
      "Strumpor \"Raggsockar\" 30.0 Grey 10141 31-35\n",
      "Strumpor \"Raggsockar\" 30.0 Grey 10141 20-24\n",
      "Strumpor \"Coloured socks\" 20.0 Combo 9 13061 41-45\n",
      "Strumpor \"Coloured socks\" 20.0 Combo 9 13061 36-40\n",
      "Strumpor Basic kids \"5-pack\" 60.0 Combo 8 12170 25-30\n",
      "Strumpor Basic kids \"5-pack\" 60.0 Combo 8 12170 31-35\n",
      "Strumpor Basic kids \"5-pack\" 60.0 Combo 8 12170 20-24\n",
      "Strumpor Basic kids \"5-pack\" 60.0 Combo 8 12170 25-30\n",
      "Strumpor Basic kids \"5-pack\" 60.0 Combo 8 12170 31-35\n",
      "Strumpor Basic kids \"5-pack\" 60.0 Combo 8 12170 20-24\n",
      "Strumpor Basic kids \"5-pack\" 60.0 Combo 8 12170 25-30\n",
      "Strumpor Basic kids \"5-pack\" 60.0 Combo 8 12170 31-35\n",
      "Strumpor Basic kids \"5-pack\" 60.0 Combo 8 12170 20-24\n",
      "Strumpor Basic kids \"5-pack\" 60.0 Combo 8 12170 25-30\n",
      "Strumpor Basic kids \"5-pack\" 60.0 Combo 8 12170 31-35\n",
      "Strumpor Basic kids \"5-pack\" 60.0 Combo 8 12170 20-24\n",
      "Strumpor Basic kids \"5-pack\" 60.0 Combo 8 12170 25-30\n",
      "Strumpor Basic kids \"5-pack\" 60.0 Combo 8 12170 31-35\n",
      "Strumpor Basic kids \"5-pack\" 60.0 Combo 8 12170 20-24\n",
      "Strumpa \"Invisible sock 5-pack\" 60.0 White 13501 41-45\n",
      "Strumpa \"Invisible sock 5-pack\" 60.0 White 13501 36-40\n",
      "Strumpa \"Invisible sock 5-pack\" 60.0 White 13501 41-45\n",
      "Strumpa \"Invisible sock 5-pack\" 60.0 White 13501 36-40\n",
      "Low Cut Socks Kid's \"5-pack\" 60.0 White 11848 25-30\n",
      "Low Cut Socks Kid's \"5-pack\" 60.0 White 11848 31-35\n",
      "Low Cut Socks Kid's \"5-pack\" 60.0 White 11848 20-24\n",
      "Low Cut Socks Kid's \"5-pack\" 60.0 White 11848 25-30\n",
      "Low Cut Socks Kid's \"5-pack\" 60.0 White 11848 31-35\n",
      "Low Cut Socks Kid's \"5-pack\" 60.0 White 11848 20-24\n",
      "Strumpor \"Baby sock\" 30.0 Combo 1 11736 2\n",
      "Strumpor \"Baby sock\" 30.0 Combo 1 11736 1\n",
      "Strumpor \"Baby sock\" 30.0 Combo 1 11736 2\n",
      "Strumpor \"Baby sock\" 30.0 Combo 1 11736 1\n"
     ]
    }
   ],
   "source": [
    "from bs4 import BeautifulSoup\n",
    "for p in products:\n",
    "    url=p.find_element_by_tag_name(\"a\").get_attribute(\"href\")\n",
    "    html_doc=requests.get(url).content.decode()\n",
    "    soup = BeautifulSoup(html_doc, 'html.parser')\n",
    "    name=soup.find(\"span\",attrs={\"class\":\"name\"}).text\n",
    "    price=soup.find(\"span\",attrs={\"class\":\"price\"}).text\n",
    "    article_no=soup.find(\"span\",attrs={\"class\":\"product_id\"}).text\n",
    "    l1=soup.find(\"span\",attrs={\"class\":\"image_url\"}).text\n",
    "    l2=l1.split('/')\n",
    "    img_url='https://www.lager157.com/media/'+l2[-1]\n",
    "    color=soup.find(\"span\",attrs={\"class\":\"color\"}).text\n",
    "    sizes=soup.find_all(\"span\",attrs={\"class\":\"size\"})\n",
    "    this_set=set()\n",
    "    for sz in sizes:\n",
    "        size=sz.text\n",
    "        this_set.add(size)\n",
    "    for size in this_set:\n",
    "        print(name,price,color,article_no,size)\n",
    "    "
   ]
  },
  {
   "cell_type": "code",
   "execution_count": 7,
   "metadata": {},
   "outputs": [
    {
     "data": {
      "text/plain": [
       "'https://www.lager157.com/sv-se/article/strumpor-baby-sock?attr1_id=49'"
      ]
     },
     "execution_count": 7,
     "metadata": {},
     "output_type": "execute_result"
    }
   ],
   "source": [
    "url"
   ]
  },
  {
   "cell_type": "code",
   "execution_count": 8,
   "metadata": {},
   "outputs": [
    {
     "data": {
      "text/plain": [
       "{'1', '2'}"
      ]
     },
     "execution_count": 8,
     "metadata": {},
     "output_type": "execute_result"
    }
   ],
   "source": [
    "this_set"
   ]
  },
  {
   "cell_type": "code",
   "execution_count": 9,
   "metadata": {},
   "outputs": [],
   "source": [
    "l1=soup.find(\"span\",attrs={\"class\":\"image_url\"}).text\n",
    "l2=l1.split('/')\n",
    "img_url='https://www.lager157.com/media/'+l2[-1]"
   ]
  },
  {
   "cell_type": "code",
   "execution_count": 10,
   "metadata": {},
   "outputs": [
    {
     "data": {
      "text/plain": [
       "'https://www.lager157.com/media/SOCK-BEBE-SOCK_11736_COMBO-1_FRONT.jpg'"
      ]
     },
     "execution_count": 10,
     "metadata": {},
     "output_type": "execute_result"
    }
   ],
   "source": [
    "img_url"
   ]
  },
  {
   "cell_type": "code",
   "execution_count": 11,
   "metadata": {},
   "outputs": [
    {
     "data": {
      "text/plain": [
       "'https://www.lager157.com/mediahttps://www.lager157.com/media/SOCK-BEBE-SOCK_11736_COMBO-1_FRONT.jpg'"
      ]
     },
     "execution_count": 11,
     "metadata": {},
     "output_type": "execute_result"
    }
   ],
   "source": [
    "'https://www.lager157.com/media'+img_url"
   ]
  },
  {
   "cell_type": "code",
   "execution_count": 12,
   "metadata": {},
   "outputs": [
    {
     "data": {
      "text/plain": [
       "'https://www.lager157.com/sv-se/article/strumpor-baby-sock?attr1_id=49'"
      ]
     },
     "execution_count": 12,
     "metadata": {},
     "output_type": "execute_result"
    }
   ],
   "source": [
    "url"
   ]
  },
  {
   "cell_type": "code",
   "execution_count": null,
   "metadata": {},
   "outputs": [],
   "source": []
  }
 ],
 "metadata": {
  "kernelspec": {
   "display_name": "Python 3.5",
   "language": "python",
   "name": "python3"
  },
  "language_info": {
   "codemirror_mode": {
    "name": "ipython",
    "version": 3
   },
   "file_extension": ".py",
   "mimetype": "text/x-python",
   "name": "python",
   "nbconvert_exporter": "python",
   "pygments_lexer": "ipython3",
   "version": "3.5.5"
  }
 },
 "nbformat": 4,
 "nbformat_minor": 2
}

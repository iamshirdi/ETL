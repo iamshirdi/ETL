{
 "cells": [
  {
   "cell_type": "code",
   "execution_count": 1,
   "metadata": {
    "colab": {},
    "colab_type": "code",
    "id": "DGV3AMW_cjzl"
   },
   "outputs": [],
   "source": [
    "import csv\n",
    "\n",
    "f = open(\"H&M_boys.csv\", \"w\", encoding='utf-8')\n",
    "writer = csv.DictWriter(f, fieldnames=[\"name\",\"brand\",\"gender\",\"category\",\"size\",\"price\",\"composition\",\"color\",\"url\",\"img_url\",\"article_no\",\"blob_url\"])\n",
    "writer.writeheader()\n",
    "f.close()\n"
   ]
  },
  {
   "cell_type": "code",
   "execution_count": 2,
   "metadata": {
    "colab": {
     "base_uri": "https://localhost:8080/",
     "height": 289
    },
    "colab_type": "code",
    "id": "4PcNB40jeRXD",
    "outputId": "00d3ac29-b3b3-4686-8e0d-2825837e9a6e"
   },
   "outputs": [
    {
     "name": "stdout",
     "output_type": "stream",
     "text": [
      "--2019-07-19 20:18:38--  https://dl.dropbox.com/s/p1ifzzf2443r05g/urbankiddo-c8528ce11ed0.json\n",
      "Resolving dl.dropbox.com (dl.dropbox.com)... 162.125.1.6, 2620:100:6016:6::a27d:106\n",
      "Connecting to dl.dropbox.com (dl.dropbox.com)|162.125.1.6|:443... connected.\n",
      "HTTP request sent, awaiting response... 302 FOUND\n",
      "Location: https://dl.dropboxusercontent.com/s/p1ifzzf2443r05g/urbankiddo-c8528ce11ed0.json [following]\n",
      "--2019-07-19 20:18:38--  https://dl.dropboxusercontent.com/s/p1ifzzf2443r05g/urbankiddo-c8528ce11ed0.json\n",
      "Resolving dl.dropboxusercontent.com (dl.dropboxusercontent.com)... 162.125.1.6, 2620:100:6016:6::a27d:106\n",
      "Connecting to dl.dropboxusercontent.com (dl.dropboxusercontent.com)|162.125.1.6|:443... connected.\n",
      "HTTP request sent, awaiting response... 200 OK\n",
      "Length: 2315 (2.3K) [text/plain]\n",
      "Saving to: ‘auth.json’\n",
      "\n",
      "auth.json           100%[===================>]   2.26K  --.-KB/s    in 0s      \n",
      "\n",
      "2019-07-19 20:18:39 (43.6 MB/s) - ‘auth.json’ saved [2315/2315]\n",
      "\n"
     ]
    }
   ],
   "source": [
    "!wget -O \"auth.json\" https://dl.dropbox.com/s/p1ifzzf2443r05g/urbankiddo-c8528ce11ed0.json"
   ]
  },
  {
   "cell_type": "code",
   "execution_count": 3,
   "metadata": {
    "colab": {},
    "colab_type": "code",
    "id": "xjRXTpK0clL-"
   },
   "outputs": [],
   "source": [
    "from google.cloud import storage\n",
    "\n",
    "def upload_to_bucket(blob_name, path_to_file):\n",
    "    \"\"\" Upload data to a bucket\"\"\" #doc string in function\n",
    "\n",
    "    # Explicitly use service account credentials by specifying the private key\n",
    "    # file.\n",
    "    storage_client = storage.Client.from_service_account_json(\n",
    "        'auth.json')\n",
    "\n",
    "    #print(buckets = list(storage_client.list_buckets())\n",
    "\n",
    "    bucket = storage_client.get_bucket('urbankiddo')\n",
    "    blob = bucket.blob(blob_name)\n",
    "    blob.upload_from_filename(path_to_file)\n",
    "\n",
    "    #returns a public url\n",
    "    return blob.public_url"
   ]
  },
  {
   "cell_type": "code",
   "execution_count": 4,
   "metadata": {
    "colab": {},
    "colab_type": "code",
    "id": "bwFY_wjyj2g3"
   },
   "outputs": [
    {
     "name": "stdout",
     "output_type": "stream",
     "text": [
      "Requirement already satisfied: BeautifulSoup4 in ./.local/lib/python3.5/site-packages\n",
      "Requirement already satisfied: soupsieve>=1.2 in ./.local/lib/python3.5/site-packages (from BeautifulSoup4)\n",
      "Note: you may need to restart the kernel to use updated packages.\n"
     ]
    }
   ],
   "source": [
    "pip install BeautifulSoup4"
   ]
  },
  {
   "cell_type": "code",
   "execution_count": 5,
   "metadata": {
    "colab": {},
    "colab_type": "code",
    "id": "QK3-2QIzcoOU"
   },
   "outputs": [],
   "source": [
    "import requests\n",
    "\n",
    "ur=\"https://www2.hm.com/sv_se/barn/produkter/pojke-8-14-ar-134-170.html\"\n",
    "headers = {'User-Agent': 'Mozilla/5.0 (Macintosh; Intel Mac OS X 10_11_5) AppleWebKit/537.36 (KHTML, like Gecko) Chrome/50.0.2661.102 Safari/537.36'}\n",
    "\n",
    "\n",
    "r=requests.get(ur, headers=headers)\n",
    "html_doc=r.content.decode()\n",
    "from bs4 import BeautifulSoup\n",
    "soup = BeautifulSoup(html_doc, 'html.parser')"
   ]
  },
  {
   "cell_type": "code",
   "execution_count": 6,
   "metadata": {
    "colab": {},
    "colab_type": "code",
    "id": "0xh08ysPczY0"
   },
   "outputs": [],
   "source": [
    "filters=soup.find_all(\"div\", attrs={ \"id\" :\"drawer-productTypes\"})\n",
    "soup2 = BeautifulSoup(str(filters), 'html.parser')\n",
    "#print(soup.prettify())\n",
    "pr=[]\n",
    "cnt=[]\n",
    "prods=soup2.find_all(\"li\", attrs={ \"class\" :\"inputwrapper level-list-item\"}) #loop\n",
    "for subc in prods:\n",
    "    pr.append(subc.find(\"span\",attrs={ \"class\" :\"text\"}).text)\n",
    "    cnt.append(subc.find(\"span\",attrs={ \"class\" :\"item-count\"}).text)"
   ]
  },
  {
   "cell_type": "code",
   "execution_count": 7,
   "metadata": {
    "colab": {
     "base_uri": "https://localhost:8080/",
     "height": 544
    },
    "colab_type": "code",
    "id": "npIyMfR_dSS_",
    "outputId": "be8ebd7d-cab5-4c07-ff85-99d19d4f3024"
   },
   "outputs": [
    {
     "data": {
      "text/plain": [
       "[('badbyxor', '3'),\n",
       " ('byxor', '75'),\n",
       " ('cardigan', '1'),\n",
       " ('diadem', '1'),\n",
       " ('dräkt', '4'),\n",
       " ('halsduk', '15'),\n",
       " ('handskar', '1'),\n",
       " ('hatt', '2'),\n",
       " ('hängslen', '1'),\n",
       " ('jacka', '29'),\n",
       " ('jeans', '57'),\n",
       " ('kalsonger', '28'),\n",
       " ('kavaj', '9'),\n",
       " ('keps', '23'),\n",
       " ('kostymväst', '6'),\n",
       " ('leksak', '1'),\n",
       " ('maskeradaccessoar', '1'),\n",
       " ('morgonrock', '1'),\n",
       " ('mössa', '29'),\n",
       " ('pyjamas', '29'),\n",
       " ('shorts', '28'),\n",
       " ('skjorta', '39'),\n",
       " ('skor', '34'),\n",
       " ('skärp', '1'),\n",
       " ('stickad tröja', '14'),\n",
       " ('strumpor', '33'),\n",
       " ('t-shirt', '107'),\n",
       " ('topp', '17'),\n",
       " ('tröja', '81'),\n",
       " ('vantar', '1'),\n",
       " ('väska', '4'),\n",
       " ('väst', '4')]"
      ]
     },
     "execution_count": 7,
     "metadata": {},
     "output_type": "execute_result"
    }
   ],
   "source": [
    "list(zip(pr,cnt))"
   ]
  },
  {
   "cell_type": "code",
   "execution_count": 8,
   "metadata": {
    "colab": {
     "base_uri": "https://localhost:8080/",
     "height": 34
    },
    "colab_type": "code",
    "id": "OCV8es6enzb2",
    "outputId": "01528d57-5352-4fb8-f58d-9647c9f05d6b"
   },
   "outputs": [
    {
     "name": "stdout",
     "output_type": "stream",
     "text": [
      "mkdir: cannot create directory ‘H&M’: File exists\n"
     ]
    }
   ],
   "source": [
    "!mkdir 'H&M' && ls"
   ]
  },
  {
   "cell_type": "code",
   "execution_count": 9,
   "metadata": {
    "colab": {
     "base_uri": "https://localhost:8080/",
     "height": 34
    },
    "colab_type": "code",
    "id": "Hz5I8DZtxclI",
    "outputId": "fa731df7-1b8d-47df-e982-f95ead23ee90"
   },
   "outputs": [
    {
     "data": {
      "text/plain": [
       "'https://www2.hm.com/sv_se/barn/produkter/pojke-8-14-ar-134-170.html'"
      ]
     },
     "execution_count": 9,
     "metadata": {},
     "output_type": "execute_result"
    }
   ],
   "source": [
    "ur"
   ]
  },
  {
   "cell_type": "code",
   "execution_count": null,
   "metadata": {
    "colab": {
     "base_uri": "https://localhost:8080/",
     "height": 1000
    },
    "colab_type": "code",
    "id": "mm4Jud6qdVtg",
    "outputId": "50ec29fb-0ce3-4862-d7e3-87abdb5dfead"
   },
   "outputs": [
    {
     "name": "stdout",
     "output_type": "stream",
     "text": [
      "https://www2.hm.com/sv_se/barn/produkter/pojke-8-14-ar-134-170.html?productTypes=badbyxor&page-size=3\n",
      "3\n",
      "https://www2.hm.com/sv_se/barn/produkter/pojke-8-14-ar-134-170.html?productTypes=byxor&page-size=75\n",
      "75\n",
      "https://www2.hm.com/sv_se/barn/produkter/pojke-8-14-ar-134-170.html?productTypes=cardigan&page-size=1\n",
      "1\n",
      "https://www2.hm.com/sv_se/barn/produkter/pojke-8-14-ar-134-170.html?productTypes=diadem&page-size=1\n",
      "1\n",
      "https://www2.hm.com/sv_se/barn/produkter/pojke-8-14-ar-134-170.html?productTypes=dräkt&page-size=4\n",
      "4\n",
      "https://www2.hm.com/sv_se/barn/produkter/pojke-8-14-ar-134-170.html?productTypes=halsduk&page-size=15\n",
      "15\n",
      "https://www2.hm.com/sv_se/barn/produkter/pojke-8-14-ar-134-170.html?productTypes=handskar&page-size=1\n",
      "1\n",
      "https://www2.hm.com/sv_se/barn/produkter/pojke-8-14-ar-134-170.html?productTypes=hatt&page-size=2\n",
      "2\n",
      "https://www2.hm.com/sv_se/barn/produkter/pojke-8-14-ar-134-170.html?productTypes=hängslen&page-size=1\n",
      "1\n",
      "https://www2.hm.com/sv_se/barn/produkter/pojke-8-14-ar-134-170.html?productTypes=jacka&page-size=29\n",
      "29\n",
      "https://www2.hm.com/sv_se/barn/produkter/pojke-8-14-ar-134-170.html?productTypes=jeans&page-size=57\n",
      "57\n"
     ]
    }
   ],
   "source": [
    "import urllib.request as req\n",
    "import time\n",
    "import random\n",
    "\n",
    "base=str(\"https://www2.hm.com\")\n",
    "brand='H&M'\n",
    "gender='boy'\n",
    "size='134-170'\n",
    "\n",
    "for p,c in zip(pr,cnt):\n",
    "    try:\n",
    "        category=p\n",
    "        p=p.replace(' ','+')\n",
    "        url2=ur+str('?productTypes=')+p+str('&page-size=')+c\n",
    "        print(url2)\n",
    "        s=requests.get(url2,headers=headers)\n",
    "        html_doc2=s.content.decode()\n",
    "        soup2 = BeautifulSoup(html_doc2, 'html.parser')\n",
    "        products=soup2.find_all(\"div\", attrs={ \"class\" :\"image-container\"})\n",
    "        print(len(products))\n",
    "\n",
    "        for product in products:\n",
    "            ext=product.a['href']\n",
    "            name=product.a[\"title\"]\n",
    "            url3=base+ext\n",
    "            p=requests.get(url3,headers=headers)\n",
    "            html_doc3=p.content.decode()\n",
    "            soup3 = BeautifulSoup(html_doc3, 'html.parser')\n",
    "            sub_product=soup3.find(\"div\", attrs={ \"class\" :\"mini-slider\"})\n",
    "            html_doc4=str(sub_product)\n",
    "            soup4=BeautifulSoup(html_doc4, 'html.parser')\n",
    "            spa=soup4.find_all(\"li\", attrs={ \"class\" :\"list-item\"})\n",
    "            for sp in spa:        \n",
    "                ext2=sp.a['href']\n",
    "                color=sp.a['title']\n",
    "                url5=base+ext2\n",
    "                spr=requests.get(url5,headers=headers)\n",
    "                html_doc5=spr.content.decode()\n",
    "                soup5 = BeautifulSoup(html_doc5, 'html.parser')\n",
    "\n",
    "                iu=soup5.find(\"figure\", attrs={ \"class\" :\"pdp-image product-detail-images product-detail-main-image\"})\n",
    "                img_url=iu.div.img['src']\n",
    "                desc=soup5.find(\"section\", attrs={ \"class\" :\"name-price\"})\n",
    "                price=desc.span.text.strip()\n",
    "                qy=soup5.find(\"div\", attrs={ \"class\" :\"js-before-secondary-images\"})\n",
    "                composition=qy.div.ul.li.ul.li.text      \n",
    "                a=ext2\n",
    "                article_no=a.lstrip('/sv_se/productpage.').rstrip('.html')\n",
    "                url=url5\n",
    "\n",
    "                img_url = \"https:\" + img_url\n",
    "                img_url=img_url.replace(' ','+')\n",
    "                ac='H&M'+'/'+article_no+str('.jpg')\n",
    "                req.urlretrieve(img_url,ac)\n",
    "\n",
    "                blob_name=str('H&M')+str('/')+str(article_no)\n",
    "                path_to_file='H&M/'+article_no+str('.jpg')\n",
    "                blob_url=upload_to_bucket(blob_name, path_to_file)\n",
    "                with open(\"H&M_boys.csv\", \"a\", encoding='utf-8') as f:\n",
    "                          writer = csv.writer(f)\n",
    "                          writer.writerow([name,brand,gender,category,size,price,composition,color,url,img_url,article_no,blob_url])\n",
    "    except:\n",
    "        continue\n",
    "    \n"
   ]
  },
  {
   "cell_type": "code",
   "execution_count": null,
   "metadata": {
    "colab": {},
    "colab_type": "code",
    "id": "qev9lNRe_qDJ"
   },
   "outputs": [],
   "source": []
  },
  {
   "cell_type": "code",
   "execution_count": 14,
   "metadata": {
    "colab": {},
    "colab_type": "code",
    "id": "8fDI20foyjVY"
   },
   "outputs": [
    {
     "name": "stdout",
     "output_type": "stream",
     "text": [
      "auth.json\t    H&M-baby-girl.ipynb  H&M.csv\t  H&M.ipynb\n",
      "H&M\t\t    H&M_boy.csv\t\t H&M_girl.csv\t  tutorials\n",
      "H&M_baby_boy.csv    H&M_boy.ipynb\t H&M_girl.ipynb   zara.ipynb\n",
      "H&M_baby_boy.ipynb  H&M_boys.csv\t H&M_girls.csv\n",
      "H&M_baby_girl.csv   H&M_boys.ipynb\t H&M_girls.ipynb\n"
     ]
    }
   ],
   "source": [
    "!ls"
   ]
  },
  {
   "cell_type": "code",
   "execution_count": 15,
   "metadata": {
    "colab": {},
    "colab_type": "code",
    "id": "FXCrIWQA1oEL"
   },
   "outputs": [
    {
     "name": "stdout",
     "output_type": "stream",
     "text": [
      "name           4177\n",
      "brand          4177\n",
      "gender         4177\n",
      "category       4177\n",
      "size           4177\n",
      "price          4177\n",
      "composition    4177\n",
      "color          4177\n",
      "url            4177\n",
      "img_url        4177\n",
      "article_no     4177\n",
      "blob_url       4177\n",
      "dtype: int64\n"
     ]
    },
    {
     "data": {
      "text/html": [
       "<div>\n",
       "<style scoped>\n",
       "    .dataframe tbody tr th:only-of-type {\n",
       "        vertical-align: middle;\n",
       "    }\n",
       "\n",
       "    .dataframe tbody tr th {\n",
       "        vertical-align: top;\n",
       "    }\n",
       "\n",
       "    .dataframe thead th {\n",
       "        text-align: right;\n",
       "    }\n",
       "</style>\n",
       "<table border=\"1\" class=\"dataframe\">\n",
       "  <thead>\n",
       "    <tr style=\"text-align: right;\">\n",
       "      <th></th>\n",
       "      <th>name</th>\n",
       "      <th>brand</th>\n",
       "      <th>gender</th>\n",
       "      <th>category</th>\n",
       "      <th>size</th>\n",
       "      <th>price</th>\n",
       "      <th>composition</th>\n",
       "      <th>color</th>\n",
       "      <th>url</th>\n",
       "      <th>img_url</th>\n",
       "      <th>article_no</th>\n",
       "      <th>blob_url</th>\n",
       "    </tr>\n",
       "  </thead>\n",
       "  <tbody>\n",
       "    <tr>\n",
       "      <th>0</th>\n",
       "      <td>Badshorts med tryck</td>\n",
       "      <td>H&amp;M</td>\n",
       "      <td>boy</td>\n",
       "      <td>badbyxor</td>\n",
       "      <td>134-170</td>\n",
       "      <td>149,00 kr.</td>\n",
       "      <td>Polyester 100%</td>\n",
       "      <td>Grå/Venice</td>\n",
       "      <td>https://www2.hm.com/sv_se/productpage.04976640...</td>\n",
       "      <td>https://lp2.hm.com/hmgoepprod?set=source[/46/e...</td>\n",
       "      <td>497664001</td>\n",
       "      <td>https://storage.googleapis.com/urbankiddo/H%26...</td>\n",
       "    </tr>\n",
       "    <tr>\n",
       "      <th>1</th>\n",
       "      <td>Badshorts med tryck</td>\n",
       "      <td>H&amp;M</td>\n",
       "      <td>boy</td>\n",
       "      <td>badbyxor</td>\n",
       "      <td>134-170</td>\n",
       "      <td>149,00 kr.</td>\n",
       "      <td>Polyester 100%</td>\n",
       "      <td>Blå/Palmer</td>\n",
       "      <td>https://www2.hm.com/sv_se/productpage.04976640...</td>\n",
       "      <td>https://lp2.hm.com/hmgoepprod?set=source[/2c/1...</td>\n",
       "      <td>497664004</td>\n",
       "      <td>https://storage.googleapis.com/urbankiddo/H%26...</td>\n",
       "    </tr>\n",
       "    <tr>\n",
       "      <th>2</th>\n",
       "      <td>Badshorts med tryck</td>\n",
       "      <td>H&amp;M</td>\n",
       "      <td>boy</td>\n",
       "      <td>badbyxor</td>\n",
       "      <td>134-170</td>\n",
       "      <td>49,90 kr.</td>\n",
       "      <td>Polyester 100%</td>\n",
       "      <td>Svart/Gråmönstrad</td>\n",
       "      <td>https://www2.hm.com/sv_se/productpage.04976640...</td>\n",
       "      <td>https://lp2.hm.com/hmgoepprod?set=source[/27/c...</td>\n",
       "      <td>497664006</td>\n",
       "      <td>https://storage.googleapis.com/urbankiddo/H%26...</td>\n",
       "    </tr>\n",
       "    <tr>\n",
       "      <th>3</th>\n",
       "      <td>Badshorts med tryck</td>\n",
       "      <td>H&amp;M</td>\n",
       "      <td>boy</td>\n",
       "      <td>badbyxor</td>\n",
       "      <td>134-170</td>\n",
       "      <td>69,90 kr.</td>\n",
       "      <td>Polyester 100%</td>\n",
       "      <td>Blå/Hajar</td>\n",
       "      <td>https://www2.hm.com/sv_se/productpage.04976640...</td>\n",
       "      <td>https://lp2.hm.com/hmgoepprod?set=source[/f1/9...</td>\n",
       "      <td>497664007</td>\n",
       "      <td>https://storage.googleapis.com/urbankiddo/H%26...</td>\n",
       "    </tr>\n",
       "    <tr>\n",
       "      <th>4</th>\n",
       "      <td>Badshorts med tryck</td>\n",
       "      <td>H&amp;M</td>\n",
       "      <td>boy</td>\n",
       "      <td>badbyxor</td>\n",
       "      <td>134-170</td>\n",
       "      <td>79,90 kr.</td>\n",
       "      <td>Foder: Polyester 100%</td>\n",
       "      <td>Svart/Stjärnor</td>\n",
       "      <td>https://www2.hm.com/sv_se/productpage.04976640...</td>\n",
       "      <td>https://lp2.hm.com/hmgoepprod?set=source[/c5/0...</td>\n",
       "      <td>497664010</td>\n",
       "      <td>https://storage.googleapis.com/urbankiddo/H%26...</td>\n",
       "    </tr>\n",
       "  </tbody>\n",
       "</table>\n",
       "</div>"
      ],
      "text/plain": [
       "                  name brand gender  category     size       price  \\\n",
       "0  Badshorts med tryck   H&M    boy  badbyxor  134-170  149,00 kr.   \n",
       "1  Badshorts med tryck   H&M    boy  badbyxor  134-170  149,00 kr.   \n",
       "2  Badshorts med tryck   H&M    boy  badbyxor  134-170   49,90 kr.   \n",
       "3  Badshorts med tryck   H&M    boy  badbyxor  134-170   69,90 kr.   \n",
       "4  Badshorts med tryck   H&M    boy  badbyxor  134-170   79,90 kr.   \n",
       "\n",
       "             composition              color  \\\n",
       "0         Polyester 100%         Grå/Venice   \n",
       "1         Polyester 100%         Blå/Palmer   \n",
       "2         Polyester 100%  Svart/Gråmönstrad   \n",
       "3         Polyester 100%          Blå/Hajar   \n",
       "4  Foder: Polyester 100%     Svart/Stjärnor   \n",
       "\n",
       "                                                 url  \\\n",
       "0  https://www2.hm.com/sv_se/productpage.04976640...   \n",
       "1  https://www2.hm.com/sv_se/productpage.04976640...   \n",
       "2  https://www2.hm.com/sv_se/productpage.04976640...   \n",
       "3  https://www2.hm.com/sv_se/productpage.04976640...   \n",
       "4  https://www2.hm.com/sv_se/productpage.04976640...   \n",
       "\n",
       "                                             img_url  article_no  \\\n",
       "0  https://lp2.hm.com/hmgoepprod?set=source[/46/e...   497664001   \n",
       "1  https://lp2.hm.com/hmgoepprod?set=source[/2c/1...   497664004   \n",
       "2  https://lp2.hm.com/hmgoepprod?set=source[/27/c...   497664006   \n",
       "3  https://lp2.hm.com/hmgoepprod?set=source[/f1/9...   497664007   \n",
       "4  https://lp2.hm.com/hmgoepprod?set=source[/c5/0...   497664010   \n",
       "\n",
       "                                            blob_url  \n",
       "0  https://storage.googleapis.com/urbankiddo/H%26...  \n",
       "1  https://storage.googleapis.com/urbankiddo/H%26...  \n",
       "2  https://storage.googleapis.com/urbankiddo/H%26...  \n",
       "3  https://storage.googleapis.com/urbankiddo/H%26...  \n",
       "4  https://storage.googleapis.com/urbankiddo/H%26...  "
      ]
     },
     "execution_count": 15,
     "metadata": {},
     "output_type": "execute_result"
    }
   ],
   "source": [
    "import pandas as pd\n",
    "df=pd.read_csv(\"H&M_boys.csv\", encoding='utf-8',index_col=False)\n",
    "print(df.count())\n",
    "df.head()"
   ]
  },
  {
   "cell_type": "code",
   "execution_count": 16,
   "metadata": {
    "colab": {},
    "colab_type": "code",
    "id": "m5alB9ckzagp"
   },
   "outputs": [
    {
     "data": {
      "text/plain": [
       "'https://storage.googleapis.com/urbankiddo/H%26M/H%26M_boys.csv'"
      ]
     },
     "execution_count": 16,
     "metadata": {},
     "output_type": "execute_result"
    }
   ],
   "source": [
    "from google.cloud import storage\n",
    "storage_client = storage.Client.from_service_account_json('auth.json')\n",
    "bucket = storage_client.get_bucket('urbankiddo')\n",
    "blob = bucket.blob('H&M/H&M_boys.csv')\n",
    "blob.upload_from_filename('H&M_boys.csv')\n",
    "blob.public_url"
   ]
  },
  {
   "cell_type": "code",
   "execution_count": null,
   "metadata": {},
   "outputs": [],
   "source": []
  }
 ],
 "metadata": {
  "colab": {
   "collapsed_sections": [],
   "name": "H&M.ipynb",
   "provenance": [],
   "version": "0.3.2"
  },
  "kernelspec": {
   "display_name": "Python 3",
   "language": "python",
   "name": "python3"
  },
  "language_info": {
   "codemirror_mode": {
    "name": "ipython",
    "version": 3
   },
   "file_extension": ".py",
   "mimetype": "text/x-python",
   "name": "python",
   "nbconvert_exporter": "python",
   "pygments_lexer": "ipython3",
   "version": "3.5.3"
  }
 },
 "nbformat": 4,
 "nbformat_minor": 2
}

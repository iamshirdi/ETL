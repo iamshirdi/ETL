{
 "cells": [
  {
   "cell_type": "code",
   "execution_count": 1,
   "metadata": {
    "colab": {},
    "colab_type": "code",
    "id": "DGV3AMW_cjzl"
   },
   "outputs": [],
   "source": [
    "import csv\n",
    "\n",
    "f = open(\"H&M_girl.csv\", \"w\", encoding='utf-8')\n",
    "writer = csv.DictWriter(f, fieldnames=[\"name\",\"brand\",\"gender\",\"category\",\"size\",\"price\",\"composition\",\"color\",\"url\",\"img_url\",\"article_no\",\"blob_url\"])\n",
    "writer.writeheader()\n",
    "f.close()\n"
   ]
  },
  {
   "cell_type": "code",
   "execution_count": 2,
   "metadata": {
    "colab": {
     "base_uri": "https://localhost:8080/",
     "height": 289
    },
    "colab_type": "code",
    "id": "4PcNB40jeRXD",
    "outputId": "00d3ac29-b3b3-4686-8e0d-2825837e9a6e"
   },
   "outputs": [
    {
     "name": "stdout",
     "output_type": "stream",
     "text": [
      "--2019-07-17 21:23:06--  https://dl.dropbox.com/s/p1ifzzf2443r05g/urbankiddo-c8528ce11ed0.json\n",
      "Resolving dl.dropbox.com (dl.dropbox.com)... 162.125.1.6, 2620:100:6016:6::a27d:106\n",
      "Connecting to dl.dropbox.com (dl.dropbox.com)|162.125.1.6|:443... connected.\n",
      "HTTP request sent, awaiting response... 302 FOUND\n",
      "Location: https://dl.dropboxusercontent.com/s/p1ifzzf2443r05g/urbankiddo-c8528ce11ed0.json [following]\n",
      "--2019-07-17 21:23:06--  https://dl.dropboxusercontent.com/s/p1ifzzf2443r05g/urbankiddo-c8528ce11ed0.json\n",
      "Resolving dl.dropboxusercontent.com (dl.dropboxusercontent.com)... 162.125.1.6, 2620:100:6016:6::a27d:106\n",
      "Connecting to dl.dropboxusercontent.com (dl.dropboxusercontent.com)|162.125.1.6|:443... connected.\n",
      "HTTP request sent, awaiting response... 200 OK\n",
      "Length: 2315 (2.3K) [text/plain]\n",
      "Saving to: ‘auth.json’\n",
      "\n",
      "auth.json           100%[===================>]   2.26K  --.-KB/s    in 0s      \n",
      "\n",
      "2019-07-17 21:23:07 (43.0 MB/s) - ‘auth.json’ saved [2315/2315]\n",
      "\n"
     ]
    }
   ],
   "source": [
    "!wget -O \"auth.json\" https://dl.dropbox.com/s/p1ifzzf2443r05g/urbankiddo-c8528ce11ed0.json"
   ]
  },
  {
   "cell_type": "code",
   "execution_count": 3,
   "metadata": {
    "colab": {},
    "colab_type": "code",
    "id": "xjRXTpK0clL-"
   },
   "outputs": [],
   "source": [
    "from google.cloud import storage\n",
    "\n",
    "def upload_to_bucket(blob_name, path_to_file):\n",
    "    \"\"\" Upload data to a bucket\"\"\" #doc string in function\n",
    "\n",
    "    # Explicitly use service account credentials by specifying the private key\n",
    "    # file.\n",
    "    storage_client = storage.Client.from_service_account_json(\n",
    "        'auth.json')\n",
    "\n",
    "    #print(buckets = list(storage_client.list_buckets())\n",
    "\n",
    "    bucket = storage_client.get_bucket('urbankiddo')\n",
    "    blob = bucket.blob(blob_name)\n",
    "    blob.upload_from_filename(path_to_file)\n",
    "\n",
    "    #returns a public url\n",
    "    return blob.public_url"
   ]
  },
  {
   "cell_type": "code",
   "execution_count": 4,
   "metadata": {
    "colab": {},
    "colab_type": "code",
    "id": "bwFY_wjyj2g3"
   },
   "outputs": [
    {
     "name": "stdout",
     "output_type": "stream",
     "text": [
      "Requirement already satisfied: BeautifulSoup4 in ./.local/lib/python3.5/site-packages\n",
      "Requirement already satisfied: soupsieve>=1.2 in ./.local/lib/python3.5/site-packages (from BeautifulSoup4)\n",
      "Note: you may need to restart the kernel to use updated packages.\n"
     ]
    }
   ],
   "source": [
    "pip install BeautifulSoup4"
   ]
  },
  {
   "cell_type": "code",
   "execution_count": 5,
   "metadata": {
    "colab": {},
    "colab_type": "code",
    "id": "QK3-2QIzcoOU"
   },
   "outputs": [],
   "source": [
    "import requests\n",
    "\n",
    "ur=\"https://www2.hm.com/sv_se/barn/produkter/flicka-18-manader-10-ar-92-140.html\"\n",
    "headers = {'User-Agent': 'Mozilla/5.0 (Macintosh; Intel Mac OS X 10_11_5) AppleWebKit/537.36 (KHTML, like Gecko) Chrome/50.0.2661.102 Safari/537.36'}\n",
    "\n",
    "\n",
    "r=requests.get(ur, headers=headers)\n",
    "html_doc=r.content.decode()\n",
    "from bs4 import BeautifulSoup\n",
    "soup = BeautifulSoup(html_doc, 'html.parser')"
   ]
  },
  {
   "cell_type": "code",
   "execution_count": 6,
   "metadata": {
    "colab": {},
    "colab_type": "code",
    "id": "0xh08ysPczY0"
   },
   "outputs": [],
   "source": [
    "filters=soup.find_all(\"div\", attrs={ \"id\" :\"drawer-productTypes\"})\n",
    "soup2 = BeautifulSoup(str(filters), 'html.parser')\n",
    "#print(soup.prettify())\n",
    "pr=[]\n",
    "cnt=[]\n",
    "prods=soup2.find_all(\"li\", attrs={ \"class\" :\"inputwrapper level-list-item\"}) #loop\n",
    "for subc in prods:\n",
    "    pr.append(subc.find(\"span\",attrs={ \"class\" :\"text\"}).text)\n",
    "    cnt.append(subc.find(\"span\",attrs={ \"class\" :\"item-count\"}).text)"
   ]
  },
  {
   "cell_type": "code",
   "execution_count": 7,
   "metadata": {
    "colab": {
     "base_uri": "https://localhost:8080/",
     "height": 544
    },
    "colab_type": "code",
    "id": "npIyMfR_dSS_",
    "outputId": "be8ebd7d-cab5-4c07-ff85-99d19d4f3024"
   },
   "outputs": [
    {
     "data": {
      "text/plain": [
       "[('babybody', '114'),\n",
       " ('babyscarf', '15'),\n",
       " ('blus', '3'),\n",
       " ('byxor', '84'),\n",
       " ('cardigan', '18'),\n",
       " ('halsduk', '12'),\n",
       " ('hatt', '3'),\n",
       " ('hårband', '5'),\n",
       " ('jacka', '7'),\n",
       " ('jumpsuit', '37'),\n",
       " ('kjol', '1'),\n",
       " ('klänning', '22'),\n",
       " ('leggings', '40'),\n",
       " ('mössa', '24'),\n",
       " ('overall', '5'),\n",
       " ('pannband', '1'),\n",
       " ('pufftrosa', '2'),\n",
       " ('pyjamas', '41'),\n",
       " ('shorts', '25'),\n",
       " ('skjorta', '5'),\n",
       " ('skor', '8'),\n",
       " ('sovpåse', '15'),\n",
       " ('stickad tröja', '5'),\n",
       " ('strumpbyxor', '24'),\n",
       " ('strumpor', '44'),\n",
       " ('t-shirt', '43'),\n",
       " ('tofflor', '23'),\n",
       " ('topp', '15'),\n",
       " ('tröja', '51'),\n",
       " ('vantar', '1'),\n",
       " ('väst', '1')]"
      ]
     },
     "execution_count": 7,
     "metadata": {},
     "output_type": "execute_result"
    }
   ],
   "source": [
    "list(zip(pr,cnt))"
   ]
  },
  {
   "cell_type": "code",
   "execution_count": 8,
   "metadata": {
    "colab": {
     "base_uri": "https://localhost:8080/",
     "height": 34
    },
    "colab_type": "code",
    "id": "OCV8es6enzb2",
    "outputId": "01528d57-5352-4fb8-f58d-9647c9f05d6b"
   },
   "outputs": [
    {
     "name": "stdout",
     "output_type": "stream",
     "text": [
      "mkdir: cannot create directory ‘H&M’: File exists\n"
     ]
    }
   ],
   "source": [
    "!mkdir 'H&M' && ls"
   ]
  },
  {
   "cell_type": "code",
   "execution_count": 9,
   "metadata": {
    "colab": {
     "base_uri": "https://localhost:8080/",
     "height": 34
    },
    "colab_type": "code",
    "id": "Hz5I8DZtxclI",
    "outputId": "fa731df7-1b8d-47df-e982-f95ead23ee90"
   },
   "outputs": [
    {
     "data": {
      "text/plain": [
       "'https://www2.hm.com/sv_se/barn/produkter/nyfodd.html'"
      ]
     },
     "execution_count": 9,
     "metadata": {},
     "output_type": "execute_result"
    }
   ],
   "source": [
    "ur"
   ]
  },
  {
   "cell_type": "code",
   "execution_count": 10,
   "metadata": {
    "colab": {
     "base_uri": "https://localhost:8080/",
     "height": 1000
    },
    "colab_type": "code",
    "id": "mm4Jud6qdVtg",
    "outputId": "50ec29fb-0ce3-4862-d7e3-87abdb5dfead"
   },
   "outputs": [
    {
     "name": "stdout",
     "output_type": "stream",
     "text": [
      "https://www2.hm.com/sv_se/barn/produkter/nyfodd.html?productTypes=babybody&page-size=114\n",
      "114\n",
      "3-pack omlottbody H&M unisex babybody 50-74 149,00 kr. Bomull 100% Vit https://www2.hm.com/sv_se/productpage.0701784001.html https://lp2.hm.com/hmgoepprod?set=source[/51/45/514519bf74569b4071f87a910bcdb84847068244.jpg],origin[dam],category[],type[DESCRIPTIVESTILLLIFE],res[m],hmver[1]&call=url[file:/product/main]+ 0701784001 https://storage.googleapis.com/urbankiddo/H%26M/0701784001\n",
      "sleeping :  3 seconds\n",
      "3-pack omlottbody H&M unisex babybody 50-74 79,90 kr. Bomull 100% Mörkbeige/Prickig https://www2.hm.com/sv_se/productpage.0701784002.html https://lp2.hm.com/hmgoepprod?set=source[/08/be/08be2a1c3e6949fb7865bd2c7080f8edcdffc06e.jpg],origin[dam],category[kids_newborn_bodies],type[DESCRIPTIVESTILLLIFE],res[m],hmver[1]&call=url[file:/product/main]+ 0701784002 https://storage.googleapis.com/urbankiddo/H%26M/0701784002\n",
      "sleeping :  2 seconds\n",
      "3-pack omlottbody H&M unisex babybody 50-74 69,90 kr. Bomull 100% Gul/Djur https://www2.hm.com/sv_se/productpage.0701784003.html https://lp2.hm.com/hmgoepprod?set=source[/ba/b7/bab7cb2adb027f61ffc0f924e508d52fe5db07e9.jpg],origin[dam],category[kids_newborn_bodies],type[DESCRIPTIVESTILLLIFE],res[m],hmver[1]&call=url[file:/product/main]+ 0701784003 https://storage.googleapis.com/urbankiddo/H%26M/0701784003\n",
      "sleeping :  2 seconds\n",
      "3-pack omlottbody H&M unisex babybody 50-74 149,00 kr. Bomull 100% Mörkblå/Ankaren https://www2.hm.com/sv_se/productpage.0701784004.html https://lp2.hm.com/hmgoepprod?set=source[/01/3d/013da31209bf26b796dc0153e42f0bfb1f6ad71e.jpg],origin[dam],category[kids_newborn_bodies],type[DESCRIPTIVESTILLLIFE],res[m],hmver[1]&call=url[file:/product/main]+ 0701784004 https://storage.googleapis.com/urbankiddo/H%26M/0701784004\n",
      "sleeping :  3 seconds\n"
     ]
    },
    {
     "ename": "KeyboardInterrupt",
     "evalue": "",
     "output_type": "error",
     "traceback": [
      "\u001b[0;31m---------------------------------------------------------------------------\u001b[0m",
      "\u001b[0;31mKeyboardInterrupt\u001b[0m                         Traceback (most recent call last)",
      "\u001b[0;32m<ipython-input-10-63586ff22b23>\u001b[0m in \u001b[0;36m<module>\u001b[0;34m\u001b[0m\n\u001b[1;32m     62\u001b[0m       \u001b[0msl\u001b[0m\u001b[0;34m=\u001b[0m\u001b[0mrandom\u001b[0m\u001b[0;34m.\u001b[0m\u001b[0mrandint\u001b[0m\u001b[0;34m(\u001b[0m\u001b[0;36m1\u001b[0m\u001b[0;34m,\u001b[0m\u001b[0;36m3\u001b[0m\u001b[0;34m)\u001b[0m\u001b[0;34m\u001b[0m\u001b[0m\n\u001b[1;32m     63\u001b[0m       \u001b[0mprint\u001b[0m\u001b[0;34m(\u001b[0m\u001b[0;34m'sleeping :'\u001b[0m\u001b[0;34m,\u001b[0m\u001b[0;34m''\u001b[0m\u001b[0;34m,\u001b[0m\u001b[0msl\u001b[0m\u001b[0;34m,\u001b[0m\u001b[0;34m'seconds'\u001b[0m\u001b[0;34m)\u001b[0m\u001b[0;34m\u001b[0m\u001b[0m\n\u001b[0;32m---> 64\u001b[0;31m       \u001b[0mtime\u001b[0m\u001b[0;34m.\u001b[0m\u001b[0msleep\u001b[0m\u001b[0;34m(\u001b[0m\u001b[0msl\u001b[0m\u001b[0;34m)\u001b[0m\u001b[0;34m\u001b[0m\u001b[0m\n\u001b[0m\u001b[1;32m     65\u001b[0m \u001b[0;34m\u001b[0m\u001b[0m\n",
      "\u001b[0;31mKeyboardInterrupt\u001b[0m: "
     ]
    }
   ],
   "source": [
    "import urllib.request as req\n",
    "import time\n",
    "import random\n",
    "\n",
    "base=str(\"https://www2.hm.com\")\n",
    "brand='H&M'\n",
    "gender='girl'\n",
    "size='92-140'\n",
    "\n",
    "for p,c in zip(pr,cnt):\n",
    "  category=p\n",
    "  p=p.replace(' ','+')\n",
    "  url2=ur+str('?productTypes=')+p+str('&page-size=')+c\n",
    "  print(url2)\n",
    "  s=requests.get(url2,headers=headers)\n",
    "  html_doc2=s.content.decode()\n",
    "  soup2 = BeautifulSoup(html_doc2, 'html.parser')\n",
    "  products=soup2.find_all(\"div\", attrs={ \"class\" :\"image-container\"})\n",
    "  print(len(products))\n",
    "  \n",
    "  for product in products:\n",
    "    ext=product.a['href']\n",
    "    name=product.a[\"title\"]\n",
    "    url3=base+ext\n",
    "    p=requests.get(url3,headers=headers)\n",
    "    html_doc3=p.content.decode()\n",
    "    soup3 = BeautifulSoup(html_doc3, 'html.parser')\n",
    "    sub_product=soup3.find(\"div\", attrs={ \"class\" :\"mini-slider\"})\n",
    "    html_doc4=str(sub_product)\n",
    "    soup4=BeautifulSoup(html_doc4, 'html.parser')\n",
    "    spa=soup4.find_all(\"li\", attrs={ \"class\" :\"list-item\"})\n",
    "    for sp in spa:\n",
    "      ext2=sp.a['href']\n",
    "      color=sp.a['title']\n",
    "      url5=base+ext2\n",
    "      spr=requests.get(url5,headers=headers)\n",
    "      html_doc5=spr.content.decode()\n",
    "      soup5 = BeautifulSoup(html_doc5, 'html.parser')\n",
    "      \n",
    "      iu=soup5.find(\"figure\", attrs={ \"class\" :\"pdp-image product-detail-images product-detail-main-image\"})\n",
    "      img_url=iu.div.img['src']\n",
    "      desc=soup5.find(\"section\", attrs={ \"class\" :\"name-price\"})\n",
    "      price=desc.span.text.strip()\n",
    "      qy=soup5.find(\"div\", attrs={ \"class\" :\"js-before-secondary-images\"})\n",
    "      composition=qy.div.ul.li.ul.li.text      \n",
    "      a=ext2\n",
    "      article_no=a.lstrip('/sv_se/productpage.').rstrip('.html')\n",
    "      url=url5\n",
    "      \n",
    "      img_url = \"https:\" + img_url\n",
    "      img_url=img_url.replace(' ','+')\n",
    "      ac='H&M'+'/'+article_no+str('.jpg')\n",
    "      req.urlretrieve(img_url,ac)\n",
    "      \n",
    "      blob_name=str('H&M')+str('/')+str(article_no)\n",
    "      path_to_file='H&M/'+article_no+str('.jpg')\n",
    "      blob_url=upload_to_bucket(blob_name, path_to_file)\n",
    "      with open(\"H&M_girl.csv\", \"a\", encoding='utf-8') as f:\n",
    "                  writer = csv.writer(f)\n",
    "                  writer.writerow([name,brand,gender,category,size,price,composition,color,url,img_url,article_no,blob_url])\n",
    "      print(name,brand,gender,category,size,price,composition,color,url,img_url,article_no,blob_url)\n",
    "      sl=random.randint(1,5)\n",
    "      print('sleeping :','',sl,'seconds')\n",
    "      time.sleep(sl)\n",
    "      "
   ]
  },
  {
   "cell_type": "code",
   "execution_count": null,
   "metadata": {
    "colab": {},
    "colab_type": "code",
    "id": "qev9lNRe_qDJ"
   },
   "outputs": [],
   "source": [
    "%pylab inline\n",
    "import matplotlib.pyplot as plt\n",
    "import matplotlib.image as mpimg\n",
    "img=mpimg.imread('H&M/0533261001.jpg')\n",
    "imgplot = plt.imshow(img)\n",
    "plt.show()"
   ]
  },
  {
   "cell_type": "code",
   "execution_count": null,
   "metadata": {
    "colab": {},
    "colab_type": "code",
    "id": "8fDI20foyjVY"
   },
   "outputs": [],
   "source": [
    "!ls"
   ]
  },
  {
   "cell_type": "code",
   "execution_count": null,
   "metadata": {
    "colab": {},
    "colab_type": "code",
    "id": "FXCrIWQA1oEL"
   },
   "outputs": [],
   "source": [
    "import pandas as pd\n",
    "df=pd.read_csv(\"H&M.csv\", encoding='utf-8',index_col=False)\n",
    "print(df.count())\n",
    "df.head()"
   ]
  },
  {
   "cell_type": "code",
   "execution_count": null,
   "metadata": {
    "colab": {},
    "colab_type": "code",
    "id": "m5alB9ckzagp"
   },
   "outputs": [],
   "source": [
    "from google.cloud import storage\n",
    "storage_client = storage.Client.from_service_account_json('auth.json')\n",
    "bucket = storage_client.get_bucket('urbankiddo')\n",
    "blob = bucket.blob('H&M/H&M_girl.csv')\n",
    "blob.upload_from_filename('H&M.csv')\n",
    "blob.public_url"
   ]
  }
 ],
 "metadata": {
  "colab": {
   "collapsed_sections": [],
   "name": "H&M.ipynb",
   "provenance": [],
   "version": "0.3.2"
  },
  "kernelspec": {
   "display_name": "Python 3",
   "language": "python",
   "name": "python3"
  },
  "language_info": {
   "codemirror_mode": {
    "name": "ipython",
    "version": 3
   },
   "file_extension": ".py",
   "mimetype": "text/x-python",
   "name": "python",
   "nbconvert_exporter": "python",
   "pygments_lexer": "ipython3",
   "version": "3.5.3"
  }
 },
 "nbformat": 4,
 "nbformat_minor": 2
}

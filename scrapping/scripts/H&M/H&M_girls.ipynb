{
 "cells": [
  {
   "cell_type": "code",
   "execution_count": 1,
   "metadata": {
    "colab": {},
    "colab_type": "code",
    "id": "DGV3AMW_cjzl"
   },
   "outputs": [],
   "source": [
    "import csv\n",
    "\n",
    "f = open(\"H&M_girls.csv\", \"w\", encoding='utf-8')\n",
    "writer = csv.DictWriter(f, fieldnames=[\"name\",\"brand\",\"gender\",\"category\",\"size\",\"price\",\"composition\",\"color\",\"url\",\"img_url\",\"article_no\",\"blob_url\"])\n",
    "writer.writeheader()\n",
    "f.close()\n"
   ]
  },
  {
   "cell_type": "code",
   "execution_count": 2,
   "metadata": {
    "colab": {
     "base_uri": "https://localhost:8080/",
     "height": 289
    },
    "colab_type": "code",
    "id": "4PcNB40jeRXD",
    "outputId": "00d3ac29-b3b3-4686-8e0d-2825837e9a6e"
   },
   "outputs": [
    {
     "name": "stdout",
     "output_type": "stream",
     "text": [
      "--2019-07-19 20:17:20--  https://dl.dropbox.com/s/p1ifzzf2443r05g/urbankiddo-c8528ce11ed0.json\n",
      "Resolving dl.dropbox.com (dl.dropbox.com)... 162.125.8.6, 2620:100:6016:6::a27d:106\n",
      "Connecting to dl.dropbox.com (dl.dropbox.com)|162.125.8.6|:443... connected.\n",
      "HTTP request sent, awaiting response... 302 FOUND\n",
      "Location: https://dl.dropboxusercontent.com/s/p1ifzzf2443r05g/urbankiddo-c8528ce11ed0.json [following]\n",
      "--2019-07-19 20:17:20--  https://dl.dropboxusercontent.com/s/p1ifzzf2443r05g/urbankiddo-c8528ce11ed0.json\n",
      "Resolving dl.dropboxusercontent.com (dl.dropboxusercontent.com)... 162.125.1.6, 2620:100:601b:6::a27d:806\n",
      "Connecting to dl.dropboxusercontent.com (dl.dropboxusercontent.com)|162.125.1.6|:443... connected.\n",
      "HTTP request sent, awaiting response... 200 OK\n",
      "Length: 2315 (2.3K) [text/plain]\n",
      "Saving to: ‘auth.json’\n",
      "\n",
      "auth.json           100%[===================>]   2.26K  --.-KB/s    in 0s      \n",
      "\n",
      "2019-07-19 20:17:20 (35.5 MB/s) - ‘auth.json’ saved [2315/2315]\n",
      "\n"
     ]
    }
   ],
   "source": [
    "!wget -O \"auth.json\" https://dl.dropbox.com/s/p1ifzzf2443r05g/urbankiddo-c8528ce11ed0.json"
   ]
  },
  {
   "cell_type": "code",
   "execution_count": 3,
   "metadata": {
    "colab": {},
    "colab_type": "code",
    "id": "xjRXTpK0clL-"
   },
   "outputs": [],
   "source": [
    "from google.cloud import storage\n",
    "\n",
    "def upload_to_bucket(blob_name, path_to_file):\n",
    "    \"\"\" Upload data to a bucket\"\"\" #doc string in function\n",
    "\n",
    "    # Explicitly use service account credentials by specifying the private key\n",
    "    # file.\n",
    "    storage_client = storage.Client.from_service_account_json(\n",
    "        'auth.json')\n",
    "\n",
    "    #print(buckets = list(storage_client.list_buckets())\n",
    "\n",
    "    bucket = storage_client.get_bucket('urbankiddo')\n",
    "    blob = bucket.blob(blob_name)\n",
    "    blob.upload_from_filename(path_to_file)\n",
    "\n",
    "    #returns a public url\n",
    "    return blob.public_url"
   ]
  },
  {
   "cell_type": "code",
   "execution_count": 4,
   "metadata": {
    "colab": {},
    "colab_type": "code",
    "id": "bwFY_wjyj2g3"
   },
   "outputs": [
    {
     "name": "stdout",
     "output_type": "stream",
     "text": [
      "Requirement already satisfied: BeautifulSoup4 in ./.local/lib/python3.5/site-packages\n",
      "Requirement already satisfied: soupsieve>=1.2 in ./.local/lib/python3.5/site-packages (from BeautifulSoup4)\n",
      "Note: you may need to restart the kernel to use updated packages.\n"
     ]
    }
   ],
   "source": [
    "pip install BeautifulSoup4"
   ]
  },
  {
   "cell_type": "code",
   "execution_count": 5,
   "metadata": {
    "colab": {},
    "colab_type": "code",
    "id": "QK3-2QIzcoOU"
   },
   "outputs": [],
   "source": [
    "import requests\n",
    "\n",
    "ur=\"https://www2.hm.com/sv_se/barn/produkter/flicka-8-14-ar-134-170.html\"\n",
    "headers = {'User-Agent': 'Mozilla/5.0 (Macintosh; Intel Mac OS X 10_11_5) AppleWebKit/537.36 (KHTML, like Gecko) Chrome/50.0.2661.102 Safari/537.36'}\n",
    "\n",
    "\n",
    "r=requests.get(ur, headers=headers)\n",
    "html_doc=r.content.decode()\n",
    "from bs4 import BeautifulSoup\n",
    "soup = BeautifulSoup(html_doc, 'html.parser')"
   ]
  },
  {
   "cell_type": "code",
   "execution_count": 6,
   "metadata": {
    "colab": {},
    "colab_type": "code",
    "id": "0xh08ysPczY0"
   },
   "outputs": [],
   "source": [
    "filters=soup.find_all(\"div\", attrs={ \"id\" :\"drawer-productTypes\"})\n",
    "soup2 = BeautifulSoup(str(filters), 'html.parser')\n",
    "#print(soup.prettify())\n",
    "pr=[]\n",
    "cnt=[]\n",
    "prods=soup2.find_all(\"li\", attrs={ \"class\" :\"inputwrapper level-list-item\"}) #loop\n",
    "for subc in prods:\n",
    "    pr.append(subc.find(\"span\",attrs={ \"class\" :\"text\"}).text)\n",
    "    cnt.append(subc.find(\"span\",attrs={ \"class\" :\"item-count\"}).text)"
   ]
  },
  {
   "cell_type": "code",
   "execution_count": 7,
   "metadata": {
    "colab": {
     "base_uri": "https://localhost:8080/",
     "height": 544
    },
    "colab_type": "code",
    "id": "npIyMfR_dSS_",
    "outputId": "be8ebd7d-cab5-4c07-ff85-99d19d4f3024"
   },
   "outputs": [
    {
     "data": {
      "text/plain": [
       "[('armband', '1'),\n",
       " ('baddräkt', '2'),\n",
       " ('benvärmare', '3'),\n",
       " ('bikinitopp', '3'),\n",
       " ('bikinitrosa', '3'),\n",
       " ('blus', '22'),\n",
       " ('bolero', '4'),\n",
       " ('byxor', '41'),\n",
       " ('cardigan', '19'),\n",
       " ('diadem', '17'),\n",
       " ('dräkt', '2'),\n",
       " ('halsband', '2'),\n",
       " ('halsduk', '8'),\n",
       " ('handskar', '1'),\n",
       " ('hatt', '3'),\n",
       " ('hårband', '5'),\n",
       " ('hårdekoration', '2'),\n",
       " ('hårsnodd', '9'),\n",
       " ('hårspänne', '6'),\n",
       " ('hörlurar', '2'),\n",
       " ('jacka', '32'),\n",
       " ('jeans', '55'),\n",
       " ('jumpsuit', '11'),\n",
       " ('kavaj', '1'),\n",
       " ('keps', '18'),\n",
       " ('kjol', '7'),\n",
       " ('klänning', '47'),\n",
       " ('leggings', '100'),\n",
       " ('leksak', '1'),\n",
       " ('läppbalsam', '3'),\n",
       " ('maskeradaccessoar', '6'),\n",
       " ('morgonrock', '1'),\n",
       " ('mössa', '16'),\n",
       " ('nagellack', '1'),\n",
       " ('nattlinne', '4'),\n",
       " ('pennfodral', '1'),\n",
       " ('poncho', '1'),\n",
       " ('pyjamas', '56'),\n",
       " ('scarf', '2'),\n",
       " ('shorts', '29'),\n",
       " ('simglasögon', '1'),\n",
       " ('skjorta', '14'),\n",
       " ('skor', '39'),\n",
       " ('stickad tröja', '22'),\n",
       " ('strumpbyxor', '8'),\n",
       " ('strumpor', '28'),\n",
       " ('t-shirt', '65'),\n",
       " ('tofflor', '1'),\n",
       " ('topp', '199'),\n",
       " ('trosa', '15'),\n",
       " ('tröja', '117'),\n",
       " ('tunika', '3'),\n",
       " ('vantar', '2'),\n",
       " ('väska', '13'),\n",
       " ('väst', '3'),\n",
       " ('ögonmask', '3')]"
      ]
     },
     "execution_count": 7,
     "metadata": {},
     "output_type": "execute_result"
    }
   ],
   "source": [
    "list(zip(pr,cnt))"
   ]
  },
  {
   "cell_type": "code",
   "execution_count": 8,
   "metadata": {
    "colab": {
     "base_uri": "https://localhost:8080/",
     "height": 34
    },
    "colab_type": "code",
    "id": "OCV8es6enzb2",
    "outputId": "01528d57-5352-4fb8-f58d-9647c9f05d6b"
   },
   "outputs": [
    {
     "name": "stdout",
     "output_type": "stream",
     "text": [
      "mkdir: cannot create directory ‘H&M’: File exists\n"
     ]
    }
   ],
   "source": [
    "!mkdir 'H&M' && ls"
   ]
  },
  {
   "cell_type": "code",
   "execution_count": null,
   "metadata": {
    "colab": {
     "base_uri": "https://localhost:8080/",
     "height": 34
    },
    "colab_type": "code",
    "id": "Hz5I8DZtxclI",
    "outputId": "fa731df7-1b8d-47df-e982-f95ead23ee90"
   },
   "outputs": [],
   "source": []
  },
  {
   "cell_type": "code",
   "execution_count": null,
   "metadata": {},
   "outputs": [],
   "source": []
  },
  {
   "cell_type": "code",
   "execution_count": null,
   "metadata": {
    "colab": {
     "base_uri": "https://localhost:8080/",
     "height": 1000
    },
    "colab_type": "code",
    "id": "mm4Jud6qdVtg",
    "outputId": "50ec29fb-0ce3-4862-d7e3-87abdb5dfead"
   },
   "outputs": [
    {
     "name": "stdout",
     "output_type": "stream",
     "text": [
      "https://www2.hm.com/sv_se/barn/produkter/flicka-8-14-ar-134-170.html?productTypes=armband&page-size=1\n",
      "1\n",
      "https://www2.hm.com/sv_se/barn/produkter/flicka-8-14-ar-134-170.html?productTypes=baddräkt&page-size=2\n",
      "2\n",
      "https://www2.hm.com/sv_se/barn/produkter/flicka-8-14-ar-134-170.html?productTypes=benvärmare&page-size=3\n",
      "3\n",
      "https://www2.hm.com/sv_se/barn/produkter/flicka-8-14-ar-134-170.html?productTypes=bikinitopp&page-size=3\n",
      "3\n",
      "https://www2.hm.com/sv_se/barn/produkter/flicka-8-14-ar-134-170.html?productTypes=bikinitrosa&page-size=3\n",
      "3\n",
      "https://www2.hm.com/sv_se/barn/produkter/flicka-8-14-ar-134-170.html?productTypes=blus&page-size=22\n",
      "22\n",
      "https://www2.hm.com/sv_se/barn/produkter/flicka-8-14-ar-134-170.html?productTypes=bolero&page-size=4\n",
      "4\n",
      "https://www2.hm.com/sv_se/barn/produkter/flicka-8-14-ar-134-170.html?productTypes=byxor&page-size=41\n",
      "41\n",
      "https://www2.hm.com/sv_se/barn/produkter/flicka-8-14-ar-134-170.html?productTypes=cardigan&page-size=19\n",
      "19\n",
      "https://www2.hm.com/sv_se/barn/produkter/flicka-8-14-ar-134-170.html?productTypes=diadem&page-size=17\n",
      "17\n",
      "https://www2.hm.com/sv_se/barn/produkter/flicka-8-14-ar-134-170.html?productTypes=dräkt&page-size=2\n",
      "2\n",
      "https://www2.hm.com/sv_se/barn/produkter/flicka-8-14-ar-134-170.html?productTypes=halsband&page-size=2\n",
      "2\n",
      "https://www2.hm.com/sv_se/barn/produkter/flicka-8-14-ar-134-170.html?productTypes=halsduk&page-size=8\n",
      "8\n",
      "https://www2.hm.com/sv_se/barn/produkter/flicka-8-14-ar-134-170.html?productTypes=handskar&page-size=1\n",
      "1\n",
      "https://www2.hm.com/sv_se/barn/produkter/flicka-8-14-ar-134-170.html?productTypes=hatt&page-size=3\n",
      "3\n",
      "https://www2.hm.com/sv_se/barn/produkter/flicka-8-14-ar-134-170.html?productTypes=hårband&page-size=5\n",
      "5\n",
      "https://www2.hm.com/sv_se/barn/produkter/flicka-8-14-ar-134-170.html?productTypes=hårdekoration&page-size=2\n",
      "2\n",
      "https://www2.hm.com/sv_se/barn/produkter/flicka-8-14-ar-134-170.html?productTypes=hårsnodd&page-size=9\n",
      "9\n",
      "https://www2.hm.com/sv_se/barn/produkter/flicka-8-14-ar-134-170.html?productTypes=hårspänne&page-size=6\n",
      "6\n",
      "https://www2.hm.com/sv_se/barn/produkter/flicka-8-14-ar-134-170.html?productTypes=hörlurar&page-size=2\n",
      "2\n",
      "https://www2.hm.com/sv_se/barn/produkter/flicka-8-14-ar-134-170.html?productTypes=jacka&page-size=32\n",
      "32\n",
      "https://www2.hm.com/sv_se/barn/produkter/flicka-8-14-ar-134-170.html?productTypes=jeans&page-size=55\n",
      "55\n",
      "https://www2.hm.com/sv_se/barn/produkter/flicka-8-14-ar-134-170.html?productTypes=jumpsuit&page-size=11\n",
      "11\n",
      "https://www2.hm.com/sv_se/barn/produkter/flicka-8-14-ar-134-170.html?productTypes=kavaj&page-size=1\n",
      "1\n",
      "https://www2.hm.com/sv_se/barn/produkter/flicka-8-14-ar-134-170.html?productTypes=keps&page-size=18\n",
      "18\n",
      "https://www2.hm.com/sv_se/barn/produkter/flicka-8-14-ar-134-170.html?productTypes=kjol&page-size=7\n",
      "7\n",
      "https://www2.hm.com/sv_se/barn/produkter/flicka-8-14-ar-134-170.html?productTypes=klänning&page-size=47\n",
      "47\n",
      "https://www2.hm.com/sv_se/barn/produkter/flicka-8-14-ar-134-170.html?productTypes=leggings&page-size=100\n",
      "100\n",
      "https://www2.hm.com/sv_se/barn/produkter/flicka-8-14-ar-134-170.html?productTypes=leksak&page-size=1\n",
      "1\n",
      "https://www2.hm.com/sv_se/barn/produkter/flicka-8-14-ar-134-170.html?productTypes=läppbalsam&page-size=3\n",
      "3\n",
      "https://www2.hm.com/sv_se/barn/produkter/flicka-8-14-ar-134-170.html?productTypes=maskeradaccessoar&page-size=6\n",
      "6\n",
      "https://www2.hm.com/sv_se/barn/produkter/flicka-8-14-ar-134-170.html?productTypes=morgonrock&page-size=1\n",
      "1\n",
      "https://www2.hm.com/sv_se/barn/produkter/flicka-8-14-ar-134-170.html?productTypes=mössa&page-size=16\n",
      "16\n",
      "https://www2.hm.com/sv_se/barn/produkter/flicka-8-14-ar-134-170.html?productTypes=nagellack&page-size=1\n",
      "1\n",
      "https://www2.hm.com/sv_se/barn/produkter/flicka-8-14-ar-134-170.html?productTypes=nattlinne&page-size=4\n",
      "4\n",
      "https://www2.hm.com/sv_se/barn/produkter/flicka-8-14-ar-134-170.html?productTypes=pennfodral&page-size=1\n",
      "1\n",
      "https://www2.hm.com/sv_se/barn/produkter/flicka-8-14-ar-134-170.html?productTypes=poncho&page-size=1\n",
      "1\n",
      "https://www2.hm.com/sv_se/barn/produkter/flicka-8-14-ar-134-170.html?productTypes=pyjamas&page-size=56\n",
      "56\n",
      "https://www2.hm.com/sv_se/barn/produkter/flicka-8-14-ar-134-170.html?productTypes=scarf&page-size=2\n",
      "2\n",
      "https://www2.hm.com/sv_se/barn/produkter/flicka-8-14-ar-134-170.html?productTypes=shorts&page-size=29\n",
      "29\n",
      "https://www2.hm.com/sv_se/barn/produkter/flicka-8-14-ar-134-170.html?productTypes=simglasögon&page-size=1\n",
      "1\n",
      "https://www2.hm.com/sv_se/barn/produkter/flicka-8-14-ar-134-170.html?productTypes=skjorta&page-size=14\n",
      "14\n",
      "https://www2.hm.com/sv_se/barn/produkter/flicka-8-14-ar-134-170.html?productTypes=skor&page-size=39\n",
      "39\n",
      "https://www2.hm.com/sv_se/barn/produkter/flicka-8-14-ar-134-170.html?productTypes=stickad+tröja&page-size=22\n",
      "22\n",
      "https://www2.hm.com/sv_se/barn/produkter/flicka-8-14-ar-134-170.html?productTypes=strumpbyxor&page-size=8\n",
      "8\n",
      "https://www2.hm.com/sv_se/barn/produkter/flicka-8-14-ar-134-170.html?productTypes=strumpor&page-size=28\n",
      "28\n",
      "https://www2.hm.com/sv_se/barn/produkter/flicka-8-14-ar-134-170.html?productTypes=t-shirt&page-size=65\n",
      "65\n"
     ]
    }
   ],
   "source": [
    "import urllib.request as req\n",
    "import time\n",
    "import random\n",
    "\n",
    "base=str(\"https://www2.hm.com\")\n",
    "brand='H&M'\n",
    "gender='girl'\n",
    "size='134-170'\n",
    "\n",
    "for p,c in zip(pr,cnt):\n",
    "    try:\n",
    "        category=p\n",
    "        p=p.replace(' ','+')\n",
    "        url2=ur+str('?productTypes=')+p+str('&page-size=')+c\n",
    "        print(url2)\n",
    "        s=requests.get(url2,headers=headers)\n",
    "        html_doc2=s.content.decode()\n",
    "        soup2 = BeautifulSoup(html_doc2, 'html.parser')\n",
    "        products=soup2.find_all(\"div\", attrs={ \"class\" :\"image-container\"})\n",
    "        print(len(products))\n",
    "\n",
    "        for product in products:\n",
    "            ext=product.a['href']\n",
    "            name=product.a[\"title\"]\n",
    "            url3=base+ext\n",
    "            p=requests.get(url3,headers=headers)\n",
    "            html_doc3=p.content.decode()\n",
    "            soup3 = BeautifulSoup(html_doc3, 'html.parser')\n",
    "            sub_product=soup3.find(\"div\", attrs={ \"class\" :\"mini-slider\"})\n",
    "            html_doc4=str(sub_product)\n",
    "            soup4=BeautifulSoup(html_doc4, 'html.parser')\n",
    "            spa=soup4.find_all(\"li\", attrs={ \"class\" :\"list-item\"})\n",
    "            for sp in spa:        \n",
    "                ext2=sp.a['href']\n",
    "                color=sp.a['title']\n",
    "                url5=base+ext2\n",
    "                spr=requests.get(url5,headers=headers)\n",
    "                html_doc5=spr.content.decode()\n",
    "                soup5 = BeautifulSoup(html_doc5, 'html.parser')\n",
    "\n",
    "                iu=soup5.find(\"figure\", attrs={ \"class\" :\"pdp-image product-detail-images product-detail-main-image\"})\n",
    "                img_url=iu.div.img['src']\n",
    "                desc=soup5.find(\"section\", attrs={ \"class\" :\"name-price\"})\n",
    "                price=desc.span.text.strip()\n",
    "                qy=soup5.find(\"div\", attrs={ \"class\" :\"js-before-secondary-images\"})\n",
    "                composition=qy.div.ul.li.ul.li.text      \n",
    "                a=ext2\n",
    "                article_no=a.lstrip('/sv_se/productpage.').rstrip('.html')\n",
    "                url=url5\n",
    "\n",
    "                img_url = \"https:\" + img_url\n",
    "                img_url=img_url.replace(' ','+')\n",
    "                ac='H&M'+'/'+article_no+str('.jpg')\n",
    "                req.urlretrieve(img_url,ac)\n",
    "\n",
    "                blob_name=str('H&M')+str('/')+str(article_no)\n",
    "                path_to_file='H&M/'+article_no+str('.jpg')\n",
    "                blob_url=upload_to_bucket(blob_name, path_to_file)\n",
    "                with open(\"H&M_girls.csv\", \"a\", encoding='utf-8') as f:\n",
    "                          writer = csv.writer(f)\n",
    "                          writer.writerow([name,brand,gender,category,size,price,composition,color,url,img_url,article_no,blob_url])\n",
    "    except:\n",
    "        continue\n",
    "    \n",
    "\n"
   ]
  },
  {
   "cell_type": "code",
   "execution_count": null,
   "metadata": {
    "colab": {},
    "colab_type": "code",
    "id": "qev9lNRe_qDJ"
   },
   "outputs": [],
   "source": []
  },
  {
   "cell_type": "code",
   "execution_count": 13,
   "metadata": {
    "colab": {},
    "colab_type": "code",
    "id": "8fDI20foyjVY"
   },
   "outputs": [
    {
     "name": "stdout",
     "output_type": "stream",
     "text": [
      "auth.json\t    H&M-baby-girl.ipynb  H&M.csv\t  H&M.ipynb\n",
      "H&M\t\t    H&M_boy.csv\t\t H&M_girl.csv\t  tutorials\n",
      "H&M_baby_boy.csv    H&M_boy.ipynb\t H&M_girl.ipynb   zara.ipynb\n",
      "H&M_baby_boy.ipynb  H&M_boys.csv\t H&M_girls.csv\n",
      "H&M_baby_girl.csv   H&M_boys.ipynb\t H&M_girls.ipynb\n"
     ]
    }
   ],
   "source": [
    "!ls"
   ]
  },
  {
   "cell_type": "code",
   "execution_count": 14,
   "metadata": {
    "colab": {},
    "colab_type": "code",
    "id": "FXCrIWQA1oEL"
   },
   "outputs": [
    {
     "name": "stdout",
     "output_type": "stream",
     "text": [
      "name           5477\n",
      "brand          5477\n",
      "gender         5477\n",
      "category       5477\n",
      "size           5477\n",
      "price          5477\n",
      "composition    5477\n",
      "color          5477\n",
      "url            5477\n",
      "img_url        5477\n",
      "article_no     5477\n",
      "blob_url       5477\n",
      "dtype: int64\n"
     ]
    },
    {
     "data": {
      "text/html": [
       "<div>\n",
       "<style scoped>\n",
       "    .dataframe tbody tr th:only-of-type {\n",
       "        vertical-align: middle;\n",
       "    }\n",
       "\n",
       "    .dataframe tbody tr th {\n",
       "        vertical-align: top;\n",
       "    }\n",
       "\n",
       "    .dataframe thead th {\n",
       "        text-align: right;\n",
       "    }\n",
       "</style>\n",
       "<table border=\"1\" class=\"dataframe\">\n",
       "  <thead>\n",
       "    <tr style=\"text-align: right;\">\n",
       "      <th></th>\n",
       "      <th>name</th>\n",
       "      <th>brand</th>\n",
       "      <th>gender</th>\n",
       "      <th>category</th>\n",
       "      <th>size</th>\n",
       "      <th>price</th>\n",
       "      <th>composition</th>\n",
       "      <th>color</th>\n",
       "      <th>url</th>\n",
       "      <th>img_url</th>\n",
       "      <th>article_no</th>\n",
       "      <th>blob_url</th>\n",
       "    </tr>\n",
       "  </thead>\n",
       "  <tbody>\n",
       "    <tr>\n",
       "      <th>0</th>\n",
       "      <td>2-pack armband</td>\n",
       "      <td>H&amp;M</td>\n",
       "      <td>girl</td>\n",
       "      <td>armband</td>\n",
       "      <td>134-170</td>\n",
       "      <td>39,90 kr.</td>\n",
       "      <td>Polyester 60%, Järn 40%</td>\n",
       "      <td>Rosa/Mönstrad</td>\n",
       "      <td>https://www2.hm.com/sv_se/productpage.07282390...</td>\n",
       "      <td>https://lp2.hm.com/hmgoepprod?set=source[/41/2...</td>\n",
       "      <td>728239001</td>\n",
       "      <td>https://storage.googleapis.com/urbankiddo/H%26...</td>\n",
       "    </tr>\n",
       "    <tr>\n",
       "      <th>1</th>\n",
       "      <td>2-pack baddräkt</td>\n",
       "      <td>H&amp;M</td>\n",
       "      <td>girl</td>\n",
       "      <td>baddräkt</td>\n",
       "      <td>134-170</td>\n",
       "      <td>179,00 kr.</td>\n",
       "      <td>Foder: Polyester 100%</td>\n",
       "      <td>Mörkblå/Stjärnor</td>\n",
       "      <td>https://www2.hm.com/sv_se/productpage.07447650...</td>\n",
       "      <td>https://lp2.hm.com/hmgoepprod?set=source[/6a/1...</td>\n",
       "      <td>744765002</td>\n",
       "      <td>https://storage.googleapis.com/urbankiddo/H%26...</td>\n",
       "    </tr>\n",
       "    <tr>\n",
       "      <th>2</th>\n",
       "      <td>Baddräkt med tryck</td>\n",
       "      <td>H&amp;M</td>\n",
       "      <td>girl</td>\n",
       "      <td>baddräkt</td>\n",
       "      <td>134-170</td>\n",
       "      <td>149,00 kr.</td>\n",
       "      <td>Foder: Polyester 100%</td>\n",
       "      <td>Rosa/Hello summer</td>\n",
       "      <td>https://www2.hm.com/sv_se/productpage.07447640...</td>\n",
       "      <td>https://lp2.hm.com/hmgoepprod?set=source[/45/7...</td>\n",
       "      <td>744764001</td>\n",
       "      <td>https://storage.googleapis.com/urbankiddo/H%26...</td>\n",
       "    </tr>\n",
       "    <tr>\n",
       "      <th>3</th>\n",
       "      <td>Baddräkt med tryck</td>\n",
       "      <td>H&amp;M</td>\n",
       "      <td>girl</td>\n",
       "      <td>baddräkt</td>\n",
       "      <td>134-170</td>\n",
       "      <td>69,90 kr.</td>\n",
       "      <td>Foder: Polyester 100%</td>\n",
       "      <td>Turkos/Mönstrad</td>\n",
       "      <td>https://www2.hm.com/sv_se/productpage.07447640...</td>\n",
       "      <td>https://lp2.hm.com/hmgoepprod?set=source[/73/b...</td>\n",
       "      <td>744764002</td>\n",
       "      <td>https://storage.googleapis.com/urbankiddo/H%26...</td>\n",
       "    </tr>\n",
       "    <tr>\n",
       "      <th>4</th>\n",
       "      <td>Benvärmare</td>\n",
       "      <td>H&amp;M</td>\n",
       "      <td>girl</td>\n",
       "      <td>benvärmare</td>\n",
       "      <td>134-170</td>\n",
       "      <td>79,90 kr.</td>\n",
       "      <td>Akryl 83%, Polyamid 16%, Polyester 1%</td>\n",
       "      <td>Ljus gråmelerad</td>\n",
       "      <td>https://www2.hm.com/sv_se/productpage.07054670...</td>\n",
       "      <td>https://lp2.hm.com/hmgoepprod?set=source[/7b/4...</td>\n",
       "      <td>705467003</td>\n",
       "      <td>https://storage.googleapis.com/urbankiddo/H%26...</td>\n",
       "    </tr>\n",
       "  </tbody>\n",
       "</table>\n",
       "</div>"
      ],
      "text/plain": [
       "                 name brand gender    category     size       price  \\\n",
       "0      2-pack armband   H&M   girl     armband  134-170   39,90 kr.   \n",
       "1     2-pack baddräkt   H&M   girl    baddräkt  134-170  179,00 kr.   \n",
       "2  Baddräkt med tryck   H&M   girl    baddräkt  134-170  149,00 kr.   \n",
       "3  Baddräkt med tryck   H&M   girl    baddräkt  134-170   69,90 kr.   \n",
       "4          Benvärmare   H&M   girl  benvärmare  134-170   79,90 kr.   \n",
       "\n",
       "                             composition              color  \\\n",
       "0                Polyester 60%, Järn 40%      Rosa/Mönstrad   \n",
       "1                  Foder: Polyester 100%   Mörkblå/Stjärnor   \n",
       "2                  Foder: Polyester 100%  Rosa/Hello summer   \n",
       "3                  Foder: Polyester 100%    Turkos/Mönstrad   \n",
       "4  Akryl 83%, Polyamid 16%, Polyester 1%    Ljus gråmelerad   \n",
       "\n",
       "                                                 url  \\\n",
       "0  https://www2.hm.com/sv_se/productpage.07282390...   \n",
       "1  https://www2.hm.com/sv_se/productpage.07447650...   \n",
       "2  https://www2.hm.com/sv_se/productpage.07447640...   \n",
       "3  https://www2.hm.com/sv_se/productpage.07447640...   \n",
       "4  https://www2.hm.com/sv_se/productpage.07054670...   \n",
       "\n",
       "                                             img_url  article_no  \\\n",
       "0  https://lp2.hm.com/hmgoepprod?set=source[/41/2...   728239001   \n",
       "1  https://lp2.hm.com/hmgoepprod?set=source[/6a/1...   744765002   \n",
       "2  https://lp2.hm.com/hmgoepprod?set=source[/45/7...   744764001   \n",
       "3  https://lp2.hm.com/hmgoepprod?set=source[/73/b...   744764002   \n",
       "4  https://lp2.hm.com/hmgoepprod?set=source[/7b/4...   705467003   \n",
       "\n",
       "                                            blob_url  \n",
       "0  https://storage.googleapis.com/urbankiddo/H%26...  \n",
       "1  https://storage.googleapis.com/urbankiddo/H%26...  \n",
       "2  https://storage.googleapis.com/urbankiddo/H%26...  \n",
       "3  https://storage.googleapis.com/urbankiddo/H%26...  \n",
       "4  https://storage.googleapis.com/urbankiddo/H%26...  "
      ]
     },
     "execution_count": 14,
     "metadata": {},
     "output_type": "execute_result"
    }
   ],
   "source": [
    "import pandas as pd\n",
    "df=pd.read_csv(\"H&M_girls.csv\", encoding='utf-8',index_col=False)\n",
    "print(df.count())\n",
    "df.head()"
   ]
  },
  {
   "cell_type": "code",
   "execution_count": 15,
   "metadata": {
    "colab": {},
    "colab_type": "code",
    "id": "m5alB9ckzagp"
   },
   "outputs": [
    {
     "data": {
      "text/plain": [
       "'https://storage.googleapis.com/urbankiddo/H%26M/H%26M_girls.csv'"
      ]
     },
     "execution_count": 15,
     "metadata": {},
     "output_type": "execute_result"
    }
   ],
   "source": [
    "from google.cloud import storage\n",
    "storage_client = storage.Client.from_service_account_json('auth.json')\n",
    "bucket = storage_client.get_bucket('urbankiddo')\n",
    "blob = bucket.blob('H&M/H&M_girls.csv')\n",
    "blob.upload_from_filename('H&M_girls.csv')\n",
    "blob.public_url"
   ]
  },
  {
   "cell_type": "code",
   "execution_count": null,
   "metadata": {},
   "outputs": [],
   "source": []
  }
 ],
 "metadata": {
  "colab": {
   "collapsed_sections": [],
   "name": "H&M.ipynb",
   "provenance": [],
   "version": "0.3.2"
  },
  "kernelspec": {
   "display_name": "Python 3",
   "language": "python",
   "name": "python3"
  },
  "language_info": {
   "codemirror_mode": {
    "name": "ipython",
    "version": 3
   },
   "file_extension": ".py",
   "mimetype": "text/x-python",
   "name": "python",
   "nbconvert_exporter": "python",
   "pygments_lexer": "ipython3",
   "version": "3.5.3"
  }
 },
 "nbformat": 4,
 "nbformat_minor": 2
}

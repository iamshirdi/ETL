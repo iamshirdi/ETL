{
 "cells": [
  {
   "cell_type": "code",
   "execution_count": 8,
   "metadata": {},
   "outputs": [],
   "source": [
    "catelog = {\n",
    "  \"categorys\": (\n",
    "#       \"BODIES & SPARKDRÄKTER\",\"BADBYXOR\",\"BADDRÄKTER\",\"UV-KLÄDER\",\"byxor\",\"jeans\",\"shorts\",\"skirts\",\"dresses\",\"costumes\",\"pyjamas\",\"kardagins\",\n",
    "#                 \"tops\",\"sweaters\",\"underpants\",\"leggings\",\"socks\",\"panties\",\"jackets\",\n",
    "      \"overall\",\"rainwear\"),\n",
    "\n",
    "   \"sub_urls\": (\n",
    "#     \"https://cdon.se/klader/barn/bodies-sparkdrakter/\",\n",
    "#                \"https://cdon.se/klader/barn/badklader/badbyxor/\",\n",
    "#                \"https://cdon.se/klader/barn/badklader/baddrakter/\",\n",
    "#                \"https://cdon.se/klader/barn/badklader/uv-klader/\",\"https://cdon.se/klader/barn/byxor/byxor/\",\n",
    "#                \"https://cdon.se/klader/barn/byxor/jeans/\",\"https://cdon.se/klader/barn/byxor/shorts/\",\n",
    "#                \"https://cdon.se/klader/barn/klanningar-kjolar/kjolar/\",\n",
    "#                \"https://cdon.se/klader/barn/klanningar-kjolar/klanningar/\",\"https://cdon.se/klader/barn/kostymer/\",\n",
    "#                \"https://cdon.se/klader/barn/pyjamas/\",\"https://cdon.se/klader/barn/trojor-koftor/koftor/\",\n",
    "#                \"https://cdon.se/klader/barn/trojor-koftor/t-shirt-toppar/\",\"https://cdon.se/klader/barn/trojor-koftor/trojor/\",\n",
    "#                \"https://cdon.se/klader/barn/underklader/kalsonger/\",\"https://cdon.se/klader/barn/underklader/strumpbyxor/\",\n",
    "#                \"https://cdon.se/klader/barn/underklader/strumpbyxor/\",\"https://cdon.se/klader/barn/underklader/strumpor/\",\n",
    "#                \"https://cdon.se/klader/barn/underklader/trosor/\",\"https://cdon.se/klader/barn/ytterplagg/jackor/\",\n",
    "               \"https://cdon.se/klader/barn/ytterplagg/overall/\",\"https://cdon.se/klader/barn/ytterplagg/regnklader/\"\n",
    "              )\n",
    "  }"
   ]
  },
  {
   "cell_type": "code",
   "execution_count": 2,
   "metadata": {},
   "outputs": [
    {
     "data": {
      "text/plain": [
       "'BODIES & SPARKDRÄKTER'"
      ]
     },
     "execution_count": 2,
     "metadata": {},
     "output_type": "execute_result"
    }
   ],
   "source": [
    "catelog[\"categorys\"][0]"
   ]
  },
  {
   "cell_type": "code",
   "execution_count": 7,
   "metadata": {},
   "outputs": [
    {
     "data": {
      "text/plain": [
       "21"
      ]
     },
     "execution_count": 7,
     "metadata": {},
     "output_type": "execute_result"
    }
   ],
   "source": [
    "len(catelog[\"categorys\"])"
   ]
  },
  {
   "cell_type": "code",
   "execution_count": 3,
   "metadata": {},
   "outputs": [
    {
     "data": {
      "text/html": [
       "<div>\n",
       "<style scoped>\n",
       "    .dataframe tbody tr th:only-of-type {\n",
       "        vertical-align: middle;\n",
       "    }\n",
       "\n",
       "    .dataframe tbody tr th {\n",
       "        vertical-align: top;\n",
       "    }\n",
       "\n",
       "    .dataframe thead th {\n",
       "        text-align: right;\n",
       "    }\n",
       "</style>\n",
       "<table border=\"1\" class=\"dataframe\">\n",
       "  <thead>\n",
       "    <tr style=\"text-align: right;\">\n",
       "      <th></th>\n",
       "      <th>name</th>\n",
       "      <th>brand</th>\n",
       "      <th>gender</th>\n",
       "      <th>category</th>\n",
       "      <th>size</th>\n",
       "      <th>price</th>\n",
       "      <th>color</th>\n",
       "      <th>url</th>\n",
       "      <th>img_url</th>\n",
       "      <th>article_no</th>\n",
       "    </tr>\n",
       "  </thead>\n",
       "  <tbody>\n",
       "  </tbody>\n",
       "</table>\n",
       "</div>"
      ],
      "text/plain": [
       "Empty DataFrame\n",
       "Columns: [name, brand, gender, category, size, price, color, url, img_url, article_no]\n",
       "Index: []"
      ]
     },
     "execution_count": 3,
     "metadata": {},
     "output_type": "execute_result"
    }
   ],
   "source": [
    "import csv\n",
    "\n",
    "\n",
    "f = open(\"cdon.csv\", \"w\", encoding='utf-8')\n",
    "writer = csv.DictWriter(f, fieldnames=[\"name\",\"brand\",\"gender\",\"category\",\"size\",\"price\",\"color\",\"url\",\"img_url\",\"article_no\"])\n",
    "writer.writeheader()\n",
    "f.close()\n",
    "\n",
    "import pandas as pd\n",
    "df=pd.read_csv(\"cdon.csv\", encoding='utf-8')\n",
    "df.head()"
   ]
  },
  {
   "cell_type": "code",
   "execution_count": 4,
   "metadata": {},
   "outputs": [
    {
     "name": "stdout",
     "output_type": "stream",
     "text": [
      "mkdir: cannot create directory ‘cdon’: File exists\n"
     ]
    }
   ],
   "source": [
    "!mkdir cdon"
   ]
  },
  {
   "cell_type": "code",
   "execution_count": 9,
   "metadata": {},
   "outputs": [],
   "source": [
    "import requests\n",
    "headers = {'user-agent': 'Mozilla/5.0 (Windows NT 10.0; Win64; x64) AppleWebKit/537.36 (KHTML, like Gecko) Chrome/76.0.3809.62 Safari/537.36'}\n",
    "from bs4 import BeautifulSoup\n",
    "import urllib.request\n",
    "import csv\n",
    "\n",
    "def scrapper(brand='cdon',color='None',gender='unisex'):\n",
    "    for c in range(len(catelog['sub_urls'])):\n",
    "        urls=catelog['sub_urls'][c]\n",
    "        category=catelog['categorys'][c]\n",
    "        p=requests.get(urls, headers=headers)\n",
    "        html_doc=p.content.decode()\n",
    "        soup = BeautifulSoup(html_doc, 'html.parser')\n",
    "        \n",
    "        pages=soup.find(\"ul\",attrs={\"class\":\"pagination\"})\n",
    "        page=[urls]\n",
    "        try:\n",
    "            for p in pages.find_all(\"a\"):\n",
    "                if urls+p[\"href\"] not in page:\n",
    "                    page.append(urls+p[\"href\"])\n",
    "        except:\n",
    "            pass\n",
    "        \n",
    "        for ip in page:\n",
    "            print(ip)\n",
    "            q=requests.get(ip, headers=headers)\n",
    "            html_doc2=q.content.decode()\n",
    "            soup2 = BeautifulSoup(html_doc2, 'html.parser')\n",
    "        \n",
    "\n",
    "            main_products=soup2.find(\"ul\",attrs={\"class\":\"product-list medium column-count-4 hoverable\"})\n",
    "            products=main_products.find_all(\"article\", attrs={ \"class\" :\"product product-info\"})\n",
    "            print(len(products))\n",
    "            \n",
    "            for p in products:\n",
    "                \n",
    "                try:\n",
    "                    article_no=p.select_one('.product-id')['value'] #css selector\n",
    "                    name=p.select_one('.full-title')['value']\n",
    "                    url='https://cdon.se'+p.a['href']\n",
    "                    price=soup.find(\"div\", attrs={ \"class\" :\"product-price-wrapper\"}).text.strip()\n",
    "    #                 print(article_no,name,url,price)\n",
    "\n",
    "                    s=requests.get(url, headers=headers)\n",
    "                    html_doc4=s.content.decode()\n",
    "                    soup4 = BeautifulSoup(html_doc4, 'html.parser')\n",
    "                    description=soup4.find(\"div\",attrs={\"id\":\"facts-data-tab\"})\n",
    "                    tr=description.find_all(\"tr\")\n",
    "                    for t in tr:\n",
    "                        if t.th.text=='Varumärke':\n",
    "                            brand=t.td.text\n",
    "                        if t.th.text=='Färg':\n",
    "                            color=t.td.text\n",
    "                        if t.th.text=='Kön':\n",
    "                            gender=t.td.text\n",
    "                    img_url=soup4.find(\"div\",attrs={\"class\":\"product-image-container\"}).find(\"a\")['href']\n",
    "                    #print(brand,color,img_url)\n",
    "\n",
    "\n",
    "                    ac='cdon'+'/'+article_no+str('.jpg')\n",
    "                    opener = urllib.request.URLopener()\n",
    "                    opener.addheader('User-Agent', 'whatever')\n",
    "                    filename, headers2 = opener.retrieve(img_url, ac)\n",
    "                    c=0\n",
    "                    for ij in soup4.find(\"select\",attrs={\"class\":\"variation-items-select-box\"}).find_all(\"option\"):\n",
    "                        if c>0:\n",
    "                            size=ij.text.strip()\n",
    "    #                         print(size)\n",
    "                            with open(\"cdon.csv\", \"a\", encoding='utf-8') as f:\n",
    "                                writer = csv.writer(f)\n",
    "                                writer.writerow([name,brand,gender,category,size,price,color,url,img_url,article_no])\n",
    "                        c+=1\n",
    "\n",
    "    #                     print(name,price,color,composition,article_no,img_url,size)\n",
    "                except:\n",
    "                    continue\n",
    "\n",
    "                "
   ]
  },
  {
   "cell_type": "code",
   "execution_count": null,
   "metadata": {},
   "outputs": [],
   "source": []
  },
  {
   "cell_type": "code",
   "execution_count": 10,
   "metadata": {},
   "outputs": [
    {
     "name": "stdout",
     "output_type": "stream",
     "text": [
      "https://cdon.se/klader/barn/ytterplagg/overall/\n",
      "32\n"
     ]
    },
    {
     "name": "stderr",
     "output_type": "stream",
     "text": [
      "/usr/local/lib/python3.5/dist-packages/ipykernel_launcher.py:1: DeprecationWarning: URLopener style of invoking requests is deprecated. Use newer urlopen functions/methods\n",
      "  \"\"\"Entry point for launching an IPython kernel.\n"
     ]
    },
    {
     "name": "stdout",
     "output_type": "stream",
     "text": [
      "https://cdon.se/klader/barn/ytterplagg/overall/?blockid=699154&page=2\n",
      "15\n",
      "https://cdon.se/klader/barn/ytterplagg/regnklader/\n",
      "29\n",
      "https://cdon.se/klader/barn/ytterplagg/regnklader/?blockid=699134&page=2\n",
      "28\n",
      "https://cdon.se/klader/barn/ytterplagg/regnklader/?blockid=699134&page=3\n",
      "25\n"
     ]
    }
   ],
   "source": [
    "scrapper()"
   ]
  },
  {
   "cell_type": "raw",
   "metadata": {},
   "source": [
    "girl='#blockid=699143&ca_12706=27220'\n",
    "boy='#blockid=699143&ca_12706=27221'"
   ]
  },
  {
   "cell_type": "code",
   "execution_count": null,
   "metadata": {},
   "outputs": [],
   "source": [
    "urls=catelog['sub_urls'][0]\n",
    "category=catelog['categorys'][0]\n",
    "\n",
    "p=requests.get(urls, headers=headers)\n",
    "html_doc=p.content.decode()\n",
    "soup = BeautifulSoup(html_doc, 'html.parser')\n",
    "\n",
    "main_products=soup.find(\"ul\",attrs={\"class\":\"product-list medium column-count-4 hoverable\"})\n",
    "products=main_products.find_all(\"article\", attrs={ \"class\" :\"product product-info\"})\n",
    "print(len(products))\n",
    "for p in products:\n",
    "    article_no=p.select_one('.product-id')['value'] #css selector\n",
    "    name=p.select_one('.full-title')['value']\n",
    "    url='https://cdon.se'+p.a['href']\n",
    "    price=soup.find(\"div\", attrs={ \"class\" :\"product-price-wrapper\"}).text.strip()\n",
    "    print(article_no,name,url,price)\n",
    "    \n",
    "    s=requests.get(url, headers=headers)\n",
    "    html_doc4=s.content.decode()\n",
    "    soup4 = BeautifulSoup(html_doc4, 'html.parser')\n",
    "    description=soup4.find(\"div\",attrs={\"id\":\"facts-data-tab\"})\n",
    "    tr=description.find_all(\"tr\")\n",
    "    for t in tr:\n",
    "        if t.th.text=='Varumärke':\n",
    "            brand=t.td.text\n",
    "        if t.th.text=='Färg':\n",
    "            color=t.td.text\n",
    "        if t.th.text=='Kön':\n",
    "            sex=t.td.text\n",
    "    img_url=soup4.find(\"div\",attrs={\"class\":\"product-image-container\"}).find(\"a\")['href']\n",
    "    print(brand,color,img_url,sex)\n",
    "    \n",
    "    \n",
    "\n",
    "    break"
   ]
  },
  {
   "cell_type": "code",
   "execution_count": null,
   "metadata": {},
   "outputs": [],
   "source": [
    "main_products.find(\"article\", attrs={ \"class\" :\"product product-info\"})"
   ]
  },
  {
   "cell_type": "code",
   "execution_count": null,
   "metadata": {},
   "outputs": [],
   "source": [
    "s=requests.get(url, headers=headers)\n",
    "html_doc4=s.content.decode()\n",
    "soup4 = BeautifulSoup(html_doc4, 'html.parser')\n",
    "description=soup4.find(\"div\",attrs={\"id\":\"facts-data-tab\"})\n",
    "tr=description.find_all(\"tr\")\n",
    "for t in tr:\n",
    "    if t.th.text=='Varumärke':\n",
    "        brand=t.td.text\n",
    "    if t.th.text=='Färg':\n",
    "        color=t.td.text\n",
    "img_url=soup4.find(\"div\",attrs={\"class\":\"product-image-container\"}).find(\"a\")['href']\n",
    "print(brand,color,img_url)\n"
   ]
  },
  {
   "cell_type": "code",
   "execution_count": null,
   "metadata": {},
   "outputs": [],
   "source": [
    "url='https://cdon.se/klader/babybyxor-gra-denim-p42480575'"
   ]
  },
  {
   "cell_type": "code",
   "execution_count": null,
   "metadata": {},
   "outputs": [],
   "source": [
    "c=0\n",
    "for ij in soup4.find(\"select\",attrs={\"class\":\"variation-items-select-box\"}).find_all(\"option\"):\n",
    "    if c>0:\n",
    "        size=ij.text.strip()\n",
    "        print(size)\n",
    "    c+=1"
   ]
  },
  {
   "cell_type": "code",
   "execution_count": null,
   "metadata": {},
   "outputs": [],
   "source": [
    "type(size)"
   ]
  },
  {
   "cell_type": "code",
   "execution_count": null,
   "metadata": {},
   "outputs": [],
   "source": [
    "description"
   ]
  },
  {
   "cell_type": "code",
   "execution_count": null,
   "metadata": {},
   "outputs": [],
   "source": [
    "pages=soup.find(\"ul\",attrs={\"class\":\"pagination\"})\n",
    "page=[urls]\n",
    "for p in pages.find_all(\"a\"):\n",
    "    if urls+p[\"href\"] not in page:\n",
    "        page.append(urls+p[\"href\"])\n",
    "        print(page)\n",
    "    "
   ]
  },
  {
   "cell_type": "code",
   "execution_count": null,
   "metadata": {},
   "outputs": [],
   "source": [
    "page"
   ]
  },
  {
   "cell_type": "code",
   "execution_count": null,
   "metadata": {},
   "outputs": [],
   "source": []
  }
 ],
 "metadata": {
  "kernelspec": {
   "display_name": "Python 3",
   "language": "python",
   "name": "python3"
  },
  "language_info": {
   "codemirror_mode": {
    "name": "ipython",
    "version": 3
   },
   "file_extension": ".py",
   "mimetype": "text/x-python",
   "name": "python",
   "nbconvert_exporter": "python",
   "pygments_lexer": "ipython3",
   "version": "3.5.3"
  }
 },
 "nbformat": 4,
 "nbformat_minor": 2
}

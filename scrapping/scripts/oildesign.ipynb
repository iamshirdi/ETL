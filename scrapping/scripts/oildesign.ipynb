{
 "cells": [
  {
   "cell_type": "code",
   "execution_count": 18,
   "metadata": {},
   "outputs": [],
   "source": [
    "#https://github.com/garywu/google-compute-engine-selenium\n",
    "# install chromium, its driver, and selenium\n",
    "# !sudo apt install chromium-chromedriver\n",
    "# !sudo cp /usr/lib/chromium-browser/chromedriver /usr/bin\n",
    "# !pip install selenium\n",
    "# set options to be headless, ..\n",
    "import time\n",
    "from selenium import webdriver\n",
    "from selenium.webdriver.common.action_chains import ActionChains\n",
    "from selenium.webdriver.common.by import By\n",
    "from selenium.webdriver.support.ui import WebDriverWait\n",
    "from selenium.webdriver.support import expected_conditions as ec\n",
    "options = webdriver.ChromeOptions()\n",
    "options.add_argument('--headless')\n",
    "options.add_argument('--no-sandbox')\n",
    "options.add_argument('--disable-dev-shm-usage')\n",
    "driver= webdriver.Chrome('chromedriver',options=options)\n",
    "\n",
    "\n",
    "# open it, go to a website, and get results\n",
    "# wd = webdriver.Chrome('chromedriver',options=options)\n",
    "# wd.get(\"https://www.website.com\")\n",
    "# print(wd.page_source)  # results"
   ]
  },
  {
   "cell_type": "code",
   "execution_count": 19,
   "metadata": {},
   "outputs": [],
   "source": [
    "\n",
    "from google.cloud import storage\n",
    "\n",
    "def upload_to_bucket(blob_name, path_to_file):\n",
    "    \"\"\" Upload data to a bucket\"\"\" #doc string in function\n",
    "\n",
    "    # Explicitly use service account credentials by specifying the private key\n",
    "    # file.\n",
    "    storage_client = storage.Client.from_service_account_json(\n",
    "        'auth.json')\n",
    "\n",
    "    #print(buckets = list(storage_client.list_buckets())\n",
    "\n",
    "    bucket = storage_client.get_bucket('urbankiddo')\n",
    "    blob = bucket.blob(blob_name)\n",
    "    blob.upload_from_filename(path_to_file)\n",
    "\n",
    "    #returns a public url\n",
    "    return blob.public_url"
   ]
  },
  {
   "cell_type": "code",
   "execution_count": 3,
   "metadata": {},
   "outputs": [
    {
     "data": {
      "text/html": [
       "<div>\n",
       "<style scoped>\n",
       "    .dataframe tbody tr th:only-of-type {\n",
       "        vertical-align: middle;\n",
       "    }\n",
       "\n",
       "    .dataframe tbody tr th {\n",
       "        vertical-align: top;\n",
       "    }\n",
       "\n",
       "    .dataframe thead th {\n",
       "        text-align: right;\n",
       "    }\n",
       "</style>\n",
       "<table border=\"1\" class=\"dataframe\">\n",
       "  <thead>\n",
       "    <tr style=\"text-align: right;\">\n",
       "      <th></th>\n",
       "      <th>name</th>\n",
       "      <th>brand</th>\n",
       "      <th>gender</th>\n",
       "      <th>category</th>\n",
       "      <th>size</th>\n",
       "      <th>price</th>\n",
       "      <th>url</th>\n",
       "      <th>img_url</th>\n",
       "      <th>article_no</th>\n",
       "      <th>blob_url</th>\n",
       "    </tr>\n",
       "  </thead>\n",
       "  <tbody>\n",
       "  </tbody>\n",
       "</table>\n",
       "</div>"
      ],
      "text/plain": [
       "Empty DataFrame\n",
       "Columns: [name, brand, gender, category, size, price, url, img_url, article_no, blob_url]\n",
       "Index: []"
      ]
     },
     "execution_count": 3,
     "metadata": {},
     "output_type": "execute_result"
    }
   ],
   "source": [
    "import csv\n",
    "\n",
    "\n",
    "f = open(\"oildesign.csv\", \"w\", encoding='utf-8')\n",
    "writer = csv.DictWriter(f, fieldnames=[\"name\",\"brand\",\"gender\",\"category\",\"size\",\"price\",\"url\",\"img_url\",\"article_no\",\"blob_url\"])\n",
    "writer.writeheader()\n",
    "f.close()\n",
    "\n",
    "import pandas as pd\n",
    "df=pd.read_csv(\"oildesign.csv\", encoding='utf-8')\n",
    "df.head()"
   ]
  },
  {
   "cell_type": "code",
   "execution_count": 45,
   "metadata": {},
   "outputs": [],
   "source": [
    "categorys=['swimwear','bodysuits','boots','bedtextile','fleece','scarves','gloves','gowns and jackets','skirts','the','dress',\n",
    "          'costumes','hats','skirts','overalls','shorts','sleepwear','sportswear','sweaters and knitwear','underwear','underwear','tops']\n",
    "main_urls=['https://www.oiidesign.se/barnklader/s/1?p=561737',\n",
    "          'https://www.oiidesign.se/barnklader/s/1?p=557799',\n",
    "          'https://www.oiidesign.se/barnklader/s/1?p=558527',\n",
    "          'https://www.oiidesign.se/barnklader/s/1?p=569660',\n",
    "          'https://www.oiidesign.se/barnklader/s/1?p=562736',\n",
    "          'https://www.oiidesign.se/barnklader/s/1?p=562208',\n",
    "          'https://www.oiidesign.se/barnklader/s/1?p=562836',\n",
    "          'https://www.oiidesign.se/barnklader/s/1?p=561693',\n",
    "          'https://www.oiidesign.se/barnklader/s/1?p=561847',\n",
    "          'https://www.oiidesign.se/barnklader/s/1?p=565739',\n",
    "          'https://www.oiidesign.se/barnklader/s/1?p=557879',\n",
    "          'https://www.oiidesign.se/barnklader/s/1?p=637242',\n",
    "          'https://www.oiidesign.se/barnklader/s/1?p=558220',\n",
    "          'https://www.oiidesign.se/barnklader/s/1?p=560540',\n",
    "          'https://www.oiidesign.se/barnklader/s/1?p=563724',\n",
    "          'https://www.oiidesign.se/barnklader/s/1?p=561685',\n",
    "          'https://www.oiidesign.se/barnklader/s/1?p=563815',\n",
    "          'https://www.oiidesign.se/barnklader/s/1?p=788007',\n",
    "          'https://www.oiidesign.se/barnklader/s/1?p=560608',\n",
    "          'https://www.oiidesign.se/barnklader/s/1?p=559052',\n",
    "          'https://www.oiidesign.se/barnklader/s/1?p=623108',\n",
    "          'https://www.oiidesign.se/barnklader/s/1?p=558949'\n",
    "          ]"
   ]
  },
  {
   "cell_type": "code",
   "execution_count": 46,
   "metadata": {},
   "outputs": [],
   "source": [
    "categorys=categorys[21:]\n",
    "main_urls=main_urls[21:]\n",
    "\n"
   ]
  },
  {
   "cell_type": "code",
   "execution_count": 47,
   "metadata": {},
   "outputs": [
    {
     "data": {
      "text/plain": [
       "['tops']"
      ]
     },
     "execution_count": 47,
     "metadata": {},
     "output_type": "execute_result"
    }
   ],
   "source": [
    "categorys"
   ]
  },
  {
   "cell_type": "code",
   "execution_count": 5,
   "metadata": {},
   "outputs": [
    {
     "name": "stdout",
     "output_type": "stream",
     "text": [
      "mkdir: cannot create directory ‘oildesign’: File exists\r\n"
     ]
    }
   ],
   "source": [
    "!mkdir oildesign"
   ]
  },
  {
   "cell_type": "code",
   "execution_count": 48,
   "metadata": {},
   "outputs": [
    {
     "name": "stdout",
     "output_type": "stream",
     "text": [
      "https://www.oiidesign.se/barnklader/s/1?p=558949&viewall=true\n",
      "tops\n"
     ]
    }
   ],
   "source": [
    "from bs4 import BeautifulSoup\n",
    "import time\n",
    "import requests\n",
    "\n",
    "gender='unisex'\n",
    "\n",
    "for c,main_url in enumerate(main_urls):\n",
    "    category=categorys[c]\n",
    "    page_url=main_url+'&viewall=true'\n",
    "    html_doc=requests.get(page_url).content.decode()\n",
    "    soup = BeautifulSoup(html_doc, 'html.parser')\n",
    "    products=soup.find(\"div\",attrs={\"id\":\"products\"})\n",
    "    print(page_url)\n",
    "    print(category)\n",
    "\n",
    "    for product in products.find_all(\"article\"):\n",
    "        article_no=product['data-id']\n",
    "        url='https://www.oiidesign.se'+product.find(\"a\")['href']\n",
    "        img_url='https://www.oiidesign.se'+product.find(\"img\")['src']\n",
    "        name=product.find(\"p\",attrs={\"class\":\"name\"}).text\n",
    "        brand=product.find(\"p\",attrs={\"class\":\"brand\"}).text\n",
    "        price=product.find(\"p\",attrs={\"class\":\"price\"}).text\n",
    "        \n",
    "        ac='oildesign'+'/'+article_no+str('.jpg')\n",
    "        rr = requests.get(img_url, allow_redirects=True)\n",
    "        open(ac, 'wb').write(rr.content)\n",
    "\n",
    "        blob_name=str('oildesign')+str('/')+str(article_no)\n",
    "        path_to_file='oildesign/'+article_no+str('.jpg')\n",
    "        blob_url=upload_to_bucket(blob_name, path_to_file)\n",
    "        \n",
    "        driver= webdriver.Chrome('chromedriver',options=options)\n",
    "        driver.get(url)\n",
    "        driver.set_window_size(1920,1080)\n",
    "\n",
    "        html_doc2=driver.page_source\n",
    "        driver.quit()\n",
    "        soup2 = BeautifulSoup(html_doc2, 'html.parser')\n",
    "        sizes=soup2.find_all(\"li\",attrs={\"class\":\"option\"})\n",
    "        for sz in sizes:\n",
    "            size=sz.text.strip()\n",
    "            with open(\"oildesign.csv\", \"a\", encoding='utf-8') as f:\n",
    "                writer = csv.writer(f)\n",
    "                writer.writerow([name,brand,gender,category,size,price,url,img_url,article_no,blob_url])\n",
    "\n",
    "            "
   ]
  },
  {
   "cell_type": "code",
   "execution_count": null,
   "metadata": {},
   "outputs": [],
   "source": [
    "page_url"
   ]
  },
  {
   "cell_type": "code",
   "execution_count": null,
   "metadata": {},
   "outputs": [],
   "source": [
    "\n",
    "driver= webdriver.Chrome('chromedriver',options=options)\n",
    "driver.get('https://www.oiidesign.se/black-red-colourblock-water-reactive-upf-50-swim-shorts/p/144491')\n",
    "driver.set_window_size(1920,1080)\n"
   ]
  },
  {
   "cell_type": "code",
   "execution_count": null,
   "metadata": {},
   "outputs": [],
   "source": [
    "html_doc2=driver.page_source\n",
    "driver.quit()\n",
    "soup2 = BeautifulSoup(html_doc2, 'html.parser')\n",
    "sizes=soup2.find_all(\"li\",attrs={\"class\":\"option\"})\n",
    "for sz in sizes:\n",
    "    size=sz.text.strip()\n",
    "    print(size)"
   ]
  },
  {
   "cell_type": "code",
   "execution_count": null,
   "metadata": {},
   "outputs": [],
   "source": [
    "size.strip()"
   ]
  },
  {
   "cell_type": "code",
   "execution_count": null,
   "metadata": {},
   "outputs": [],
   "source": [
    "soup2.find(\"div\",attrs={\"class\":\"slct id-slct closed\"})"
   ]
  },
  {
   "cell_type": "code",
   "execution_count": 49,
   "metadata": {},
   "outputs": [
    {
     "data": {
      "text/plain": [
       "'https://storage.googleapis.com/urbankiddo/oildesign.csv'"
      ]
     },
     "execution_count": 49,
     "metadata": {},
     "output_type": "execute_result"
    }
   ],
   "source": [
    "from google.cloud import storage\n",
    "storage_client = storage.Client.from_service_account_json('auth.json')\n",
    "bucket = storage_client.get_bucket('urbankiddo')\n",
    "blob = bucket.blob('oildesign.csv')\n",
    "blob.upload_from_filename('oildesign.csv')\n",
    "blob.public_url"
   ]
  },
  {
   "cell_type": "code",
   "execution_count": null,
   "metadata": {},
   "outputs": [],
   "source": []
  }
 ],
 "metadata": {
  "kernelspec": {
   "display_name": "Python 3.5",
   "language": "python",
   "name": "python3"
  },
  "language_info": {
   "codemirror_mode": {
    "name": "ipython",
    "version": 3
   },
   "file_extension": ".py",
   "mimetype": "text/x-python",
   "name": "python",
   "nbconvert_exporter": "python",
   "pygments_lexer": "ipython3",
   "version": "3.5.5"
  }
 },
 "nbformat": 4,
 "nbformat_minor": 2
}

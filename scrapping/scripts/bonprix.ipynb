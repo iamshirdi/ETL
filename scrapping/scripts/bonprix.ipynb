{
 "cells": [
  {
   "cell_type": "code",
   "execution_count": 1,
   "metadata": {},
   "outputs": [],
   "source": [
    "catelog = {\n",
    "  \"category\": (\"Dresses\",\"tops\",\"bottoms\",\"winterwear\",\"jeans\",\"Tröjor & koftor\",\"Kjolar\",\"shorts\",\"sportklader\",\"jackor\",\"swimwear\",\"nightwear\",\"Panties & Bra\",\"socks\",\"acessories\"\n",
    "              \"shoes\"),\n",
    "    \n",
    "  \"main_urls\": (\"https://www.bonprix.se/kategori/barn-flickor-klaenningar/\",\"https://www.bonprix.se/kategori/barn-flickor-skjortor/\",\n",
    "              \"https://www.bonprix.se/kategori/barn-flickor-byxor/\",\"https://www.bonprix.se/kategori/barn-flickor-jeans/\",\"https://www.bonprix.se/kategori/barn-flickor-troejor-koftor/\",\n",
    "              \"https://www.bonprix.se/kategori/barn-flickor-troejor-koftor/\",\"https://www.bonprix.se/kategori/barn-flickor-kjolar/\",\n",
    "              \"https://www.bonprix.se/kategori/barn-flickor-shorts/\",\"https://www.bonprix.se/kategori/barn-flickor-traeningsklaeder/\",\n",
    "              \"https://www.bonprix.se/kategori/barn-flickor-jackor/\",\"https://www.bonprix.se/kategori/barn-flickor-badklaeder/\",\n",
    "               \"https://www.bonprix.se/kategori/barn-underklaeder-flickor-nattklaeder/\",\"https://www.bonprix.se/kategori/barn-underklaeder-flickor-trosor/\",\n",
    "                \"https://www.bonprix.se/kategori/barn-underklaeder-flickor-strumpor/\",\"https://www.bonprix.se/kategori/barn-flickor-skor/\",\n",
    "               \"https://www.bonprix.se/kategori/barn-flickor-accessoarer/\")\n",
    "    \n",
    "  }\n",
    "\n",
    "gender='girl'"
   ]
  },
  {
   "cell_type": "code",
   "execution_count": 2,
   "metadata": {},
   "outputs": [
    {
     "data": {
      "text/html": [
       "<div>\n",
       "<style scoped>\n",
       "    .dataframe tbody tr th:only-of-type {\n",
       "        vertical-align: middle;\n",
       "    }\n",
       "\n",
       "    .dataframe tbody tr th {\n",
       "        vertical-align: top;\n",
       "    }\n",
       "\n",
       "    .dataframe thead th {\n",
       "        text-align: right;\n",
       "    }\n",
       "</style>\n",
       "<table border=\"1\" class=\"dataframe\">\n",
       "  <thead>\n",
       "    <tr style=\"text-align: right;\">\n",
       "      <th></th>\n",
       "      <th>name</th>\n",
       "      <th>brand</th>\n",
       "      <th>gender</th>\n",
       "      <th>category</th>\n",
       "      <th>size</th>\n",
       "      <th>price</th>\n",
       "      <th>color</th>\n",
       "      <th>composition</th>\n",
       "      <th>url</th>\n",
       "      <th>img_url</th>\n",
       "      <th>article_no</th>\n",
       "      <th>blob_url</th>\n",
       "    </tr>\n",
       "  </thead>\n",
       "  <tbody>\n",
       "  </tbody>\n",
       "</table>\n",
       "</div>"
      ],
      "text/plain": [
       "Empty DataFrame\n",
       "Columns: [name, brand, gender, category, size, price, color, composition, url, img_url, article_no, blob_url]\n",
       "Index: []"
      ]
     },
     "execution_count": 2,
     "metadata": {},
     "output_type": "execute_result"
    }
   ],
   "source": [
    "import csv\n",
    "\n",
    "\n",
    "f = open(\"bonprix.csv\", \"w\", encoding='utf-8')\n",
    "writer = csv.DictWriter(f, fieldnames=[\"name\",\"brand\",\"gender\",\"category\",\"size\",\"price\",\"color\",\"composition\",\"url\",\"img_url\",\"article_no\",\"blob_url\"])\n",
    "writer.writeheader()\n",
    "f.close()\n",
    "\n",
    "import pandas as pd\n",
    "df=pd.read_csv(\"bonprix.csv\", encoding='utf-8')\n",
    "df.head()"
   ]
  },
  {
   "cell_type": "code",
   "execution_count": 3,
   "metadata": {},
   "outputs": [],
   "source": [
    "!mkdir bonprix"
   ]
  },
  {
   "cell_type": "code",
   "execution_count": 4,
   "metadata": {
    "scrolled": true
   },
   "outputs": [
    {
     "name": "stdout",
     "output_type": "stream",
     "text": [
      "Requirement already satisfied: gcloud in ./.local/lib/python3.5/site-packages\n",
      "Requirement already satisfied: protobuf!=3.0.0.b2.post1,>=3.0.0b2 in /usr/local/lib/python3.5/dist-packages (from gcloud)\n",
      "Requirement already satisfied: httplib2>=0.9.1 in /usr/local/lib/python3.5/dist-packages (from gcloud)\n",
      "Requirement already satisfied: six in /usr/local/lib/python3.5/dist-packages (from gcloud)\n",
      "Requirement already satisfied: googleapis-common-protos in /usr/local/lib/python3.5/dist-packages (from gcloud)\n",
      "Requirement already satisfied: oauth2client>=2.0.1 in /usr/local/lib/python3.5/dist-packages (from gcloud)\n",
      "Requirement already satisfied: setuptools in /usr/local/lib/python3.5/dist-packages (from protobuf!=3.0.0.b2.post1,>=3.0.0b2->gcloud)\n",
      "Requirement already satisfied: pyasn1-modules>=0.0.5 in /usr/local/lib/python3.5/dist-packages (from oauth2client>=2.0.1->gcloud)\n",
      "Requirement already satisfied: pyasn1>=0.1.7 in /usr/local/lib/python3.5/dist-packages (from oauth2client>=2.0.1->gcloud)\n",
      "Requirement already satisfied: rsa>=3.1.4 in /usr/local/lib/python3.5/dist-packages (from oauth2client>=2.0.1->gcloud)\n",
      "Requirement already satisfied: google-cloud-storage in /usr/local/lib/python3.5/dist-packages\n",
      "Requirement already satisfied: google-resumable-media>=0.3.1 in /usr/local/lib/python3.5/dist-packages (from google-cloud-storage)\n",
      "Requirement already satisfied: google-cloud-core<2.0dev,>=1.0.0 in /usr/local/lib/python3.5/dist-packages (from google-cloud-storage)\n",
      "Requirement already satisfied: google-auth>=1.2.0 in /usr/local/lib/python3.5/dist-packages (from google-cloud-storage)\n",
      "Requirement already satisfied: six in /usr/local/lib/python3.5/dist-packages (from google-resumable-media>=0.3.1->google-cloud-storage)\n",
      "Requirement already satisfied: google-api-core<2.0.0dev,>=1.11.0 in /usr/local/lib/python3.5/dist-packages (from google-cloud-core<2.0dev,>=1.0.0->google-cloud-storage)\n",
      "Requirement already satisfied: pyasn1-modules>=0.2.1 in /usr/local/lib/python3.5/dist-packages (from google-auth>=1.2.0->google-cloud-storage)\n",
      "Requirement already satisfied: cachetools>=2.0.0 in /usr/local/lib/python3.5/dist-packages (from google-auth>=1.2.0->google-cloud-storage)\n",
      "Requirement already satisfied: rsa>=3.1.4 in /usr/local/lib/python3.5/dist-packages (from google-auth>=1.2.0->google-cloud-storage)\n",
      "Requirement already satisfied: googleapis-common-protos!=1.5.4,<2.0dev,>=1.5.3 in /usr/local/lib/python3.5/dist-packages (from google-api-core<2.0.0dev,>=1.11.0->google-cloud-core<2.0dev,>=1.0.0->google-cloud-storage)\n",
      "Requirement already satisfied: protobuf>=3.4.0 in /usr/local/lib/python3.5/dist-packages (from google-api-core<2.0.0dev,>=1.11.0->google-cloud-core<2.0dev,>=1.0.0->google-cloud-storage)\n",
      "Requirement already satisfied: setuptools>=34.0.0 in /usr/local/lib/python3.5/dist-packages (from google-api-core<2.0.0dev,>=1.11.0->google-cloud-core<2.0dev,>=1.0.0->google-cloud-storage)\n",
      "Requirement already satisfied: pytz in /usr/local/lib/python3.5/dist-packages (from google-api-core<2.0.0dev,>=1.11.0->google-cloud-core<2.0dev,>=1.0.0->google-cloud-storage)\n",
      "Requirement already satisfied: requests<3.0.0dev,>=2.18.0 in /usr/local/lib/python3.5/dist-packages (from google-api-core<2.0.0dev,>=1.11.0->google-cloud-core<2.0dev,>=1.0.0->google-cloud-storage)\n",
      "Requirement already satisfied: pyasn1<0.5.0,>=0.4.1 in /usr/local/lib/python3.5/dist-packages (from pyasn1-modules>=0.2.1->google-auth>=1.2.0->google-cloud-storage)\n",
      "Requirement already satisfied: idna<2.9,>=2.5 in /usr/local/lib/python3.5/dist-packages (from requests<3.0.0dev,>=2.18.0->google-api-core<2.0.0dev,>=1.11.0->google-cloud-core<2.0dev,>=1.0.0->google-cloud-storage)\n",
      "Requirement already satisfied: chardet<3.1.0,>=3.0.2 in /usr/local/lib/python3.5/dist-packages (from requests<3.0.0dev,>=2.18.0->google-api-core<2.0.0dev,>=1.11.0->google-cloud-core<2.0dev,>=1.0.0->google-cloud-storage)\n",
      "Requirement already satisfied: certifi>=2017.4.17 in /usr/local/lib/python3.5/dist-packages (from requests<3.0.0dev,>=2.18.0->google-api-core<2.0.0dev,>=1.11.0->google-cloud-core<2.0dev,>=1.0.0->google-cloud-storage)\n",
      "Requirement already satisfied: urllib3!=1.25.0,!=1.25.1,<1.26,>=1.21.1 in /usr/local/lib/python3.5/dist-packages (from requests<3.0.0dev,>=2.18.0->google-api-core<2.0.0dev,>=1.11.0->google-cloud-core<2.0dev,>=1.0.0->google-cloud-storage)\n",
      "Name: requests\n",
      "Version: 2.22.0\n",
      "Summary: Python HTTP for Humans.\n",
      "Home-page: http://python-requests.org\n",
      "Author: Kenneth Reitz\n",
      "Author-email: me@kennethreitz.org\n",
      "License: Apache 2.0\n",
      "Location: /usr/local/lib/python3.5/dist-packages\n",
      "Requires: urllib3, certifi, chardet, idna\n",
      "Requirement already satisfied: google-cloud in /usr/local/lib/python2.7/dist-packages\n"
     ]
    }
   ],
   "source": [
    "!pip3 install gcloud\n",
    "!pip3 install google-cloud-storage\n",
    "!pip3 show requests\n",
    "!python -m pip install google-cloud"
   ]
  },
  {
   "cell_type": "code",
   "execution_count": 5,
   "metadata": {},
   "outputs": [
    {
     "name": "stdout",
     "output_type": "stream",
     "text": [
      "Requirement already satisfied: google-cloud in /usr/local/lib/python3.5/dist-packages\n"
     ]
    }
   ],
   "source": [
    "!pip3 install google-cloud"
   ]
  },
  {
   "cell_type": "code",
   "execution_count": 6,
   "metadata": {},
   "outputs": [
    {
     "name": "stdout",
     "output_type": "stream",
     "text": [
      "Requirement already satisfied: google-cloud-storage in /usr/local/lib/python3.5/dist-packages\n",
      "Requirement already satisfied: google-cloud-core<2.0dev,>=1.0.0 in /usr/local/lib/python3.5/dist-packages (from google-cloud-storage)\n",
      "Requirement already satisfied: google-resumable-media>=0.3.1 in /usr/local/lib/python3.5/dist-packages (from google-cloud-storage)\n",
      "Requirement already satisfied: google-auth>=1.2.0 in /usr/local/lib/python3.5/dist-packages (from google-cloud-storage)\n",
      "Requirement already satisfied: google-api-core<2.0.0dev,>=1.11.0 in /usr/local/lib/python3.5/dist-packages (from google-cloud-core<2.0dev,>=1.0.0->google-cloud-storage)\n",
      "Requirement already satisfied: six in /usr/local/lib/python3.5/dist-packages (from google-resumable-media>=0.3.1->google-cloud-storage)\n",
      "Requirement already satisfied: rsa>=3.1.4 in /usr/local/lib/python3.5/dist-packages (from google-auth>=1.2.0->google-cloud-storage)\n",
      "Requirement already satisfied: cachetools>=2.0.0 in /usr/local/lib/python3.5/dist-packages (from google-auth>=1.2.0->google-cloud-storage)\n",
      "Requirement already satisfied: pyasn1-modules>=0.2.1 in /usr/local/lib/python3.5/dist-packages (from google-auth>=1.2.0->google-cloud-storage)\n",
      "Requirement already satisfied: googleapis-common-protos!=1.5.4,<2.0dev,>=1.5.3 in /usr/local/lib/python3.5/dist-packages (from google-api-core<2.0.0dev,>=1.11.0->google-cloud-core<2.0dev,>=1.0.0->google-cloud-storage)\n",
      "Requirement already satisfied: protobuf>=3.4.0 in /usr/local/lib/python3.5/dist-packages (from google-api-core<2.0.0dev,>=1.11.0->google-cloud-core<2.0dev,>=1.0.0->google-cloud-storage)\n",
      "Requirement already satisfied: pytz in /usr/local/lib/python3.5/dist-packages (from google-api-core<2.0.0dev,>=1.11.0->google-cloud-core<2.0dev,>=1.0.0->google-cloud-storage)\n",
      "Requirement already satisfied: setuptools>=34.0.0 in /usr/local/lib/python3.5/dist-packages (from google-api-core<2.0.0dev,>=1.11.0->google-cloud-core<2.0dev,>=1.0.0->google-cloud-storage)\n",
      "Requirement already satisfied: requests<3.0.0dev,>=2.18.0 in /usr/local/lib/python3.5/dist-packages (from google-api-core<2.0.0dev,>=1.11.0->google-cloud-core<2.0dev,>=1.0.0->google-cloud-storage)\n",
      "Requirement already satisfied: pyasn1>=0.1.3 in /usr/local/lib/python3.5/dist-packages (from rsa>=3.1.4->google-auth>=1.2.0->google-cloud-storage)\n",
      "Requirement already satisfied: chardet<3.1.0,>=3.0.2 in /usr/local/lib/python3.5/dist-packages (from requests<3.0.0dev,>=2.18.0->google-api-core<2.0.0dev,>=1.11.0->google-cloud-core<2.0dev,>=1.0.0->google-cloud-storage)\n",
      "Requirement already satisfied: idna<2.9,>=2.5 in /usr/local/lib/python3.5/dist-packages (from requests<3.0.0dev,>=2.18.0->google-api-core<2.0.0dev,>=1.11.0->google-cloud-core<2.0dev,>=1.0.0->google-cloud-storage)\n",
      "Requirement already satisfied: certifi>=2017.4.17 in /usr/local/lib/python3.5/dist-packages (from requests<3.0.0dev,>=2.18.0->google-api-core<2.0.0dev,>=1.11.0->google-cloud-core<2.0dev,>=1.0.0->google-cloud-storage)\n",
      "Requirement already satisfied: urllib3!=1.25.0,!=1.25.1,<1.26,>=1.21.1 in /usr/local/lib/python3.5/dist-packages (from requests<3.0.0dev,>=2.18.0->google-api-core<2.0.0dev,>=1.11.0->google-cloud-core<2.0dev,>=1.0.0->google-cloud-storage)\n"
     ]
    }
   ],
   "source": [
    "!pip install google-cloud-storage"
   ]
  },
  {
   "cell_type": "code",
   "execution_count": 7,
   "metadata": {},
   "outputs": [
    {
     "name": "stdout",
     "output_type": "stream",
     "text": [
      "Requirement already satisfied: virtualenv in /usr/local/lib/python3.5/dist-packages\n"
     ]
    }
   ],
   "source": [
    "!pip install virtualenv\n",
    "\n"
   ]
  },
  {
   "cell_type": "code",
   "execution_count": 8,
   "metadata": {},
   "outputs": [
    {
     "name": "stdout",
     "output_type": "stream",
     "text": [
      "Using base prefix '/usr'\n",
      "New python executable in /home/jupyter/hello/bin/python3\n",
      "Also creating executable in /home/jupyter/hello/bin/python\n",
      "Installing setuptools, pip, wheel...\n",
      "done.\n"
     ]
    }
   ],
   "source": [
    "!virtualenv hello"
   ]
  },
  {
   "cell_type": "code",
   "execution_count": 9,
   "metadata": {},
   "outputs": [
    {
     "name": "stdout",
     "output_type": "stream",
     "text": [
      "Using base prefix '/usr'\n",
      "New python executable in /home/jupyter/helloScriptsactivate/bin/python3\n",
      "Also creating executable in /home/jupyter/helloScriptsactivate/bin/python\n",
      "Installing setuptools, pip, wheel...\n",
      "done.\n",
      "There must be only one argument: DEST_DIR (you gave helloScriptspip.exe install google-cloud-storage)\n",
      "Usage: virtualenv [OPTIONS] DEST_DIR\n",
      "\n",
      "Options:\n",
      "  --version             show program's version number and exit\n",
      "  -h, --help            show this help message and exit\n",
      "  -v, --verbose         Increase verbosity.\n",
      "  -q, --quiet           Decrease verbosity.\n",
      "  -p PYTHON_EXE, --python=PYTHON_EXE\n",
      "                        The Python interpreter to use, e.g.,\n",
      "                        --python=python3.5 will use the python3.5 interpreter\n",
      "                        to create the new environment.  The default is the\n",
      "                        interpreter that virtualenv was installed with\n",
      "                        (/usr/bin/python3)\n",
      "  --clear               Clear out the non-root install and start from scratch.\n",
      "  --no-site-packages    DEPRECATED. Retained only for backward compatibility.\n",
      "                        Not having access to global site-packages is now the\n",
      "                        default behavior.\n",
      "  --system-site-packages\n",
      "                        Give the virtual environment access to the global\n",
      "                        site-packages.\n",
      "  --always-copy         Always copy files rather than symlinking.\n",
      "  --relocatable         Make an EXISTING virtualenv environment relocatable.\n",
      "                        This fixes up scripts and makes all .pth files\n",
      "                        relative.\n",
      "  --no-setuptools       Do not install setuptools in the new virtualenv.\n",
      "  --no-pip              Do not install pip in the new virtualenv.\n",
      "  --no-wheel            Do not install wheel in the new virtualenv.\n",
      "  --extra-search-dir=DIR\n",
      "                        Directory to look for setuptools/pip distributions in.\n",
      "                        This option can be used multiple times.\n",
      "  --download            Download pre-installed packages from PyPI.\n",
      "  --no-download, --never-download\n",
      "                        Do not download pre-installed packages from PyPI.\n",
      "  --prompt=PROMPT       Provides an alternative prompt prefix for this\n",
      "                        environment.\n",
      "  --setuptools          DEPRECATED. Retained only for backward compatibility.\n",
      "                        This option has no effect.\n",
      "  --distribute          DEPRECATED. Retained only for backward compatibility.\n",
      "                        This option has no effect.\n",
      "  --unzip-setuptools    DEPRECATED.  Retained only for backward compatibility.\n",
      "                        This option has no effect.\n"
     ]
    }
   ],
   "source": [
    "!virtualenv hello\\Scripts\\activate \n",
    "!virtualenv hello\\Scripts\\pip.exe install google-cloud-storage"
   ]
  },
  {
   "cell_type": "code",
   "execution_count": 10,
   "metadata": {
    "scrolled": true
   },
   "outputs": [],
   "source": [
    "\n",
    "from google.cloud import storage\n",
    "\n",
    "def upload_to_bucket(blob_name, path_to_file):\n",
    "    \"\"\" Upload data to a bucket\"\"\" #doc string in function\n",
    "\n",
    "    # Explicitly use service account credentials by specifying the private key\n",
    "    # file.\n",
    "    storage_client = storage.Client.from_service_account_json(\n",
    "        'auth.json')\n",
    "\n",
    "    #print(buckets = list(storage_client.list_buckets())\n",
    "\n",
    "    bucket = storage_client.get_bucket('urbankiddo')\n",
    "    blob = bucket.blob(blob_name)\n",
    "    blob.upload_from_filename(path_to_file)\n",
    "\n",
    "    #returns a public url\n",
    "    return blob.public_url"
   ]
  },
  {
   "cell_type": "code",
   "execution_count": 11,
   "metadata": {
    "scrolled": true
   },
   "outputs": [
    {
     "name": "stdout",
     "output_type": "stream",
     "text": [
      "['https://www.bonprix.se/kategori/barn-flickor-klaenningar/', 'https://www.bonprix.se/kategori/barn-flickor-klaenningar/?page=2']\n",
      "['https://www.bonprix.se/kategori/barn-flickor-skjortor/']\n",
      "['https://www.bonprix.se/kategori/barn-flickor-byxor/']\n",
      "['https://www.bonprix.se/kategori/barn-flickor-jeans/']\n",
      "['https://www.bonprix.se/kategori/barn-flickor-troejor-koftor/']\n",
      "['https://www.bonprix.se/kategori/barn-flickor-troejor-koftor/']\n",
      "['https://www.bonprix.se/kategori/barn-flickor-kjolar/']\n",
      "['https://www.bonprix.se/kategori/barn-flickor-shorts/']\n",
      "['https://www.bonprix.se/kategori/barn-flickor-traeningsklaeder/']\n",
      "['https://www.bonprix.se/kategori/barn-flickor-jackor/']\n",
      "['https://www.bonprix.se/kategori/barn-flickor-badklaeder/']\n",
      "['https://www.bonprix.se/kategori/barn-underklaeder-flickor-nattklaeder/']\n",
      "['https://www.bonprix.se/kategori/barn-underklaeder-flickor-trosor/']\n",
      "['https://www.bonprix.se/kategori/barn-underklaeder-flickor-strumpor/']\n",
      "['https://www.bonprix.se/kategori/barn-flickor-skor/']\n"
     ]
    }
   ],
   "source": [
    "import requests\n",
    "import time\n",
    "from random import randint\n",
    "from bs4 import BeautifulSoup\n",
    "\n",
    "import urllib.request\n",
    "import csv\n",
    "\n",
    "headers = {'user-agent': 'Mozilla/5.0 (Windows NT 10.0; Win64; x64) AppleWebKit/537.36 (KHTML, like Gecko) Chrome/76.0.3809.80 Safari/537.36'}\n",
    "\n",
    "for c in range(len(catelog['category'])):\n",
    "    category=catelog['category'][c]\n",
    "    su=catelog['main_urls'][c]\n",
    "    \n",
    "    sub_urls=[su]\n",
    "\n",
    "    rr =requests.get(su, headers=headers)\n",
    "    html_doc0=rr.content.decode()\n",
    "    soup0 = BeautifulSoup(html_doc0, 'html.parser')\n",
    "\n",
    "    pages=soup0.find_all(\"li\",attrs={\"class\":\"product-pager-page\"})\n",
    "    for pg in pages:\n",
    "        try:\n",
    "            sub_urls.append(pg.a['href'])\n",
    "        except:\n",
    "            continue\n",
    "    print(sub_urls)\n",
    "    \n",
    "    \n",
    "    for page in sub_urls:\n",
    "    \n",
    "        r =requests.get(page, headers=headers)\n",
    "        html_doc=r.content.decode()\n",
    "        soup = BeautifulSoup(html_doc, 'html.parser')\n",
    "\n",
    "        products=soup.find_all(\"div\", attrs={ \"class\" :\"product-image\"})\n",
    "        for p in products:\n",
    "            url=p.a['href']\n",
    "            article_no=p.a['data-order-number-with-promo']\n",
    "\n",
    "            \n",
    "            s =requests.get(url, headers=headers)\n",
    "            html_doc2=s.content.decode()\n",
    "\n",
    "    #         /produkt/947444.json\n",
    "\n",
    "            soup2 = BeautifulSoup(html_doc2, 'html.parser')\n",
    "            name=soup2.find(\"h1\", attrs={ \"class\" :\"product-name\"}).text\n",
    "\n",
    "\n",
    "\n",
    "\n",
    "\n",
    "            price=soup2.find(\"span\", attrs={ \"class\" :\"price-tag\"}).text\n",
    "            info=soup2.find(\"div\", attrs={ \"class\" :\"product-attributes\"})\n",
    "\n",
    "            p=info.find_all(\"span\",attrs={\"class\":\"product-attribute-value glossarable\"})\n",
    "            try:\n",
    "                composition=p[0].text.strip()\n",
    "            except:\n",
    "                composition=None\n",
    "            try:\n",
    "                color=p[1].text.strip()\n",
    "            except:\n",
    "                color=None\n",
    "            \n",
    "            \n",
    "            img_url='https:'+soup2.find(\"div\", attrs={ \"class\" :\"image-container\"}).img['data-product-image-src']\n",
    "\n",
    "\n",
    "\n",
    "            ac='bonprix'+'/'+article_no+str('.jpg')\n",
    "    #             opener = urllib.request.URLopener()\n",
    "    #             opener.addheader('User-Agent', 'whatever')\n",
    "    #             filename, headers2 = opener.retrieve(img_url, ac)\n",
    "\n",
    "            rr = requests.get(img_url, allow_redirects=True)\n",
    "            open(ac, 'wb').write(rr.content)\n",
    "\n",
    "#             blob_name=str('bonprix')+str('/')+str(article_no)\n",
    "#             path_to_file='bonprix/'+article_no+str('.jpg')\n",
    "#             blob_url=upload_to_bucket(blob_name, path_to_file)\n",
    "            \n",
    "            \n",
    "\n",
    "            brand=soup2.find(\"span\", attrs={ \"class\" :\"product-brand\"}).span['content']\n",
    "            sizes=soup2.find(\"ul\",attrs={\"id\":\"product-variant-size\"})\n",
    "            for ss in sizes.find_all(\"li\"):\n",
    "                size=ss.a.text\n",
    "                with open(\"bonprix.csv\", \"a\", encoding='utf-8') as f:\n",
    "                                writer = csv.writer(f)\n",
    "                                writer.writerow([name,brand,gender,category,size,price,color,composition,url,img_url,article_no])\n",
    "\n",
    "    #             print(url,name,img_url,price,gender,composition,color,article_no,brand,size)\n",
    "\n",
    "\n",
    "        \n",
    "        \n",
    "        \n",
    "        "
   ]
  },
  {
   "cell_type": "code",
   "execution_count": null,
   "metadata": {},
   "outputs": [],
   "source": []
  },
  {
   "cell_type": "code",
   "execution_count": 12,
   "metadata": {},
   "outputs": [
    {
     "data": {
      "text/plain": [
       "'https://www.bonprix.se/produkt/vinterstoevel-gammaldags-rosa-974172/?shop=429072#image'"
      ]
     },
     "execution_count": 12,
     "metadata": {},
     "output_type": "execute_result"
    }
   ],
   "source": [
    "url"
   ]
  },
  {
   "cell_type": "code",
   "execution_count": 14,
   "metadata": {},
   "outputs": [],
   "source": [
    "catelog = {\n",
    "  \"category\": (\"tshirts\",\"byxor\",\"trojor and koftor\",\"shorts\",\"jeans\",\"jackor\",\"sports klader\",\"stora klader\",\"badbyxor\",\"underpants\",\"pyjamas\",\"socks\",\"shoes\"),\n",
    "    \n",
    "  \"main_urls\": (\"https://www.bonprix.se/kategori/barn-pojkar-t-shirts/\",\"https://www.bonprix.se/kategori/barn-pojkar-byxor/\",\n",
    "                \"https://www.bonprix.se/kategori/barn-pojkar-troejor-koftor/\",\"https://www.bonprix.se/kategori/barn-pojkar-shorts/\",\n",
    "               \"https://www.bonprix.se/kategori/barn-pojkar-jeans/\",\"https://www.bonprix.se/kategori/barn-pojkar-jackor/\",\n",
    "               \"https://www.bonprix.se/kategori/barn-pojkar-sportmode/\",\"https://www.bonprix.se/kategori/barn-pojkar-stora-storlekar/\",\n",
    "                \"https://www.bonprix.se/kategori/barn-pojkar-badbyxor/\",\"https://www.bonprix.se/kategori/barn-underklaeder-pojkar-kalsonger/\",\n",
    "               \"https://www.bonprix.se/kategori/barn-underklaeder-pojkar-pyjamas/\",\"https://www.bonprix.se/kategori/barn-underklaeder-pojkar-sockor/\",\n",
    "               \"https://www.bonprix.se/kategori/barn-pojkar-skor/\")\n",
    "    \n",
    "  }\n",
    "\n",
    "gender='boy'"
   ]
  },
  {
   "cell_type": "code",
   "execution_count": 15,
   "metadata": {},
   "outputs": [
    {
     "name": "stdout",
     "output_type": "stream",
     "text": [
      "['https://www.bonprix.se/kategori/barn-pojkar-t-shirts/']\n",
      "['https://www.bonprix.se/kategori/barn-pojkar-byxor/']\n",
      "['https://www.bonprix.se/kategori/barn-pojkar-troejor-koftor/']\n",
      "['https://www.bonprix.se/kategori/barn-pojkar-shorts/']\n",
      "['https://www.bonprix.se/kategori/barn-pojkar-jeans/']\n",
      "['https://www.bonprix.se/kategori/barn-pojkar-jackor/']\n",
      "['https://www.bonprix.se/kategori/barn-pojkar-sportmode/']\n",
      "['https://www.bonprix.se/kategori/barn-pojkar-stora-storlekar/']\n",
      "['https://www.bonprix.se/kategori/barn-pojkar-badbyxor/']\n",
      "['https://www.bonprix.se/kategori/barn-underklaeder-pojkar-kalsonger/']\n",
      "['https://www.bonprix.se/kategori/barn-underklaeder-pojkar-pyjamas/']\n",
      "['https://www.bonprix.se/kategori/barn-underklaeder-pojkar-sockor/']\n",
      "['https://www.bonprix.se/kategori/barn-pojkar-skor/']\n"
     ]
    }
   ],
   "source": [
    "import requests\n",
    "import time\n",
    "from random import randint\n",
    "from bs4 import BeautifulSoup\n",
    "\n",
    "import urllib.request\n",
    "import csv\n",
    "\n",
    "headers = {'user-agent': 'Mozilla/5.0 (Windows NT 10.0; Win64; x64) AppleWebKit/537.36 (KHTML, like Gecko) Chrome/76.0.3809.80 Safari/537.36'}\n",
    "\n",
    "for c in range(len(catelog['category'])):\n",
    "    category=catelog['category'][c]\n",
    "    su=catelog['main_urls'][c]\n",
    "    \n",
    "    sub_urls=[su]\n",
    "\n",
    "    rr =requests.get(su, headers=headers)\n",
    "    html_doc0=rr.content.decode()\n",
    "    soup0 = BeautifulSoup(html_doc0, 'html.parser')\n",
    "\n",
    "    pages=soup0.find_all(\"li\",attrs={\"class\":\"product-pager-page\"})\n",
    "    for pg in pages:\n",
    "        try:\n",
    "            sub_urls.append(pg.a['href'])\n",
    "        except:\n",
    "            continue\n",
    "    print(sub_urls)\n",
    "    \n",
    "    \n",
    "    for page in sub_urls:\n",
    "    \n",
    "        r =requests.get(page, headers=headers)\n",
    "        html_doc=r.content.decode()\n",
    "        soup = BeautifulSoup(html_doc, 'html.parser')\n",
    "\n",
    "        products=soup.find_all(\"div\", attrs={ \"class\" :\"product-image\"})\n",
    "        for p in products:\n",
    "            url=p.a['href']\n",
    "            \n",
    "            article_no=p.a['data-order-number-with-promo']\n",
    "            \n",
    "            s =requests.get(url, headers=headers)\n",
    "            html_doc2=s.content.decode()\n",
    "\n",
    "    #         /produkt/947444.json\n",
    "\n",
    "            soup2 = BeautifulSoup(html_doc2, 'html.parser')\n",
    "            name=soup2.find(\"h1\", attrs={ \"class\" :\"product-name\"}).text\n",
    "\n",
    "         \n",
    "\n",
    "\n",
    "\n",
    "\n",
    "            price=soup2.find(\"span\", attrs={ \"class\" :\"price-tag\"}).text\n",
    "            info=soup2.find(\"div\", attrs={ \"class\" :\"product-attributes\"})\n",
    "\n",
    "            p=info.find_all(\"span\",attrs={\"class\":\"product-attribute-value glossarable\"})\n",
    "\n",
    "            try:\n",
    "                composition=p[0].text.strip()\n",
    "            except:\n",
    "                composition=None\n",
    "            try:\n",
    "                color=p[1].text.strip()\n",
    "            except:\n",
    "                color=None\n",
    "            \n",
    "            img_url='https:'+soup2.find(\"div\", attrs={ \"class\" :\"image-container\"}).img['data-product-image-src']\n",
    "\n",
    "\n",
    "\n",
    "            ac='bonprix'+'/'+article_no+str('.jpg')\n",
    "    #             opener = urllib.request.URLopener()\n",
    "    #             opener.addheader('User-Agent', 'whatever')\n",
    "    #             filename, headers2 = opener.retrieve(img_url, ac)\n",
    "\n",
    "            rr = requests.get(img_url, allow_redirects=True)\n",
    "            open(ac, 'wb').write(rr.content)\n",
    "\n",
    "#             blob_name=str('bonprix')+str('/')+str(article_no)\n",
    "#             path_to_file='bonprix/'+article_no+str('.jpg')\n",
    "#             blob_url=upload_to_bucket(blob_name, path_to_file)\n",
    "            \n",
    "            \n",
    "\n",
    "            brand=soup2.find(\"span\", attrs={ \"class\" :\"product-brand\"}).span['content']\n",
    "            sizes=soup2.find(\"ul\",attrs={\"id\":\"product-variant-size\"})\n",
    "            for ss in sizes.find_all(\"li\"):\n",
    "                size=ss.a.text\n",
    "                with open(\"bonprix.csv\", \"a\", encoding='utf-8') as f:\n",
    "                                writer = csv.writer(f)\n",
    "                                writer.writerow([name,brand,gender,category,size,price,color,composition,url,img_url,article_no])\n",
    "\n",
    "    #             print(url,name,img_url,price,gender,composition,color,article_no,brand,size)\n",
    "\n",
    "\n",
    "        \n",
    "        \n",
    "        \n",
    "        "
   ]
  },
  {
   "cell_type": "code",
   "execution_count": 16,
   "metadata": {},
   "outputs": [
    {
     "name": "stdout",
     "output_type": "stream",
     "text": [
      "['https://www.bonprix.se/kategori/barn-pojkar-t-shirts/']\n"
     ]
    }
   ],
   "source": [
    "su=catelog['main_urls'][0]\n",
    "sub_urls=[su]\n",
    "\n",
    "r =requests.get(su, headers=headers)\n",
    "html_doc=r.content.decode()\n",
    "soup = BeautifulSoup(html_doc, 'html.parser')\n",
    "\n",
    "pages=soup.find_all(\"li\",attrs={\"class\":\"product-pager-page\"})\n",
    "for pg in pages:\n",
    "    try:\n",
    "        sub_urls.append(pg.a['href'])\n",
    "    except:\n",
    "        continue\n",
    "print(sub_urls)"
   ]
  },
  {
   "cell_type": "code",
   "execution_count": 17,
   "metadata": {},
   "outputs": [
    {
     "data": {
      "text/plain": [
       "[]"
      ]
     },
     "execution_count": 17,
     "metadata": {},
     "output_type": "execute_result"
    }
   ],
   "source": [
    "pages"
   ]
  },
  {
   "cell_type": "code",
   "execution_count": 18,
   "metadata": {},
   "outputs": [
    {
     "name": "stdout",
     "output_type": "stream",
     "text": [
      "Yttermaterial: skinnimitation, Sport sula: syntetmaterial, Innersula: textil jeansblå Låg\n"
     ]
    }
   ],
   "source": [
    "p=info.find_all(\"span\",attrs={\"class\":\"product-attribute-value glossarable\"})\n",
    "composition=p[0].text.strip()\n",
    "color=p[1].text.strip()\n",
    "article_no=p[2].text.strip()\n",
    "print(composition,color,article_no)"
   ]
  },
  {
   "cell_type": "code",
   "execution_count": 19,
   "metadata": {},
   "outputs": [
    {
     "data": {
      "text/plain": [
       "<div class=\"product-attributes\">\n",
       "<p class=\"product-attribute clearfix\"><strong class=\"product-attribute-name fromVelocity\" id=\"ds_bulletpoint_0\">Material:</strong><span class=\"product-attribute-value glossarable\">\n",
       "\t\t            \t\t                Yttermaterial: skinnimitation, Sport sula: syntetmaterial, Innersula: textil\n",
       "\t\t            \t\t        </span></p>\n",
       "<p class=\"product-attribute clearfix\"><strong class=\"product-attribute-name fromVelocity\" id=\"ds_bulletpoint_1\">Färg:</strong><span class=\"product-attribute-value glossarable\">\n",
       "\t\t            \t\t                jeansblå\n",
       "\t\t            \t\t        </span></p>\n",
       "<p class=\"product-attribute clearfix\"><strong class=\"product-attribute-name fromVelocity\" id=\"ds_bulletpoint_2\">Klacktyp:</strong><span class=\"product-attribute-value glossarable\">\n",
       "\t\t            \t\t                Låg\n",
       "\t\t            \t\t        </span></p>\n",
       "<p class=\"product-attribute clearfix\"><strong class=\"product-attribute-name fromVelocity\" id=\"ds_bulletpoint_3\">Klackhöjd:</strong><span class=\"product-attribute-value glossarable\">\n",
       "\t\t            \t\t                0 cm\n",
       "\t\t            \t\t        </span></p>\n",
       "<p class=\"product-attribute clearfix\"><strong class=\"product-attribute-name fromVelocity\" id=\"ds_bulletpoint_4\">Stängning:</strong><span class=\"product-attribute-value glossarable\">\n",
       "\t\t            \t\t                snörning\n",
       "\t\t            \t\t        </span></p>\n",
       "<p class=\"product-attribute clearfix\"><strong class=\"product-attribute-name fromVelocity\" id=\"ds_bulletpoint_5\">Artikelnummer:</strong><span class=\"product-attribute-value glossarable\">\n",
       "\t\t            \t\t                92712081\n",
       "\t\t            \t\t        </span></p>\n",
       "</div>"
      ]
     },
     "execution_count": 19,
     "metadata": {},
     "output_type": "execute_result"
    }
   ],
   "source": [
    "info"
   ]
  },
  {
   "cell_type": "code",
   "execution_count": 20,
   "metadata": {},
   "outputs": [
    {
     "data": {
      "text/plain": [
       "'https:https://image01.bonprix.se/assets/460x644/1548838391/19021671-87VfUnrD.jpg'"
      ]
     },
     "execution_count": 20,
     "metadata": {},
     "output_type": "execute_result"
    }
   ],
   "source": [
    "'https:'+img_url"
   ]
  },
  {
   "cell_type": "code",
   "execution_count": 21,
   "metadata": {},
   "outputs": [
    {
     "data": {
      "text/plain": [
       "<div class=\"image-container\">\n",
       "<meta content=\"https://www.bonprix.se//image01.bonprix.se/assets/460x644/1548838391/19021671-87VfUnrD.jpg\" itemprop=\"image\">\n",
       "<img alt=\"Snörkänga, bpc bonprix collection\" data-height=\"644\" data-main-image=\"//image01.bonprix.se/assets/460x644/1548838391/19021671-87VfUnrD.jpg\" data-main-image-2x=\"//image01.bonprix.se/assets/460x644/2x/1548838391/19021671-87VfUnrD.jpg\" data-product-image-src=\"//image01.bonprix.se/assets/460x644/1548838391/19021671-87VfUnrD.jpg\" data-product-image-src-2x=\"//image01.bonprix.se/assets/460x644/2x/1548838391/19021671-87VfUnrD.jpg\" data-product-zoom-image-src=\"//image01.bonprix.se/assets/1400x1960/1548838391/19021671-87VfUnrD.jpg\" data-width=\"460\" data-zoom-image-src=\"//image01.bonprix.se/assets/1400x1960/1548838391/19021671-87VfUnrD.jpg\" data-zoom-text=\"Klicka för att förstora\" id=\"productimage\" src=\"data:image/png;base64,iVBORw0KGgoAAAANSUhEUgAAAAUAAAAHAQAAAADo3LpDAAAAAnRSTlMAAQGU/a4AAAALSURBVHgBY/yBDAEvvgbQiftLAwAAAABJRU5ErkJggg==\"/>\n",
       "<script>\n",
       "      var productImage = document.getElementById(\"productimage\"), highres = \"\";\n",
       "      if(Modernizr.highres == true) {highres = \"-2x\"}\n",
       "      if (window.location.hash.indexOf('image') <= -1) {\n",
       "          productImage.setAttribute(\"src\", productImage.getAttribute(\"data-product-image-src\" + highres));\n",
       "          productImage.setAttribute(\"data-zoom-image-src\", productImage.getAttribute(\"data-product-zoom-image-src\"));\n",
       "      }\n",
       "      else { productImage.setAttribute(\"src\", productImage.getAttribute(\"data-main-image\"+highres));}\n",
       "  </script>\n",
       "<a class=\"style-with-btn default-button flat\" data-context=\"#style_with_box\" data-track-ref=\"show_style_with_btn\" href=\"#style_with_box\" id=\"style-with-box\" onclick=\"return false;\">\n",
       "        Det här passar till     </a>\n",
       "</meta></div>"
      ]
     },
     "execution_count": 21,
     "metadata": {},
     "output_type": "execute_result"
    }
   ],
   "source": [
    "soup2.find(\"div\", attrs={ \"class\" :\"image-container\"})"
   ]
  },
  {
   "cell_type": "code",
   "execution_count": null,
   "metadata": {},
   "outputs": [],
   "source": []
  },
  {
   "cell_type": "code",
   "execution_count": null,
   "metadata": {},
   "outputs": [],
   "source": []
  },
  {
   "cell_type": "code",
   "execution_count": null,
   "metadata": {},
   "outputs": [],
   "source": []
  }
 ],
 "metadata": {
  "kernelspec": {
   "display_name": "Python 3",
   "language": "python",
   "name": "python3"
  },
  "language_info": {
   "codemirror_mode": {
    "name": "ipython",
    "version": 3
   },
   "file_extension": ".py",
   "mimetype": "text/x-python",
   "name": "python",
   "nbconvert_exporter": "python",
   "pygments_lexer": "ipython3",
   "version": "3.5.3"
  }
 },
 "nbformat": 4,
 "nbformat_minor": 2
}

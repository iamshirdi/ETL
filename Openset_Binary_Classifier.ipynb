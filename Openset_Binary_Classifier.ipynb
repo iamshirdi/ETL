{
  "nbformat": 4,
  "nbformat_minor": 0,
  "metadata": {
    "colab": {
      "name": "Openset_Binary_Classifier.ipynb",
      "version": "0.3.2",
      "provenance": [],
      "collapsed_sections": [],
      "include_colab_link": true
    },
    "kernelspec": {
      "name": "python3",
      "display_name": "Python 3"
    },
    "accelerator": "GPU"
  },
  "cells": [
    {
      "cell_type": "markdown",
      "metadata": {
        "id": "view-in-github",
        "colab_type": "text"
      },
      "source": [
        "<a href=\"https://colab.research.google.com/github/iamshirdi/ETL/blob/master/Openset_Binary_Classifier.ipynb\" target=\"_parent\"><img src=\"https://colab.research.google.com/assets/colab-badge.svg\" alt=\"Open In Colab\"/></a>"
      ]
    },
    {
      "cell_type": "code",
      "metadata": {
        "id": "DzFsLibRxtEO",
        "colab_type": "code",
        "colab": {}
      },
      "source": [
        "# !curl -L  -o images.zip \"https://drive.google.com/uc?export=download&id=1wG_gMzSOkxJzEO5vAGKN-gvqR8WhJAra\""
      ],
      "execution_count": 0,
      "outputs": []
    },
    {
      "cell_type": "code",
      "metadata": {
        "id": "mzZOd9Bp0zB_",
        "colab_type": "code",
        "colab": {}
      },
      "source": [
        "# !rm -r *"
      ],
      "execution_count": 0,
      "outputs": []
    },
    {
      "cell_type": "code",
      "metadata": {
        "id": "mwwR9d7IyE1t",
        "colab_type": "code",
        "colab": {}
      },
      "source": [
        "#https://drive.google.com/file/d/1sr9pN9VFluRuNuJLh7uVQ4mb9AfZoUlF/view?usp=sharing\n"
      ],
      "execution_count": 0,
      "outputs": []
    },
    {
      "cell_type": "code",
      "metadata": {
        "id": "i0F6ZJoD0TQs",
        "colab_type": "code",
        "outputId": "0a10b0f1-e023-4964-c0a1-bd7bd4a0dc6a",
        "colab": {
          "base_uri": "https://localhost:8080/",
          "height": 153
        }
      },
      "source": [
        "!pip install gdown\n"
      ],
      "execution_count": 3,
      "outputs": [
        {
          "output_type": "stream",
          "text": [
            "Requirement already satisfied: gdown in /usr/local/lib/python3.6/dist-packages (3.6.4)\n",
            "Requirement already satisfied: tqdm in /usr/local/lib/python3.6/dist-packages (from gdown) (4.28.1)\n",
            "Requirement already satisfied: requests in /usr/local/lib/python3.6/dist-packages (from gdown) (2.21.0)\n",
            "Requirement already satisfied: six in /usr/local/lib/python3.6/dist-packages (from gdown) (1.12.0)\n",
            "Requirement already satisfied: idna<2.9,>=2.5 in /usr/local/lib/python3.6/dist-packages (from requests->gdown) (2.8)\n",
            "Requirement already satisfied: certifi>=2017.4.17 in /usr/local/lib/python3.6/dist-packages (from requests->gdown) (2019.6.16)\n",
            "Requirement already satisfied: chardet<3.1.0,>=3.0.2 in /usr/local/lib/python3.6/dist-packages (from requests->gdown) (3.0.4)\n",
            "Requirement already satisfied: urllib3<1.25,>=1.21.1 in /usr/local/lib/python3.6/dist-packages (from requests->gdown) (1.24.3)\n"
          ],
          "name": "stdout"
        }
      ]
    },
    {
      "cell_type": "code",
      "metadata": {
        "id": "4eUNhFFO1dDn",
        "colab_type": "code",
        "outputId": "bbe8bcda-418e-4302-a458-bd52af2ca9c1",
        "colab": {
          "base_uri": "https://localhost:8080/",
          "height": 85
        }
      },
      "source": [
        "import gdown\n",
        "import os\n",
        "url = 'https://drive.google.com/uc?export=download&id=1sr9pN9VFluRuNuJLh7uVQ4mb9AfZoUlF'\n",
        "output = 'images.zip'\n",
        "gdown.download(url, output, quiet=False)\n"
      ],
      "execution_count": 0,
      "outputs": [
        {
          "output_type": "stream",
          "text": [
            "Downloading...\n",
            "From: https://drive.google.com/uc?export=download&id=1sr9pN9VFluRuNuJLh7uVQ4mb9AfZoUlF\n",
            "To: /content/images.zip\n",
            "9.82GB [01:16, 128MB/s] \n"
          ],
          "name": "stderr"
        }
      ]
    },
    {
      "cell_type": "code",
      "metadata": {
        "id": "fgt4u6o41NgO",
        "colab_type": "code",
        "colab": {}
      },
      "source": [
        "os.listdir()"
      ],
      "execution_count": 0,
      "outputs": []
    },
    {
      "cell_type": "code",
      "metadata": {
        "id": "44hPiTZW4zMC",
        "colab_type": "code",
        "colab": {}
      },
      "source": [
        "from zipfile import ZipFile\n",
        "\n",
        "with ZipFile('images.zip', 'r') as zipObj:\n",
        "  # Extract all the contents of zip file in current directory\n",
        "  zipObj.extractall()"
      ],
      "execution_count": 0,
      "outputs": []
    },
    {
      "cell_type": "code",
      "metadata": {
        "id": "tYdgklYQAU1a",
        "colab_type": "code",
        "colab": {}
      },
      "source": [
        "os.listidr()"
      ],
      "execution_count": 0,
      "outputs": []
    },
    {
      "cell_type": "code",
      "metadata": {
        "id": "ulOZM2g_AXml",
        "colab_type": "code",
        "colab": {}
      },
      "source": [
        "import os\n",
        "if 'gcloud' in os.listdir():\n",
        "  os.remove('images.zip')"
      ],
      "execution_count": 0,
      "outputs": []
    },
    {
      "cell_type": "code",
      "metadata": {
        "id": "fnuS8a6XDbyG",
        "colab_type": "code",
        "colab": {}
      },
      "source": [
        "os.listidr()"
      ],
      "execution_count": 0,
      "outputs": []
    },
    {
      "cell_type": "code",
      "metadata": {
        "id": "P_OmURazAn7P",
        "colab_type": "code",
        "colab": {}
      },
      "source": [
        "!mkdir clothes"
      ],
      "execution_count": 0,
      "outputs": []
    },
    {
      "cell_type": "code",
      "metadata": {
        "id": "FJyoUZbFBpf3",
        "colab_type": "code",
        "colab": {}
      },
      "source": [
        "os.listdir('gcloud/')"
      ],
      "execution_count": 0,
      "outputs": []
    },
    {
      "cell_type": "code",
      "metadata": {
        "id": "QIodQTTGCYVk",
        "colab_type": "code",
        "colab": {}
      },
      "source": [
        "dir=['lager157',\n",
        " 'polarnopyret',\n",
        " 'kappah',\n",
        " 'afound',\n",
        " 'babyshop',\n",
        " 'ellos',\n",
        " 'jollyroom',\n",
        " 'oildesign',\n",
        " 'zalando',\n",
        " 'bonprix',\n",
        " 'lekmer',\n",
        " 'kidsbrandstore',\n",
        " 'åhlens',\n",
        " 'kavat',\n",
        " 'cdon',\n",
        " 'zara',\n",
        " 'H&M',\n",
        " 'nameit',\n",
        " 'boozt']"
      ],
      "execution_count": 0,
      "outputs": []
    },
    {
      "cell_type": "code",
      "metadata": {
        "id": "PVBUNa01HU9p",
        "colab_type": "code",
        "colab": {}
      },
      "source": [
        ""
      ],
      "execution_count": 0,
      "outputs": []
    },
    {
      "cell_type": "code",
      "metadata": {
        "id": "3q4LgthG8enJ",
        "colab_type": "code",
        "colab": {}
      },
      "source": [
        "import os\n",
        "import shutil\n",
        "import time\n",
        "destination=\"clothes/\"\n",
        "\n",
        "for i in dir:\n",
        "\n",
        "\n",
        "\n",
        "    print(i)\n",
        "    fs=os.listdir('gcloud/'+i)\n",
        "    # Wait for 5 seconds\n",
        "    time.sleep(5)\n",
        "    for f in fs:\n",
        "      if f.endswith('.jpg'):\n",
        "        shutil.move('gcloud/'+i+'/'+f,destination+i+'_'+f)\n",
        "      else:\n",
        "        print(f)\n",
        "      \n",
        "           \n",
        "  "
      ],
      "execution_count": 0,
      "outputs": []
    },
    {
      "cell_type": "code",
      "metadata": {
        "id": "LYaV1n-f9ksQ",
        "colab_type": "code",
        "colab": {}
      },
      "source": [
        "!rm -r gcloud"
      ],
      "execution_count": 0,
      "outputs": []
    },
    {
      "cell_type": "code",
      "metadata": {
        "id": "45jXXs3cKfgw",
        "colab_type": "code",
        "colab": {}
      },
      "source": [
        "!mkdir train/ && mkdir valid/"
      ],
      "execution_count": 0,
      "outputs": []
    },
    {
      "cell_type": "code",
      "metadata": {
        "id": "4ibzpj6KKNwp",
        "colab_type": "code",
        "colab": {}
      },
      "source": [
        "!mkdir \"train/Baby Clothes/\" \n",
        "!mkdir  \"valid/Baby Clothes/\" \n",
        "!mkdir \"valid/Random Images/\" \n",
        "!mkdir \"train/Random Images/\"\n"
      ],
      "execution_count": 0,
      "outputs": []
    },
    {
      "cell_type": "code",
      "metadata": {
        "id": "vbRc-eWVQNhO",
        "colab_type": "code",
        "colab": {}
      },
      "source": [
        "os.listidr()"
      ],
      "execution_count": 0,
      "outputs": []
    },
    {
      "cell_type": "code",
      "metadata": {
        "id": "f3v9_bhdQNgQ",
        "colab_type": "code",
        "colab": {}
      },
      "source": [
        "import time\n",
        "#https://google-images-download.readthedocs.io/en/latest/arguments.html\n",
        "from fastai import *\n",
        "from fastai.vision import *\n",
        "import numpy as np\n"
      ],
      "execution_count": 0,
      "outputs": []
    },
    {
      "cell_type": "code",
      "metadata": {
        "id": "uit9Qz9OaJpV",
        "colab_type": "code",
        "colab": {}
      },
      "source": [
        "os.listidr()"
      ],
      "execution_count": 0,
      "outputs": []
    },
    {
      "cell_type": "code",
      "metadata": {
        "id": "6XPVjnt2LmG5",
        "colab_type": "code",
        "colab": {}
      },
      "source": [
        "len(os.listdir('clothes'))"
      ],
      "execution_count": 0,
      "outputs": []
    },
    {
      "cell_type": "code",
      "metadata": {
        "id": "OY8ZQFI7amj2",
        "colab_type": "code",
        "colab": {}
      },
      "source": [
        "len(os.listdir('tinynet'))"
      ],
      "execution_count": 0,
      "outputs": []
    },
    {
      "cell_type": "code",
      "metadata": {
        "id": "TssbuFsVa9Yu",
        "colab_type": "code",
        "colab": {}
      },
      "source": [
        "# !pwd"
      ],
      "execution_count": 0,
      "outputs": []
    },
    {
      "cell_type": "code",
      "metadata": {
        "id": "kiq9urX6a6z0",
        "colab_type": "code",
        "colab": {}
      },
      "source": [
        "img=PIL.Image.open('clothes/'+ 'babyshop_187636_02.jpg').convert('RGB')\n",
        "# img.save( 'babyshop_187636_02.jpg')\n",
        "resize_to(img,224)\n",
        "img.size #original image not resize"
      ],
      "execution_count": 0,
      "outputs": []
    },
    {
      "cell_type": "code",
      "metadata": {
        "id": "SOBWMmO6J1kY",
        "colab_type": "code",
        "colab": {}
      },
      "source": [
        " \n",
        "from shutil import move\n",
        "if len(os.listdir(\"valid/Random Images\"))==0:\n",
        "    print(len(os.listdir(\"train/Baby Clothes\")))\n",
        "\n",
        "    print(len(os.listdir(\"clothes\")))\n",
        "    print(len(os.listdir(\"tinynet\")))\n",
        "\n",
        "    print(len(os.listdir(\"valid/Baby Clothes\")))\n",
        "\n",
        "    percent=80\n",
        "    num=round(108017*percent/(100))\n",
        "    num #for training\n",
        "\n",
        "\n",
        "    f1=os.listdir(\"clothes/\")\n",
        "    f2=os.listdir(\"tinynet/\")\n",
        "\n",
        "    f3=os.listdir(\"train/Baby Clothes\")\n",
        "    f4=os.listdir(\"valid/Baby Clothes\")\n",
        "    f5=os.listdir(\"train/Random Images\")\n",
        "    f6=os.listdir(\"valid/Random Images\")\n",
        "\n",
        "\n",
        "    n=num\n",
        "    size=224\n",
        "\n",
        "    for c1,i1 in enumerate(f1):\n",
        "      try:\n",
        "        img=PIL.Image.open('clothes/'+i1).convert('RGB')\n",
        "\n",
        "      \n",
        "          #train\n",
        "        if c1<n:\n",
        "          img.save(\"train/Baby Clothes/\"+i1)\n",
        "        else:\n",
        "          img.save(\"valid/Baby Clothes/\"+i1)\n",
        "      except Exception as e:\n",
        "        print(e)\n",
        "        print(i1)\n",
        "        continue\n",
        "\n",
        "\n",
        "    percent=80\n",
        "    n2=round(108017*percent/(100))\n",
        "     #for training\n",
        "\n",
        "    #valid\n",
        "    for c2,i2 in enumerate(f2):    \n",
        "      try:\n",
        "\n",
        "        img=PIL.Image.open('tinynet/'+i2).convert('RGB')\n",
        "\n",
        "        \n",
        "          #train\n",
        "        if c2<n2:\n",
        "          img.save(\"train/Random Images/\"+i2)\n",
        "        else:\n",
        "          img.save(\"valid/Random Images/\"+i2)\n",
        "      except Exception as e:\n",
        "        print(e)\n",
        "        print(i2)\n",
        "        continue\n",
        "\n",
        "\n",
        "\n"
      ],
      "execution_count": 0,
      "outputs": []
    },
    {
      "cell_type": "code",
      "metadata": {
        "id": "z4aShy901XcY",
        "colab_type": "code",
        "colab": {}
      },
      "source": [
        ""
      ],
      "execution_count": 0,
      "outputs": []
    },
    {
      "cell_type": "code",
      "metadata": {
        "id": "lAx__7kP1JFh",
        "colab_type": "code",
        "colab": {}
      },
      "source": [
        ""
      ],
      "execution_count": 0,
      "outputs": []
    },
    {
      "cell_type": "code",
      "metadata": {
        "id": "zo5_1I8yVzjT",
        "colab_type": "code",
        "colab": {}
      },
      "source": [
        "os.listidr()"
      ],
      "execution_count": 0,
      "outputs": []
    },
    {
      "cell_type": "code",
      "metadata": {
        "id": "wa3LPpkIt-us",
        "colab_type": "code",
        "colab": {}
      },
      "source": [
        "os.remove('tinynet')"
      ],
      "execution_count": 0,
      "outputs": []
    },
    {
      "cell_type": "code",
      "metadata": {
        "id": "Kbc-WZwKuHDC",
        "colab_type": "code",
        "colab": {}
      },
      "source": [
        "os.remove('clothes')"
      ],
      "execution_count": 0,
      "outputs": []
    },
    {
      "cell_type": "code",
      "metadata": {
        "id": "zAyNlNdnuJiS",
        "colab_type": "code",
        "colab": {}
      },
      "source": [
        "os.listidr()"
      ],
      "execution_count": 0,
      "outputs": []
    },
    {
      "cell_type": "code",
      "metadata": {
        "id": "Je2RTbRDSNCD",
        "colab_type": "code",
        "colab": {}
      },
      "source": [
        "\n",
        "import torch\n",
        "print(\"cuda Available\",torch.cuda.is_available())\n",
        "# torch.cuda.current_device()\n",
        "s=time.time()\n",
        "print(\"time started at:\",s)\n",
        "path = './'\n"
      ],
      "execution_count": 0,
      "outputs": []
    },
    {
      "cell_type": "code",
      "metadata": {
        "id": "H-pjQEg5TMFD",
        "colab_type": "code",
        "colab": {}
      },
      "source": [
        "# os.remove('/content/clothes/boozt_20029411.jpg')\n",
        "# os.remove('/content/clothes/babyshop_406589_Top.jpg')\n",
        "# os.remove('/content/clothes/boozt_20032236.jpg')\n",
        "# os.remove( '/content/clothes/boozt_20029744.jpg')\n",
        "# os.remove('/content/clothes/boozt_14234239.jpg')\n",
        "# os.remove('/content/clothes/babyshop_451900_Top.jpg')\n",
        "# os.remove('/content/clothes/babyshop_406584_Top.jpg')\n",
        "# os.remove('/content/clothes/babyshop_406573_Top.jpg')\n",
        "# os.remove('/content/clothes/babyshop_320230_Top.jpg')\n",
        "# os.remove('/content/clothes/babyshop_406576_Top.jpg')\n",
        "# os.remove('/content/clothes/babyshop_454023_Top.jpg')\n",
        "#os.remove( '/content/clothes/babyshop_454050_Top.jpg')"
      ],
      "execution_count": 0,
      "outputs": []
    },
    {
      "cell_type": "code",
      "metadata": {
        "id": "bdftasaxVlXc",
        "colab_type": "code",
        "colab": {}
      },
      "source": [
        "# !du -h train/"
      ],
      "execution_count": 0,
      "outputs": []
    },
    {
      "cell_type": "code",
      "metadata": {
        "id": "C5KCPdZDSqgW",
        "colab_type": "code",
        "colab": {}
      },
      "source": [
        "np.random.seed(42)\n",
        "data = ImageDataBunch.from_folder(path, train='.', valid_pct=0.2,ds_tfms=get_transforms(), size=224, num_workers=4).normalize(imagenet_stats)"
      ],
      "execution_count": 0,
      "outputs": []
    },
    {
      "cell_type": "code",
      "metadata": {
        "id": "wByHMhS5SqjR",
        "colab_type": "code",
        "colab": {}
      },
      "source": [
        "data.classes\n"
      ],
      "execution_count": 0,
      "outputs": []
    },
    {
      "cell_type": "code",
      "metadata": {
        "id": "2VMaYpnsSwMp",
        "colab_type": "code",
        "colab": {}
      },
      "source": [
        "data.show_batch(rows=3, figsize=(7, 8))\n"
      ],
      "execution_count": 0,
      "outputs": []
    },
    {
      "cell_type": "code",
      "metadata": {
        "id": "DozDUMi9RtB-",
        "colab_type": "code",
        "colab": {}
      },
      "source": [
        "\n",
        "my_trained_mod = create_cnn(data, models.resnet50, metrics=error_rate)\n",
        "defaults.device = torch.device('cuda') # makes sure the gpu is used\n",
        "learn.fit_one_cycle(4)"
      ],
      "execution_count": 0,
      "outputs": []
    },
    {
      "cell_type": "code",
      "metadata": {
        "id": "qdAYBCApSl8C",
        "colab_type": "code",
        "colab": {}
      },
      "source": [
        "learn.unfreeze() # must be done before calling lr_find\n",
        "learn.lr_find()\n",
        "learn.recorder.plot()"
      ],
      "execution_count": 0,
      "outputs": []
    },
    {
      "cell_type": "code",
      "metadata": {
        "id": "kPR3voF4R0OD",
        "colab_type": "code",
        "colab": {}
      },
      "source": [
        "learn.fit_one_cycle(4, max_lr=slice(3e-5, 3e-4))\n"
      ],
      "execution_count": 0,
      "outputs": []
    },
    {
      "cell_type": "code",
      "metadata": {
        "id": "1eTV3EWOSCBP",
        "colab_type": "code",
        "colab": {}
      },
      "source": [
        "my_trained_mod.save(\"trained_model\")\n",
        "my_trained_mod.export()\n",
        "print(time.time()-s,'seconds')"
      ],
      "execution_count": 0,
      "outputs": []
    },
    {
      "cell_type": "code",
      "metadata": {
        "id": "0LnrfS6BKR9k",
        "colab_type": "code",
        "colab": {}
      },
      "source": [
        ""
      ],
      "execution_count": 0,
      "outputs": []
    },
    {
      "cell_type": "code",
      "metadata": {
        "id": "z3t4cY9SYrde",
        "colab_type": "code",
        "colab": {}
      },
      "source": [
        "#  curl --upload-file ./trained_model https://transfer.sh/trained_model"
      ],
      "execution_count": 0,
      "outputs": []
    },
    {
      "cell_type": "code",
      "metadata": {
        "id": "KxS_NTggZFXm",
        "colab_type": "code",
        "colab": {}
      },
      "source": [
        "#  curl --upload-file ./trained_model.pth https://transfer.sh/trained_model.pth"
      ],
      "execution_count": 0,
      "outputs": []
    },
    {
      "cell_type": "code",
      "metadata": {
        "id": "-2n5hrscZIef",
        "colab_type": "code",
        "colab": {}
      },
      "source": [
        ""
      ],
      "execution_count": 0,
      "outputs": []
    }
  ]
}